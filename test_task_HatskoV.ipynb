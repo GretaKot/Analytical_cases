{
 "cells": [
  {
   "cell_type": "markdown",
   "id": "42fa9817",
   "metadata": {},
   "source": [
    "<b><i>Цель исследования:</i></b> проанализивароть АБ тест, где тестируется новая формула ранжирования экскурсий на странице листинга города<p> "
   ]
  },
  {
   "cell_type": "markdown",
   "id": "6beab795",
   "metadata": {},
   "source": [
    "<b>Оцениваем метрики:</b><p>\n",
    "    конверсия в создание заказа<p>\n",
    "    выручка"
   ]
  },
  {
   "cell_type": "code",
   "execution_count": null,
   "id": "b1d09c8e",
   "metadata": {},
   "outputs": [],
   "source": [
    "#импортируем библиотеки\n",
    "import pandas as pd\n",
    "import matplotlib.pyplot as plt\n",
    "import numpy as np\n",
    "import math\n",
    "from scipy import stats as st\n",
    "import random\n",
    "import seaborn as sns\n",
    "import statsmodels.stats.proportion as proportion\n",
    "\n",
    "\n",
    "from scipy.stats import mannwhitneyu\n",
    "from scipy.stats import ttest_ind\n",
    "from scipy.stats import norm\n",
    "import matplotlib.pyplot as plt\n",
    "\n",
    "\n",
    "from tqdm.auto import tqdm\n",
    "plt.style.use('ggplot')"
   ]
  },
  {
   "cell_type": "code",
   "execution_count": null,
   "id": "60f9c808",
   "metadata": {},
   "outputs": [],
   "source": [
    "# Сброс ограничений на количество выводимых рядов\n",
    "pd.set_option('display.max_rows', None)\n",
    " \n",
    "# Сброс ограничений на число столбцов\n",
    "pd.set_option('display.max_columns', None)\n",
    " \n",
    "# Сброс ограничений на количество символов в записи\n",
    "pd.set_option('display.max_colwidth', None)"
   ]
  },
  {
   "cell_type": "code",
   "execution_count": null,
   "id": "69041878",
   "metadata": {},
   "outputs": [],
   "source": [
    "metrics_data = pd.read_csv('C:\\\\Users\\\\gatsko.veronika\\\\Desktop\\\\abt\\\\online_metrics.csv')#замените путь, чтобы код работал)\n",
    "orders_data = pd.read_csv('C:\\\\Users\\\\gatsko.veronika\\\\Desktop\\\\abt\\\\orders.csv')# и туть"
   ]
  },
  {
   "cell_type": "code",
   "execution_count": null,
   "id": "a9d0557b",
   "metadata": {},
   "outputs": [],
   "source": [
    "metrics_data.head(5)"
   ]
  },
  {
   "cell_type": "code",
   "execution_count": null,
   "id": "9540771c",
   "metadata": {},
   "outputs": [],
   "source": [
    "metrics_data.info()"
   ]
  },
  {
   "cell_type": "code",
   "execution_count": null,
   "id": "540a2a79",
   "metadata": {},
   "outputs": [],
   "source": [
    "sns.catplot(x=\"date\", y=\"session_id\", data=metrics_data)"
   ]
  },
  {
   "cell_type": "markdown",
   "id": "432a1c38",
   "metadata": {},
   "source": [
    "<b>Конверсия</b>"
   ]
  },
  {
   "cell_type": "markdown",
   "id": "06e57605",
   "metadata": {},
   "source": [
    "Распределение данных в группах:"
   ]
  },
  {
   "cell_type": "code",
   "execution_count": null,
   "id": "164f7226",
   "metadata": {},
   "outputs": [],
   "source": [
    "metrics_data['split'].value_counts(normalize = True)"
   ]
  },
  {
   "cell_type": "markdown",
   "id": "84f08976",
   "metadata": {},
   "source": [
    "90% данных в группе rank_review<br>\n",
    "10% группа original       "
   ]
  },
  {
   "cell_type": "markdown",
   "id": "534e65c9",
   "metadata": {},
   "source": [
    "Исходя из того, что в задании описано, что в результате этого теста хочется увидеть рост конверсии в создание заказа, необходимо понять какое именно действие будем считать в этом случае.<br>\n",
    "Заказ создается после клика на кнопку \"Отправить\" на странице бронирования.<br>\n",
    "По описанию датасета нам нужно событие <b>cnt_booking_order_button</b><br><br>\n",
    "Конверсию в создание заказа будем считать так:<br><br>\n",
    "отношение количества кликнувших на кнопку \"Отправить\" на странице бронирования (cnt_booking_order_button) к количеству посещений страницы бронирования (cnt_booking) "
   ]
  },
  {
   "cell_type": "code",
   "execution_count": null,
   "id": "6e2fb04a",
   "metadata": {},
   "outputs": [],
   "source": [
    "result = metrics_data.groupby(['split']).agg({'cnt_booking':'sum', 'cnt_booking_order_button':'sum'})\n",
    "result['cr'] = result['cnt_booking_order_button']/result['cnt_booking']*100\n",
    "result"
   ]
  },
  {
   "cell_type": "markdown",
   "id": "376d9c4a",
   "metadata": {},
   "source": [
    "Для оценки того, отличаются ли результаты в тестируемых вариантах, какой вариант лучше и можно ли считать результаты значимыми, в данном случае можно воспользоваться одним из калькуляторов достоверности АB-тестирования, например вот этим:\n",
    "https://mindbox.ru/academy/ab-test-calculator/\n",
    "<br>\n",
    "<b>Вывод:</b>\n",
    "Варианты A и B значимо не различаются\n"
   ]
  },
  {
   "cell_type": "markdown",
   "id": "cbacdc53",
   "metadata": {},
   "source": [
    "<br>\n",
    "<br>\n",
    "<br>\n",
    "<b>Выручка</b><br>"
   ]
  },
  {
   "cell_type": "markdown",
   "id": "f48fb622",
   "metadata": {},
   "source": [
    "для меня неочвидно, возможно ли (если да, то как) имея предоставленны датафрейм оценить именно выручку.<br>\n",
    "Предположим, что наша выручка это значения commission_rub - комиссии Tripster в рублях"
   ]
  },
  {
   "cell_type": "markdown",
   "id": "99df4e9a",
   "metadata": {},
   "source": [
    "Оценивать будем столбец <b>commission_rub</b><br>\n",
    "наиболее подходящий из имеющийся"
   ]
  },
  {
   "cell_type": "code",
   "execution_count": null,
   "id": "4b555280",
   "metadata": {},
   "outputs": [],
   "source": [
    "orders_data['split'].value_counts(normalize = True)"
   ]
  },
  {
   "cell_type": "markdown",
   "id": "cae724dc",
   "metadata": {},
   "source": [
    "90% данных в группе rank_review<br>\n",
    "10% группа original    "
   ]
  },
  {
   "cell_type": "code",
   "execution_count": null,
   "id": "44303884",
   "metadata": {},
   "outputs": [],
   "source": [
    "orders_data.groupby(['split']).agg({'order_id':'count'})"
   ]
  },
  {
   "cell_type": "markdown",
   "id": "247f9103",
   "metadata": {},
   "source": [
    "Видим, что количество наблюдений в группах отличается в разы. Однако, вопреки распространенному мнению, это не является проблемой.<br><br>Единственное, что для меня тут удивительно: обычно экспериментальная группа меньше, чем контрольная (если они разные), так как есть опасения давать тестовую версию большому количеству пользователей из-за возможных негативных последствий, а у вас наоборот она намного больше. Сможете рассказать почему?"
   ]
  },
  {
   "cell_type": "code",
   "execution_count": null,
   "id": "d3369879",
   "metadata": {},
   "outputs": [],
   "source": [
    "sns.boxplot(x=\"split\", y=\"commission_rub\", data=orders_data.query('is_cancelled == 0'))"
   ]
  },
  {
   "cell_type": "markdown",
   "id": "7a7068b6",
   "metadata": {},
   "source": [
    "При анализе не будем учитывать случаи с отмененными заказами, так как там всегда комиссия 0 и большое количество таких строк тянет распределение влево. Там прямо пик будет большой около нуля"
   ]
  },
  {
   "cell_type": "markdown",
   "id": "a9940297",
   "metadata": {},
   "source": [
    "Для выбора статистический критерия посмотрим распределение в группе <b>original</b>"
   ]
  },
  {
   "cell_type": "code",
   "execution_count": null,
   "id": "e62352e8",
   "metadata": {},
   "outputs": [],
   "source": [
    "orders_data.query('split == \"original\"')['commission_rub'].hist()"
   ]
  },
  {
   "cell_type": "markdown",
   "id": "464b2836",
   "metadata": {},
   "source": [
    "а вот и пик около нуля"
   ]
  },
  {
   "cell_type": "code",
   "execution_count": null,
   "id": "7e835491",
   "metadata": {},
   "outputs": [],
   "source": [
    "orders_data.query('split == \"original\" & is_cancelled == 0')['commission_rub'].hist()"
   ]
  },
  {
   "cell_type": "code",
   "execution_count": null,
   "id": "9c797e14",
   "metadata": {},
   "outputs": [],
   "source": [
    "orders_data.query('split == \"original\" & is_cancelled == 0').boxplot('commission_rub')"
   ]
  },
  {
   "cell_type": "markdown",
   "id": "80abf457",
   "metadata": {},
   "source": [
    "<b>Анализ диаграммы размаха:</b><br>\n",
    "Нижний «ус» упирается в 0 - это минимальное значение.<br>\n",
    "Верхний заканчивается около <b>8200</b> рублей — зто ориентировочная граница нормального размаха.<br>\n",
    "Всё, что лежит за ней, считается выбросом.<br>\n",
    "Более высокие значения изображены отдельными точками, но сливаются в единую жирную линию: таких выбросов очень много."
   ]
  },
  {
   "cell_type": "code",
   "execution_count": null,
   "id": "edfcab47",
   "metadata": {},
   "outputs": [],
   "source": [
    "len(orders_data.query('commission_rub == 0 & is_cancelled == 0 & split == \"original\"'))"
   ]
  },
  {
   "cell_type": "markdown",
   "id": "497fc3b8",
   "metadata": {},
   "source": [
    "Наблюдаем 27 случаев, где комиссиия 0, при неотмененном заказе. Имея только эти данные невозможно предположить от чего зависит размер комисии. Есть аномально высокие размеры комисиий, например 24806.4. Необходимо разобраться с аномалиями в данных"
   ]
  },
  {
   "cell_type": "code",
   "execution_count": null,
   "id": "593b3062",
   "metadata": {},
   "outputs": [],
   "source": [
    "o = orders_data.query('split == \"original\" & is_cancelled == 0 & commission_rub < 8200 & commission_rub != 0')['commission_rub']\n"
   ]
  },
  {
   "cell_type": "code",
   "execution_count": null,
   "id": "44736a89",
   "metadata": {},
   "outputs": [],
   "source": [
    "o.describe()"
   ]
  },
  {
   "cell_type": "code",
   "execution_count": null,
   "id": "bcd4edcb",
   "metadata": {},
   "outputs": [],
   "source": [
    "len(orders_data.query('is_cancelled == 0 & split == \"original\" & commission_rub > 8200'))                                                                                                                      "
   ]
  },
  {
   "cell_type": "markdown",
   "id": "5f390302",
   "metadata": {},
   "source": [
    "146 случаев с аномально высокой комиссией. Попробуем отсечь эти значения."
   ]
  },
  {
   "cell_type": "code",
   "execution_count": null,
   "id": "82a9b464",
   "metadata": {},
   "outputs": [],
   "source": [
    "orders_data.query('split == \"original\" & is_cancelled == 0 & commission_rub < 8200 & commission_rub != 0').boxplot('commission_rub')\n"
   ]
  },
  {
   "cell_type": "code",
   "execution_count": null,
   "id": "7a8e9ad2",
   "metadata": {},
   "outputs": [],
   "source": [
    "orders_data.query('split == \"original\" & is_cancelled == 0 & commission_rub < 8200 & commission_rub != 0')['commission_rub'].hist()\n",
    "\n"
   ]
  },
  {
   "cell_type": "markdown",
   "id": "8198568d",
   "metadata": {},
   "source": [
    "Также посмотрим распределение в группе <b>rank_review</b>"
   ]
  },
  {
   "cell_type": "code",
   "execution_count": null,
   "id": "0e0e1589",
   "metadata": {},
   "outputs": [],
   "source": [
    "orders_data.query('split == \"rank_review\"')['commission_rub'].hist()"
   ]
  },
  {
   "cell_type": "markdown",
   "id": "c7d06944",
   "metadata": {},
   "source": [
    "Отсекаем отмененные заказы"
   ]
  },
  {
   "cell_type": "code",
   "execution_count": null,
   "id": "8bfe7b22",
   "metadata": {},
   "outputs": [],
   "source": [
    "orders_data.query('split == \"rank_review\" & is_cancelled == 0')['commission_rub'].hist()"
   ]
  },
  {
   "cell_type": "code",
   "execution_count": null,
   "id": "eacf97f6",
   "metadata": {},
   "outputs": [],
   "source": [
    "orders_data.query('split == \"rank_review\" & is_cancelled == 0').boxplot('commission_rub')"
   ]
  },
  {
   "cell_type": "markdown",
   "id": "47c48338",
   "metadata": {},
   "source": [
    "<b>Анализ диаграммы размаха:</b><br>\n",
    "Нижний «ус» упирается в 0 - это минимальное значение.<br>\n",
    "Верхний заканчивается около <b>9000</b> рублей — это ориентировочная граница нормального размаха.<br>\n",
    "Всё, что лежит за ней, считается выбросом.<br>\n",
    "Более высокие значения изображены отдельными точками, но сливаются в единую жирную линию: таких выбросов очень много как и в группе original."
   ]
  },
  {
   "cell_type": "code",
   "execution_count": null,
   "id": "f69a484e",
   "metadata": {},
   "outputs": [],
   "source": [
    "len(orders_data.query('commission_rub == 0 & is_cancelled == 0 & split == \"rank_review\"'))"
   ]
  },
  {
   "cell_type": "markdown",
   "id": "42364e12",
   "metadata": {},
   "source": [
    "Наблюдаем 192 случая, где комиссиия 0, при неотмененном заказе. Имея только эти данные невозможно предположить от чего зависит размер комисии. Есть аномально высокие размеры комисиий, например 56784. Необходимо разобраться с аномалиями в данных"
   ]
  },
  {
   "cell_type": "code",
   "execution_count": null,
   "id": "3b0156f8",
   "metadata": {},
   "outputs": [],
   "source": [
    "r = orders_data.query('split == \"rank_review\" & is_cancelled == 0 & commission_rub != 0')['commission_rub']\n"
   ]
  },
  {
   "cell_type": "code",
   "execution_count": null,
   "id": "a5325b58",
   "metadata": {},
   "outputs": [],
   "source": [
    "r.describe()"
   ]
  },
  {
   "cell_type": "code",
   "execution_count": null,
   "id": "d7808314",
   "metadata": {},
   "outputs": [],
   "source": [
    "len(orders_data.query('is_cancelled == 0 & split == \"rank_review\" & commission_rub > 9000'))"
   ]
  },
  {
   "cell_type": "markdown",
   "id": "fa13a994",
   "metadata": {},
   "source": [
    "Попробуем отсечь случаи с аномально высокими значениями"
   ]
  },
  {
   "cell_type": "code",
   "execution_count": null,
   "id": "439c4148",
   "metadata": {},
   "outputs": [],
   "source": [
    "orders_data.query('split == \"rank_review\" & is_cancelled == 0 & commission_rub < 9000 & commission_rub != 0').boxplot('commission_rub')"
   ]
  },
  {
   "cell_type": "code",
   "execution_count": null,
   "id": "0bd2b85d",
   "metadata": {},
   "outputs": [],
   "source": [
    "orders_data.query('split == \"rank_review\" & is_cancelled == 0 & commission_rub < 9000 & commission_rub != 0')['commission_rub'].hist()"
   ]
  },
  {
   "cell_type": "markdown",
   "id": "c16dc364",
   "metadata": {},
   "source": [
    "На гистограмме частот видно, что данные распределеные ненормально. Распределение скошено и имеет длинный хвост справа. Это означает, что есть выбросы - нетипичные, предельные значения. <br>\n",
    "Как избоавляетесь от выбросов?<br>\n",
    "допустим ожидаете нормальное распределение, а оно скошено и имеет длинный хвост справа?<br>\n",
    "<br>\n",
    "просто отсечь выбросы? <br>\n",
    "или напрмер логарифмирование?<br>\n",
    "или непараметрика"
   ]
  },
  {
   "cell_type": "markdown",
   "id": "3c6fb94d",
   "metadata": {},
   "source": [
    "Нам нужно сравнить среднее двух выборок группы (А и Б). Как это сделать?<br>\n",
    "У нас не так много опций.<br> Мы можем использовать:<br>\n",
    "t-test критерий Стьюдента, который предполагает некоторые требования к данным (знакома с различными точками зрения на требования к данным: кто-то говорит, что критерий Стьюдента можно использовать только при нормальном распределении, кто-то говорит, что это не обязательное требование, что достаточно того, что дисперии выборок близки и количество наблюдений было достаточно большим)<br>\n",
    "его непараметрический аналог - критерий Манна Уитни<br>\n",
    "bootstrap"
   ]
  },
  {
   "cell_type": "markdown",
   "id": "b432ce72",
   "metadata": {},
   "source": [
    "Нулевая гипотеза:<br>\n",
    "Выручки групп между собой равны<br><br>\n",
    "Альтернативная гипотеза:<br>\n",
    "Выручка в группе B выше"
   ]
  },
  {
   "cell_type": "code",
   "execution_count": null,
   "id": "a981d363",
   "metadata": {},
   "outputs": [],
   "source": [
    "alpha =  .05 #уровень статистической значимости\n",
    "#если p-value окажется меньше него - отвергнем нулевую гипотезу\n",
    "\n",
    "results = st.ttest_ind(\n",
    "    orders_data.query('split == \"original\" & is_cancelled == 0 & commission_rub < 8200 & commission_rub != 0').commission_rub, \n",
    "    orders_data.query('split == \"rank_review\" & is_cancelled == 0 & commission_rub < 9000 & commission_rub != 0').commission_rub\n",
    ",equal_var = False) #выборки у нас разного размера, поэтому установим значение параметра False\n",
    "\n",
    "print('p-значение:', results.pvalue)\n",
    "\n",
    "if results.pvalue < alpha:\n",
    "    print(\"Отвергаем нулевую гипотезу. Выручка группы В выше\")\n",
    "\n",
    "else:\n",
    "    print(\"Не получилось отвергнуть нулевую гипотезу. Выручки групп между собой равны\")"
   ]
  },
  {
   "cell_type": "markdown",
   "id": "66b5b21b",
   "metadata": {},
   "source": [
    "Вывод:<br>\n",
    "новая формула ранжирования экскурсий на странице листинга города не оказала ожидаемых влияний на конверсию.<br>\n",
    "однако выручка (сумма комиссии в рублях) в тестовой группе выше, чем в контрольной\n"
   ]
  }
 ],
 "metadata": {
  "kernelspec": {
   "display_name": "Python 3 (ipykernel)",
   "language": "python",
   "name": "python3"
  },
  "language_info": {
   "codemirror_mode": {
    "name": "ipython",
    "version": 3
   },
   "file_extension": ".py",
   "mimetype": "text/x-python",
   "name": "python",
   "nbconvert_exporter": "python",
   "pygments_lexer": "ipython3",
   "version": "3.9.7"
  }
 },
 "nbformat": 4,
 "nbformat_minor": 5
}
