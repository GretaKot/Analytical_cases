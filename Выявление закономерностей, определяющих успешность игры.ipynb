{
 "cells": [
  {
   "cell_type": "markdown",
   "metadata": {},
   "source": [
    "<h1><b>Выявление закономерностей, определяющих успешность игры </b><h1>"
   ]
  },
  {
   "cell_type": "markdown",
   "metadata": {},
   "source": [
    "<div style=\"border:solid green 2px; padding: 20px\">\n",
    " \n",
    "<b>Что у нас есть</b><br>\n",
    " Данные до 2016 года о продажах игр, оценки пользователей и экспертов, жанры и платформы интернет-магазина «Стримчик».<br><br>\n",
    "<b>Что требуется сделать?</b><br>\n",
    "   Выявить определяющие успешность игры закономерности, что позволит сделать ставку на потенциально популярный продукт и спланировать рекламные кампании.\n",
    "    \n",
    "</div>"
   ]
  },
  {
   "cell_type": "markdown",
   "metadata": {},
   "source": [
    "<h1>Описание данных:</h1>\n",
    "<br>\n",
    "<ul>\n",
    "<li><i>Name </i> — название игры</li>\n",
    "<li><i>Platform </i> — платформа</li>\n",
    "<li><i>Year_of_Release </i> —  год выпуска</li>\n",
    "<li><i>Genre</i> — жанр игры</li>\n",
    "<li><i>NA_sales</i> —  продажи в Северной Америке(млн)</li>\n",
    "<li><i>EU_sales</i> — продажи в Европе(млн)</li>\n",
    "<li><i>JP_sales</i> — продажи в Японии(млн)</li>\n",
    "<li><i>Other_sales</i> — продажи в других странах(млн)</li>\n",
    "<li><i>Critic_Score</i> — оценка критиков (максимум 100)</li>\n",
    "<li><i>User_Score</i> —  оценка пользователей (максимум 10)</li>\n",
    "<li><i>Rating</i> —  рейтинг от организации ESRB (возрастная категория).</li>\n",
    "</ul>\n",
    "<br>\n",
    "\n",
    "</ul>"
   ]
  },
  {
   "cell_type": "markdown",
   "metadata": {},
   "source": [
    "## Подготовка и изучение данных"
   ]
  },
  {
   "cell_type": "code",
   "execution_count": 1,
   "metadata": {},
   "outputs": [],
   "source": [
    "import pandas as pd\n",
    "import matplotlib.pyplot as plt\n",
    "import numpy as np\n",
    "import math\n",
    "from scipy import stats as st"
   ]
  },
  {
   "cell_type": "code",
   "execution_count": 2,
   "metadata": {},
   "outputs": [
    {
     "data": {
      "text/html": [
       "<div>\n",
       "<style scoped>\n",
       "    .dataframe tbody tr th:only-of-type {\n",
       "        vertical-align: middle;\n",
       "    }\n",
       "\n",
       "    .dataframe tbody tr th {\n",
       "        vertical-align: top;\n",
       "    }\n",
       "\n",
       "    .dataframe thead th {\n",
       "        text-align: right;\n",
       "    }\n",
       "</style>\n",
       "<table border=\"1\" class=\"dataframe\">\n",
       "  <thead>\n",
       "    <tr style=\"text-align: right;\">\n",
       "      <th></th>\n",
       "      <th>Name</th>\n",
       "      <th>Platform</th>\n",
       "      <th>Year_of_Release</th>\n",
       "      <th>Genre</th>\n",
       "      <th>NA_sales</th>\n",
       "      <th>EU_sales</th>\n",
       "      <th>JP_sales</th>\n",
       "      <th>Other_sales</th>\n",
       "      <th>Critic_Score</th>\n",
       "      <th>User_Score</th>\n",
       "      <th>Rating</th>\n",
       "    </tr>\n",
       "  </thead>\n",
       "  <tbody>\n",
       "    <tr>\n",
       "      <th>0</th>\n",
       "      <td>Wii Sports</td>\n",
       "      <td>Wii</td>\n",
       "      <td>2006.0</td>\n",
       "      <td>Sports</td>\n",
       "      <td>41.36</td>\n",
       "      <td>28.96</td>\n",
       "      <td>3.77</td>\n",
       "      <td>8.45</td>\n",
       "      <td>76.0</td>\n",
       "      <td>8</td>\n",
       "      <td>E</td>\n",
       "    </tr>\n",
       "    <tr>\n",
       "      <th>1</th>\n",
       "      <td>Super Mario Bros.</td>\n",
       "      <td>NES</td>\n",
       "      <td>1985.0</td>\n",
       "      <td>Platform</td>\n",
       "      <td>29.08</td>\n",
       "      <td>3.58</td>\n",
       "      <td>6.81</td>\n",
       "      <td>0.77</td>\n",
       "      <td>NaN</td>\n",
       "      <td>NaN</td>\n",
       "      <td>NaN</td>\n",
       "    </tr>\n",
       "    <tr>\n",
       "      <th>2</th>\n",
       "      <td>Mario Kart Wii</td>\n",
       "      <td>Wii</td>\n",
       "      <td>2008.0</td>\n",
       "      <td>Racing</td>\n",
       "      <td>15.68</td>\n",
       "      <td>12.76</td>\n",
       "      <td>3.79</td>\n",
       "      <td>3.29</td>\n",
       "      <td>82.0</td>\n",
       "      <td>8.3</td>\n",
       "      <td>E</td>\n",
       "    </tr>\n",
       "    <tr>\n",
       "      <th>3</th>\n",
       "      <td>Wii Sports Resort</td>\n",
       "      <td>Wii</td>\n",
       "      <td>2009.0</td>\n",
       "      <td>Sports</td>\n",
       "      <td>15.61</td>\n",
       "      <td>10.93</td>\n",
       "      <td>3.28</td>\n",
       "      <td>2.95</td>\n",
       "      <td>80.0</td>\n",
       "      <td>8</td>\n",
       "      <td>E</td>\n",
       "    </tr>\n",
       "    <tr>\n",
       "      <th>4</th>\n",
       "      <td>Pokemon Red/Pokemon Blue</td>\n",
       "      <td>GB</td>\n",
       "      <td>1996.0</td>\n",
       "      <td>Role-Playing</td>\n",
       "      <td>11.27</td>\n",
       "      <td>8.89</td>\n",
       "      <td>10.22</td>\n",
       "      <td>1.00</td>\n",
       "      <td>NaN</td>\n",
       "      <td>NaN</td>\n",
       "      <td>NaN</td>\n",
       "    </tr>\n",
       "    <tr>\n",
       "      <th>5</th>\n",
       "      <td>Tetris</td>\n",
       "      <td>GB</td>\n",
       "      <td>1989.0</td>\n",
       "      <td>Puzzle</td>\n",
       "      <td>23.20</td>\n",
       "      <td>2.26</td>\n",
       "      <td>4.22</td>\n",
       "      <td>0.58</td>\n",
       "      <td>NaN</td>\n",
       "      <td>NaN</td>\n",
       "      <td>NaN</td>\n",
       "    </tr>\n",
       "    <tr>\n",
       "      <th>6</th>\n",
       "      <td>New Super Mario Bros.</td>\n",
       "      <td>DS</td>\n",
       "      <td>2006.0</td>\n",
       "      <td>Platform</td>\n",
       "      <td>11.28</td>\n",
       "      <td>9.14</td>\n",
       "      <td>6.50</td>\n",
       "      <td>2.88</td>\n",
       "      <td>89.0</td>\n",
       "      <td>8.5</td>\n",
       "      <td>E</td>\n",
       "    </tr>\n",
       "    <tr>\n",
       "      <th>7</th>\n",
       "      <td>Wii Play</td>\n",
       "      <td>Wii</td>\n",
       "      <td>2006.0</td>\n",
       "      <td>Misc</td>\n",
       "      <td>13.96</td>\n",
       "      <td>9.18</td>\n",
       "      <td>2.93</td>\n",
       "      <td>2.84</td>\n",
       "      <td>58.0</td>\n",
       "      <td>6.6</td>\n",
       "      <td>E</td>\n",
       "    </tr>\n",
       "    <tr>\n",
       "      <th>8</th>\n",
       "      <td>New Super Mario Bros. Wii</td>\n",
       "      <td>Wii</td>\n",
       "      <td>2009.0</td>\n",
       "      <td>Platform</td>\n",
       "      <td>14.44</td>\n",
       "      <td>6.94</td>\n",
       "      <td>4.70</td>\n",
       "      <td>2.24</td>\n",
       "      <td>87.0</td>\n",
       "      <td>8.4</td>\n",
       "      <td>E</td>\n",
       "    </tr>\n",
       "    <tr>\n",
       "      <th>9</th>\n",
       "      <td>Duck Hunt</td>\n",
       "      <td>NES</td>\n",
       "      <td>1984.0</td>\n",
       "      <td>Shooter</td>\n",
       "      <td>26.93</td>\n",
       "      <td>0.63</td>\n",
       "      <td>0.28</td>\n",
       "      <td>0.47</td>\n",
       "      <td>NaN</td>\n",
       "      <td>NaN</td>\n",
       "      <td>NaN</td>\n",
       "    </tr>\n",
       "    <tr>\n",
       "      <th>10</th>\n",
       "      <td>Nintendogs</td>\n",
       "      <td>DS</td>\n",
       "      <td>2005.0</td>\n",
       "      <td>Simulation</td>\n",
       "      <td>9.05</td>\n",
       "      <td>10.95</td>\n",
       "      <td>1.93</td>\n",
       "      <td>2.74</td>\n",
       "      <td>NaN</td>\n",
       "      <td>NaN</td>\n",
       "      <td>NaN</td>\n",
       "    </tr>\n",
       "    <tr>\n",
       "      <th>11</th>\n",
       "      <td>Mario Kart DS</td>\n",
       "      <td>DS</td>\n",
       "      <td>2005.0</td>\n",
       "      <td>Racing</td>\n",
       "      <td>9.71</td>\n",
       "      <td>7.47</td>\n",
       "      <td>4.13</td>\n",
       "      <td>1.90</td>\n",
       "      <td>91.0</td>\n",
       "      <td>8.6</td>\n",
       "      <td>E</td>\n",
       "    </tr>\n",
       "    <tr>\n",
       "      <th>12</th>\n",
       "      <td>Pokemon Gold/Pokemon Silver</td>\n",
       "      <td>GB</td>\n",
       "      <td>1999.0</td>\n",
       "      <td>Role-Playing</td>\n",
       "      <td>9.00</td>\n",
       "      <td>6.18</td>\n",
       "      <td>7.20</td>\n",
       "      <td>0.71</td>\n",
       "      <td>NaN</td>\n",
       "      <td>NaN</td>\n",
       "      <td>NaN</td>\n",
       "    </tr>\n",
       "    <tr>\n",
       "      <th>13</th>\n",
       "      <td>Wii Fit</td>\n",
       "      <td>Wii</td>\n",
       "      <td>2007.0</td>\n",
       "      <td>Sports</td>\n",
       "      <td>8.92</td>\n",
       "      <td>8.03</td>\n",
       "      <td>3.60</td>\n",
       "      <td>2.15</td>\n",
       "      <td>80.0</td>\n",
       "      <td>7.7</td>\n",
       "      <td>E</td>\n",
       "    </tr>\n",
       "    <tr>\n",
       "      <th>14</th>\n",
       "      <td>Kinect Adventures!</td>\n",
       "      <td>X360</td>\n",
       "      <td>2010.0</td>\n",
       "      <td>Misc</td>\n",
       "      <td>15.00</td>\n",
       "      <td>4.89</td>\n",
       "      <td>0.24</td>\n",
       "      <td>1.69</td>\n",
       "      <td>61.0</td>\n",
       "      <td>6.3</td>\n",
       "      <td>E</td>\n",
       "    </tr>\n",
       "  </tbody>\n",
       "</table>\n",
       "</div>"
      ],
      "text/plain": [
       "                           Name Platform  Year_of_Release         Genre  \\\n",
       "0                    Wii Sports      Wii           2006.0        Sports   \n",
       "1             Super Mario Bros.      NES           1985.0      Platform   \n",
       "2                Mario Kart Wii      Wii           2008.0        Racing   \n",
       "3             Wii Sports Resort      Wii           2009.0        Sports   \n",
       "4      Pokemon Red/Pokemon Blue       GB           1996.0  Role-Playing   \n",
       "5                        Tetris       GB           1989.0        Puzzle   \n",
       "6         New Super Mario Bros.       DS           2006.0      Platform   \n",
       "7                      Wii Play      Wii           2006.0          Misc   \n",
       "8     New Super Mario Bros. Wii      Wii           2009.0      Platform   \n",
       "9                     Duck Hunt      NES           1984.0       Shooter   \n",
       "10                   Nintendogs       DS           2005.0    Simulation   \n",
       "11                Mario Kart DS       DS           2005.0        Racing   \n",
       "12  Pokemon Gold/Pokemon Silver       GB           1999.0  Role-Playing   \n",
       "13                      Wii Fit      Wii           2007.0        Sports   \n",
       "14           Kinect Adventures!     X360           2010.0          Misc   \n",
       "\n",
       "    NA_sales  EU_sales  JP_sales  Other_sales  Critic_Score User_Score Rating  \n",
       "0      41.36     28.96      3.77         8.45          76.0          8      E  \n",
       "1      29.08      3.58      6.81         0.77           NaN        NaN    NaN  \n",
       "2      15.68     12.76      3.79         3.29          82.0        8.3      E  \n",
       "3      15.61     10.93      3.28         2.95          80.0          8      E  \n",
       "4      11.27      8.89     10.22         1.00           NaN        NaN    NaN  \n",
       "5      23.20      2.26      4.22         0.58           NaN        NaN    NaN  \n",
       "6      11.28      9.14      6.50         2.88          89.0        8.5      E  \n",
       "7      13.96      9.18      2.93         2.84          58.0        6.6      E  \n",
       "8      14.44      6.94      4.70         2.24          87.0        8.4      E  \n",
       "9      26.93      0.63      0.28         0.47           NaN        NaN    NaN  \n",
       "10      9.05     10.95      1.93         2.74           NaN        NaN    NaN  \n",
       "11      9.71      7.47      4.13         1.90          91.0        8.6      E  \n",
       "12      9.00      6.18      7.20         0.71           NaN        NaN    NaN  \n",
       "13      8.92      8.03      3.60         2.15          80.0        7.7      E  \n",
       "14     15.00      4.89      0.24         1.69          61.0        6.3      E  "
      ]
     },
     "execution_count": 2,
     "metadata": {},
     "output_type": "execute_result"
    }
   ],
   "source": [
    "data = pd.read_csv('/datasets/games.csv')\n",
    "data.head(15)"
   ]
  },
  {
   "cell_type": "markdown",
   "metadata": {},
   "source": [
    "<b>Приведение названий столбцов к к нижнему регистру</b>"
   ]
  },
  {
   "cell_type": "code",
   "execution_count": 3,
   "metadata": {},
   "outputs": [],
   "source": [
    "data = data.rename(columns = {'Name': 'name', 'Platform': 'platform', 'Year_of_Release': 'year_of_release', 'Genre': 'genre', 'NA_sales': 'na_sales', 'EU_sales': 'eu_sales', 'JP_sales': 'jp_sales', 'Other_sales': 'other_sales', 'Critic_Score': 'critic_score', 'User_Score': 'user_score', 'Year_of_Release': 'year_of_release', 'Rating': 'rating'})"
   ]
  },
  {
   "cell_type": "code",
   "execution_count": 4,
   "metadata": {
    "scrolled": true
   },
   "outputs": [
    {
     "name": "stdout",
     "output_type": "stream",
     "text": [
      "<class 'pandas.core.frame.DataFrame'>\n",
      "RangeIndex: 16715 entries, 0 to 16714\n",
      "Data columns (total 11 columns):\n",
      " #   Column           Non-Null Count  Dtype  \n",
      "---  ------           --------------  -----  \n",
      " 0   name             16713 non-null  object \n",
      " 1   platform         16715 non-null  object \n",
      " 2   year_of_release  16446 non-null  float64\n",
      " 3   genre            16713 non-null  object \n",
      " 4   na_sales         16715 non-null  float64\n",
      " 5   eu_sales         16715 non-null  float64\n",
      " 6   jp_sales         16715 non-null  float64\n",
      " 7   other_sales      16715 non-null  float64\n",
      " 8   critic_score     8137 non-null   float64\n",
      " 9   user_score       10014 non-null  object \n",
      " 10  rating           9949 non-null   object \n",
      "dtypes: float64(6), object(5)\n",
      "memory usage: 1.4+ MB\n"
     ]
    }
   ],
   "source": [
    "data.info()"
   ]
  },
  {
   "cell_type": "markdown",
   "metadata": {},
   "source": [
    "## Работа с пропусками"
   ]
  },
  {
   "cell_type": "code",
   "execution_count": 5,
   "metadata": {},
   "outputs": [
    {
     "data": {
      "text/plain": [
       "name                  2\n",
       "platform              0\n",
       "year_of_release     269\n",
       "genre                 2\n",
       "na_sales              0\n",
       "eu_sales              0\n",
       "jp_sales              0\n",
       "other_sales           0\n",
       "critic_score       8578\n",
       "user_score         6701\n",
       "rating             6766\n",
       "dtype: int64"
      ]
     },
     "execution_count": 5,
     "metadata": {},
     "output_type": "execute_result"
    }
   ],
   "source": [
    "data.isnull().sum()"
   ]
  },
  {
   "cell_type": "markdown",
   "metadata": {},
   "source": [
    "В столбце <b>year_of_release</b> 269 пропусков"
   ]
  },
  {
   "cell_type": "code",
   "execution_count": 6,
   "metadata": {},
   "outputs": [
    {
     "data": {
      "text/html": [
       "<div>\n",
       "<style scoped>\n",
       "    .dataframe tbody tr th:only-of-type {\n",
       "        vertical-align: middle;\n",
       "    }\n",
       "\n",
       "    .dataframe tbody tr th {\n",
       "        vertical-align: top;\n",
       "    }\n",
       "\n",
       "    .dataframe thead th {\n",
       "        text-align: right;\n",
       "    }\n",
       "</style>\n",
       "<table border=\"1\" class=\"dataframe\">\n",
       "  <thead>\n",
       "    <tr style=\"text-align: right;\">\n",
       "      <th></th>\n",
       "      <th>name</th>\n",
       "      <th>platform</th>\n",
       "      <th>year_of_release</th>\n",
       "      <th>genre</th>\n",
       "      <th>na_sales</th>\n",
       "      <th>eu_sales</th>\n",
       "      <th>jp_sales</th>\n",
       "      <th>other_sales</th>\n",
       "      <th>critic_score</th>\n",
       "      <th>user_score</th>\n",
       "      <th>rating</th>\n",
       "    </tr>\n",
       "  </thead>\n",
       "  <tbody>\n",
       "    <tr>\n",
       "      <th>1</th>\n",
       "      <td>Super Mario Bros.</td>\n",
       "      <td>NES</td>\n",
       "      <td>1985.0</td>\n",
       "      <td>Platform</td>\n",
       "      <td>29.08</td>\n",
       "      <td>3.58</td>\n",
       "      <td>6.81</td>\n",
       "      <td>0.77</td>\n",
       "      <td>NaN</td>\n",
       "      <td>NaN</td>\n",
       "      <td>NaN</td>\n",
       "    </tr>\n",
       "    <tr>\n",
       "      <th>4</th>\n",
       "      <td>Pokemon Red/Pokemon Blue</td>\n",
       "      <td>GB</td>\n",
       "      <td>1996.0</td>\n",
       "      <td>Role-Playing</td>\n",
       "      <td>11.27</td>\n",
       "      <td>8.89</td>\n",
       "      <td>10.22</td>\n",
       "      <td>1.00</td>\n",
       "      <td>NaN</td>\n",
       "      <td>NaN</td>\n",
       "      <td>NaN</td>\n",
       "    </tr>\n",
       "    <tr>\n",
       "      <th>5</th>\n",
       "      <td>Tetris</td>\n",
       "      <td>GB</td>\n",
       "      <td>1989.0</td>\n",
       "      <td>Puzzle</td>\n",
       "      <td>23.20</td>\n",
       "      <td>2.26</td>\n",
       "      <td>4.22</td>\n",
       "      <td>0.58</td>\n",
       "      <td>NaN</td>\n",
       "      <td>NaN</td>\n",
       "      <td>NaN</td>\n",
       "    </tr>\n",
       "    <tr>\n",
       "      <th>9</th>\n",
       "      <td>Duck Hunt</td>\n",
       "      <td>NES</td>\n",
       "      <td>1984.0</td>\n",
       "      <td>Shooter</td>\n",
       "      <td>26.93</td>\n",
       "      <td>0.63</td>\n",
       "      <td>0.28</td>\n",
       "      <td>0.47</td>\n",
       "      <td>NaN</td>\n",
       "      <td>NaN</td>\n",
       "      <td>NaN</td>\n",
       "    </tr>\n",
       "    <tr>\n",
       "      <th>10</th>\n",
       "      <td>Nintendogs</td>\n",
       "      <td>DS</td>\n",
       "      <td>2005.0</td>\n",
       "      <td>Simulation</td>\n",
       "      <td>9.05</td>\n",
       "      <td>10.95</td>\n",
       "      <td>1.93</td>\n",
       "      <td>2.74</td>\n",
       "      <td>NaN</td>\n",
       "      <td>NaN</td>\n",
       "      <td>NaN</td>\n",
       "    </tr>\n",
       "    <tr>\n",
       "      <th>...</th>\n",
       "      <td>...</td>\n",
       "      <td>...</td>\n",
       "      <td>...</td>\n",
       "      <td>...</td>\n",
       "      <td>...</td>\n",
       "      <td>...</td>\n",
       "      <td>...</td>\n",
       "      <td>...</td>\n",
       "      <td>...</td>\n",
       "      <td>...</td>\n",
       "      <td>...</td>\n",
       "    </tr>\n",
       "    <tr>\n",
       "      <th>16710</th>\n",
       "      <td>Samurai Warriors: Sanada Maru</td>\n",
       "      <td>PS3</td>\n",
       "      <td>2016.0</td>\n",
       "      <td>Action</td>\n",
       "      <td>0.00</td>\n",
       "      <td>0.00</td>\n",
       "      <td>0.01</td>\n",
       "      <td>0.00</td>\n",
       "      <td>NaN</td>\n",
       "      <td>NaN</td>\n",
       "      <td>NaN</td>\n",
       "    </tr>\n",
       "    <tr>\n",
       "      <th>16711</th>\n",
       "      <td>LMA Manager 2007</td>\n",
       "      <td>X360</td>\n",
       "      <td>2006.0</td>\n",
       "      <td>Sports</td>\n",
       "      <td>0.00</td>\n",
       "      <td>0.01</td>\n",
       "      <td>0.00</td>\n",
       "      <td>0.00</td>\n",
       "      <td>NaN</td>\n",
       "      <td>NaN</td>\n",
       "      <td>NaN</td>\n",
       "    </tr>\n",
       "    <tr>\n",
       "      <th>16712</th>\n",
       "      <td>Haitaka no Psychedelica</td>\n",
       "      <td>PSV</td>\n",
       "      <td>2016.0</td>\n",
       "      <td>Adventure</td>\n",
       "      <td>0.00</td>\n",
       "      <td>0.00</td>\n",
       "      <td>0.01</td>\n",
       "      <td>0.00</td>\n",
       "      <td>NaN</td>\n",
       "      <td>NaN</td>\n",
       "      <td>NaN</td>\n",
       "    </tr>\n",
       "    <tr>\n",
       "      <th>16713</th>\n",
       "      <td>Spirits &amp; Spells</td>\n",
       "      <td>GBA</td>\n",
       "      <td>2003.0</td>\n",
       "      <td>Platform</td>\n",
       "      <td>0.01</td>\n",
       "      <td>0.00</td>\n",
       "      <td>0.00</td>\n",
       "      <td>0.00</td>\n",
       "      <td>NaN</td>\n",
       "      <td>NaN</td>\n",
       "      <td>NaN</td>\n",
       "    </tr>\n",
       "    <tr>\n",
       "      <th>16714</th>\n",
       "      <td>Winning Post 8 2016</td>\n",
       "      <td>PSV</td>\n",
       "      <td>2016.0</td>\n",
       "      <td>Simulation</td>\n",
       "      <td>0.00</td>\n",
       "      <td>0.00</td>\n",
       "      <td>0.01</td>\n",
       "      <td>0.00</td>\n",
       "      <td>NaN</td>\n",
       "      <td>NaN</td>\n",
       "      <td>NaN</td>\n",
       "    </tr>\n",
       "  </tbody>\n",
       "</table>\n",
       "<p>6766 rows × 11 columns</p>\n",
       "</div>"
      ],
      "text/plain": [
       "                                name platform  year_of_release         genre  \\\n",
       "1                  Super Mario Bros.      NES           1985.0      Platform   \n",
       "4           Pokemon Red/Pokemon Blue       GB           1996.0  Role-Playing   \n",
       "5                             Tetris       GB           1989.0        Puzzle   \n",
       "9                          Duck Hunt      NES           1984.0       Shooter   \n",
       "10                        Nintendogs       DS           2005.0    Simulation   \n",
       "...                              ...      ...              ...           ...   \n",
       "16710  Samurai Warriors: Sanada Maru      PS3           2016.0        Action   \n",
       "16711               LMA Manager 2007     X360           2006.0        Sports   \n",
       "16712        Haitaka no Psychedelica      PSV           2016.0     Adventure   \n",
       "16713               Spirits & Spells      GBA           2003.0      Platform   \n",
       "16714            Winning Post 8 2016      PSV           2016.0    Simulation   \n",
       "\n",
       "       na_sales  eu_sales  jp_sales  other_sales  critic_score user_score  \\\n",
       "1         29.08      3.58      6.81         0.77           NaN        NaN   \n",
       "4         11.27      8.89     10.22         1.00           NaN        NaN   \n",
       "5         23.20      2.26      4.22         0.58           NaN        NaN   \n",
       "9         26.93      0.63      0.28         0.47           NaN        NaN   \n",
       "10         9.05     10.95      1.93         2.74           NaN        NaN   \n",
       "...         ...       ...       ...          ...           ...        ...   \n",
       "16710      0.00      0.00      0.01         0.00           NaN        NaN   \n",
       "16711      0.00      0.01      0.00         0.00           NaN        NaN   \n",
       "16712      0.00      0.00      0.01         0.00           NaN        NaN   \n",
       "16713      0.01      0.00      0.00         0.00           NaN        NaN   \n",
       "16714      0.00      0.00      0.01         0.00           NaN        NaN   \n",
       "\n",
       "      rating  \n",
       "1        NaN  \n",
       "4        NaN  \n",
       "5        NaN  \n",
       "9        NaN  \n",
       "10       NaN  \n",
       "...      ...  \n",
       "16710    NaN  \n",
       "16711    NaN  \n",
       "16712    NaN  \n",
       "16713    NaN  \n",
       "16714    NaN  \n",
       "\n",
       "[6766 rows x 11 columns]"
      ]
     },
     "execution_count": 6,
     "metadata": {},
     "output_type": "execute_result"
    }
   ],
   "source": [
    "data[data['rating'].isnull()]"
   ]
  },
  {
   "cell_type": "code",
   "execution_count": 7,
   "metadata": {},
   "outputs": [],
   "source": [
    "data['year_of_release'] = data['year_of_release'].fillna(0)"
   ]
  },
  {
   "cell_type": "markdown",
   "metadata": {},
   "source": [
    "Заменим пропуски на 0, так как нет возможности заполнить их корректными данными, они неизвесны"
   ]
  },
  {
   "cell_type": "markdown",
   "metadata": {},
   "source": [
    "В столбце <b>name</b> 2 пропуска<br>удалим эти строки как как понимо пропуска в name, там пропуски в столбцах critic_score, user_score, rating - а без этих данных вообще нет смысла учитывать их в нашей работе"
   ]
  },
  {
   "cell_type": "code",
   "execution_count": 8,
   "metadata": {},
   "outputs": [],
   "source": [
    "data = data.loc[data['name'].notnull()]"
   ]
  },
  {
   "cell_type": "markdown",
   "metadata": {},
   "source": [
    "В столбце <b>rating</b> 6764 пропуска"
   ]
  },
  {
   "cell_type": "code",
   "execution_count": 9,
   "metadata": {},
   "outputs": [
    {
     "data": {
      "text/plain": [
       "E       3990\n",
       "T       2961\n",
       "M       1563\n",
       "E10+    1420\n",
       "EC         8\n",
       "RP         3\n",
       "K-A        3\n",
       "AO         1\n",
       "Name: rating, dtype: int64"
      ]
     },
     "execution_count": 9,
     "metadata": {},
     "output_type": "execute_result"
    }
   ],
   "source": [
    "data['rating'].value_counts()"
   ]
  },
  {
   "cell_type": "markdown",
   "metadata": {},
   "source": [
    "<ul>\n",
    "<li><b>E</b> - подходит для всех возрастов</li>\n",
    "<li><b>T</b> - от 13 лет и старше</li>\n",
    "    <li><b>M</b> - 17 лет и старше</li>\n",
    "    <li><b>E10+</b> - от 10 лет и старше</li>\n",
    "    <li><b>EC</b> - не используется с 2018 года. Раньше обозначал дошкольную аудиторию</li>\n",
    "    <li><b>RP</b> - не присвоен окончательный рейтинг (вероятно получить рейтинг М)</li>\n",
    "    <li><b>K-A</b> - от 6 лет и старше</li>\n",
    "    <li><b>AO</b> - старше 18 лет</li>\n",
    "</ul>"
   ]
  },
  {
   "cell_type": "markdown",
   "metadata": {},
   "source": [
    "Заменим отсутствубщие в этом столбце значения на RP - не присвоен окончательный рейтинг."
   ]
  },
  {
   "cell_type": "code",
   "execution_count": 10,
   "metadata": {},
   "outputs": [],
   "source": [
    "data.loc[data['rating'].isnull(), 'rating'] = 'RP'"
   ]
  },
  {
   "cell_type": "markdown",
   "metadata": {},
   "source": [
    "В столбце <b>critic_score</b> 8576 пропусков\n"
   ]
  },
  {
   "cell_type": "markdown",
   "metadata": {},
   "source": [
    "Заменим пропуски на 0, так как нет возможности заполнить их корректными данными, они неизвесны"
   ]
  },
  {
   "cell_type": "code",
   "execution_count": 11,
   "metadata": {},
   "outputs": [],
   "source": [
    "data['critic_score'] = data['critic_score'].fillna(0)"
   ]
  },
  {
   "cell_type": "markdown",
   "metadata": {},
   "source": [
    "В столбце <b>user_score</b> 6699 пропусков"
   ]
  },
  {
   "cell_type": "markdown",
   "metadata": {},
   "source": [
    "В этом столбце есть значение tbd(2424), что означает To Be Determined (будет определено). Значит пользователь еще не указал свою оценку<br>\n",
    "Заменим это значение на число отличное от шкалы (например, 11), чтобы можно было тип этого столбца изменить на число и потом при анализе знать, что это за значение"
   ]
  },
  {
   "cell_type": "code",
   "execution_count": 12,
   "metadata": {},
   "outputs": [],
   "source": [
    "data.loc[data['user_score'] == 'tbd', 'user_score'] = '0'"
   ]
  },
  {
   "cell_type": "markdown",
   "metadata": {},
   "source": [
    "Заменим пропуски на 0, так как нет возможности заполнить их корректными данными, они неизвесны"
   ]
  },
  {
   "cell_type": "code",
   "execution_count": 13,
   "metadata": {},
   "outputs": [],
   "source": [
    "data['user_score'] = data['user_score'].fillna(0)"
   ]
  },
  {
   "cell_type": "markdown",
   "metadata": {},
   "source": [
    "## Изменение типов данных"
   ]
  },
  {
   "cell_type": "markdown",
   "metadata": {},
   "source": [
    "<b>Типы данных:</b>\n",
    "<br>\n",
    "<ul>\n",
    "<li><i>name </i> — поле типа текст, оставляем без изменений </li>\n",
    "<li><i>platform </i> — поле типа текст, оставляем без изменений</li>\n",
    "<li><i>year_of_release </i> —  <b>изменим на целочисленное, так как году ни к чему дробная часть</b></li>\n",
    "<li><i>genre</i> — поле типа текст, оставляем без изменений</li>\n",
    "<li><i>na_sales</i> —  число с плавающей точкой, оставляем без изменений</li>\n",
    "<li><i>eu_sales</i> — число с плавающей точкой, оставляем без изменений</li>\n",
    "<li><i>jp_sales</i> — число с плавающей точкой, оставляем без изменений</li>\n",
    "<li><i>other_sales</i> — число с плавающей точкой, оставляем без изменений</li>\n",
    "<li><i>critic_score</i> — <b>изменим на целочисленное, так как со всем датасете значения в этом столбце имеют дробную часть 0</b></li>\n",
    "<li><i>user_score</i> —  <b>изменим на число с плавающей точкой</b></li>\n",
    "<li><i>rating</i> —  поле типа текст, оставляем без изменений</li>\n",
    "</ul>\n",
    "<br>\n",
    "\n",
    "</ul>"
   ]
  },
  {
   "cell_type": "code",
   "execution_count": 14,
   "metadata": {},
   "outputs": [],
   "source": [
    "pd.set_option('display.max_rows', None)\n",
    "pd.set_option('display.max_columns', None)"
   ]
  },
  {
   "cell_type": "code",
   "execution_count": 15,
   "metadata": {},
   "outputs": [],
   "source": [
    "data['year_of_release'] = data['year_of_release'].astype('int')"
   ]
  },
  {
   "cell_type": "code",
   "execution_count": 16,
   "metadata": {},
   "outputs": [],
   "source": [
    "data['critic_score'] = data['critic_score'].astype('int')"
   ]
  },
  {
   "cell_type": "code",
   "execution_count": 17,
   "metadata": {},
   "outputs": [],
   "source": [
    "data['user_score'] = data['user_score'].astype('float64')"
   ]
  },
  {
   "cell_type": "markdown",
   "metadata": {},
   "source": [
    "<b>Подсчет суммарных продаж во всех регионах</b>"
   ]
  },
  {
   "cell_type": "code",
   "execution_count": 18,
   "metadata": {},
   "outputs": [],
   "source": [
    "data['total_sales'] = data['eu_sales'] + data['na_sales']  + data['jp_sales'] + data['other_sales']"
   ]
  },
  {
   "cell_type": "markdown",
   "metadata": {},
   "source": [
    "## Проведение исследовательского анализа данных"
   ]
  },
  {
   "cell_type": "markdown",
   "metadata": {},
   "source": [
    "Посмотрите, сколько игр выпускалось в разные годы. Важны ли данные за все периоды?"
   ]
  },
  {
   "cell_type": "code",
   "execution_count": 19,
   "metadata": {},
   "outputs": [
    {
     "data": {
      "image/png": "[encoded data removed]",
      "text/plain": [
       "<Figure size 1440x432 with 1 Axes>"
      ]
     },
     "metadata": {
      "needs_background": "light"
     },
     "output_type": "display_data"
    }
   ],
   "source": [
    "data.pivot_table(index='year_of_release', values='name', aggfunc='count').plot(figsize=(20, 6), xlim=(1975, 2017))\n",
    "plt.title('Количество выпущенных игра по годам', size=15)\n",
    "\n",
    "plt.xlabel('Год релиза', size=12)\n",
    "plt.ylabel('Количество игр', size=12)\n",
    "\n",
    "plt.legend(loc='upper center', bbox_to_anchor=(0.5, -0.1),\n",
    "          fancybox=True, shadow=True, ncol=5)\n",
    "\n",
    "plt.show()"
   ]
  },
  {
   "cell_type": "markdown",
   "metadata": {},
   "source": [
    "Видим, что с 2004 года был рост количества выпущенных игр, который продолжался до 2009. После 2009 видим падение и снижение количества выпушенных игр"
   ]
  },
  {
   "cell_type": "markdown",
   "metadata": {},
   "source": [
    "Как менялись продажи по платформам. Выберите платформы с наибольшими суммарными продажами и постройте распределение по годам. За какой характерный срок появляются новые и исчезают старые платформы?"
   ]
  },
  {
   "cell_type": "code",
   "execution_count": 20,
   "metadata": {},
   "outputs": [
    {
     "data": {
      "text/html": [
       "<div>\n",
       "<style scoped>\n",
       "    .dataframe tbody tr th:only-of-type {\n",
       "        vertical-align: middle;\n",
       "    }\n",
       "\n",
       "    .dataframe tbody tr th {\n",
       "        vertical-align: top;\n",
       "    }\n",
       "\n",
       "    .dataframe thead th {\n",
       "        text-align: right;\n",
       "    }\n",
       "</style>\n",
       "<table border=\"1\" class=\"dataframe\">\n",
       "  <thead>\n",
       "    <tr style=\"text-align: right;\">\n",
       "      <th>platform</th>\n",
       "      <th>2600</th>\n",
       "      <th>3DO</th>\n",
       "      <th>3DS</th>\n",
       "      <th>DC</th>\n",
       "      <th>DS</th>\n",
       "      <th>GB</th>\n",
       "      <th>GBA</th>\n",
       "      <th>GC</th>\n",
       "      <th>GEN</th>\n",
       "      <th>GG</th>\n",
       "      <th>N64</th>\n",
       "      <th>NES</th>\n",
       "      <th>NG</th>\n",
       "      <th>PC</th>\n",
       "      <th>PCFX</th>\n",
       "      <th>PS</th>\n",
       "      <th>PS2</th>\n",
       "      <th>PS3</th>\n",
       "      <th>PS4</th>\n",
       "      <th>PSP</th>\n",
       "      <th>PSV</th>\n",
       "      <th>SAT</th>\n",
       "      <th>SCD</th>\n",
       "      <th>SNES</th>\n",
       "      <th>TG16</th>\n",
       "      <th>WS</th>\n",
       "      <th>Wii</th>\n",
       "      <th>WiiU</th>\n",
       "      <th>X360</th>\n",
       "      <th>XB</th>\n",
       "      <th>XOne</th>\n",
       "    </tr>\n",
       "    <tr>\n",
       "      <th>year_of_release</th>\n",
       "      <th></th>\n",
       "      <th></th>\n",
       "      <th></th>\n",
       "      <th></th>\n",
       "      <th></th>\n",
       "      <th></th>\n",
       "      <th></th>\n",
       "      <th></th>\n",
       "      <th></th>\n",
       "      <th></th>\n",
       "      <th></th>\n",
       "      <th></th>\n",
       "      <th></th>\n",
       "      <th></th>\n",
       "      <th></th>\n",
       "      <th></th>\n",
       "      <th></th>\n",
       "      <th></th>\n",
       "      <th></th>\n",
       "      <th></th>\n",
       "      <th></th>\n",
       "      <th></th>\n",
       "      <th></th>\n",
       "      <th></th>\n",
       "      <th></th>\n",
       "      <th></th>\n",
       "      <th></th>\n",
       "      <th></th>\n",
       "      <th></th>\n",
       "      <th></th>\n",
       "      <th></th>\n",
       "    </tr>\n",
       "  </thead>\n",
       "  <tbody>\n",
       "    <tr>\n",
       "      <th>0</th>\n",
       "      <td>10.50</td>\n",
       "      <td>NaN</td>\n",
       "      <td>1.19</td>\n",
       "      <td>NaN</td>\n",
       "      <td>3.34</td>\n",
       "      <td>1.03</td>\n",
       "      <td>4.97</td>\n",
       "      <td>2.20</td>\n",
       "      <td>NaN</td>\n",
       "      <td>NaN</td>\n",
       "      <td>0.67</td>\n",
       "      <td>NaN</td>\n",
       "      <td>NaN</td>\n",
       "      <td>3.76</td>\n",
       "      <td>NaN</td>\n",
       "      <td>3.28</td>\n",
       "      <td>22.21</td>\n",
       "      <td>8.31</td>\n",
       "      <td>NaN</td>\n",
       "      <td>4.52</td>\n",
       "      <td>0.26</td>\n",
       "      <td>NaN</td>\n",
       "      <td>NaN</td>\n",
       "      <td>NaN</td>\n",
       "      <td>NaN</td>\n",
       "      <td>NaN</td>\n",
       "      <td>16.33</td>\n",
       "      <td>NaN</td>\n",
       "      <td>10.18</td>\n",
       "      <td>6.17</td>\n",
       "      <td>NaN</td>\n",
       "    </tr>\n",
       "    <tr>\n",
       "      <th>1980</th>\n",
       "      <td>11.38</td>\n",
       "      <td>NaN</td>\n",
       "      <td>NaN</td>\n",
       "      <td>NaN</td>\n",
       "      <td>NaN</td>\n",
       "      <td>NaN</td>\n",
       "      <td>NaN</td>\n",
       "      <td>NaN</td>\n",
       "      <td>NaN</td>\n",
       "      <td>NaN</td>\n",
       "      <td>NaN</td>\n",
       "      <td>NaN</td>\n",
       "      <td>NaN</td>\n",
       "      <td>NaN</td>\n",
       "      <td>NaN</td>\n",
       "      <td>NaN</td>\n",
       "      <td>NaN</td>\n",
       "      <td>NaN</td>\n",
       "      <td>NaN</td>\n",
       "      <td>NaN</td>\n",
       "      <td>NaN</td>\n",
       "      <td>NaN</td>\n",
       "      <td>NaN</td>\n",
       "      <td>NaN</td>\n",
       "      <td>NaN</td>\n",
       "      <td>NaN</td>\n",
       "      <td>NaN</td>\n",
       "      <td>NaN</td>\n",
       "      <td>NaN</td>\n",
       "      <td>NaN</td>\n",
       "      <td>NaN</td>\n",
       "    </tr>\n",
       "    <tr>\n",
       "      <th>1981</th>\n",
       "      <td>35.68</td>\n",
       "      <td>NaN</td>\n",
       "      <td>NaN</td>\n",
       "      <td>NaN</td>\n",
       "      <td>NaN</td>\n",
       "      <td>NaN</td>\n",
       "      <td>NaN</td>\n",
       "      <td>NaN</td>\n",
       "      <td>NaN</td>\n",
       "      <td>NaN</td>\n",
       "      <td>NaN</td>\n",
       "      <td>NaN</td>\n",
       "      <td>NaN</td>\n",
       "      <td>NaN</td>\n",
       "      <td>NaN</td>\n",
       "      <td>NaN</td>\n",
       "      <td>NaN</td>\n",
       "      <td>NaN</td>\n",
       "      <td>NaN</td>\n",
       "      <td>NaN</td>\n",
       "      <td>NaN</td>\n",
       "      <td>NaN</td>\n",
       "      <td>NaN</td>\n",
       "      <td>NaN</td>\n",
       "      <td>NaN</td>\n",
       "      <td>NaN</td>\n",
       "      <td>NaN</td>\n",
       "      <td>NaN</td>\n",
       "      <td>NaN</td>\n",
       "      <td>NaN</td>\n",
       "      <td>NaN</td>\n",
       "    </tr>\n",
       "    <tr>\n",
       "      <th>1982</th>\n",
       "      <td>28.88</td>\n",
       "      <td>NaN</td>\n",
       "      <td>NaN</td>\n",
       "      <td>NaN</td>\n",
       "      <td>NaN</td>\n",
       "      <td>NaN</td>\n",
       "      <td>NaN</td>\n",
       "      <td>NaN</td>\n",
       "      <td>NaN</td>\n",
       "      <td>NaN</td>\n",
       "      <td>NaN</td>\n",
       "      <td>NaN</td>\n",
       "      <td>NaN</td>\n",
       "      <td>NaN</td>\n",
       "      <td>NaN</td>\n",
       "      <td>NaN</td>\n",
       "      <td>NaN</td>\n",
       "      <td>NaN</td>\n",
       "      <td>NaN</td>\n",
       "      <td>NaN</td>\n",
       "      <td>NaN</td>\n",
       "      <td>NaN</td>\n",
       "      <td>NaN</td>\n",
       "      <td>NaN</td>\n",
       "      <td>NaN</td>\n",
       "      <td>NaN</td>\n",
       "      <td>NaN</td>\n",
       "      <td>NaN</td>\n",
       "      <td>NaN</td>\n",
       "      <td>NaN</td>\n",
       "      <td>NaN</td>\n",
       "    </tr>\n",
       "    <tr>\n",
       "      <th>1983</th>\n",
       "      <td>5.84</td>\n",
       "      <td>NaN</td>\n",
       "      <td>NaN</td>\n",
       "      <td>NaN</td>\n",
       "      <td>NaN</td>\n",
       "      <td>NaN</td>\n",
       "      <td>NaN</td>\n",
       "      <td>NaN</td>\n",
       "      <td>NaN</td>\n",
       "      <td>NaN</td>\n",
       "      <td>NaN</td>\n",
       "      <td>10.96</td>\n",
       "      <td>NaN</td>\n",
       "      <td>NaN</td>\n",
       "      <td>NaN</td>\n",
       "      <td>NaN</td>\n",
       "      <td>NaN</td>\n",
       "      <td>NaN</td>\n",
       "      <td>NaN</td>\n",
       "      <td>NaN</td>\n",
       "      <td>NaN</td>\n",
       "      <td>NaN</td>\n",
       "      <td>NaN</td>\n",
       "      <td>NaN</td>\n",
       "      <td>NaN</td>\n",
       "      <td>NaN</td>\n",
       "      <td>NaN</td>\n",
       "      <td>NaN</td>\n",
       "      <td>NaN</td>\n",
       "      <td>NaN</td>\n",
       "      <td>NaN</td>\n",
       "    </tr>\n",
       "    <tr>\n",
       "      <th>1984</th>\n",
       "      <td>0.27</td>\n",
       "      <td>NaN</td>\n",
       "      <td>NaN</td>\n",
       "      <td>NaN</td>\n",
       "      <td>NaN</td>\n",
       "      <td>NaN</td>\n",
       "      <td>NaN</td>\n",
       "      <td>NaN</td>\n",
       "      <td>NaN</td>\n",
       "      <td>NaN</td>\n",
       "      <td>NaN</td>\n",
       "      <td>50.08</td>\n",
       "      <td>NaN</td>\n",
       "      <td>NaN</td>\n",
       "      <td>NaN</td>\n",
       "      <td>NaN</td>\n",
       "      <td>NaN</td>\n",
       "      <td>NaN</td>\n",
       "      <td>NaN</td>\n",
       "      <td>NaN</td>\n",
       "      <td>NaN</td>\n",
       "      <td>NaN</td>\n",
       "      <td>NaN</td>\n",
       "      <td>NaN</td>\n",
       "      <td>NaN</td>\n",
       "      <td>NaN</td>\n",
       "      <td>NaN</td>\n",
       "      <td>NaN</td>\n",
       "      <td>NaN</td>\n",
       "      <td>NaN</td>\n",
       "      <td>NaN</td>\n",
       "    </tr>\n",
       "    <tr>\n",
       "      <th>1985</th>\n",
       "      <td>0.45</td>\n",
       "      <td>NaN</td>\n",
       "      <td>NaN</td>\n",
       "      <td>NaN</td>\n",
       "      <td>0.02</td>\n",
       "      <td>NaN</td>\n",
       "      <td>NaN</td>\n",
       "      <td>NaN</td>\n",
       "      <td>NaN</td>\n",
       "      <td>NaN</td>\n",
       "      <td>NaN</td>\n",
       "      <td>53.44</td>\n",
       "      <td>NaN</td>\n",
       "      <td>0.04</td>\n",
       "      <td>NaN</td>\n",
       "      <td>NaN</td>\n",
       "      <td>NaN</td>\n",
       "      <td>NaN</td>\n",
       "      <td>NaN</td>\n",
       "      <td>NaN</td>\n",
       "      <td>NaN</td>\n",
       "      <td>NaN</td>\n",
       "      <td>NaN</td>\n",
       "      <td>NaN</td>\n",
       "      <td>NaN</td>\n",
       "      <td>NaN</td>\n",
       "      <td>NaN</td>\n",
       "      <td>NaN</td>\n",
       "      <td>NaN</td>\n",
       "      <td>NaN</td>\n",
       "      <td>NaN</td>\n",
       "    </tr>\n",
       "    <tr>\n",
       "      <th>1986</th>\n",
       "      <td>0.67</td>\n",
       "      <td>NaN</td>\n",
       "      <td>NaN</td>\n",
       "      <td>NaN</td>\n",
       "      <td>NaN</td>\n",
       "      <td>NaN</td>\n",
       "      <td>NaN</td>\n",
       "      <td>NaN</td>\n",
       "      <td>NaN</td>\n",
       "      <td>NaN</td>\n",
       "      <td>NaN</td>\n",
       "      <td>36.41</td>\n",
       "      <td>NaN</td>\n",
       "      <td>NaN</td>\n",
       "      <td>NaN</td>\n",
       "      <td>NaN</td>\n",
       "      <td>NaN</td>\n",
       "      <td>NaN</td>\n",
       "      <td>NaN</td>\n",
       "      <td>NaN</td>\n",
       "      <td>NaN</td>\n",
       "      <td>NaN</td>\n",
       "      <td>NaN</td>\n",
       "      <td>NaN</td>\n",
       "      <td>NaN</td>\n",
       "      <td>NaN</td>\n",
       "      <td>NaN</td>\n",
       "      <td>NaN</td>\n",
       "      <td>NaN</td>\n",
       "      <td>NaN</td>\n",
       "      <td>NaN</td>\n",
       "    </tr>\n",
       "    <tr>\n",
       "      <th>1987</th>\n",
       "      <td>1.94</td>\n",
       "      <td>NaN</td>\n",
       "      <td>NaN</td>\n",
       "      <td>NaN</td>\n",
       "      <td>NaN</td>\n",
       "      <td>NaN</td>\n",
       "      <td>NaN</td>\n",
       "      <td>NaN</td>\n",
       "      <td>NaN</td>\n",
       "      <td>NaN</td>\n",
       "      <td>NaN</td>\n",
       "      <td>19.76</td>\n",
       "      <td>NaN</td>\n",
       "      <td>NaN</td>\n",
       "      <td>NaN</td>\n",
       "      <td>NaN</td>\n",
       "      <td>NaN</td>\n",
       "      <td>NaN</td>\n",
       "      <td>NaN</td>\n",
       "      <td>NaN</td>\n",
       "      <td>NaN</td>\n",
       "      <td>NaN</td>\n",
       "      <td>NaN</td>\n",
       "      <td>NaN</td>\n",
       "      <td>NaN</td>\n",
       "      <td>NaN</td>\n",
       "      <td>NaN</td>\n",
       "      <td>NaN</td>\n",
       "      <td>NaN</td>\n",
       "      <td>NaN</td>\n",
       "      <td>NaN</td>\n",
       "    </tr>\n",
       "    <tr>\n",
       "      <th>1988</th>\n",
       "      <td>0.74</td>\n",
       "      <td>NaN</td>\n",
       "      <td>NaN</td>\n",
       "      <td>NaN</td>\n",
       "      <td>NaN</td>\n",
       "      <td>1.43</td>\n",
       "      <td>NaN</td>\n",
       "      <td>NaN</td>\n",
       "      <td>NaN</td>\n",
       "      <td>NaN</td>\n",
       "      <td>NaN</td>\n",
       "      <td>45.01</td>\n",
       "      <td>NaN</td>\n",
       "      <td>0.03</td>\n",
       "      <td>NaN</td>\n",
       "      <td>NaN</td>\n",
       "      <td>NaN</td>\n",
       "      <td>NaN</td>\n",
       "      <td>NaN</td>\n",
       "      <td>NaN</td>\n",
       "      <td>NaN</td>\n",
       "      <td>NaN</td>\n",
       "      <td>NaN</td>\n",
       "      <td>NaN</td>\n",
       "      <td>NaN</td>\n",
       "      <td>NaN</td>\n",
       "      <td>NaN</td>\n",
       "      <td>NaN</td>\n",
       "      <td>NaN</td>\n",
       "      <td>NaN</td>\n",
       "      <td>NaN</td>\n",
       "    </tr>\n",
       "    <tr>\n",
       "      <th>1989</th>\n",
       "      <td>0.63</td>\n",
       "      <td>NaN</td>\n",
       "      <td>NaN</td>\n",
       "      <td>NaN</td>\n",
       "      <td>NaN</td>\n",
       "      <td>64.97</td>\n",
       "      <td>NaN</td>\n",
       "      <td>NaN</td>\n",
       "      <td>NaN</td>\n",
       "      <td>NaN</td>\n",
       "      <td>NaN</td>\n",
       "      <td>7.85</td>\n",
       "      <td>NaN</td>\n",
       "      <td>NaN</td>\n",
       "      <td>NaN</td>\n",
       "      <td>NaN</td>\n",
       "      <td>NaN</td>\n",
       "      <td>NaN</td>\n",
       "      <td>NaN</td>\n",
       "      <td>NaN</td>\n",
       "      <td>NaN</td>\n",
       "      <td>NaN</td>\n",
       "      <td>NaN</td>\n",
       "      <td>NaN</td>\n",
       "      <td>NaN</td>\n",
       "      <td>NaN</td>\n",
       "      <td>NaN</td>\n",
       "      <td>NaN</td>\n",
       "      <td>NaN</td>\n",
       "      <td>NaN</td>\n",
       "      <td>NaN</td>\n",
       "    </tr>\n",
       "    <tr>\n",
       "      <th>1990</th>\n",
       "      <td>NaN</td>\n",
       "      <td>NaN</td>\n",
       "      <td>NaN</td>\n",
       "      <td>NaN</td>\n",
       "      <td>NaN</td>\n",
       "      <td>4.89</td>\n",
       "      <td>NaN</td>\n",
       "      <td>NaN</td>\n",
       "      <td>2.60</td>\n",
       "      <td>NaN</td>\n",
       "      <td>NaN</td>\n",
       "      <td>15.73</td>\n",
       "      <td>NaN</td>\n",
       "      <td>NaN</td>\n",
       "      <td>NaN</td>\n",
       "      <td>NaN</td>\n",
       "      <td>NaN</td>\n",
       "      <td>NaN</td>\n",
       "      <td>NaN</td>\n",
       "      <td>NaN</td>\n",
       "      <td>NaN</td>\n",
       "      <td>NaN</td>\n",
       "      <td>NaN</td>\n",
       "      <td>26.15</td>\n",
       "      <td>NaN</td>\n",
       "      <td>NaN</td>\n",
       "      <td>NaN</td>\n",
       "      <td>NaN</td>\n",
       "      <td>NaN</td>\n",
       "      <td>NaN</td>\n",
       "      <td>NaN</td>\n",
       "    </tr>\n",
       "    <tr>\n",
       "      <th>1991</th>\n",
       "      <td>NaN</td>\n",
       "      <td>NaN</td>\n",
       "      <td>NaN</td>\n",
       "      <td>NaN</td>\n",
       "      <td>NaN</td>\n",
       "      <td>5.57</td>\n",
       "      <td>NaN</td>\n",
       "      <td>NaN</td>\n",
       "      <td>4.33</td>\n",
       "      <td>NaN</td>\n",
       "      <td>NaN</td>\n",
       "      <td>6.11</td>\n",
       "      <td>NaN</td>\n",
       "      <td>NaN</td>\n",
       "      <td>NaN</td>\n",
       "      <td>NaN</td>\n",
       "      <td>NaN</td>\n",
       "      <td>NaN</td>\n",
       "      <td>NaN</td>\n",
       "      <td>NaN</td>\n",
       "      <td>NaN</td>\n",
       "      <td>NaN</td>\n",
       "      <td>NaN</td>\n",
       "      <td>16.22</td>\n",
       "      <td>NaN</td>\n",
       "      <td>NaN</td>\n",
       "      <td>NaN</td>\n",
       "      <td>NaN</td>\n",
       "      <td>NaN</td>\n",
       "      <td>NaN</td>\n",
       "      <td>NaN</td>\n",
       "    </tr>\n",
       "    <tr>\n",
       "      <th>1992</th>\n",
       "      <td>NaN</td>\n",
       "      <td>NaN</td>\n",
       "      <td>NaN</td>\n",
       "      <td>NaN</td>\n",
       "      <td>NaN</td>\n",
       "      <td>25.49</td>\n",
       "      <td>NaN</td>\n",
       "      <td>NaN</td>\n",
       "      <td>12.64</td>\n",
       "      <td>0.04</td>\n",
       "      <td>NaN</td>\n",
       "      <td>1.98</td>\n",
       "      <td>NaN</td>\n",
       "      <td>3.03</td>\n",
       "      <td>NaN</td>\n",
       "      <td>NaN</td>\n",
       "      <td>NaN</td>\n",
       "      <td>NaN</td>\n",
       "      <td>NaN</td>\n",
       "      <td>NaN</td>\n",
       "      <td>NaN</td>\n",
       "      <td>NaN</td>\n",
       "      <td>NaN</td>\n",
       "      <td>32.98</td>\n",
       "      <td>NaN</td>\n",
       "      <td>NaN</td>\n",
       "      <td>NaN</td>\n",
       "      <td>NaN</td>\n",
       "      <td>NaN</td>\n",
       "      <td>NaN</td>\n",
       "      <td>NaN</td>\n",
       "    </tr>\n",
       "    <tr>\n",
       "      <th>1993</th>\n",
       "      <td>NaN</td>\n",
       "      <td>NaN</td>\n",
       "      <td>NaN</td>\n",
       "      <td>NaN</td>\n",
       "      <td>NaN</td>\n",
       "      <td>NaN</td>\n",
       "      <td>NaN</td>\n",
       "      <td>NaN</td>\n",
       "      <td>0.65</td>\n",
       "      <td>NaN</td>\n",
       "      <td>NaN</td>\n",
       "      <td>3.61</td>\n",
       "      <td>0.21</td>\n",
       "      <td>NaN</td>\n",
       "      <td>NaN</td>\n",
       "      <td>NaN</td>\n",
       "      <td>NaN</td>\n",
       "      <td>NaN</td>\n",
       "      <td>NaN</td>\n",
       "      <td>NaN</td>\n",
       "      <td>NaN</td>\n",
       "      <td>NaN</td>\n",
       "      <td>1.50</td>\n",
       "      <td>40.02</td>\n",
       "      <td>NaN</td>\n",
       "      <td>NaN</td>\n",
       "      <td>NaN</td>\n",
       "      <td>NaN</td>\n",
       "      <td>NaN</td>\n",
       "      <td>NaN</td>\n",
       "      <td>NaN</td>\n",
       "    </tr>\n",
       "    <tr>\n",
       "      <th>1994</th>\n",
       "      <td>NaN</td>\n",
       "      <td>0.02</td>\n",
       "      <td>NaN</td>\n",
       "      <td>NaN</td>\n",
       "      <td>NaN</td>\n",
       "      <td>12.18</td>\n",
       "      <td>NaN</td>\n",
       "      <td>NaN</td>\n",
       "      <td>8.13</td>\n",
       "      <td>NaN</td>\n",
       "      <td>NaN</td>\n",
       "      <td>0.11</td>\n",
       "      <td>0.80</td>\n",
       "      <td>12.87</td>\n",
       "      <td>NaN</td>\n",
       "      <td>6.03</td>\n",
       "      <td>NaN</td>\n",
       "      <td>NaN</td>\n",
       "      <td>NaN</td>\n",
       "      <td>NaN</td>\n",
       "      <td>NaN</td>\n",
       "      <td>3.65</td>\n",
       "      <td>0.36</td>\n",
       "      <td>35.08</td>\n",
       "      <td>NaN</td>\n",
       "      <td>NaN</td>\n",
       "      <td>NaN</td>\n",
       "      <td>NaN</td>\n",
       "      <td>NaN</td>\n",
       "      <td>NaN</td>\n",
       "      <td>NaN</td>\n",
       "    </tr>\n",
       "    <tr>\n",
       "      <th>1995</th>\n",
       "      <td>NaN</td>\n",
       "      <td>0.08</td>\n",
       "      <td>NaN</td>\n",
       "      <td>NaN</td>\n",
       "      <td>NaN</td>\n",
       "      <td>3.60</td>\n",
       "      <td>NaN</td>\n",
       "      <td>NaN</td>\n",
       "      <td>NaN</td>\n",
       "      <td>NaN</td>\n",
       "      <td>NaN</td>\n",
       "      <td>NaN</td>\n",
       "      <td>0.33</td>\n",
       "      <td>4.22</td>\n",
       "      <td>NaN</td>\n",
       "      <td>35.96</td>\n",
       "      <td>NaN</td>\n",
       "      <td>NaN</td>\n",
       "      <td>NaN</td>\n",
       "      <td>NaN</td>\n",
       "      <td>NaN</td>\n",
       "      <td>11.57</td>\n",
       "      <td>NaN</td>\n",
       "      <td>32.20</td>\n",
       "      <td>0.16</td>\n",
       "      <td>NaN</td>\n",
       "      <td>NaN</td>\n",
       "      <td>NaN</td>\n",
       "      <td>NaN</td>\n",
       "      <td>NaN</td>\n",
       "      <td>NaN</td>\n",
       "    </tr>\n",
       "    <tr>\n",
       "      <th>1996</th>\n",
       "      <td>NaN</td>\n",
       "      <td>NaN</td>\n",
       "      <td>NaN</td>\n",
       "      <td>NaN</td>\n",
       "      <td>NaN</td>\n",
       "      <td>36.03</td>\n",
       "      <td>NaN</td>\n",
       "      <td>NaN</td>\n",
       "      <td>NaN</td>\n",
       "      <td>NaN</td>\n",
       "      <td>34.10</td>\n",
       "      <td>NaN</td>\n",
       "      <td>0.10</td>\n",
       "      <td>10.58</td>\n",
       "      <td>0.03</td>\n",
       "      <td>94.70</td>\n",
       "      <td>NaN</td>\n",
       "      <td>NaN</td>\n",
       "      <td>NaN</td>\n",
       "      <td>NaN</td>\n",
       "      <td>NaN</td>\n",
       "      <td>7.69</td>\n",
       "      <td>NaN</td>\n",
       "      <td>15.92</td>\n",
       "      <td>NaN</td>\n",
       "      <td>NaN</td>\n",
       "      <td>NaN</td>\n",
       "      <td>NaN</td>\n",
       "      <td>NaN</td>\n",
       "      <td>NaN</td>\n",
       "      <td>NaN</td>\n",
       "    </tr>\n",
       "    <tr>\n",
       "      <th>1997</th>\n",
       "      <td>NaN</td>\n",
       "      <td>NaN</td>\n",
       "      <td>NaN</td>\n",
       "      <td>NaN</td>\n",
       "      <td>NaN</td>\n",
       "      <td>6.37</td>\n",
       "      <td>NaN</td>\n",
       "      <td>NaN</td>\n",
       "      <td>NaN</td>\n",
       "      <td>NaN</td>\n",
       "      <td>39.50</td>\n",
       "      <td>NaN</td>\n",
       "      <td>NaN</td>\n",
       "      <td>11.27</td>\n",
       "      <td>NaN</td>\n",
       "      <td>136.17</td>\n",
       "      <td>NaN</td>\n",
       "      <td>NaN</td>\n",
       "      <td>NaN</td>\n",
       "      <td>NaN</td>\n",
       "      <td>NaN</td>\n",
       "      <td>6.77</td>\n",
       "      <td>NaN</td>\n",
       "      <td>0.99</td>\n",
       "      <td>NaN</td>\n",
       "      <td>NaN</td>\n",
       "      <td>NaN</td>\n",
       "      <td>NaN</td>\n",
       "      <td>NaN</td>\n",
       "      <td>NaN</td>\n",
       "      <td>NaN</td>\n",
       "    </tr>\n",
       "    <tr>\n",
       "      <th>1998</th>\n",
       "      <td>NaN</td>\n",
       "      <td>NaN</td>\n",
       "      <td>NaN</td>\n",
       "      <td>3.38</td>\n",
       "      <td>NaN</td>\n",
       "      <td>26.90</td>\n",
       "      <td>NaN</td>\n",
       "      <td>NaN</td>\n",
       "      <td>NaN</td>\n",
       "      <td>NaN</td>\n",
       "      <td>49.24</td>\n",
       "      <td>NaN</td>\n",
       "      <td>NaN</td>\n",
       "      <td>3.26</td>\n",
       "      <td>NaN</td>\n",
       "      <td>169.49</td>\n",
       "      <td>NaN</td>\n",
       "      <td>NaN</td>\n",
       "      <td>NaN</td>\n",
       "      <td>NaN</td>\n",
       "      <td>NaN</td>\n",
       "      <td>3.82</td>\n",
       "      <td>NaN</td>\n",
       "      <td>0.22</td>\n",
       "      <td>NaN</td>\n",
       "      <td>NaN</td>\n",
       "      <td>NaN</td>\n",
       "      <td>NaN</td>\n",
       "      <td>NaN</td>\n",
       "      <td>NaN</td>\n",
       "      <td>NaN</td>\n",
       "    </tr>\n",
       "    <tr>\n",
       "      <th>1999</th>\n",
       "      <td>NaN</td>\n",
       "      <td>NaN</td>\n",
       "      <td>NaN</td>\n",
       "      <td>5.16</td>\n",
       "      <td>NaN</td>\n",
       "      <td>38.00</td>\n",
       "      <td>NaN</td>\n",
       "      <td>NaN</td>\n",
       "      <td>NaN</td>\n",
       "      <td>NaN</td>\n",
       "      <td>57.87</td>\n",
       "      <td>NaN</td>\n",
       "      <td>NaN</td>\n",
       "      <td>4.74</td>\n",
       "      <td>NaN</td>\n",
       "      <td>144.53</td>\n",
       "      <td>NaN</td>\n",
       "      <td>NaN</td>\n",
       "      <td>NaN</td>\n",
       "      <td>NaN</td>\n",
       "      <td>NaN</td>\n",
       "      <td>0.09</td>\n",
       "      <td>NaN</td>\n",
       "      <td>0.26</td>\n",
       "      <td>NaN</td>\n",
       "      <td>0.46</td>\n",
       "      <td>NaN</td>\n",
       "      <td>NaN</td>\n",
       "      <td>NaN</td>\n",
       "      <td>NaN</td>\n",
       "      <td>NaN</td>\n",
       "    </tr>\n",
       "    <tr>\n",
       "      <th>2000</th>\n",
       "      <td>NaN</td>\n",
       "      <td>NaN</td>\n",
       "      <td>NaN</td>\n",
       "      <td>5.99</td>\n",
       "      <td>NaN</td>\n",
       "      <td>19.76</td>\n",
       "      <td>0.07</td>\n",
       "      <td>NaN</td>\n",
       "      <td>NaN</td>\n",
       "      <td>NaN</td>\n",
       "      <td>33.97</td>\n",
       "      <td>NaN</td>\n",
       "      <td>NaN</td>\n",
       "      <td>4.66</td>\n",
       "      <td>NaN</td>\n",
       "      <td>96.37</td>\n",
       "      <td>39.17</td>\n",
       "      <td>NaN</td>\n",
       "      <td>NaN</td>\n",
       "      <td>NaN</td>\n",
       "      <td>NaN</td>\n",
       "      <td>NaN</td>\n",
       "      <td>NaN</td>\n",
       "      <td>NaN</td>\n",
       "      <td>NaN</td>\n",
       "      <td>0.68</td>\n",
       "      <td>NaN</td>\n",
       "      <td>NaN</td>\n",
       "      <td>NaN</td>\n",
       "      <td>0.99</td>\n",
       "      <td>NaN</td>\n",
       "    </tr>\n",
       "    <tr>\n",
       "      <th>2001</th>\n",
       "      <td>NaN</td>\n",
       "      <td>NaN</td>\n",
       "      <td>NaN</td>\n",
       "      <td>1.07</td>\n",
       "      <td>NaN</td>\n",
       "      <td>9.24</td>\n",
       "      <td>61.53</td>\n",
       "      <td>26.34</td>\n",
       "      <td>NaN</td>\n",
       "      <td>NaN</td>\n",
       "      <td>3.25</td>\n",
       "      <td>NaN</td>\n",
       "      <td>NaN</td>\n",
       "      <td>5.47</td>\n",
       "      <td>NaN</td>\n",
       "      <td>35.59</td>\n",
       "      <td>166.43</td>\n",
       "      <td>NaN</td>\n",
       "      <td>NaN</td>\n",
       "      <td>NaN</td>\n",
       "      <td>NaN</td>\n",
       "      <td>NaN</td>\n",
       "      <td>NaN</td>\n",
       "      <td>NaN</td>\n",
       "      <td>NaN</td>\n",
       "      <td>0.28</td>\n",
       "      <td>NaN</td>\n",
       "      <td>NaN</td>\n",
       "      <td>NaN</td>\n",
       "      <td>22.26</td>\n",
       "      <td>NaN</td>\n",
       "    </tr>\n",
       "    <tr>\n",
       "      <th>2002</th>\n",
       "      <td>NaN</td>\n",
       "      <td>NaN</td>\n",
       "      <td>NaN</td>\n",
       "      <td>0.29</td>\n",
       "      <td>NaN</td>\n",
       "      <td>NaN</td>\n",
       "      <td>74.16</td>\n",
       "      <td>51.81</td>\n",
       "      <td>NaN</td>\n",
       "      <td>NaN</td>\n",
       "      <td>0.08</td>\n",
       "      <td>NaN</td>\n",
       "      <td>NaN</td>\n",
       "      <td>8.57</td>\n",
       "      <td>NaN</td>\n",
       "      <td>6.67</td>\n",
       "      <td>205.38</td>\n",
       "      <td>NaN</td>\n",
       "      <td>NaN</td>\n",
       "      <td>NaN</td>\n",
       "      <td>NaN</td>\n",
       "      <td>NaN</td>\n",
       "      <td>NaN</td>\n",
       "      <td>NaN</td>\n",
       "      <td>NaN</td>\n",
       "      <td>NaN</td>\n",
       "      <td>NaN</td>\n",
       "      <td>NaN</td>\n",
       "      <td>NaN</td>\n",
       "      <td>48.01</td>\n",
       "      <td>NaN</td>\n",
       "    </tr>\n",
       "    <tr>\n",
       "      <th>2003</th>\n",
       "      <td>NaN</td>\n",
       "      <td>NaN</td>\n",
       "      <td>NaN</td>\n",
       "      <td>NaN</td>\n",
       "      <td>NaN</td>\n",
       "      <td>NaN</td>\n",
       "      <td>56.67</td>\n",
       "      <td>50.61</td>\n",
       "      <td>NaN</td>\n",
       "      <td>NaN</td>\n",
       "      <td>NaN</td>\n",
       "      <td>NaN</td>\n",
       "      <td>NaN</td>\n",
       "      <td>8.84</td>\n",
       "      <td>NaN</td>\n",
       "      <td>2.07</td>\n",
       "      <td>184.31</td>\n",
       "      <td>NaN</td>\n",
       "      <td>NaN</td>\n",
       "      <td>NaN</td>\n",
       "      <td>NaN</td>\n",
       "      <td>NaN</td>\n",
       "      <td>NaN</td>\n",
       "      <td>NaN</td>\n",
       "      <td>NaN</td>\n",
       "      <td>NaN</td>\n",
       "      <td>NaN</td>\n",
       "      <td>NaN</td>\n",
       "      <td>NaN</td>\n",
       "      <td>55.04</td>\n",
       "      <td>NaN</td>\n",
       "    </tr>\n",
       "    <tr>\n",
       "      <th>2004</th>\n",
       "      <td>NaN</td>\n",
       "      <td>NaN</td>\n",
       "      <td>NaN</td>\n",
       "      <td>NaN</td>\n",
       "      <td>17.27</td>\n",
       "      <td>NaN</td>\n",
       "      <td>77.91</td>\n",
       "      <td>28.82</td>\n",
       "      <td>NaN</td>\n",
       "      <td>NaN</td>\n",
       "      <td>NaN</td>\n",
       "      <td>NaN</td>\n",
       "      <td>NaN</td>\n",
       "      <td>10.39</td>\n",
       "      <td>NaN</td>\n",
       "      <td>NaN</td>\n",
       "      <td>211.81</td>\n",
       "      <td>NaN</td>\n",
       "      <td>NaN</td>\n",
       "      <td>7.06</td>\n",
       "      <td>NaN</td>\n",
       "      <td>NaN</td>\n",
       "      <td>NaN</td>\n",
       "      <td>NaN</td>\n",
       "      <td>NaN</td>\n",
       "      <td>NaN</td>\n",
       "      <td>NaN</td>\n",
       "      <td>NaN</td>\n",
       "      <td>NaN</td>\n",
       "      <td>65.42</td>\n",
       "      <td>NaN</td>\n",
       "    </tr>\n",
       "    <tr>\n",
       "      <th>2005</th>\n",
       "      <td>NaN</td>\n",
       "      <td>NaN</td>\n",
       "      <td>NaN</td>\n",
       "      <td>NaN</td>\n",
       "      <td>130.14</td>\n",
       "      <td>NaN</td>\n",
       "      <td>33.86</td>\n",
       "      <td>27.62</td>\n",
       "      <td>NaN</td>\n",
       "      <td>NaN</td>\n",
       "      <td>NaN</td>\n",
       "      <td>NaN</td>\n",
       "      <td>NaN</td>\n",
       "      <td>4.37</td>\n",
       "      <td>NaN</td>\n",
       "      <td>NaN</td>\n",
       "      <td>160.66</td>\n",
       "      <td>NaN</td>\n",
       "      <td>NaN</td>\n",
       "      <td>43.84</td>\n",
       "      <td>NaN</td>\n",
       "      <td>NaN</td>\n",
       "      <td>NaN</td>\n",
       "      <td>NaN</td>\n",
       "      <td>NaN</td>\n",
       "      <td>NaN</td>\n",
       "      <td>NaN</td>\n",
       "      <td>NaN</td>\n",
       "      <td>8.25</td>\n",
       "      <td>49.08</td>\n",
       "      <td>NaN</td>\n",
       "    </tr>\n",
       "    <tr>\n",
       "      <th>2006</th>\n",
       "      <td>NaN</td>\n",
       "      <td>NaN</td>\n",
       "      <td>NaN</td>\n",
       "      <td>NaN</td>\n",
       "      <td>119.81</td>\n",
       "      <td>NaN</td>\n",
       "      <td>5.28</td>\n",
       "      <td>11.26</td>\n",
       "      <td>NaN</td>\n",
       "      <td>NaN</td>\n",
       "      <td>NaN</td>\n",
       "      <td>NaN</td>\n",
       "      <td>NaN</td>\n",
       "      <td>2.85</td>\n",
       "      <td>NaN</td>\n",
       "      <td>NaN</td>\n",
       "      <td>103.42</td>\n",
       "      <td>20.96</td>\n",
       "      <td>NaN</td>\n",
       "      <td>55.32</td>\n",
       "      <td>NaN</td>\n",
       "      <td>NaN</td>\n",
       "      <td>NaN</td>\n",
       "      <td>NaN</td>\n",
       "      <td>NaN</td>\n",
       "      <td>NaN</td>\n",
       "      <td>137.15</td>\n",
       "      <td>NaN</td>\n",
       "      <td>51.62</td>\n",
       "      <td>10.04</td>\n",
       "      <td>NaN</td>\n",
       "    </tr>\n",
       "    <tr>\n",
       "      <th>2007</th>\n",
       "      <td>NaN</td>\n",
       "      <td>NaN</td>\n",
       "      <td>NaN</td>\n",
       "      <td>0.02</td>\n",
       "      <td>146.94</td>\n",
       "      <td>NaN</td>\n",
       "      <td>3.40</td>\n",
       "      <td>0.27</td>\n",
       "      <td>NaN</td>\n",
       "      <td>NaN</td>\n",
       "      <td>NaN</td>\n",
       "      <td>NaN</td>\n",
       "      <td>NaN</td>\n",
       "      <td>9.28</td>\n",
       "      <td>NaN</td>\n",
       "      <td>NaN</td>\n",
       "      <td>75.99</td>\n",
       "      <td>73.19</td>\n",
       "      <td>NaN</td>\n",
       "      <td>46.93</td>\n",
       "      <td>NaN</td>\n",
       "      <td>NaN</td>\n",
       "      <td>NaN</td>\n",
       "      <td>NaN</td>\n",
       "      <td>NaN</td>\n",
       "      <td>NaN</td>\n",
       "      <td>152.77</td>\n",
       "      <td>NaN</td>\n",
       "      <td>95.41</td>\n",
       "      <td>0.55</td>\n",
       "      <td>NaN</td>\n",
       "    </tr>\n",
       "    <tr>\n",
       "      <th>2008</th>\n",
       "      <td>NaN</td>\n",
       "      <td>NaN</td>\n",
       "      <td>NaN</td>\n",
       "      <td>0.04</td>\n",
       "      <td>145.31</td>\n",
       "      <td>NaN</td>\n",
       "      <td>NaN</td>\n",
       "      <td>NaN</td>\n",
       "      <td>NaN</td>\n",
       "      <td>NaN</td>\n",
       "      <td>NaN</td>\n",
       "      <td>NaN</td>\n",
       "      <td>NaN</td>\n",
       "      <td>12.42</td>\n",
       "      <td>NaN</td>\n",
       "      <td>NaN</td>\n",
       "      <td>53.90</td>\n",
       "      <td>118.52</td>\n",
       "      <td>NaN</td>\n",
       "      <td>34.55</td>\n",
       "      <td>NaN</td>\n",
       "      <td>NaN</td>\n",
       "      <td>NaN</td>\n",
       "      <td>NaN</td>\n",
       "      <td>NaN</td>\n",
       "      <td>NaN</td>\n",
       "      <td>171.32</td>\n",
       "      <td>NaN</td>\n",
       "      <td>135.26</td>\n",
       "      <td>0.18</td>\n",
       "      <td>NaN</td>\n",
       "    </tr>\n",
       "    <tr>\n",
       "      <th>2009</th>\n",
       "      <td>NaN</td>\n",
       "      <td>NaN</td>\n",
       "      <td>NaN</td>\n",
       "      <td>NaN</td>\n",
       "      <td>119.54</td>\n",
       "      <td>NaN</td>\n",
       "      <td>NaN</td>\n",
       "      <td>NaN</td>\n",
       "      <td>NaN</td>\n",
       "      <td>NaN</td>\n",
       "      <td>NaN</td>\n",
       "      <td>NaN</td>\n",
       "      <td>NaN</td>\n",
       "      <td>16.91</td>\n",
       "      <td>NaN</td>\n",
       "      <td>NaN</td>\n",
       "      <td>26.40</td>\n",
       "      <td>130.93</td>\n",
       "      <td>NaN</td>\n",
       "      <td>37.78</td>\n",
       "      <td>NaN</td>\n",
       "      <td>NaN</td>\n",
       "      <td>NaN</td>\n",
       "      <td>NaN</td>\n",
       "      <td>NaN</td>\n",
       "      <td>NaN</td>\n",
       "      <td>206.97</td>\n",
       "      <td>NaN</td>\n",
       "      <td>120.29</td>\n",
       "      <td>NaN</td>\n",
       "      <td>NaN</td>\n",
       "    </tr>\n",
       "    <tr>\n",
       "      <th>2010</th>\n",
       "      <td>NaN</td>\n",
       "      <td>NaN</td>\n",
       "      <td>NaN</td>\n",
       "      <td>NaN</td>\n",
       "      <td>85.02</td>\n",
       "      <td>NaN</td>\n",
       "      <td>NaN</td>\n",
       "      <td>NaN</td>\n",
       "      <td>NaN</td>\n",
       "      <td>NaN</td>\n",
       "      <td>NaN</td>\n",
       "      <td>NaN</td>\n",
       "      <td>NaN</td>\n",
       "      <td>24.28</td>\n",
       "      <td>NaN</td>\n",
       "      <td>NaN</td>\n",
       "      <td>5.64</td>\n",
       "      <td>142.17</td>\n",
       "      <td>NaN</td>\n",
       "      <td>35.04</td>\n",
       "      <td>NaN</td>\n",
       "      <td>NaN</td>\n",
       "      <td>NaN</td>\n",
       "      <td>NaN</td>\n",
       "      <td>NaN</td>\n",
       "      <td>NaN</td>\n",
       "      <td>127.95</td>\n",
       "      <td>NaN</td>\n",
       "      <td>170.03</td>\n",
       "      <td>NaN</td>\n",
       "      <td>NaN</td>\n",
       "    </tr>\n",
       "    <tr>\n",
       "      <th>2011</th>\n",
       "      <td>NaN</td>\n",
       "      <td>NaN</td>\n",
       "      <td>63.20</td>\n",
       "      <td>NaN</td>\n",
       "      <td>26.18</td>\n",
       "      <td>NaN</td>\n",
       "      <td>NaN</td>\n",
       "      <td>NaN</td>\n",
       "      <td>NaN</td>\n",
       "      <td>NaN</td>\n",
       "      <td>NaN</td>\n",
       "      <td>NaN</td>\n",
       "      <td>NaN</td>\n",
       "      <td>35.03</td>\n",
       "      <td>NaN</td>\n",
       "      <td>NaN</td>\n",
       "      <td>0.45</td>\n",
       "      <td>156.78</td>\n",
       "      <td>NaN</td>\n",
       "      <td>17.82</td>\n",
       "      <td>4.63</td>\n",
       "      <td>NaN</td>\n",
       "      <td>NaN</td>\n",
       "      <td>NaN</td>\n",
       "      <td>NaN</td>\n",
       "      <td>NaN</td>\n",
       "      <td>59.65</td>\n",
       "      <td>NaN</td>\n",
       "      <td>143.84</td>\n",
       "      <td>NaN</td>\n",
       "      <td>NaN</td>\n",
       "    </tr>\n",
       "    <tr>\n",
       "      <th>2012</th>\n",
       "      <td>NaN</td>\n",
       "      <td>NaN</td>\n",
       "      <td>51.36</td>\n",
       "      <td>NaN</td>\n",
       "      <td>11.01</td>\n",
       "      <td>NaN</td>\n",
       "      <td>NaN</td>\n",
       "      <td>NaN</td>\n",
       "      <td>NaN</td>\n",
       "      <td>NaN</td>\n",
       "      <td>NaN</td>\n",
       "      <td>NaN</td>\n",
       "      <td>NaN</td>\n",
       "      <td>23.22</td>\n",
       "      <td>NaN</td>\n",
       "      <td>NaN</td>\n",
       "      <td>NaN</td>\n",
       "      <td>107.36</td>\n",
       "      <td>NaN</td>\n",
       "      <td>7.69</td>\n",
       "      <td>16.19</td>\n",
       "      <td>NaN</td>\n",
       "      <td>NaN</td>\n",
       "      <td>NaN</td>\n",
       "      <td>NaN</td>\n",
       "      <td>NaN</td>\n",
       "      <td>21.71</td>\n",
       "      <td>17.56</td>\n",
       "      <td>99.74</td>\n",
       "      <td>NaN</td>\n",
       "      <td>NaN</td>\n",
       "    </tr>\n",
       "    <tr>\n",
       "      <th>2013</th>\n",
       "      <td>NaN</td>\n",
       "      <td>NaN</td>\n",
       "      <td>56.57</td>\n",
       "      <td>NaN</td>\n",
       "      <td>1.54</td>\n",
       "      <td>NaN</td>\n",
       "      <td>NaN</td>\n",
       "      <td>NaN</td>\n",
       "      <td>NaN</td>\n",
       "      <td>NaN</td>\n",
       "      <td>NaN</td>\n",
       "      <td>NaN</td>\n",
       "      <td>NaN</td>\n",
       "      <td>12.38</td>\n",
       "      <td>NaN</td>\n",
       "      <td>NaN</td>\n",
       "      <td>NaN</td>\n",
       "      <td>113.25</td>\n",
       "      <td>25.99</td>\n",
       "      <td>3.14</td>\n",
       "      <td>10.59</td>\n",
       "      <td>NaN</td>\n",
       "      <td>NaN</td>\n",
       "      <td>NaN</td>\n",
       "      <td>NaN</td>\n",
       "      <td>NaN</td>\n",
       "      <td>8.59</td>\n",
       "      <td>21.65</td>\n",
       "      <td>88.58</td>\n",
       "      <td>NaN</td>\n",
       "      <td>18.96</td>\n",
       "    </tr>\n",
       "    <tr>\n",
       "      <th>2014</th>\n",
       "      <td>NaN</td>\n",
       "      <td>NaN</td>\n",
       "      <td>43.76</td>\n",
       "      <td>NaN</td>\n",
       "      <td>NaN</td>\n",
       "      <td>NaN</td>\n",
       "      <td>NaN</td>\n",
       "      <td>NaN</td>\n",
       "      <td>NaN</td>\n",
       "      <td>NaN</td>\n",
       "      <td>NaN</td>\n",
       "      <td>NaN</td>\n",
       "      <td>NaN</td>\n",
       "      <td>13.28</td>\n",
       "      <td>NaN</td>\n",
       "      <td>NaN</td>\n",
       "      <td>NaN</td>\n",
       "      <td>47.76</td>\n",
       "      <td>100.00</td>\n",
       "      <td>0.24</td>\n",
       "      <td>11.90</td>\n",
       "      <td>NaN</td>\n",
       "      <td>NaN</td>\n",
       "      <td>NaN</td>\n",
       "      <td>NaN</td>\n",
       "      <td>NaN</td>\n",
       "      <td>3.75</td>\n",
       "      <td>22.03</td>\n",
       "      <td>34.74</td>\n",
       "      <td>NaN</td>\n",
       "      <td>54.07</td>\n",
       "    </tr>\n",
       "    <tr>\n",
       "      <th>2015</th>\n",
       "      <td>NaN</td>\n",
       "      <td>NaN</td>\n",
       "      <td>27.78</td>\n",
       "      <td>NaN</td>\n",
       "      <td>NaN</td>\n",
       "      <td>NaN</td>\n",
       "      <td>NaN</td>\n",
       "      <td>NaN</td>\n",
       "      <td>NaN</td>\n",
       "      <td>NaN</td>\n",
       "      <td>NaN</td>\n",
       "      <td>NaN</td>\n",
       "      <td>NaN</td>\n",
       "      <td>8.52</td>\n",
       "      <td>NaN</td>\n",
       "      <td>NaN</td>\n",
       "      <td>NaN</td>\n",
       "      <td>16.82</td>\n",
       "      <td>118.90</td>\n",
       "      <td>0.12</td>\n",
       "      <td>6.25</td>\n",
       "      <td>NaN</td>\n",
       "      <td>NaN</td>\n",
       "      <td>NaN</td>\n",
       "      <td>NaN</td>\n",
       "      <td>NaN</td>\n",
       "      <td>1.14</td>\n",
       "      <td>16.35</td>\n",
       "      <td>11.96</td>\n",
       "      <td>NaN</td>\n",
       "      <td>60.14</td>\n",
       "    </tr>\n",
       "    <tr>\n",
       "      <th>2016</th>\n",
       "      <td>NaN</td>\n",
       "      <td>NaN</td>\n",
       "      <td>15.14</td>\n",
       "      <td>NaN</td>\n",
       "      <td>NaN</td>\n",
       "      <td>NaN</td>\n",
       "      <td>NaN</td>\n",
       "      <td>NaN</td>\n",
       "      <td>NaN</td>\n",
       "      <td>NaN</td>\n",
       "      <td>NaN</td>\n",
       "      <td>NaN</td>\n",
       "      <td>NaN</td>\n",
       "      <td>5.25</td>\n",
       "      <td>NaN</td>\n",
       "      <td>NaN</td>\n",
       "      <td>NaN</td>\n",
       "      <td>3.60</td>\n",
       "      <td>69.25</td>\n",
       "      <td>NaN</td>\n",
       "      <td>4.25</td>\n",
       "      <td>NaN</td>\n",
       "      <td>NaN</td>\n",
       "      <td>NaN</td>\n",
       "      <td>NaN</td>\n",
       "      <td>NaN</td>\n",
       "      <td>0.18</td>\n",
       "      <td>4.60</td>\n",
       "      <td>1.52</td>\n",
       "      <td>NaN</td>\n",
       "      <td>26.15</td>\n",
       "    </tr>\n",
       "  </tbody>\n",
       "</table>\n",
       "</div>"
      ],
      "text/plain": [
       "platform          2600   3DO    3DS    DC      DS     GB    GBA     GC    GEN  \\\n",
       "year_of_release                                                                 \n",
       "0                10.50   NaN   1.19   NaN    3.34   1.03   4.97   2.20    NaN   \n",
       "1980             11.38   NaN    NaN   NaN     NaN    NaN    NaN    NaN    NaN   \n",
       "1981             35.68   NaN    NaN   NaN     NaN    NaN    NaN    NaN    NaN   \n",
       "1982             28.88   NaN    NaN   NaN     NaN    NaN    NaN    NaN    NaN   \n",
       "1983              5.84   NaN    NaN   NaN     NaN    NaN    NaN    NaN    NaN   \n",
       "1984              0.27   NaN    NaN   NaN     NaN    NaN    NaN    NaN    NaN   \n",
       "1985              0.45   NaN    NaN   NaN    0.02    NaN    NaN    NaN    NaN   \n",
       "1986              0.67   NaN    NaN   NaN     NaN    NaN    NaN    NaN    NaN   \n",
       "1987              1.94   NaN    NaN   NaN     NaN    NaN    NaN    NaN    NaN   \n",
       "1988              0.74   NaN    NaN   NaN     NaN   1.43    NaN    NaN    NaN   \n",
       "1989              0.63   NaN    NaN   NaN     NaN  64.97    NaN    NaN    NaN   \n",
       "1990               NaN   NaN    NaN   NaN     NaN   4.89    NaN    NaN   2.60   \n",
       "1991               NaN   NaN    NaN   NaN     NaN   5.57    NaN    NaN   4.33   \n",
       "1992               NaN   NaN    NaN   NaN     NaN  25.49    NaN    NaN  12.64   \n",
       "1993               NaN   NaN    NaN   NaN     NaN    NaN    NaN    NaN   0.65   \n",
       "1994               NaN  0.02    NaN   NaN     NaN  12.18    NaN    NaN   8.13   \n",
       "1995               NaN  0.08    NaN   NaN     NaN   3.60    NaN    NaN    NaN   \n",
       "1996               NaN   NaN    NaN   NaN     NaN  36.03    NaN    NaN    NaN   \n",
       "1997               NaN   NaN    NaN   NaN     NaN   6.37    NaN    NaN    NaN   \n",
       "1998               NaN   NaN    NaN  3.38     NaN  26.90    NaN    NaN    NaN   \n",
       "1999               NaN   NaN    NaN  5.16     NaN  38.00    NaN    NaN    NaN   \n",
       "2000               NaN   NaN    NaN  5.99     NaN  19.76   0.07    NaN    NaN   \n",
       "2001               NaN   NaN    NaN  1.07     NaN   9.24  61.53  26.34    NaN   \n",
       "2002               NaN   NaN    NaN  0.29     NaN    NaN  74.16  51.81    NaN   \n",
       "2003               NaN   NaN    NaN   NaN     NaN    NaN  56.67  50.61    NaN   \n",
       "2004               NaN   NaN    NaN   NaN   17.27    NaN  77.91  28.82    NaN   \n",
       "2005               NaN   NaN    NaN   NaN  130.14    NaN  33.86  27.62    NaN   \n",
       "2006               NaN   NaN    NaN   NaN  119.81    NaN   5.28  11.26    NaN   \n",
       "2007               NaN   NaN    NaN  0.02  146.94    NaN   3.40   0.27    NaN   \n",
       "2008               NaN   NaN    NaN  0.04  145.31    NaN    NaN    NaN    NaN   \n",
       "2009               NaN   NaN    NaN   NaN  119.54    NaN    NaN    NaN    NaN   \n",
       "2010               NaN   NaN    NaN   NaN   85.02    NaN    NaN    NaN    NaN   \n",
       "2011               NaN   NaN  63.20   NaN   26.18    NaN    NaN    NaN    NaN   \n",
       "2012               NaN   NaN  51.36   NaN   11.01    NaN    NaN    NaN    NaN   \n",
       "2013               NaN   NaN  56.57   NaN    1.54    NaN    NaN    NaN    NaN   \n",
       "2014               NaN   NaN  43.76   NaN     NaN    NaN    NaN    NaN    NaN   \n",
       "2015               NaN   NaN  27.78   NaN     NaN    NaN    NaN    NaN    NaN   \n",
       "2016               NaN   NaN  15.14   NaN     NaN    NaN    NaN    NaN    NaN   \n",
       "\n",
       "platform           GG    N64    NES    NG     PC  PCFX      PS     PS2  \\\n",
       "year_of_release                                                          \n",
       "0                 NaN   0.67    NaN   NaN   3.76   NaN    3.28   22.21   \n",
       "1980              NaN    NaN    NaN   NaN    NaN   NaN     NaN     NaN   \n",
       "1981              NaN    NaN    NaN   NaN    NaN   NaN     NaN     NaN   \n",
       "1982              NaN    NaN    NaN   NaN    NaN   NaN     NaN     NaN   \n",
       "1983              NaN    NaN  10.96   NaN    NaN   NaN     NaN     NaN   \n",
       "1984              NaN    NaN  50.08   NaN    NaN   NaN     NaN     NaN   \n",
       "1985              NaN    NaN  53.44   NaN   0.04   NaN     NaN     NaN   \n",
       "1986              NaN    NaN  36.41   NaN    NaN   NaN     NaN     NaN   \n",
       "1987              NaN    NaN  19.76   NaN    NaN   NaN     NaN     NaN   \n",
       "1988              NaN    NaN  45.01   NaN   0.03   NaN     NaN     NaN   \n",
       "1989              NaN    NaN   7.85   NaN    NaN   NaN     NaN     NaN   \n",
       "1990              NaN    NaN  15.73   NaN    NaN   NaN     NaN     NaN   \n",
       "1991              NaN    NaN   6.11   NaN    NaN   NaN     NaN     NaN   \n",
       "1992             0.04    NaN   1.98   NaN   3.03   NaN     NaN     NaN   \n",
       "1993              NaN    NaN   3.61  0.21    NaN   NaN     NaN     NaN   \n",
       "1994              NaN    NaN   0.11  0.80  12.87   NaN    6.03     NaN   \n",
       "1995              NaN    NaN    NaN  0.33   4.22   NaN   35.96     NaN   \n",
       "1996              NaN  34.10    NaN  0.10  10.58  0.03   94.70     NaN   \n",
       "1997              NaN  39.50    NaN   NaN  11.27   NaN  136.17     NaN   \n",
       "1998              NaN  49.24    NaN   NaN   3.26   NaN  169.49     NaN   \n",
       "1999              NaN  57.87    NaN   NaN   4.74   NaN  144.53     NaN   \n",
       "2000              NaN  33.97    NaN   NaN   4.66   NaN   96.37   39.17   \n",
       "2001              NaN   3.25    NaN   NaN   5.47   NaN   35.59  166.43   \n",
       "2002              NaN   0.08    NaN   NaN   8.57   NaN    6.67  205.38   \n",
       "2003              NaN    NaN    NaN   NaN   8.84   NaN    2.07  184.31   \n",
       "2004              NaN    NaN    NaN   NaN  10.39   NaN     NaN  211.81   \n",
       "2005              NaN    NaN    NaN   NaN   4.37   NaN     NaN  160.66   \n",
       "2006              NaN    NaN    NaN   NaN   2.85   NaN     NaN  103.42   \n",
       "2007              NaN    NaN    NaN   NaN   9.28   NaN     NaN   75.99   \n",
       "2008              NaN    NaN    NaN   NaN  12.42   NaN     NaN   53.90   \n",
       "2009              NaN    NaN    NaN   NaN  16.91   NaN     NaN   26.40   \n",
       "2010              NaN    NaN    NaN   NaN  24.28   NaN     NaN    5.64   \n",
       "2011              NaN    NaN    NaN   NaN  35.03   NaN     NaN    0.45   \n",
       "2012              NaN    NaN    NaN   NaN  23.22   NaN     NaN     NaN   \n",
       "2013              NaN    NaN    NaN   NaN  12.38   NaN     NaN     NaN   \n",
       "2014              NaN    NaN    NaN   NaN  13.28   NaN     NaN     NaN   \n",
       "2015              NaN    NaN    NaN   NaN   8.52   NaN     NaN     NaN   \n",
       "2016              NaN    NaN    NaN   NaN   5.25   NaN     NaN     NaN   \n",
       "\n",
       "platform            PS3     PS4    PSP    PSV    SAT   SCD   SNES  TG16    WS  \\\n",
       "year_of_release                                                                 \n",
       "0                  8.31     NaN   4.52   0.26    NaN   NaN    NaN   NaN   NaN   \n",
       "1980                NaN     NaN    NaN    NaN    NaN   NaN    NaN   NaN   NaN   \n",
       "1981                NaN     NaN    NaN    NaN    NaN   NaN    NaN   NaN   NaN   \n",
       "1982                NaN     NaN    NaN    NaN    NaN   NaN    NaN   NaN   NaN   \n",
       "1983                NaN     NaN    NaN    NaN    NaN   NaN    NaN   NaN   NaN   \n",
       "1984                NaN     NaN    NaN    NaN    NaN   NaN    NaN   NaN   NaN   \n",
       "1985                NaN     NaN    NaN    NaN    NaN   NaN    NaN   NaN   NaN   \n",
       "1986                NaN     NaN    NaN    NaN    NaN   NaN    NaN   NaN   NaN   \n",
       "1987                NaN     NaN    NaN    NaN    NaN   NaN    NaN   NaN   NaN   \n",
       "1988                NaN     NaN    NaN    NaN    NaN   NaN    NaN   NaN   NaN   \n",
       "1989                NaN     NaN    NaN    NaN    NaN   NaN    NaN   NaN   NaN   \n",
       "1990                NaN     NaN    NaN    NaN    NaN   NaN  26.15   NaN   NaN   \n",
       "1991                NaN     NaN    NaN    NaN    NaN   NaN  16.22   NaN   NaN   \n",
       "1992                NaN     NaN    NaN    NaN    NaN   NaN  32.98   NaN   NaN   \n",
       "1993                NaN     NaN    NaN    NaN    NaN  1.50  40.02   NaN   NaN   \n",
       "1994                NaN     NaN    NaN    NaN   3.65  0.36  35.08   NaN   NaN   \n",
       "1995                NaN     NaN    NaN    NaN  11.57   NaN  32.20  0.16   NaN   \n",
       "1996                NaN     NaN    NaN    NaN   7.69   NaN  15.92   NaN   NaN   \n",
       "1997                NaN     NaN    NaN    NaN   6.77   NaN   0.99   NaN   NaN   \n",
       "1998                NaN     NaN    NaN    NaN   3.82   NaN   0.22   NaN   NaN   \n",
       "1999                NaN     NaN    NaN    NaN   0.09   NaN   0.26   NaN  0.46   \n",
       "2000                NaN     NaN    NaN    NaN    NaN   NaN    NaN   NaN  0.68   \n",
       "2001                NaN     NaN    NaN    NaN    NaN   NaN    NaN   NaN  0.28   \n",
       "2002                NaN     NaN    NaN    NaN    NaN   NaN    NaN   NaN   NaN   \n",
       "2003                NaN     NaN    NaN    NaN    NaN   NaN    NaN   NaN   NaN   \n",
       "2004                NaN     NaN   7.06    NaN    NaN   NaN    NaN   NaN   NaN   \n",
       "2005                NaN     NaN  43.84    NaN    NaN   NaN    NaN   NaN   NaN   \n",
       "2006              20.96     NaN  55.32    NaN    NaN   NaN    NaN   NaN   NaN   \n",
       "2007              73.19     NaN  46.93    NaN    NaN   NaN    NaN   NaN   NaN   \n",
       "2008             118.52     NaN  34.55    NaN    NaN   NaN    NaN   NaN   NaN   \n",
       "2009             130.93     NaN  37.78    NaN    NaN   NaN    NaN   NaN   NaN   \n",
       "2010             142.17     NaN  35.04    NaN    NaN   NaN    NaN   NaN   NaN   \n",
       "2011             156.78     NaN  17.82   4.63    NaN   NaN    NaN   NaN   NaN   \n",
       "2012             107.36     NaN   7.69  16.19    NaN   NaN    NaN   NaN   NaN   \n",
       "2013             113.25   25.99   3.14  10.59    NaN   NaN    NaN   NaN   NaN   \n",
       "2014              47.76  100.00   0.24  11.90    NaN   NaN    NaN   NaN   NaN   \n",
       "2015              16.82  118.90   0.12   6.25    NaN   NaN    NaN   NaN   NaN   \n",
       "2016               3.60   69.25    NaN   4.25    NaN   NaN    NaN   NaN   NaN   \n",
       "\n",
       "platform            Wii   WiiU    X360     XB   XOne  \n",
       "year_of_release                                       \n",
       "0                 16.33    NaN   10.18   6.17    NaN  \n",
       "1980                NaN    NaN     NaN    NaN    NaN  \n",
       "1981                NaN    NaN     NaN    NaN    NaN  \n",
       "1982                NaN    NaN     NaN    NaN    NaN  \n",
       "1983                NaN    NaN     NaN    NaN    NaN  \n",
       "1984                NaN    NaN     NaN    NaN    NaN  \n",
       "1985                NaN    NaN     NaN    NaN    NaN  \n",
       "1986                NaN    NaN     NaN    NaN    NaN  \n",
       "1987                NaN    NaN     NaN    NaN    NaN  \n",
       "1988                NaN    NaN     NaN    NaN    NaN  \n",
       "1989                NaN    NaN     NaN    NaN    NaN  \n",
       "1990                NaN    NaN     NaN    NaN    NaN  \n",
       "1991                NaN    NaN     NaN    NaN    NaN  \n",
       "1992                NaN    NaN     NaN    NaN    NaN  \n",
       "1993                NaN    NaN     NaN    NaN    NaN  \n",
       "1994                NaN    NaN     NaN    NaN    NaN  \n",
       "1995                NaN    NaN     NaN    NaN    NaN  \n",
       "1996                NaN    NaN     NaN    NaN    NaN  \n",
       "1997                NaN    NaN     NaN    NaN    NaN  \n",
       "1998                NaN    NaN     NaN    NaN    NaN  \n",
       "1999                NaN    NaN     NaN    NaN    NaN  \n",
       "2000                NaN    NaN     NaN   0.99    NaN  \n",
       "2001                NaN    NaN     NaN  22.26    NaN  \n",
       "2002                NaN    NaN     NaN  48.01    NaN  \n",
       "2003                NaN    NaN     NaN  55.04    NaN  \n",
       "2004                NaN    NaN     NaN  65.42    NaN  \n",
       "2005                NaN    NaN    8.25  49.08    NaN  \n",
       "2006             137.15    NaN   51.62  10.04    NaN  \n",
       "2007             152.77    NaN   95.41   0.55    NaN  \n",
       "2008             171.32    NaN  135.26   0.18    NaN  \n",
       "2009             206.97    NaN  120.29    NaN    NaN  \n",
       "2010             127.95    NaN  170.03    NaN    NaN  \n",
       "2011              59.65    NaN  143.84    NaN    NaN  \n",
       "2012              21.71  17.56   99.74    NaN    NaN  \n",
       "2013               8.59  21.65   88.58    NaN  18.96  \n",
       "2014               3.75  22.03   34.74    NaN  54.07  \n",
       "2015               1.14  16.35   11.96    NaN  60.14  \n",
       "2016               0.18   4.60    1.52    NaN  26.15  "
      ]
     },
     "execution_count": 20,
     "metadata": {},
     "output_type": "execute_result"
    }
   ],
   "source": [
    "data.pivot_table(index='year_of_release',columns = 'platform', values='total_sales', aggfunc='sum')"
   ]
  },
  {
   "cell_type": "code",
   "execution_count": 21,
   "metadata": {},
   "outputs": [
    {
     "data": {
      "image/png": "[encoded data removed]",
      "text/plain": [
       "<Figure size 1440x432 with 1 Axes>"
      ]
     },
     "metadata": {
      "needs_background": "light"
     },
     "output_type": "display_data"
    }
   ],
   "source": [
    "data.pivot_table(index='year_of_release',columns = 'platform', values='name', aggfunc='count').plot(figsize=(20, 6), xlim=(1975, 2018))\n",
    "plt.legend(loc='upper center', bbox_to_anchor=(0.5, -0.1),\n",
    "          fancybox=True, shadow=True, ncol=5)\n",
    "\n",
    "plt.show()"
   ]
  },
  {
   "cell_type": "markdown",
   "metadata": {},
   "source": [
    "Какой-то характерный срок появления новых платформ и исчезновения старых назвать сложно, так как срок всегда разный. <br>\n",
    "Приблизительно это 10 лет.<br>\n",
    "\"PC\" - платформа долгожитель (по данным датасета - 26 лет)"
   ]
  },
  {
   "cell_type": "markdown",
   "metadata": {},
   "source": [
    "Определим <b>актуальный период</b>:"
   ]
  },
  {
   "cell_type": "code",
   "execution_count": 22,
   "metadata": {},
   "outputs": [],
   "source": [
    "actual_data = data.query('(2017 - year_of_release) < 5')"
   ]
  },
  {
   "cell_type": "markdown",
   "metadata": {},
   "source": [
    "actual_data - датафрейм, содержащий данные, где\n",
    "на 2017 год попадает только первая половина срока жизни платформы"
   ]
  },
  {
   "cell_type": "code",
   "execution_count": 23,
   "metadata": {},
   "outputs": [
    {
     "data": {
      "image/png": "[encoded data removed]",
      "text/plain": [
       "<Figure size 1080x504 with 1 Axes>"
      ]
     },
     "metadata": {
      "needs_background": "light"
     },
     "output_type": "display_data"
    }
   ],
   "source": [
    "actual_data.query('year_of_release >= 2010').pivot_table(index='year_of_release',columns = 'platform', values='total_sales', aggfunc='sum').plot(figsize=(15, 7))\n",
    "\n",
    "plt.title('Динамика продаж по платформам', size=15)\n",
    "\n",
    "plt.xlabel('Год релиза', size=12)\n",
    "plt.ylabel('Суммарные продажи, млн. копий', size=12)\n",
    "\n",
    "plt.legend(loc='upper center', bbox_to_anchor=(0.5, -0.1),\n",
    "          fancybox=True, shadow=True, ncol=5)\n",
    "\n",
    "plt.show()"
   ]
  },
  {
   "cell_type": "markdown",
   "metadata": {},
   "source": [
    "<b>Диаграмма размаха</b> по глобальным продажам игр в разбивке по платформам"
   ]
  },
  {
   "cell_type": "code",
   "execution_count": 24,
   "metadata": {},
   "outputs": [
    {
     "data": {
      "image/png": "[encoded data removed]",
      "text/plain": [
       "<Figure size 432x288 with 1 Axes>"
      ]
     },
     "metadata": {
      "needs_background": "light"
     },
     "output_type": "display_data"
    }
   ],
   "source": [
    "actual_data.query('year_of_release >= 2010').pivot_table(index='platform', values='total_sales', aggfunc='sum').boxplot();"
   ]
  },
  {
   "cell_type": "code",
   "execution_count": 25,
   "metadata": {},
   "outputs": [
    {
     "data": {
      "text/html": [
       "<div>\n",
       "<style scoped>\n",
       "    .dataframe tbody tr th:only-of-type {\n",
       "        vertical-align: middle;\n",
       "    }\n",
       "\n",
       "    .dataframe tbody tr th {\n",
       "        vertical-align: top;\n",
       "    }\n",
       "\n",
       "    .dataframe thead th {\n",
       "        text-align: right;\n",
       "    }\n",
       "</style>\n",
       "<table border=\"1\" class=\"dataframe\">\n",
       "  <thead>\n",
       "    <tr style=\"text-align: right;\">\n",
       "      <th></th>\n",
       "      <th>total_sales</th>\n",
       "    </tr>\n",
       "    <tr>\n",
       "      <th>platform</th>\n",
       "      <th></th>\n",
       "    </tr>\n",
       "  </thead>\n",
       "  <tbody>\n",
       "    <tr>\n",
       "      <th>DS</th>\n",
       "      <td>1.54</td>\n",
       "    </tr>\n",
       "    <tr>\n",
       "      <th>PSP</th>\n",
       "      <td>3.50</td>\n",
       "    </tr>\n",
       "    <tr>\n",
       "      <th>Wii</th>\n",
       "      <td>13.66</td>\n",
       "    </tr>\n",
       "    <tr>\n",
       "      <th>PSV</th>\n",
       "      <td>32.99</td>\n",
       "    </tr>\n",
       "    <tr>\n",
       "      <th>PC</th>\n",
       "      <td>39.43</td>\n",
       "    </tr>\n",
       "    <tr>\n",
       "      <th>WiiU</th>\n",
       "      <td>64.63</td>\n",
       "    </tr>\n",
       "    <tr>\n",
       "      <th>X360</th>\n",
       "      <td>136.80</td>\n",
       "    </tr>\n",
       "    <tr>\n",
       "      <th>3DS</th>\n",
       "      <td>143.25</td>\n",
       "    </tr>\n",
       "    <tr>\n",
       "      <th>XOne</th>\n",
       "      <td>159.32</td>\n",
       "    </tr>\n",
       "    <tr>\n",
       "      <th>PS3</th>\n",
       "      <td>181.43</td>\n",
       "    </tr>\n",
       "    <tr>\n",
       "      <th>PS4</th>\n",
       "      <td>314.14</td>\n",
       "    </tr>\n",
       "  </tbody>\n",
       "</table>\n",
       "</div>"
      ],
      "text/plain": [
       "          total_sales\n",
       "platform             \n",
       "DS               1.54\n",
       "PSP              3.50\n",
       "Wii             13.66\n",
       "PSV             32.99\n",
       "PC              39.43\n",
       "WiiU            64.63\n",
       "X360           136.80\n",
       "3DS            143.25\n",
       "XOne           159.32\n",
       "PS3            181.43\n",
       "PS4            314.14"
      ]
     },
     "execution_count": 25,
     "metadata": {},
     "output_type": "execute_result"
    }
   ],
   "source": [
    "actual_data.pivot_table(index='platform', values='total_sales', aggfunc='sum').sort_values(by=[\"total_sales\"])"
   ]
  },
  {
   "cell_type": "markdown",
   "metadata": {},
   "source": [
    "<b>Анализ диаграммы размаха</b>:<br>\n",
    "Медиана приблизительно равна 70.<br>\n",
    "Нижний «ус» чуть больше 1 - это минимальное значение.<br>\n",
    "Верхний заканчивается около 310 — это 1,5 межквартильного размаха, добавленного к 3-му квартилю.<br>\n",
    "Это ориентировочная граница нормального размаха.<br>\n",
    "Всё, что лежит за ней, считается выбросом, выбросов на нашнм графике не наблюдается"
   ]
  },
  {
   "cell_type": "markdown",
   "metadata": {},
   "source": [
    "<b>Влияние отзывов на продажи</b><br>\n",
    "Рассмотрим на примере платформы PS3<br>\n",
    "Построим диаграмму рассеивания и посчитаем корреляцию между отзывами и продажами"
   ]
  },
  {
   "cell_type": "markdown",
   "metadata": {},
   "source": [
    "<b>critic_score</b>"
   ]
  },
  {
   "cell_type": "code",
   "execution_count": 26,
   "metadata": {},
   "outputs": [
    {
     "data": {
      "image/png": "[encoded data removed]",
      "text/plain": [
       "<Figure size 432x288 with 1 Axes>"
      ]
     },
     "metadata": {
      "needs_background": "light"
     },
     "output_type": "display_data"
    }
   ],
   "source": [
    "actual_data.query('platform == \"PS3\"').plot(x='critic_score', y='total_sales', kind='scatter', alpha=0.3);"
   ]
  },
  {
   "cell_type": "code",
   "execution_count": 27,
   "metadata": {},
   "outputs": [
    {
     "data": {
      "text/plain": [
       "0.279274363232472"
      ]
     },
     "execution_count": 27,
     "metadata": {},
     "output_type": "execute_result"
    }
   ],
   "source": [
    "actual_data.query('platform == \"PS3\"')['critic_score'].corr(data.query('platform == \"PS3\"')['total_sales'])"
   ]
  },
  {
   "cell_type": "markdown",
   "metadata": {},
   "source": [
    "<b>Вывод:</b> корреляция (рост продаж с увеличением оценок критиков) есть, но она слабая."
   ]
  },
  {
   "cell_type": "markdown",
   "metadata": {},
   "source": [
    "<b>user_score</b>"
   ]
  },
  {
   "cell_type": "code",
   "execution_count": 28,
   "metadata": {},
   "outputs": [
    {
     "data": {
      "image/png": "[encoded data removed]",
      "text/plain": [
       "<Figure size 432x288 with 1 Axes>"
      ]
     },
     "metadata": {
      "needs_background": "light"
     },
     "output_type": "display_data"
    }
   ],
   "source": [
    "actual_data.query('platform == \"PS3\"').plot(x='user_score', y='total_sales', kind='scatter', alpha=0.3);"
   ]
  },
  {
   "cell_type": "code",
   "execution_count": 29,
   "metadata": {},
   "outputs": [
    {
     "data": {
      "text/plain": [
       "0.20209116183305223"
      ]
     },
     "execution_count": 29,
     "metadata": {},
     "output_type": "execute_result"
    }
   ],
   "source": [
    "actual_data.query('platform == \"PS3\"')['user_score'].corr(data.query('platform == \"PS3\"')['total_sales'])"
   ]
  },
  {
   "cell_type": "markdown",
   "metadata": {},
   "source": [
    "<b>Вывод:</b> корреляции между оценкой пользователей и продажами не наблюдается"
   ]
  },
  {
   "cell_type": "code",
   "execution_count": 30,
   "metadata": {},
   "outputs": [
    {
     "data": {
      "image/png": "[encoded data removed]",
      "text/plain": [
       "<Figure size 432x288 with 1 Axes>"
      ]
     },
     "metadata": {
      "needs_background": "light"
     },
     "output_type": "display_data"
    }
   ],
   "source": [
    "actual_data.query('platform != \"PS3\"').plot(x='user_score', y='total_sales', kind='scatter', alpha=0.3);"
   ]
  },
  {
   "cell_type": "code",
   "execution_count": 31,
   "metadata": {},
   "outputs": [
    {
     "data": {
      "image/png": "[encoded data removed]",
      "text/plain": [
       "<Figure size 432x288 with 1 Axes>"
      ]
     },
     "metadata": {
      "needs_background": "light"
     },
     "output_type": "display_data"
    }
   ],
   "source": [
    "actual_data.query('platform != \"PS3\"').plot(x='critic_score', y='total_sales', kind='scatter', alpha=0.3);"
   ]
  },
  {
   "cell_type": "markdown",
   "metadata": {},
   "source": [
    "На других платформах также нет корреляции оценнок и критиков, и зрителей с суммами продаж"
   ]
  },
  {
   "cell_type": "markdown",
   "metadata": {},
   "source": [
    "<b>Распределение игр по жанрам</b>"
   ]
  },
  {
   "cell_type": "code",
   "execution_count": 32,
   "metadata": {},
   "outputs": [
    {
     "data": {
      "text/html": [
       "<div>\n",
       "<style scoped>\n",
       "    .dataframe tbody tr th:only-of-type {\n",
       "        vertical-align: middle;\n",
       "    }\n",
       "\n",
       "    .dataframe tbody tr th {\n",
       "        vertical-align: top;\n",
       "    }\n",
       "\n",
       "    .dataframe thead th {\n",
       "        text-align: right;\n",
       "    }\n",
       "</style>\n",
       "<table border=\"1\" class=\"dataframe\">\n",
       "  <thead>\n",
       "    <tr style=\"text-align: right;\">\n",
       "      <th></th>\n",
       "      <th>total_sales</th>\n",
       "    </tr>\n",
       "    <tr>\n",
       "      <th>genre</th>\n",
       "      <th></th>\n",
       "    </tr>\n",
       "  </thead>\n",
       "  <tbody>\n",
       "    <tr>\n",
       "      <th>Action</th>\n",
       "      <td>321.87</td>\n",
       "    </tr>\n",
       "    <tr>\n",
       "      <th>Shooter</th>\n",
       "      <td>232.98</td>\n",
       "    </tr>\n",
       "    <tr>\n",
       "      <th>Sports</th>\n",
       "      <td>150.65</td>\n",
       "    </tr>\n",
       "    <tr>\n",
       "      <th>Role-Playing</th>\n",
       "      <td>145.89</td>\n",
       "    </tr>\n",
       "    <tr>\n",
       "      <th>Misc</th>\n",
       "      <td>62.82</td>\n",
       "    </tr>\n",
       "    <tr>\n",
       "      <th>Platform</th>\n",
       "      <td>42.63</td>\n",
       "    </tr>\n",
       "    <tr>\n",
       "      <th>Racing</th>\n",
       "      <td>39.89</td>\n",
       "    </tr>\n",
       "    <tr>\n",
       "      <th>Fighting</th>\n",
       "      <td>35.31</td>\n",
       "    </tr>\n",
       "    <tr>\n",
       "      <th>Adventure</th>\n",
       "      <td>23.64</td>\n",
       "    </tr>\n",
       "    <tr>\n",
       "      <th>Simulation</th>\n",
       "      <td>21.76</td>\n",
       "    </tr>\n",
       "    <tr>\n",
       "      <th>Strategy</th>\n",
       "      <td>10.08</td>\n",
       "    </tr>\n",
       "    <tr>\n",
       "      <th>Puzzle</th>\n",
       "      <td>3.17</td>\n",
       "    </tr>\n",
       "  </tbody>\n",
       "</table>\n",
       "</div>"
      ],
      "text/plain": [
       "              total_sales\n",
       "genre                    \n",
       "Action             321.87\n",
       "Shooter            232.98\n",
       "Sports             150.65\n",
       "Role-Playing       145.89\n",
       "Misc                62.82\n",
       "Platform            42.63\n",
       "Racing              39.89\n",
       "Fighting            35.31\n",
       "Adventure           23.64\n",
       "Simulation          21.76\n",
       "Strategy            10.08\n",
       "Puzzle               3.17"
      ]
     },
     "execution_count": 32,
     "metadata": {},
     "output_type": "execute_result"
    }
   ],
   "source": [
    "actual_data.pivot_table(index='genre', values='total_sales', aggfunc='sum').sort_values(by=[\"total_sales\"], ascending=False)"
   ]
  },
  {
   "cell_type": "markdown",
   "metadata": {},
   "source": [
    "<b><i>самые прибыльные жанры</i>:</b>\n",
    "<ul>\n",
    "    <li>Action</li>\n",
    "    <li>Shooter</li>\n",
    "    <li>Sports</li>\n",
    "    <li>Role-Playing</li>\n",
    "</ul><br>\n",
    "<b><i>жанры с самыми низкими продажами</i>:</b>\n",
    "<ul>\n",
    "    <li>Puzzle</li>\n",
    "    <li>Strategy</li>\n",
    "    <li>Simulation</li>\n",
    "</ul><br>\n",
    "<b>Жанры с самыми высокими и с самыми низкими продажами отличаются в 100 раз</b>"
   ]
  },
  {
   "cell_type": "markdown",
   "metadata": {},
   "source": [
    "## Портрет пользователя каждого региона"
   ]
  },
  {
   "cell_type": "markdown",
   "metadata": {},
   "source": [
    "регион <b>NA (Северная Америка)</b>"
   ]
  },
  {
   "cell_type": "code",
   "execution_count": 33,
   "metadata": {},
   "outputs": [
    {
     "data": {
      "text/html": [
       "<div>\n",
       "<style scoped>\n",
       "    .dataframe tbody tr th:only-of-type {\n",
       "        vertical-align: middle;\n",
       "    }\n",
       "\n",
       "    .dataframe tbody tr th {\n",
       "        vertical-align: top;\n",
       "    }\n",
       "\n",
       "    .dataframe thead th {\n",
       "        text-align: right;\n",
       "    }\n",
       "</style>\n",
       "<table border=\"1\" class=\"dataframe\">\n",
       "  <thead>\n",
       "    <tr style=\"text-align: right;\">\n",
       "      <th></th>\n",
       "      <th>na_sales</th>\n",
       "    </tr>\n",
       "    <tr>\n",
       "      <th>platform</th>\n",
       "      <th></th>\n",
       "    </tr>\n",
       "  </thead>\n",
       "  <tbody>\n",
       "    <tr>\n",
       "      <th>PSP</th>\n",
       "      <td>0.00</td>\n",
       "    </tr>\n",
       "    <tr>\n",
       "      <th>DS</th>\n",
       "      <td>0.57</td>\n",
       "    </tr>\n",
       "    <tr>\n",
       "      <th>PSV</th>\n",
       "      <td>5.04</td>\n",
       "    </tr>\n",
       "    <tr>\n",
       "      <th>Wii</th>\n",
       "      <td>6.56</td>\n",
       "    </tr>\n",
       "    <tr>\n",
       "      <th>PC</th>\n",
       "      <td>11.11</td>\n",
       "    </tr>\n",
       "    <tr>\n",
       "      <th>WiiU</th>\n",
       "      <td>29.21</td>\n",
       "    </tr>\n",
       "    <tr>\n",
       "      <th>3DS</th>\n",
       "      <td>38.20</td>\n",
       "    </tr>\n",
       "    <tr>\n",
       "      <th>PS3</th>\n",
       "      <td>63.50</td>\n",
       "    </tr>\n",
       "    <tr>\n",
       "      <th>X360</th>\n",
       "      <td>81.66</td>\n",
       "    </tr>\n",
       "    <tr>\n",
       "      <th>XOne</th>\n",
       "      <td>93.12</td>\n",
       "    </tr>\n",
       "    <tr>\n",
       "      <th>PS4</th>\n",
       "      <td>108.74</td>\n",
       "    </tr>\n",
       "  </tbody>\n",
       "</table>\n",
       "</div>"
      ],
      "text/plain": [
       "          na_sales\n",
       "platform          \n",
       "PSP           0.00\n",
       "DS            0.57\n",
       "PSV           5.04\n",
       "Wii           6.56\n",
       "PC           11.11\n",
       "WiiU         29.21\n",
       "3DS          38.20\n",
       "PS3          63.50\n",
       "X360         81.66\n",
       "XOne         93.12\n",
       "PS4         108.74"
      ]
     },
     "execution_count": 33,
     "metadata": {},
     "output_type": "execute_result"
    }
   ],
   "source": [
    "actual_data.pivot_table(index='platform', values='na_sales', aggfunc='sum').sort_values(by=[\"na_sales\"])"
   ]
  },
  {
   "cell_type": "markdown",
   "metadata": {},
   "source": [
    "<b><i>Самые популярные платформы (топ-5) в Северной Америке</i>:</b>\n",
    "<ul>\n",
    "    <li><b>PS4</b> - 108.74</li>\n",
    "    <li><b>XOne</b> - 93.12</li>\n",
    "    <li><b>X360</b>\t- 81.66</li>\n",
    "    <li><b>PS3</b> - 63.50</li>\n",
    "     <li><b>3DS</b> - 38.20</li>\n",
    "</ul><br>"
   ]
  },
  {
   "cell_type": "code",
   "execution_count": 34,
   "metadata": {},
   "outputs": [
    {
     "data": {
      "text/html": [
       "<div>\n",
       "<style scoped>\n",
       "    .dataframe tbody tr th:only-of-type {\n",
       "        vertical-align: middle;\n",
       "    }\n",
       "\n",
       "    .dataframe tbody tr th {\n",
       "        vertical-align: top;\n",
       "    }\n",
       "\n",
       "    .dataframe thead th {\n",
       "        text-align: right;\n",
       "    }\n",
       "</style>\n",
       "<table border=\"1\" class=\"dataframe\">\n",
       "  <thead>\n",
       "    <tr style=\"text-align: right;\">\n",
       "      <th></th>\n",
       "      <th>na_sales</th>\n",
       "    </tr>\n",
       "    <tr>\n",
       "      <th>genre</th>\n",
       "      <th></th>\n",
       "    </tr>\n",
       "  </thead>\n",
       "  <tbody>\n",
       "    <tr>\n",
       "      <th>Puzzle</th>\n",
       "      <td>0.83</td>\n",
       "    </tr>\n",
       "    <tr>\n",
       "      <th>Strategy</th>\n",
       "      <td>3.28</td>\n",
       "    </tr>\n",
       "    <tr>\n",
       "      <th>Simulation</th>\n",
       "      <td>4.86</td>\n",
       "    </tr>\n",
       "    <tr>\n",
       "      <th>Adventure</th>\n",
       "      <td>7.14</td>\n",
       "    </tr>\n",
       "    <tr>\n",
       "      <th>Racing</th>\n",
       "      <td>12.96</td>\n",
       "    </tr>\n",
       "    <tr>\n",
       "      <th>Fighting</th>\n",
       "      <td>15.55</td>\n",
       "    </tr>\n",
       "    <tr>\n",
       "      <th>Platform</th>\n",
       "      <td>18.14</td>\n",
       "    </tr>\n",
       "    <tr>\n",
       "      <th>Misc</th>\n",
       "      <td>27.49</td>\n",
       "    </tr>\n",
       "    <tr>\n",
       "      <th>Role-Playing</th>\n",
       "      <td>46.40</td>\n",
       "    </tr>\n",
       "    <tr>\n",
       "      <th>Sports</th>\n",
       "      <td>65.27</td>\n",
       "    </tr>\n",
       "    <tr>\n",
       "      <th>Shooter</th>\n",
       "      <td>109.74</td>\n",
       "    </tr>\n",
       "    <tr>\n",
       "      <th>Action</th>\n",
       "      <td>126.05</td>\n",
       "    </tr>\n",
       "  </tbody>\n",
       "</table>\n",
       "</div>"
      ],
      "text/plain": [
       "              na_sales\n",
       "genre                 \n",
       "Puzzle            0.83\n",
       "Strategy          3.28\n",
       "Simulation        4.86\n",
       "Adventure         7.14\n",
       "Racing           12.96\n",
       "Fighting         15.55\n",
       "Platform         18.14\n",
       "Misc             27.49\n",
       "Role-Playing     46.40\n",
       "Sports           65.27\n",
       "Shooter         109.74\n",
       "Action          126.05"
      ]
     },
     "execution_count": 34,
     "metadata": {},
     "output_type": "execute_result"
    }
   ],
   "source": [
    "actual_data.pivot_table(index='genre', values='na_sales', aggfunc='sum').sort_values(by=[\"na_sales\"])"
   ]
  },
  {
   "cell_type": "markdown",
   "metadata": {},
   "source": [
    "<b><i>Самые популярные жанры (топ-5) в Северной Америке</i>:</b>\n",
    "<ul>\n",
    "    <li><b>Action</b> - 126.05</li>\n",
    "    <li><b>Shooter</b> - 109.74</li>\n",
    "    <li><b>Sports</b>\t- 65.27</li>\n",
    "    <li><b>Role-Playing</b> - 46.40</li>\n",
    "     <li><b>Misc</b> - 27.49</li>\n",
    "</ul><br>"
   ]
  },
  {
   "cell_type": "code",
   "execution_count": 35,
   "metadata": {},
   "outputs": [
    {
     "data": {
      "text/html": [
       "<div>\n",
       "<style scoped>\n",
       "    .dataframe tbody tr th:only-of-type {\n",
       "        vertical-align: middle;\n",
       "    }\n",
       "\n",
       "    .dataframe tbody tr th {\n",
       "        vertical-align: top;\n",
       "    }\n",
       "\n",
       "    .dataframe thead th {\n",
       "        text-align: right;\n",
       "    }\n",
       "</style>\n",
       "<table border=\"1\" class=\"dataframe\">\n",
       "  <thead>\n",
       "    <tr style=\"text-align: right;\">\n",
       "      <th></th>\n",
       "      <th>na_sales</th>\n",
       "    </tr>\n",
       "    <tr>\n",
       "      <th>rating</th>\n",
       "      <th></th>\n",
       "    </tr>\n",
       "  </thead>\n",
       "  <tbody>\n",
       "    <tr>\n",
       "      <th>T</th>\n",
       "      <td>49.79</td>\n",
       "    </tr>\n",
       "    <tr>\n",
       "      <th>E10+</th>\n",
       "      <td>54.24</td>\n",
       "    </tr>\n",
       "    <tr>\n",
       "      <th>E</th>\n",
       "      <td>79.05</td>\n",
       "    </tr>\n",
       "    <tr>\n",
       "      <th>RP</th>\n",
       "      <td>89.42</td>\n",
       "    </tr>\n",
       "    <tr>\n",
       "      <th>M</th>\n",
       "      <td>165.21</td>\n",
       "    </tr>\n",
       "  </tbody>\n",
       "</table>\n",
       "</div>"
      ],
      "text/plain": [
       "        na_sales\n",
       "rating          \n",
       "T          49.79\n",
       "E10+       54.24\n",
       "E          79.05\n",
       "RP         89.42\n",
       "M         165.21"
      ]
     },
     "execution_count": 35,
     "metadata": {},
     "output_type": "execute_result"
    }
   ],
   "source": [
    "actual_data.pivot_table(index='rating', values='na_sales', aggfunc='sum').sort_values(by=[\"na_sales\"])"
   ]
  },
  {
   "cell_type": "markdown",
   "metadata": {},
   "source": [
    "<b><i>Самые высокие продажи в Северной Америке у  рейтинга ESRB </i>:</b>\n",
    "<ul>\n",
    "    <li><b>M</b> - 165.21</li>\n",
    "    <li><b>RP</b> - 89.42</li>\n",
    "    <li><b>E</b>\t- 79.05</li>\n",
    "    <li><b>E10+</b> - 54.24</li>\n",
    "     <li><b>T</b> - 49.79</li>\n",
    "</ul><br>\n",
    "Жанры игр с рейтингом <b>M</b> имеют самую большую сумму продаж, очевидно, из-за того, что охватывают  большую категорию пользователей (M - 17 лет и старше)\n",
    "Жанр <b>RP</b> по той же причине, окончательный рентинг не присвоен, поэтому так же аудитория будет максимально большой"
   ]
  },
  {
   "cell_type": "markdown",
   "metadata": {},
   "source": [
    "регион <b>EU (Европа)</b>"
   ]
  },
  {
   "cell_type": "code",
   "execution_count": 36,
   "metadata": {},
   "outputs": [
    {
     "data": {
      "text/html": [
       "<div>\n",
       "<style scoped>\n",
       "    .dataframe tbody tr th:only-of-type {\n",
       "        vertical-align: middle;\n",
       "    }\n",
       "\n",
       "    .dataframe tbody tr th {\n",
       "        vertical-align: top;\n",
       "    }\n",
       "\n",
       "    .dataframe thead th {\n",
       "        text-align: right;\n",
       "    }\n",
       "</style>\n",
       "<table border=\"1\" class=\"dataframe\">\n",
       "  <thead>\n",
       "    <tr style=\"text-align: right;\">\n",
       "      <th></th>\n",
       "      <th>eu_sales</th>\n",
       "    </tr>\n",
       "    <tr>\n",
       "      <th>platform</th>\n",
       "      <th></th>\n",
       "    </tr>\n",
       "  </thead>\n",
       "  <tbody>\n",
       "    <tr>\n",
       "      <th>PSP</th>\n",
       "      <td>0.17</td>\n",
       "    </tr>\n",
       "    <tr>\n",
       "      <th>DS</th>\n",
       "      <td>0.85</td>\n",
       "    </tr>\n",
       "    <tr>\n",
       "      <th>Wii</th>\n",
       "      <td>5.93</td>\n",
       "    </tr>\n",
       "    <tr>\n",
       "      <th>PSV</th>\n",
       "      <td>6.10</td>\n",
       "    </tr>\n",
       "    <tr>\n",
       "      <th>WiiU</th>\n",
       "      <td>19.85</td>\n",
       "    </tr>\n",
       "    <tr>\n",
       "      <th>PC</th>\n",
       "      <td>25.36</td>\n",
       "    </tr>\n",
       "    <tr>\n",
       "      <th>3DS</th>\n",
       "      <td>30.96</td>\n",
       "    </tr>\n",
       "    <tr>\n",
       "      <th>X360</th>\n",
       "      <td>42.52</td>\n",
       "    </tr>\n",
       "    <tr>\n",
       "      <th>XOne</th>\n",
       "      <td>51.59</td>\n",
       "    </tr>\n",
       "    <tr>\n",
       "      <th>PS3</th>\n",
       "      <td>67.81</td>\n",
       "    </tr>\n",
       "    <tr>\n",
       "      <th>PS4</th>\n",
       "      <td>141.09</td>\n",
       "    </tr>\n",
       "  </tbody>\n",
       "</table>\n",
       "</div>"
      ],
      "text/plain": [
       "          eu_sales\n",
       "platform          \n",
       "PSP           0.17\n",
       "DS            0.85\n",
       "Wii           5.93\n",
       "PSV           6.10\n",
       "WiiU         19.85\n",
       "PC           25.36\n",
       "3DS          30.96\n",
       "X360         42.52\n",
       "XOne         51.59\n",
       "PS3          67.81\n",
       "PS4         141.09"
      ]
     },
     "execution_count": 36,
     "metadata": {},
     "output_type": "execute_result"
    }
   ],
   "source": [
    "actual_data.pivot_table(index='platform', values='eu_sales', aggfunc='sum').sort_values(by=[\"eu_sales\"])"
   ]
  },
  {
   "cell_type": "markdown",
   "metadata": {},
   "source": [
    "<b><i>Самые популярные платформы (топ-5) в Европе</i>:</b>\n",
    "<ul>\n",
    "    <li><b>PS4</b> - 141.09</li>\n",
    "    <li><b>PS3</b> - 67.81</li>\n",
    "    <li><b>XOne</b>\t- 51.59</li>\n",
    "    <li><b>X360</b> - 42.52</li>\n",
    "     <li><b>3DS</b> - 30.96</li>\n",
    "</ul><br>"
   ]
  },
  {
   "cell_type": "code",
   "execution_count": 37,
   "metadata": {},
   "outputs": [
    {
     "data": {
      "text/html": [
       "<div>\n",
       "<style scoped>\n",
       "    .dataframe tbody tr th:only-of-type {\n",
       "        vertical-align: middle;\n",
       "    }\n",
       "\n",
       "    .dataframe tbody tr th {\n",
       "        vertical-align: top;\n",
       "    }\n",
       "\n",
       "    .dataframe thead th {\n",
       "        text-align: right;\n",
       "    }\n",
       "</style>\n",
       "<table border=\"1\" class=\"dataframe\">\n",
       "  <thead>\n",
       "    <tr style=\"text-align: right;\">\n",
       "      <th></th>\n",
       "      <th>eu_sales</th>\n",
       "    </tr>\n",
       "    <tr>\n",
       "      <th>genre</th>\n",
       "      <th></th>\n",
       "    </tr>\n",
       "  </thead>\n",
       "  <tbody>\n",
       "    <tr>\n",
       "      <th>Puzzle</th>\n",
       "      <td>1.00</td>\n",
       "    </tr>\n",
       "    <tr>\n",
       "      <th>Strategy</th>\n",
       "      <td>4.22</td>\n",
       "    </tr>\n",
       "    <tr>\n",
       "      <th>Adventure</th>\n",
       "      <td>8.25</td>\n",
       "    </tr>\n",
       "    <tr>\n",
       "      <th>Fighting</th>\n",
       "      <td>8.55</td>\n",
       "    </tr>\n",
       "    <tr>\n",
       "      <th>Simulation</th>\n",
       "      <td>10.92</td>\n",
       "    </tr>\n",
       "    <tr>\n",
       "      <th>Platform</th>\n",
       "      <td>15.58</td>\n",
       "    </tr>\n",
       "    <tr>\n",
       "      <th>Misc</th>\n",
       "      <td>20.04</td>\n",
       "    </tr>\n",
       "    <tr>\n",
       "      <th>Racing</th>\n",
       "      <td>20.19</td>\n",
       "    </tr>\n",
       "    <tr>\n",
       "      <th>Role-Playing</th>\n",
       "      <td>36.97</td>\n",
       "    </tr>\n",
       "    <tr>\n",
       "      <th>Sports</th>\n",
       "      <td>60.52</td>\n",
       "    </tr>\n",
       "    <tr>\n",
       "      <th>Shooter</th>\n",
       "      <td>87.86</td>\n",
       "    </tr>\n",
       "    <tr>\n",
       "      <th>Action</th>\n",
       "      <td>118.13</td>\n",
       "    </tr>\n",
       "  </tbody>\n",
       "</table>\n",
       "</div>"
      ],
      "text/plain": [
       "              eu_sales\n",
       "genre                 \n",
       "Puzzle            1.00\n",
       "Strategy          4.22\n",
       "Adventure         8.25\n",
       "Fighting          8.55\n",
       "Simulation       10.92\n",
       "Platform         15.58\n",
       "Misc             20.04\n",
       "Racing           20.19\n",
       "Role-Playing     36.97\n",
       "Sports           60.52\n",
       "Shooter          87.86\n",
       "Action          118.13"
      ]
     },
     "execution_count": 37,
     "metadata": {},
     "output_type": "execute_result"
    }
   ],
   "source": [
    "actual_data.pivot_table(index='genre', values='eu_sales', aggfunc='sum').sort_values(by=[\"eu_sales\"])"
   ]
  },
  {
   "cell_type": "markdown",
   "metadata": {},
   "source": [
    "<b><i>Самые популярные жанры (топ-5) в Европе</i>:</b>\n",
    "<ul>\n",
    "    <li><b>Action</b> - 118.13</li>\n",
    "    <li><b>Shooter</b> - 87.86</li>\n",
    "    <li><b>Sports</b> - 60.52</li>\n",
    "    <li><b>Role-Playing</b> - 36.97</li>\n",
    "     <li><b>Racing</b> - 20.19</li>\n",
    "</ul><br>"
   ]
  },
  {
   "cell_type": "code",
   "execution_count": 38,
   "metadata": {},
   "outputs": [
    {
     "data": {
      "text/html": [
       "<div>\n",
       "<style scoped>\n",
       "    .dataframe tbody tr th:only-of-type {\n",
       "        vertical-align: middle;\n",
       "    }\n",
       "\n",
       "    .dataframe tbody tr th {\n",
       "        vertical-align: top;\n",
       "    }\n",
       "\n",
       "    .dataframe thead th {\n",
       "        text-align: right;\n",
       "    }\n",
       "</style>\n",
       "<table border=\"1\" class=\"dataframe\">\n",
       "  <thead>\n",
       "    <tr style=\"text-align: right;\">\n",
       "      <th></th>\n",
       "      <th>eu_sales</th>\n",
       "    </tr>\n",
       "    <tr>\n",
       "      <th>rating</th>\n",
       "      <th></th>\n",
       "    </tr>\n",
       "  </thead>\n",
       "  <tbody>\n",
       "    <tr>\n",
       "      <th>T</th>\n",
       "      <td>41.95</td>\n",
       "    </tr>\n",
       "    <tr>\n",
       "      <th>E10+</th>\n",
       "      <td>42.69</td>\n",
       "    </tr>\n",
       "    <tr>\n",
       "      <th>RP</th>\n",
       "      <td>78.91</td>\n",
       "    </tr>\n",
       "    <tr>\n",
       "      <th>E</th>\n",
       "      <td>83.36</td>\n",
       "    </tr>\n",
       "    <tr>\n",
       "      <th>M</th>\n",
       "      <td>145.32</td>\n",
       "    </tr>\n",
       "  </tbody>\n",
       "</table>\n",
       "</div>"
      ],
      "text/plain": [
       "        eu_sales\n",
       "rating          \n",
       "T          41.95\n",
       "E10+       42.69\n",
       "RP         78.91\n",
       "E          83.36\n",
       "M         145.32"
      ]
     },
     "execution_count": 38,
     "metadata": {},
     "output_type": "execute_result"
    }
   ],
   "source": [
    "actual_data.pivot_table(index='rating', values='eu_sales', aggfunc='sum').sort_values(by=[\"eu_sales\"])"
   ]
  },
  {
   "cell_type": "markdown",
   "metadata": {},
   "source": [
    "<b><i>Самые высокие продажи в Европе у  рейтинга ESRB </i>:</b>\n",
    "<ul>\n",
    "    <li><b>M</b> - 145.32</li>\n",
    "    <li><b>E</b> - 83.36</li>\n",
    "    <li><b>RP</b>\t- 78.91</li>\n",
    "    <li><b>E10+</b> - 42.69</li>\n",
    "     <li><b>T</b> - 41.95</li>\n",
    "</ul><br>\n",
    "Жанры игр с рейтингом <b>M</b> имеют самую большую сумму продаж, очевидно, из-за того, что охватывают  большую категорию пользователей (M - 17 лет и старше)\n",
    "Жанр <b>Е</b> по той же причине, охватывает все возрасты, поэтому так же аудитория будет максимально большой"
   ]
  },
  {
   "cell_type": "markdown",
   "metadata": {},
   "source": [
    "регион <b>JP (Япония)</b>"
   ]
  },
  {
   "cell_type": "code",
   "execution_count": 39,
   "metadata": {},
   "outputs": [
    {
     "data": {
      "text/html": [
       "<div>\n",
       "<style scoped>\n",
       "    .dataframe tbody tr th:only-of-type {\n",
       "        vertical-align: middle;\n",
       "    }\n",
       "\n",
       "    .dataframe tbody tr th {\n",
       "        vertical-align: top;\n",
       "    }\n",
       "\n",
       "    .dataframe thead th {\n",
       "        text-align: right;\n",
       "    }\n",
       "</style>\n",
       "<table border=\"1\" class=\"dataframe\">\n",
       "  <thead>\n",
       "    <tr style=\"text-align: right;\">\n",
       "      <th></th>\n",
       "      <th>jp_sales</th>\n",
       "    </tr>\n",
       "    <tr>\n",
       "      <th>platform</th>\n",
       "      <th></th>\n",
       "    </tr>\n",
       "  </thead>\n",
       "  <tbody>\n",
       "    <tr>\n",
       "      <th>DS</th>\n",
       "      <td>0.00</td>\n",
       "    </tr>\n",
       "    <tr>\n",
       "      <th>PC</th>\n",
       "      <td>0.00</td>\n",
       "    </tr>\n",
       "    <tr>\n",
       "      <th>Wii</th>\n",
       "      <td>0.05</td>\n",
       "    </tr>\n",
       "    <tr>\n",
       "      <th>XOne</th>\n",
       "      <td>0.34</td>\n",
       "    </tr>\n",
       "    <tr>\n",
       "      <th>X360</th>\n",
       "      <td>0.51</td>\n",
       "    </tr>\n",
       "    <tr>\n",
       "      <th>PSP</th>\n",
       "      <td>3.29</td>\n",
       "    </tr>\n",
       "    <tr>\n",
       "      <th>WiiU</th>\n",
       "      <td>10.88</td>\n",
       "    </tr>\n",
       "    <tr>\n",
       "      <th>PS4</th>\n",
       "      <td>15.96</td>\n",
       "    </tr>\n",
       "    <tr>\n",
       "      <th>PSV</th>\n",
       "      <td>18.59</td>\n",
       "    </tr>\n",
       "    <tr>\n",
       "      <th>PS3</th>\n",
       "      <td>23.35</td>\n",
       "    </tr>\n",
       "    <tr>\n",
       "      <th>3DS</th>\n",
       "      <td>67.81</td>\n",
       "    </tr>\n",
       "  </tbody>\n",
       "</table>\n",
       "</div>"
      ],
      "text/plain": [
       "          jp_sales\n",
       "platform          \n",
       "DS            0.00\n",
       "PC            0.00\n",
       "Wii           0.05\n",
       "XOne          0.34\n",
       "X360          0.51\n",
       "PSP           3.29\n",
       "WiiU         10.88\n",
       "PS4          15.96\n",
       "PSV          18.59\n",
       "PS3          23.35\n",
       "3DS          67.81"
      ]
     },
     "execution_count": 39,
     "metadata": {},
     "output_type": "execute_result"
    }
   ],
   "source": [
    "actual_data.pivot_table(index='platform', values='jp_sales', aggfunc='sum').sort_values(by=[\"jp_sales\"])"
   ]
  },
  {
   "cell_type": "markdown",
   "metadata": {},
   "source": [
    "<b><i>Самые популярные платформы (топ-5) в Японии</i>:</b>\n",
    "<ul>\n",
    "    <li><b>3DS</b> - 67.81</li>\n",
    "    <li><b>PS3</b> - 23.35</li>\n",
    "    <li><b>PSV</b>\t- 18.59</li>\n",
    "    <li><b>PS4</b> - 15.96</li>\n",
    "     <li><b>WiiU</b> - 10.88</li>\n",
    "</ul><br>"
   ]
  },
  {
   "cell_type": "code",
   "execution_count": 40,
   "metadata": {},
   "outputs": [
    {
     "data": {
      "text/html": [
       "<div>\n",
       "<style scoped>\n",
       "    .dataframe tbody tr th:only-of-type {\n",
       "        vertical-align: middle;\n",
       "    }\n",
       "\n",
       "    .dataframe tbody tr th {\n",
       "        vertical-align: top;\n",
       "    }\n",
       "\n",
       "    .dataframe thead th {\n",
       "        text-align: right;\n",
       "    }\n",
       "</style>\n",
       "<table border=\"1\" class=\"dataframe\">\n",
       "  <thead>\n",
       "    <tr style=\"text-align: right;\">\n",
       "      <th></th>\n",
       "      <th>jp_sales</th>\n",
       "    </tr>\n",
       "    <tr>\n",
       "      <th>genre</th>\n",
       "      <th></th>\n",
       "    </tr>\n",
       "  </thead>\n",
       "  <tbody>\n",
       "    <tr>\n",
       "      <th>Puzzle</th>\n",
       "      <td>1.18</td>\n",
       "    </tr>\n",
       "    <tr>\n",
       "      <th>Strategy</th>\n",
       "      <td>1.77</td>\n",
       "    </tr>\n",
       "    <tr>\n",
       "      <th>Racing</th>\n",
       "      <td>2.30</td>\n",
       "    </tr>\n",
       "    <tr>\n",
       "      <th>Simulation</th>\n",
       "      <td>4.52</td>\n",
       "    </tr>\n",
       "    <tr>\n",
       "      <th>Platform</th>\n",
       "      <td>4.79</td>\n",
       "    </tr>\n",
       "    <tr>\n",
       "      <th>Sports</th>\n",
       "      <td>5.41</td>\n",
       "    </tr>\n",
       "    <tr>\n",
       "      <th>Adventure</th>\n",
       "      <td>5.82</td>\n",
       "    </tr>\n",
       "    <tr>\n",
       "      <th>Shooter</th>\n",
       "      <td>6.61</td>\n",
       "    </tr>\n",
       "    <tr>\n",
       "      <th>Fighting</th>\n",
       "      <td>7.65</td>\n",
       "    </tr>\n",
       "    <tr>\n",
       "      <th>Misc</th>\n",
       "      <td>9.20</td>\n",
       "    </tr>\n",
       "    <tr>\n",
       "      <th>Action</th>\n",
       "      <td>40.49</td>\n",
       "    </tr>\n",
       "    <tr>\n",
       "      <th>Role-Playing</th>\n",
       "      <td>51.04</td>\n",
       "    </tr>\n",
       "  </tbody>\n",
       "</table>\n",
       "</div>"
      ],
      "text/plain": [
       "              jp_sales\n",
       "genre                 \n",
       "Puzzle            1.18\n",
       "Strategy          1.77\n",
       "Racing            2.30\n",
       "Simulation        4.52\n",
       "Platform          4.79\n",
       "Sports            5.41\n",
       "Adventure         5.82\n",
       "Shooter           6.61\n",
       "Fighting          7.65\n",
       "Misc              9.20\n",
       "Action           40.49\n",
       "Role-Playing     51.04"
      ]
     },
     "execution_count": 40,
     "metadata": {},
     "output_type": "execute_result"
    }
   ],
   "source": [
    "actual_data.pivot_table(index='genre', values='jp_sales', aggfunc='sum').sort_values(by=[\"jp_sales\"])"
   ]
  },
  {
   "cell_type": "markdown",
   "metadata": {},
   "source": [
    "<b><i>Самые популярные жанры (топ-5) в Японии</i>:</b>\n",
    "<ul>\n",
    "    <li><b>Role-Playing</b> - 10.88</li>\n",
    "    <li><b>Action</b> - 40.49</li>\n",
    "    <li><b>Misc</b>\t- 9.20</li>\n",
    "    <li><b>Fighting</b> - 7.65</li>\n",
    "     <li><b>Shooter</b> - 6.61</li>\n",
    "</ul><br>"
   ]
  },
  {
   "cell_type": "code",
   "execution_count": 41,
   "metadata": {},
   "outputs": [
    {
     "data": {
      "text/html": [
       "<div>\n",
       "<style scoped>\n",
       "    .dataframe tbody tr th:only-of-type {\n",
       "        vertical-align: middle;\n",
       "    }\n",
       "\n",
       "    .dataframe tbody tr th {\n",
       "        vertical-align: top;\n",
       "    }\n",
       "\n",
       "    .dataframe thead th {\n",
       "        text-align: right;\n",
       "    }\n",
       "</style>\n",
       "<table border=\"1\" class=\"dataframe\">\n",
       "  <thead>\n",
       "    <tr style=\"text-align: right;\">\n",
       "      <th></th>\n",
       "      <th>jp_sales</th>\n",
       "    </tr>\n",
       "    <tr>\n",
       "      <th>rating</th>\n",
       "      <th></th>\n",
       "    </tr>\n",
       "  </thead>\n",
       "  <tbody>\n",
       "    <tr>\n",
       "      <th>E10+</th>\n",
       "      <td>5.89</td>\n",
       "    </tr>\n",
       "    <tr>\n",
       "      <th>M</th>\n",
       "      <td>14.11</td>\n",
       "    </tr>\n",
       "    <tr>\n",
       "      <th>E</th>\n",
       "      <td>15.14</td>\n",
       "    </tr>\n",
       "    <tr>\n",
       "      <th>T</th>\n",
       "      <td>20.59</td>\n",
       "    </tr>\n",
       "    <tr>\n",
       "      <th>RP</th>\n",
       "      <td>85.05</td>\n",
       "    </tr>\n",
       "  </tbody>\n",
       "</table>\n",
       "</div>"
      ],
      "text/plain": [
       "        jp_sales\n",
       "rating          \n",
       "E10+        5.89\n",
       "M          14.11\n",
       "E          15.14\n",
       "T          20.59\n",
       "RP         85.05"
      ]
     },
     "execution_count": 41,
     "metadata": {},
     "output_type": "execute_result"
    }
   ],
   "source": [
    "actual_data.pivot_table(index='rating', values='jp_sales', aggfunc='sum').sort_values(by=[\"jp_sales\"])"
   ]
  },
  {
   "cell_type": "markdown",
   "metadata": {},
   "source": [
    "<b><i>Самые высокие продажи в Японии у  рейтинга ESRB </i>:</b>\n",
    "<ul>\n",
    "    <li><b>RP</b> - 85.05</li>\n",
    "    <li><b>T</b> - 20.59</li>\n",
    "    <li><b>E</b> - 15.14</li>\n",
    "    <li><b>M</b> - 14.11</li>\n",
    "     <li><b>E10+</b> - 5.89</li>\n",
    "</ul><br>\n",
    "Жанры игр с рейтингом <b>RP</b> имеют самую большую сумму продаж, очевидно, из-за того, что окончательный рентинг не присвоен, поэтому аудитория будет большой<br>\n",
    "Жанр <b>T</b> 13 лет и старше"
   ]
  },
  {
   "cell_type": "markdown",
   "metadata": {},
   "source": [
    "<b>Общий вывод по заданию:</b>"
   ]
  },
  {
   "cell_type": "markdown",
   "metadata": {},
   "source": [
    "\n",
    "<div style=\"border:solid green 2px; padding: 20px\">\n",
    "<b><i>Самые популярные платформы во всех трех регионах</i>:</b><br>\n",
    "    <br>\n",
    "<table style=\"width:70%\">\n",
    "  <tr>\n",
    "    <th>Название платформы</th>\n",
    "    <th>Топ 5 по региону Северная Америка</th>\n",
    "    <th>Топ 5 по региону Европа</th>\n",
    "     <th>Топ 5 по региону Япония</th>\n",
    "  </tr>\n",
    "  <tr>\n",
    "     <td>PS4</td>\n",
    "    <td>+</td>\n",
    "    <td>+</td>\n",
    "      <td>+</td>\n",
    "  </tr>\n",
    "  <tr>\n",
    "    <td>Xone</td>\n",
    "    <td>+</td>\n",
    "    <td>+</td>\n",
    "      <td>-</td>\n",
    "  </tr>\n",
    "  <tr>\n",
    "    <td>X360</td>\n",
    "    <td>+</td>\n",
    "    <td>+</td>\n",
    "      <td>-</td>\n",
    "  </tr>\n",
    "   <tr>\n",
    "     <td>PS3</td>\n",
    "    <td>+</td>\n",
    "    <td>+</td>\n",
    "       <td>+</td>\n",
    "  </tr>\n",
    "       <tr>\n",
    "    <td>3DS</td>\n",
    "    <td>+</td>\n",
    "    <td>+</td>\n",
    "    <td>+</td>\n",
    "  </tr>\n",
    "  <tr>\n",
    "    <td>PSV</td>\n",
    "    <td>-</td>\n",
    "    <td>-</td>\n",
    "      <td>+</td>\n",
    "    </tr>\n",
    "      <tr>\n",
    "    <td>WiiU</td>\n",
    "    <td>-</td>\n",
    "    <td>-</td>\n",
    "    <td>+</td>\n",
    "  </tr>\n",
    "</table> \n",
    "<br>\n",
    "    <b><i>Самые популярные жанры во всех трех регионах</i>:</b><br>\n",
    "    <table style=\"width:70%\">\n",
    "  <tr>\n",
    "    <th>Название жанра</th>\n",
    "    <th>Топ 5 по региону Северная Америка</th>\n",
    "    <th>Топ 5 по региону Европа</th>\n",
    "     <th>Топ 5 по региону Япония</th>\n",
    "  </tr>\n",
    "  <tr>\n",
    "     <td>Action</td>\n",
    "    <td>+</td>\n",
    "    <td>-</td>\n",
    "      <td>+</td>\n",
    "  </tr>\n",
    "  <tr>\n",
    "    <td>Sports</td>\n",
    "    <td>+</td>\n",
    "    <td>+</td>\n",
    "      <td>-</td>\n",
    "  </tr>\n",
    "  <tr>\n",
    "    <td>Shooter</td>\n",
    "    <td>+</td>\n",
    "    <td>+</td>\n",
    "      <td>+</td>\n",
    "  </tr>\n",
    "   <tr>\n",
    "     <td>Fighting</td>\n",
    "    <td>-</td>\n",
    "    <td>-</td>\n",
    "       <td>+</td>\n",
    "  </tr>\n",
    "       <tr>\n",
    "    <td>Misk</td>\n",
    "    <td>+</td>\n",
    "    <td>+</td>\n",
    "    <td>+</td>\n",
    "  </tr>\n",
    "  <tr>\n",
    "    <td>Racing</td>\n",
    "    <td>-</td>\n",
    "    <td>+</td>\n",
    "      <td>-</td>\n",
    "    </tr>\n",
    "      <tr>\n",
    "    <td>Role-Playing</td>\n",
    "    <td>+</td>\n",
    "    <td>+</td>\n",
    "    <td>+</td>\n",
    "  </tr>\n",
    "</table>\n",
    "    <br>\n",
    "   <b><i>Самые популярные рейтинги ESRB во всех трех регионах совпадают</i>:</b><br>\n",
    "    <ul>\n",
    "       <li><b>RP</b></li>\n",
    "    <li><b>E</b></li>\n",
    "    <li><b>T</b></li>\n",
    "    <li><b>M</b></li>\n",
    "     <li><b>E10+</b></li>\n",
    "    </ul>\n",
    "</div>"
   ]
  },
  {
   "cell_type": "markdown",
   "metadata": {},
   "source": [
    "Перед разработкой игры для получения от её продажи максимальной прибыли необходимо исходить из того, в каком регионе планируется ее реализовывать так как от этого напрямую зависит жанр и платформа. "
   ]
  },
  {
   "cell_type": "markdown",
   "metadata": {},
   "source": [
    "## Проверка гипотез"
   ]
  },
  {
   "cell_type": "markdown",
   "metadata": {},
   "source": [
    "Сравниваемые выборки ген совокупности не очень большие они без проблем помещаются в оперативную память компьютера, поэтому можно просто рассчитать их средние и сравнить между собой без всяких статистических тестов.\n",
    "Чем сейчас и займемся\t\t\n"
   ]
  },
  {
   "cell_type": "markdown",
   "metadata": {},
   "source": [
    "alpha = 0.05"
   ]
  },
  {
   "cell_type": "markdown",
   "metadata": {},
   "source": [
    "<b>Проверка 1</b><br>\n",
    "<b>Нулевая гипотеза:</b> средний пользовательский рейтинг платформ Xbox One и PC одинаковый<br>\n",
    "<b>Альтернативная гипотеза:</b> средний пользовательский рейтинг платформ Xbox One и PC не одинаковый"
   ]
  },
  {
   "cell_type": "code",
   "execution_count": 42,
   "metadata": {},
   "outputs": [
    {
     "data": {
      "text/plain": [
       "6.521428571428572"
      ]
     },
     "execution_count": 42,
     "metadata": {},
     "output_type": "execute_result"
    }
   ],
   "source": [
    "actual_data.query('user_score != 0 & platform == \"XOne\"')['user_score'].mean()"
   ]
  },
  {
   "cell_type": "code",
   "execution_count": 43,
   "metadata": {},
   "outputs": [
    {
     "data": {
      "text/plain": [
       "6.2696774193548395"
      ]
     },
     "execution_count": 43,
     "metadata": {},
     "output_type": "execute_result"
    }
   ],
   "source": [
    "actual_data.query('user_score != 0 & platform == \"PC\"')['user_score'].mean()"
   ]
  },
  {
   "cell_type": "code",
   "execution_count": 44,
   "metadata": {},
   "outputs": [
    {
     "name": "stdout",
     "output_type": "stream",
     "text": [
      "p-значение: 0.14012658403611647\n",
      "Не получилось отвергнуть нулевую гипотезу\n"
     ]
    }
   ],
   "source": [
    "alpha =  .05\n",
    "\n",
    "results = st.ttest_ind(\n",
    "    actual_data.query('user_score != 0 & platform == \"XOne\"')['user_score'], \n",
    "    actual_data.query('user_score != 0 & platform == \"PC\"')['user_score']) \n",
    "\n",
    "print('p-значение:', results.pvalue)\n",
    "\n",
    "if results.pvalue < alpha:\n",
    "    print(\"Отвергаем нулевую гипотезу\")\n",
    "\n",
    "else:\n",
    "    print(\"Не получилось отвергнуть нулевую гипотезу\")"
   ]
  },
  {
   "cell_type": "markdown",
   "metadata": {},
   "source": [
    "Отвергаем нулевую гипотезу, о том что пользовательский рейтинг платформ Xbox One и PC одинаковый"
   ]
  },
  {
   "cell_type": "markdown",
   "metadata": {},
   "source": [
    "<b>Проверка 2</b><br>\n",
    "<b>Нулевая гипотеза:</b> Средние пользовательские рейтинги жанров Action и Sports разные<br>\n",
    "<b>Альтернативная гипотеза:</b> Средние пользовательские рейтинги жанров Action и Sports не отличаются"
   ]
  },
  {
   "cell_type": "code",
   "execution_count": 45,
   "metadata": {},
   "outputs": [
    {
     "data": {
      "text/plain": [
       "6.837532133676092"
      ]
     },
     "execution_count": 45,
     "metadata": {},
     "output_type": "execute_result"
    }
   ],
   "source": [
    "actual_data.query('user_score != 0 & genre == \"Action\"')['user_score'].mean()"
   ]
  },
  {
   "cell_type": "code",
   "execution_count": 46,
   "metadata": {},
   "outputs": [
    {
     "data": {
      "text/plain": [
       "5.238124999999999"
      ]
     },
     "execution_count": 46,
     "metadata": {},
     "output_type": "execute_result"
    }
   ],
   "source": [
    "actual_data.query('user_score != 0 & genre == \"Sports\"')['user_score'].mean()"
   ]
  },
  {
   "cell_type": "code",
   "execution_count": 47,
   "metadata": {},
   "outputs": [
    {
     "name": "stdout",
     "output_type": "stream",
     "text": [
      "p-значение: 1.0517832389140023e-27\n",
      "Отвергаем нулевую гипотезу\n"
     ]
    }
   ],
   "source": [
    "alpha =  .05\n",
    "\n",
    "results = st.ttest_ind(\n",
    "    actual_data.query('user_score != 0 & genre == \"Action\"')['user_score'], \n",
    "    actual_data.query('user_score != 0 & genre == \"Sports\"')['user_score']) \n",
    "\n",
    "print('p-значение:', results.pvalue)\n",
    "\n",
    "if results.pvalue < alpha:\n",
    "    print(\"Отвергаем нулевую гипотезу\")\n",
    "\n",
    "else:\n",
    "    print(\"Не получилось отвергнуть нулевую гипотезу\")"
   ]
  },
  {
   "cell_type": "markdown",
   "metadata": {},
   "source": [
    "## Общий вывод"
   ]
  },
  {
   "cell_type": "markdown",
   "metadata": {},
   "source": [
    "Перед разработкой игры, перед запуском рекламной компании уже существующей игры, или для получения от её продажи максимальной прибыли необходимо исходить из того, в каком регионе планируется ее реализовывать так как от этого напрямую зависит жанр и платформа.<br><br>\n",
    "Во всех трех регионах популярны платформы PS4, PS3, 3DS.<br>\n",
    "Если планируется запуск игры только на регион Япония, то помимо вышеперечисленных популярны платформы WiiU, PSV.<br>\n",
    "В Европе и Северной Америке помимо вышеперечисленных - Xone, X360\n",
    "\n",
    "<br> Жанры: Во всех трех регионах наиболее прибыльные это Shooter, Role-Playing, Misk\t<br> Для Японии, помимо вышеперечисленных попелярны жанры Aciton и Fighting <br> Для Северной Америки Action, Sports <br> Для Европы - Racing и Sports"
   ]
  }
 ],
 "metadata": {
  "ExecuteTimeLog": [
   {
    "duration": 3,
    "start_time": "2022-05-31T10:02:07.824Z"
   },
   {
    "duration": 72,
    "start_time": "2022-05-31T10:02:33.850Z"
   },
   {
    "duration": 25,
    "start_time": "2022-05-31T10:04:39.188Z"
   },
   {
    "duration": 5,
    "start_time": "2022-05-31T10:07:26.591Z"
   },
   {
    "duration": 21,
    "start_time": "2022-05-31T10:07:32.057Z"
   },
   {
    "duration": 20,
    "start_time": "2022-05-31T10:09:05.145Z"
   },
   {
    "duration": 50,
    "start_time": "2022-05-31T10:09:46.118Z"
   },
   {
    "duration": 19,
    "start_time": "2022-05-31T10:30:57.523Z"
   },
   {
    "duration": 9,
    "start_time": "2022-05-31T10:31:50.628Z"
   },
   {
    "duration": 4,
    "start_time": "2022-05-31T10:32:31.664Z"
   },
   {
    "duration": 8,
    "start_time": "2022-05-31T10:32:32.685Z"
   },
   {
    "duration": 76,
    "start_time": "2022-05-31T10:35:02.488Z"
   },
   {
    "duration": 20,
    "start_time": "2022-05-31T10:35:59.425Z"
   },
   {
    "duration": 9,
    "start_time": "2022-05-31T10:36:22.091Z"
   },
   {
    "duration": 9,
    "start_time": "2022-05-31T13:36:32.297Z"
   },
   {
    "duration": 7,
    "start_time": "2022-05-31T13:36:42.180Z"
   },
   {
    "duration": 102,
    "start_time": "2022-05-31T13:46:24.240Z"
   },
   {
    "duration": 3,
    "start_time": "2022-05-31T13:46:59.976Z"
   },
   {
    "duration": 8,
    "start_time": "2022-05-31T13:47:05.191Z"
   },
   {
    "duration": 12,
    "start_time": "2022-05-31T13:47:34.322Z"
   },
   {
    "duration": 49,
    "start_time": "2022-05-31T13:48:49.749Z"
   },
   {
    "duration": 7,
    "start_time": "2022-05-31T13:54:57.924Z"
   },
   {
    "duration": 6,
    "start_time": "2022-05-31T13:55:00.964Z"
   },
   {
    "duration": 9,
    "start_time": "2022-05-31T13:55:21.780Z"
   },
   {
    "duration": 8,
    "start_time": "2022-05-31T13:55:36.482Z"
   },
   {
    "duration": 7,
    "start_time": "2022-05-31T13:56:49.174Z"
   },
   {
    "duration": 4,
    "start_time": "2022-05-31T13:58:13.240Z"
   },
   {
    "duration": 2505,
    "start_time": "2022-05-31T14:06:16.370Z"
   },
   {
    "duration": 9,
    "start_time": "2022-05-31T14:14:22.980Z"
   },
   {
    "duration": 7,
    "start_time": "2022-05-31T14:14:25.595Z"
   },
   {
    "duration": 11,
    "start_time": "2022-05-31T14:14:27.991Z"
   },
   {
    "duration": 4,
    "start_time": "2022-05-31T14:15:32.188Z"
   },
   {
    "duration": 7,
    "start_time": "2022-05-31T14:15:39.533Z"
   },
   {
    "duration": 9,
    "start_time": "2022-05-31T14:16:00.089Z"
   },
   {
    "duration": 13,
    "start_time": "2022-05-31T14:16:13.258Z"
   },
   {
    "duration": 50,
    "start_time": "2022-05-31T15:41:01.265Z"
   },
   {
    "duration": 8,
    "start_time": "2022-05-31T15:41:26.918Z"
   },
   {
    "duration": 812,
    "start_time": "2022-05-31T15:42:55.827Z"
   },
   {
    "duration": 8,
    "start_time": "2022-05-31T15:45:12.796Z"
   },
   {
    "duration": 7,
    "start_time": "2022-05-31T15:50:20.387Z"
   },
   {
    "duration": 2785,
    "start_time": "2022-05-31T15:54:03.314Z"
   },
   {
    "duration": 4,
    "start_time": "2022-05-31T15:54:59.416Z"
   },
   {
    "duration": 5,
    "start_time": "2022-05-31T15:55:51.903Z"
   },
   {
    "duration": 4,
    "start_time": "2022-05-31T15:56:07.432Z"
   },
   {
    "duration": 9,
    "start_time": "2022-05-31T15:56:10.482Z"
   },
   {
    "duration": 18,
    "start_time": "2022-05-31T15:56:34.601Z"
   },
   {
    "duration": 16,
    "start_time": "2022-05-31T15:56:48.044Z"
   },
   {
    "duration": 11,
    "start_time": "2022-05-31T15:58:17.979Z"
   },
   {
    "duration": 4,
    "start_time": "2022-05-31T16:00:50.081Z"
   },
   {
    "duration": 4,
    "start_time": "2022-05-31T16:01:04.642Z"
   },
   {
    "duration": 17,
    "start_time": "2022-05-31T16:01:30.218Z"
   },
   {
    "duration": 7,
    "start_time": "2022-05-31T16:02:11.563Z"
   },
   {
    "duration": 5,
    "start_time": "2022-05-31T16:02:15.342Z"
   },
   {
    "duration": 12,
    "start_time": "2022-05-31T16:02:19.341Z"
   },
   {
    "duration": 12,
    "start_time": "2022-05-31T16:07:16.191Z"
   },
   {
    "duration": 311,
    "start_time": "2022-05-31T16:08:34.887Z"
   },
   {
    "duration": 12,
    "start_time": "2022-05-31T16:08:37.728Z"
   },
   {
    "duration": 15,
    "start_time": "2022-05-31T16:12:57.048Z"
   },
   {
    "duration": 18,
    "start_time": "2022-05-31T16:13:48.713Z"
   },
   {
    "duration": 24,
    "start_time": "2022-05-31T16:15:04.158Z"
   },
   {
    "duration": 20,
    "start_time": "2022-05-31T16:15:28.134Z"
   },
   {
    "duration": 10,
    "start_time": "2022-05-31T16:15:35.097Z"
   },
   {
    "duration": 9,
    "start_time": "2022-05-31T16:15:40.400Z"
   },
   {
    "duration": 8,
    "start_time": "2022-05-31T16:15:48.154Z"
   },
   {
    "duration": 1648,
    "start_time": "2022-06-01T15:57:47.473Z"
   },
   {
    "duration": 122,
    "start_time": "2022-06-01T15:57:49.123Z"
   },
   {
    "duration": 6,
    "start_time": "2022-06-01T15:57:49.248Z"
   },
   {
    "duration": 24,
    "start_time": "2022-06-01T15:57:49.256Z"
   },
   {
    "duration": 8,
    "start_time": "2022-06-01T15:57:49.282Z"
   },
   {
    "duration": 48,
    "start_time": "2022-06-01T15:57:49.291Z"
   },
   {
    "duration": 3,
    "start_time": "2022-06-01T15:57:49.341Z"
   },
   {
    "duration": 9,
    "start_time": "2022-06-01T15:57:49.346Z"
   },
   {
    "duration": 8,
    "start_time": "2022-06-01T15:57:49.357Z"
   },
   {
    "duration": 8,
    "start_time": "2022-06-01T15:57:49.367Z"
   },
   {
    "duration": 5,
    "start_time": "2022-06-01T15:57:49.376Z"
   },
   {
    "duration": 7,
    "start_time": "2022-06-01T15:57:49.382Z"
   },
   {
    "duration": 5,
    "start_time": "2022-06-01T15:57:49.391Z"
   },
   {
    "duration": 32,
    "start_time": "2022-06-01T15:57:49.397Z"
   },
   {
    "duration": 8,
    "start_time": "2022-06-01T15:57:49.430Z"
   },
   {
    "duration": 7,
    "start_time": "2022-06-01T15:57:49.439Z"
   },
   {
    "duration": 7,
    "start_time": "2022-06-01T15:57:49.448Z"
   },
   {
    "duration": 8,
    "start_time": "2022-06-01T15:57:49.457Z"
   },
   {
    "duration": 18,
    "start_time": "2022-06-01T15:57:49.467Z"
   },
   {
    "duration": 4,
    "start_time": "2022-06-01T15:57:49.487Z"
   },
   {
    "duration": 14,
    "start_time": "2022-06-01T15:58:12.344Z"
   },
   {
    "duration": 7,
    "start_time": "2022-06-01T15:58:37.589Z"
   },
   {
    "duration": 35,
    "start_time": "2022-06-01T16:01:25.539Z"
   },
   {
    "duration": 843,
    "start_time": "2022-06-01T16:01:35.836Z"
   },
   {
    "duration": 569,
    "start_time": "2022-06-01T16:12:00.995Z"
   },
   {
    "duration": 470,
    "start_time": "2022-06-01T16:12:31.349Z"
   },
   {
    "duration": 519,
    "start_time": "2022-06-01T16:12:40.875Z"
   },
   {
    "duration": 527,
    "start_time": "2022-06-01T16:16:13.622Z"
   },
   {
    "duration": 492,
    "start_time": "2022-06-01T16:16:27.935Z"
   },
   {
    "duration": 540,
    "start_time": "2022-06-01T16:16:41.861Z"
   },
   {
    "duration": 454,
    "start_time": "2022-06-01T16:16:50.942Z"
   },
   {
    "duration": 523,
    "start_time": "2022-06-01T16:17:04.410Z"
   },
   {
    "duration": 522,
    "start_time": "2022-06-01T16:17:16.191Z"
   },
   {
    "duration": 459,
    "start_time": "2022-06-01T16:17:32.994Z"
   },
   {
    "duration": 18,
    "start_time": "2022-06-01T16:22:13.233Z"
   },
   {
    "duration": 95,
    "start_time": "2022-06-01T16:23:29.202Z"
   },
   {
    "duration": 85,
    "start_time": "2022-06-01T16:26:43.371Z"
   },
   {
    "duration": 104,
    "start_time": "2022-06-01T16:33:15.894Z"
   },
   {
    "duration": 8,
    "start_time": "2022-06-01T16:33:27.352Z"
   },
   {
    "duration": 7,
    "start_time": "2022-06-01T16:34:10.354Z"
   },
   {
    "duration": 32,
    "start_time": "2022-06-01T16:39:12.727Z"
   },
   {
    "duration": 18,
    "start_time": "2022-06-01T16:44:41.293Z"
   },
   {
    "duration": 18,
    "start_time": "2022-06-01T16:44:57.449Z"
   },
   {
    "duration": 21,
    "start_time": "2022-06-01T16:46:19.518Z"
   },
   {
    "duration": 322,
    "start_time": "2022-06-01T16:52:46.689Z"
   },
   {
    "duration": 31,
    "start_time": "2022-06-01T16:56:39.533Z"
   },
   {
    "duration": 284,
    "start_time": "2022-06-01T16:57:07.665Z"
   },
   {
    "duration": 360,
    "start_time": "2022-06-01T16:57:35.711Z"
   },
   {
    "duration": 18,
    "start_time": "2022-06-01T16:57:48.700Z"
   },
   {
    "duration": 17,
    "start_time": "2022-06-01T16:58:54.540Z"
   },
   {
    "duration": 20,
    "start_time": "2022-06-01T16:59:57.296Z"
   },
   {
    "duration": 30,
    "start_time": "2022-06-01T17:06:47.975Z"
   },
   {
    "duration": 17,
    "start_time": "2022-06-01T17:07:04.797Z"
   },
   {
    "duration": 245,
    "start_time": "2022-06-01T17:07:35.857Z"
   },
   {
    "duration": 17,
    "start_time": "2022-06-01T17:07:47.580Z"
   },
   {
    "duration": 17,
    "start_time": "2022-06-01T17:08:08.705Z"
   },
   {
    "duration": 140,
    "start_time": "2022-06-02T09:04:45.667Z"
   },
   {
    "duration": 150,
    "start_time": "2022-06-02T09:15:06.608Z"
   },
   {
    "duration": 7,
    "start_time": "2022-06-02T09:16:47.729Z"
   },
   {
    "duration": 17,
    "start_time": "2022-06-02T09:17:29.438Z"
   },
   {
    "duration": 16,
    "start_time": "2022-06-02T09:17:44.419Z"
   },
   {
    "duration": 10,
    "start_time": "2022-06-02T09:18:09.688Z"
   },
   {
    "duration": 130,
    "start_time": "2022-06-02T09:19:46.440Z"
   },
   {
    "duration": 152,
    "start_time": "2022-06-02T09:20:05.234Z"
   },
   {
    "duration": 163,
    "start_time": "2022-06-02T09:20:12.111Z"
   },
   {
    "duration": 11,
    "start_time": "2022-06-02T09:20:36.211Z"
   },
   {
    "duration": 187,
    "start_time": "2022-06-02T09:41:33.163Z"
   },
   {
    "duration": 205,
    "start_time": "2022-06-02T09:42:05.561Z"
   },
   {
    "duration": 7,
    "start_time": "2022-06-02T09:46:10.697Z"
   },
   {
    "duration": 18,
    "start_time": "2022-06-02T09:47:43.264Z"
   },
   {
    "duration": 175,
    "start_time": "2022-06-02T09:48:02.785Z"
   },
   {
    "duration": 179,
    "start_time": "2022-06-02T09:54:23.931Z"
   },
   {
    "duration": 28,
    "start_time": "2022-06-02T09:58:19.023Z"
   },
   {
    "duration": 4629,
    "start_time": "2022-06-02T09:58:33.085Z"
   },
   {
    "duration": 54747,
    "start_time": "2022-06-02T09:59:56.337Z"
   },
   {
    "duration": 12,
    "start_time": "2022-06-02T10:00:51.129Z"
   },
   {
    "duration": 18,
    "start_time": "2022-06-02T10:26:25.309Z"
   },
   {
    "duration": 27,
    "start_time": "2022-06-02T10:28:36.493Z"
   },
   {
    "duration": 18,
    "start_time": "2022-06-02T10:28:45.424Z"
   },
   {
    "duration": 16,
    "start_time": "2022-06-02T10:36:59.422Z"
   },
   {
    "duration": 184,
    "start_time": "2022-06-02T11:05:38.602Z"
   },
   {
    "duration": 22,
    "start_time": "2022-06-02T11:06:28.181Z"
   },
   {
    "duration": 23,
    "start_time": "2022-06-02T11:17:40.946Z"
   },
   {
    "duration": 20,
    "start_time": "2022-06-02T11:17:46.778Z"
   },
   {
    "duration": 22,
    "start_time": "2022-06-02T11:20:19.146Z"
   },
   {
    "duration": 17,
    "start_time": "2022-06-02T11:22:53.808Z"
   },
   {
    "duration": 26,
    "start_time": "2022-06-02T11:25:19.180Z"
   },
   {
    "duration": 16,
    "start_time": "2022-06-02T11:27:52.879Z"
   },
   {
    "duration": 16,
    "start_time": "2022-06-02T11:30:48.684Z"
   },
   {
    "duration": 78,
    "start_time": "2022-06-03T10:58:22.096Z"
   },
   {
    "duration": 1490,
    "start_time": "2022-06-03T10:58:26.453Z"
   },
   {
    "duration": 162,
    "start_time": "2022-06-03T10:58:27.944Z"
   },
   {
    "duration": 6,
    "start_time": "2022-06-03T10:58:28.109Z"
   },
   {
    "duration": 18,
    "start_time": "2022-06-03T10:58:28.117Z"
   },
   {
    "duration": 10,
    "start_time": "2022-06-03T10:58:28.138Z"
   },
   {
    "duration": 32,
    "start_time": "2022-06-03T10:58:28.149Z"
   },
   {
    "duration": 27,
    "start_time": "2022-06-03T10:58:28.185Z"
   },
   {
    "duration": 9,
    "start_time": "2022-06-03T10:58:28.213Z"
   },
   {
    "duration": 9,
    "start_time": "2022-06-03T10:58:28.224Z"
   },
   {
    "duration": 9,
    "start_time": "2022-06-03T10:58:28.234Z"
   },
   {
    "duration": 8,
    "start_time": "2022-06-03T10:58:28.244Z"
   },
   {
    "duration": 43,
    "start_time": "2022-06-03T10:58:28.254Z"
   },
   {
    "duration": 16,
    "start_time": "2022-06-03T10:58:28.298Z"
   },
   {
    "duration": 3,
    "start_time": "2022-06-03T10:58:28.318Z"
   },
   {
    "duration": 17,
    "start_time": "2022-06-03T10:58:28.323Z"
   },
   {
    "duration": 5,
    "start_time": "2022-06-03T10:58:28.342Z"
   },
   {
    "duration": 7,
    "start_time": "2022-06-03T10:58:28.348Z"
   },
   {
    "duration": 34,
    "start_time": "2022-06-03T10:58:28.357Z"
   },
   {
    "duration": 18,
    "start_time": "2022-06-03T10:58:28.399Z"
   },
   {
    "duration": 99,
    "start_time": "2022-06-03T10:58:28.419Z"
   },
   {
    "duration": 608,
    "start_time": "2022-06-03T10:58:28.520Z"
   },
   {
    "duration": 119,
    "start_time": "2022-06-03T10:58:29.130Z"
   },
   {
    "duration": 45,
    "start_time": "2022-06-03T10:58:29.271Z"
   },
   {
    "duration": 390,
    "start_time": "2022-06-03T10:58:29.318Z"
   },
   {
    "duration": 17,
    "start_time": "2022-06-03T10:58:29.710Z"
   },
   {
    "duration": 126,
    "start_time": "2022-06-03T10:58:29.729Z"
   },
   {
    "duration": 32,
    "start_time": "2022-06-03T10:58:29.857Z"
   },
   {
    "duration": 193,
    "start_time": "2022-06-03T10:58:29.891Z"
   },
   {
    "duration": 20,
    "start_time": "2022-06-03T10:58:30.086Z"
   },
   {
    "duration": 204,
    "start_time": "2022-06-03T10:58:30.109Z"
   },
   {
    "duration": 15,
    "start_time": "2022-06-03T10:58:30.315Z"
   },
   {
    "duration": 205,
    "start_time": "2022-06-03T10:58:30.332Z"
   },
   {
    "duration": 255,
    "start_time": "2022-06-03T10:58:30.538Z"
   },
   {
    "duration": 23,
    "start_time": "2022-06-03T10:58:30.795Z"
   },
   {
    "duration": 23,
    "start_time": "2022-06-03T10:58:30.819Z"
   },
   {
    "duration": 26,
    "start_time": "2022-06-03T10:58:30.844Z"
   },
   {
    "duration": 47,
    "start_time": "2022-06-03T10:58:30.878Z"
   },
   {
    "duration": 46,
    "start_time": "2022-06-03T10:58:30.928Z"
   },
   {
    "duration": 71,
    "start_time": "2022-06-03T10:58:30.979Z"
   },
   {
    "duration": 66,
    "start_time": "2022-06-03T10:58:31.052Z"
   },
   {
    "duration": 86,
    "start_time": "2022-06-03T10:58:31.123Z"
   },
   {
    "duration": 33,
    "start_time": "2022-06-03T10:58:31.211Z"
   },
   {
    "duration": 46,
    "start_time": "2022-06-03T10:58:31.246Z"
   },
   {
    "duration": 27,
    "start_time": "2022-06-03T10:58:31.297Z"
   },
   {
    "duration": 13,
    "start_time": "2022-06-03T10:58:31.326Z"
   },
   {
    "duration": 35,
    "start_time": "2022-06-03T10:58:31.341Z"
   },
   {
    "duration": 85,
    "start_time": "2022-06-03T11:01:35.911Z"
   },
   {
    "duration": 31,
    "start_time": "2022-06-03T11:01:42.956Z"
   },
   {
    "duration": 16,
    "start_time": "2022-06-03T11:09:39.753Z"
   },
   {
    "duration": 5,
    "start_time": "2022-06-03T11:09:55.097Z"
   },
   {
    "duration": 5,
    "start_time": "2022-06-03T11:10:04.691Z"
   },
   {
    "duration": 12,
    "start_time": "2022-06-03T11:21:45.560Z"
   },
   {
    "duration": 13,
    "start_time": "2022-06-03T11:22:48.075Z"
   },
   {
    "duration": 12,
    "start_time": "2022-06-03T11:23:08.077Z"
   },
   {
    "duration": 79,
    "start_time": "2022-06-03T11:25:35.847Z"
   },
   {
    "duration": 20,
    "start_time": "2022-06-03T11:26:05.599Z"
   },
   {
    "duration": 9,
    "start_time": "2022-06-03T11:27:08.084Z"
   },
   {
    "duration": 10,
    "start_time": "2022-06-03T11:27:21.264Z"
   },
   {
    "duration": 15,
    "start_time": "2022-06-03T11:27:34.018Z"
   },
   {
    "duration": 27,
    "start_time": "2022-06-03T11:28:16.215Z"
   },
   {
    "duration": 12,
    "start_time": "2022-06-03T11:28:40.787Z"
   },
   {
    "duration": 12,
    "start_time": "2022-06-03T11:41:34.558Z"
   },
   {
    "duration": 11,
    "start_time": "2022-06-03T11:42:14.016Z"
   },
   {
    "duration": 9,
    "start_time": "2022-06-03T11:43:22.677Z"
   },
   {
    "duration": 9,
    "start_time": "2022-06-03T11:43:24.748Z"
   },
   {
    "duration": 4,
    "start_time": "2022-06-03T11:49:41.902Z"
   },
   {
    "duration": 1398,
    "start_time": "2022-06-03T13:15:28.734Z"
   },
   {
    "duration": 272,
    "start_time": "2022-06-03T13:15:30.134Z"
   },
   {
    "duration": 10,
    "start_time": "2022-06-03T13:15:30.408Z"
   },
   {
    "duration": 93,
    "start_time": "2022-06-03T13:15:30.421Z"
   },
   {
    "duration": 49,
    "start_time": "2022-06-03T13:15:30.519Z"
   },
   {
    "duration": 53,
    "start_time": "2022-06-03T13:15:30.570Z"
   },
   {
    "duration": 5,
    "start_time": "2022-06-03T13:15:30.625Z"
   },
   {
    "duration": 65,
    "start_time": "2022-06-03T13:15:30.632Z"
   },
   {
    "duration": 29,
    "start_time": "2022-06-03T13:15:30.700Z"
   },
   {
    "duration": 63,
    "start_time": "2022-06-03T13:15:30.731Z"
   },
   {
    "duration": 12,
    "start_time": "2022-06-03T13:15:30.796Z"
   },
   {
    "duration": 16,
    "start_time": "2022-06-03T13:15:30.810Z"
   },
   {
    "duration": 47,
    "start_time": "2022-06-03T13:15:30.829Z"
   },
   {
    "duration": 20,
    "start_time": "2022-06-03T13:15:30.888Z"
   },
   {
    "duration": 8,
    "start_time": "2022-06-03T13:15:30.910Z"
   },
   {
    "duration": 12,
    "start_time": "2022-06-03T13:15:30.920Z"
   },
   {
    "duration": 53,
    "start_time": "2022-06-03T13:15:30.934Z"
   },
   {
    "duration": 12,
    "start_time": "2022-06-03T13:15:30.990Z"
   },
   {
    "duration": 40,
    "start_time": "2022-06-03T13:15:31.004Z"
   },
   {
    "duration": 156,
    "start_time": "2022-06-03T13:15:31.050Z"
   },
   {
    "duration": 723,
    "start_time": "2022-06-03T13:15:31.208Z"
   },
   {
    "duration": 157,
    "start_time": "2022-06-03T13:15:31.933Z"
   },
   {
    "duration": 65,
    "start_time": "2022-06-03T13:15:32.092Z"
   },
   {
    "duration": 434,
    "start_time": "2022-06-03T13:15:32.159Z"
   },
   {
    "duration": 24,
    "start_time": "2022-06-03T13:15:32.595Z"
   },
   {
    "duration": 205,
    "start_time": "2022-06-03T13:15:32.621Z"
   },
   {
    "duration": 36,
    "start_time": "2022-06-03T13:15:32.828Z"
   },
   {
    "duration": 186,
    "start_time": "2022-06-03T13:15:32.866Z"
   },
   {
    "duration": 16,
    "start_time": "2022-06-03T13:15:33.057Z"
   },
   {
    "duration": 223,
    "start_time": "2022-06-03T13:15:33.075Z"
   },
   {
    "duration": 16,
    "start_time": "2022-06-03T13:15:33.300Z"
   },
   {
    "duration": 240,
    "start_time": "2022-06-03T13:15:33.318Z"
   },
   {
    "duration": 200,
    "start_time": "2022-06-03T13:15:33.560Z"
   },
   {
    "duration": 26,
    "start_time": "2022-06-03T13:15:33.764Z"
   },
   {
    "duration": 31,
    "start_time": "2022-06-03T13:15:33.797Z"
   },
   {
    "duration": 38,
    "start_time": "2022-06-03T13:15:33.830Z"
   },
   {
    "duration": 43,
    "start_time": "2022-06-03T13:15:33.872Z"
   },
   {
    "duration": 17,
    "start_time": "2022-06-03T13:15:33.917Z"
   },
   {
    "duration": 49,
    "start_time": "2022-06-03T13:15:33.936Z"
   },
   {
    "duration": 18,
    "start_time": "2022-06-03T13:15:33.987Z"
   },
   {
    "duration": 18,
    "start_time": "2022-06-03T13:15:34.009Z"
   },
   {
    "duration": 23,
    "start_time": "2022-06-03T13:15:34.029Z"
   },
   {
    "duration": 38,
    "start_time": "2022-06-03T13:15:34.058Z"
   },
   {
    "duration": 7,
    "start_time": "2022-06-03T13:15:34.098Z"
   },
   {
    "duration": 9,
    "start_time": "2022-06-03T13:15:34.107Z"
   },
   {
    "duration": 8,
    "start_time": "2022-06-03T13:15:34.117Z"
   },
   {
    "duration": 9,
    "start_time": "2022-06-03T13:15:34.127Z"
   },
   {
    "duration": 17,
    "start_time": "2022-06-03T13:45:42.490Z"
   },
   {
    "duration": 306,
    "start_time": "2022-06-03T14:08:08.832Z"
   },
   {
    "duration": 323,
    "start_time": "2022-06-03T14:08:16.490Z"
   },
   {
    "duration": 341,
    "start_time": "2022-06-03T14:08:35.441Z"
   },
   {
    "duration": 362,
    "start_time": "2022-06-03T14:09:13.625Z"
   },
   {
    "duration": 461,
    "start_time": "2022-06-03T14:09:26.320Z"
   },
   {
    "duration": 366,
    "start_time": "2022-06-03T14:10:07.563Z"
   },
   {
    "duration": 375,
    "start_time": "2022-06-03T14:10:14.179Z"
   },
   {
    "duration": 431,
    "start_time": "2022-06-03T14:10:24.786Z"
   },
   {
    "duration": 385,
    "start_time": "2022-06-03T14:10:35.093Z"
   },
   {
    "duration": 381,
    "start_time": "2022-06-03T14:11:04.709Z"
   },
   {
    "duration": 388,
    "start_time": "2022-06-03T14:11:26.609Z"
   },
   {
    "duration": 854,
    "start_time": "2022-06-03T14:16:26.475Z"
   },
   {
    "duration": 534,
    "start_time": "2022-06-03T14:17:47.402Z"
   },
   {
    "duration": 1169,
    "start_time": "2022-06-03T14:37:18.825Z"
   },
   {
    "duration": 88,
    "start_time": "2022-06-03T14:37:19.997Z"
   },
   {
    "duration": 5,
    "start_time": "2022-06-03T14:37:20.087Z"
   },
   {
    "duration": 20,
    "start_time": "2022-06-03T14:37:20.095Z"
   },
   {
    "duration": 8,
    "start_time": "2022-06-03T14:37:20.118Z"
   },
   {
    "duration": 60,
    "start_time": "2022-06-03T14:37:20.128Z"
   },
   {
    "duration": 4,
    "start_time": "2022-06-03T14:37:20.190Z"
   },
   {
    "duration": 15,
    "start_time": "2022-06-03T14:37:20.196Z"
   },
   {
    "duration": 7,
    "start_time": "2022-06-03T14:37:20.213Z"
   },
   {
    "duration": 7,
    "start_time": "2022-06-03T14:37:20.223Z"
   },
   {
    "duration": 27,
    "start_time": "2022-06-03T14:37:20.232Z"
   },
   {
    "duration": 23,
    "start_time": "2022-06-03T14:37:20.268Z"
   },
   {
    "duration": 10,
    "start_time": "2022-06-03T14:37:20.293Z"
   },
   {
    "duration": 12,
    "start_time": "2022-06-03T14:37:20.305Z"
   },
   {
    "duration": 16,
    "start_time": "2022-06-03T14:37:20.319Z"
   },
   {
    "duration": 37,
    "start_time": "2022-06-03T14:37:20.337Z"
   },
   {
    "duration": 10,
    "start_time": "2022-06-03T14:37:20.379Z"
   },
   {
    "duration": 8,
    "start_time": "2022-06-03T14:37:20.391Z"
   },
   {
    "duration": 25,
    "start_time": "2022-06-03T14:37:20.401Z"
   },
   {
    "duration": 105,
    "start_time": "2022-06-03T14:37:20.428Z"
   },
   {
    "duration": 732,
    "start_time": "2022-06-03T14:37:20.535Z"
   },
   {
    "duration": 116,
    "start_time": "2022-06-03T14:37:21.271Z"
   },
   {
    "duration": 24,
    "start_time": "2022-06-03T14:37:21.389Z"
   },
   {
    "duration": 401,
    "start_time": "2022-06-03T14:37:21.415Z"
   },
   {
    "duration": 404,
    "start_time": "2022-06-03T14:37:21.817Z"
   },
   {
    "duration": 53,
    "start_time": "2022-06-03T14:37:22.222Z"
   },
   {
    "duration": 216,
    "start_time": "2022-06-03T14:37:22.280Z"
   },
   {
    "duration": 25,
    "start_time": "2022-06-03T14:37:22.502Z"
   },
   {
    "duration": 230,
    "start_time": "2022-06-03T14:37:22.531Z"
   },
   {
    "duration": 14,
    "start_time": "2022-06-03T14:37:22.764Z"
   },
   {
    "duration": 221,
    "start_time": "2022-06-03T14:37:22.781Z"
   },
   {
    "duration": 15,
    "start_time": "2022-06-03T14:37:23.007Z"
   },
   {
    "duration": 269,
    "start_time": "2022-06-03T14:37:23.024Z"
   },
   {
    "duration": 213,
    "start_time": "2022-06-03T14:37:23.295Z"
   },
   {
    "duration": 17,
    "start_time": "2022-06-03T14:37:23.511Z"
   },
   {
    "duration": 30,
    "start_time": "2022-06-03T14:37:23.542Z"
   },
   {
    "duration": 46,
    "start_time": "2022-06-03T14:37:23.575Z"
   },
   {
    "duration": 49,
    "start_time": "2022-06-03T14:37:23.624Z"
   },
   {
    "duration": 39,
    "start_time": "2022-06-03T14:37:23.675Z"
   },
   {
    "duration": 40,
    "start_time": "2022-06-03T14:37:23.717Z"
   },
   {
    "duration": 37,
    "start_time": "2022-06-03T14:37:23.775Z"
   },
   {
    "duration": 22,
    "start_time": "2022-06-03T14:37:23.814Z"
   },
   {
    "duration": 39,
    "start_time": "2022-06-03T14:37:23.838Z"
   },
   {
    "duration": 31,
    "start_time": "2022-06-03T14:37:23.884Z"
   },
   {
    "duration": 8,
    "start_time": "2022-06-03T14:37:23.917Z"
   },
   {
    "duration": 21,
    "start_time": "2022-06-03T14:37:23.927Z"
   },
   {
    "duration": 44,
    "start_time": "2022-06-03T14:37:23.950Z"
   },
   {
    "duration": 11,
    "start_time": "2022-06-03T14:37:23.996Z"
   },
   {
    "duration": 81,
    "start_time": "2022-06-03T18:14:20.645Z"
   },
   {
    "duration": 1845,
    "start_time": "2022-06-03T18:14:27.328Z"
   },
   {
    "duration": 236,
    "start_time": "2022-06-03T18:14:29.184Z"
   },
   {
    "duration": 11,
    "start_time": "2022-06-03T18:14:29.422Z"
   },
   {
    "duration": 61,
    "start_time": "2022-06-03T18:14:29.437Z"
   },
   {
    "duration": 60,
    "start_time": "2022-06-03T18:14:29.507Z"
   },
   {
    "duration": 36,
    "start_time": "2022-06-03T18:14:29.570Z"
   },
   {
    "duration": 50,
    "start_time": "2022-06-03T18:14:29.609Z"
   },
   {
    "duration": 66,
    "start_time": "2022-06-03T18:14:29.662Z"
   },
   {
    "duration": 37,
    "start_time": "2022-06-03T18:14:29.731Z"
   },
   {
    "duration": 57,
    "start_time": "2022-06-03T18:14:29.775Z"
   },
   {
    "duration": 17,
    "start_time": "2022-06-03T18:14:29.834Z"
   },
   {
    "duration": 15,
    "start_time": "2022-06-03T18:14:29.853Z"
   },
   {
    "duration": 59,
    "start_time": "2022-06-03T18:14:29.880Z"
   },
   {
    "duration": 6,
    "start_time": "2022-06-03T18:14:29.941Z"
   },
   {
    "duration": 12,
    "start_time": "2022-06-03T18:14:29.949Z"
   },
   {
    "duration": 42,
    "start_time": "2022-06-03T18:14:29.963Z"
   },
   {
    "duration": 28,
    "start_time": "2022-06-03T18:14:30.007Z"
   },
   {
    "duration": 16,
    "start_time": "2022-06-03T18:14:30.038Z"
   },
   {
    "duration": 33,
    "start_time": "2022-06-03T18:14:30.056Z"
   },
   {
    "duration": 133,
    "start_time": "2022-06-03T18:14:30.093Z"
   },
   {
    "duration": 805,
    "start_time": "2022-06-03T18:14:30.231Z"
   },
   {
    "duration": 61,
    "start_time": "2022-06-03T18:14:31.038Z"
   },
   {
    "duration": 29,
    "start_time": "2022-06-03T18:14:31.100Z"
   },
   {
    "duration": 367,
    "start_time": "2022-06-03T18:14:31.132Z"
   },
   {
    "duration": 399,
    "start_time": "2022-06-03T18:14:31.501Z"
   },
   {
    "duration": 23,
    "start_time": "2022-06-03T18:14:31.906Z"
   },
   {
    "duration": 210,
    "start_time": "2022-06-03T18:14:31.931Z"
   },
   {
    "duration": 22,
    "start_time": "2022-06-03T18:14:32.149Z"
   },
   {
    "duration": 229,
    "start_time": "2022-06-03T18:14:32.173Z"
   },
   {
    "duration": 21,
    "start_time": "2022-06-03T18:14:32.410Z"
   },
   {
    "duration": 184,
    "start_time": "2022-06-03T18:14:32.434Z"
   },
   {
    "duration": 15,
    "start_time": "2022-06-03T18:14:32.623Z"
   },
   {
    "duration": 246,
    "start_time": "2022-06-03T18:14:32.640Z"
   },
   {
    "duration": 185,
    "start_time": "2022-06-03T18:14:32.894Z"
   },
   {
    "duration": 21,
    "start_time": "2022-06-03T18:14:33.084Z"
   },
   {
    "duration": 40,
    "start_time": "2022-06-03T18:14:33.110Z"
   },
   {
    "duration": 33,
    "start_time": "2022-06-03T18:14:33.152Z"
   },
   {
    "duration": 50,
    "start_time": "2022-06-03T18:14:33.187Z"
   },
   {
    "duration": 23,
    "start_time": "2022-06-03T18:14:33.239Z"
   },
   {
    "duration": 34,
    "start_time": "2022-06-03T18:14:33.267Z"
   },
   {
    "duration": 31,
    "start_time": "2022-06-03T18:14:33.306Z"
   },
   {
    "duration": 22,
    "start_time": "2022-06-03T18:14:33.339Z"
   },
   {
    "duration": 37,
    "start_time": "2022-06-03T18:14:33.362Z"
   },
   {
    "duration": 32,
    "start_time": "2022-06-03T18:14:33.402Z"
   },
   {
    "duration": 9,
    "start_time": "2022-06-03T18:14:33.436Z"
   },
   {
    "duration": 61,
    "start_time": "2022-06-03T18:14:33.447Z"
   },
   {
    "duration": 20,
    "start_time": "2022-06-03T18:14:33.512Z"
   },
   {
    "duration": 18,
    "start_time": "2022-06-03T18:14:33.533Z"
   },
   {
    "duration": 172,
    "start_time": "2022-06-03T18:22:46.513Z"
   },
   {
    "duration": 99,
    "start_time": "2022-06-03T18:23:48.844Z"
   },
   {
    "duration": 13,
    "start_time": "2022-06-03T18:24:06.112Z"
   },
   {
    "duration": 232,
    "start_time": "2022-06-03T18:28:12.856Z"
   },
   {
    "duration": 267,
    "start_time": "2022-06-03T18:29:29.319Z"
   },
   {
    "duration": 290,
    "start_time": "2022-06-03T18:29:38.751Z"
   },
   {
    "duration": 420,
    "start_time": "2022-06-03T18:29:46.927Z"
   },
   {
    "duration": 269,
    "start_time": "2022-06-03T18:31:11.204Z"
   },
   {
    "duration": 613,
    "start_time": "2022-06-03T18:34:22.384Z"
   },
   {
    "duration": 613,
    "start_time": "2022-06-03T18:34:31.016Z"
   },
   {
    "duration": 9,
    "start_time": "2022-06-03T18:40:00.939Z"
   },
   {
    "duration": 4,
    "start_time": "2022-06-03T18:40:13.326Z"
   },
   {
    "duration": 6,
    "start_time": "2022-06-03T18:40:29.367Z"
   },
   {
    "duration": 5,
    "start_time": "2022-06-03T18:40:58.018Z"
   },
   {
    "duration": 8,
    "start_time": "2022-06-03T18:52:36.812Z"
   },
   {
    "duration": 86,
    "start_time": "2022-06-03T18:53:39.390Z"
   },
   {
    "duration": 13,
    "start_time": "2022-06-03T18:53:46.637Z"
   },
   {
    "duration": 8,
    "start_time": "2022-06-03T18:53:55.724Z"
   },
   {
    "duration": 14,
    "start_time": "2022-06-03T18:54:14.254Z"
   },
   {
    "duration": 35,
    "start_time": "2022-06-03T18:55:22.295Z"
   },
   {
    "duration": 10,
    "start_time": "2022-06-03T18:56:13.603Z"
   },
   {
    "duration": 10,
    "start_time": "2022-06-03T18:56:15.541Z"
   },
   {
    "duration": 17,
    "start_time": "2022-06-03T18:58:52.081Z"
   },
   {
    "duration": 15,
    "start_time": "2022-06-03T18:59:51.711Z"
   },
   {
    "duration": 15,
    "start_time": "2022-06-03T19:01:05.826Z"
   },
   {
    "duration": 30,
    "start_time": "2022-06-03T19:01:39.231Z"
   },
   {
    "duration": 1325,
    "start_time": "2022-06-04T13:28:09.712Z"
   },
   {
    "duration": 194,
    "start_time": "2022-06-04T13:28:11.039Z"
   },
   {
    "duration": 5,
    "start_time": "2022-06-04T13:28:11.235Z"
   },
   {
    "duration": 30,
    "start_time": "2022-06-04T13:28:11.241Z"
   },
   {
    "duration": 43,
    "start_time": "2022-06-04T13:28:11.273Z"
   },
   {
    "duration": 23,
    "start_time": "2022-06-04T13:28:11.318Z"
   },
   {
    "duration": 7,
    "start_time": "2022-06-04T13:28:11.342Z"
   },
   {
    "duration": 30,
    "start_time": "2022-06-04T13:28:11.350Z"
   },
   {
    "duration": 7,
    "start_time": "2022-06-04T13:28:11.382Z"
   },
   {
    "duration": 6,
    "start_time": "2022-06-04T13:28:11.390Z"
   },
   {
    "duration": 7,
    "start_time": "2022-06-04T13:28:11.397Z"
   },
   {
    "duration": 10,
    "start_time": "2022-06-04T13:28:11.405Z"
   },
   {
    "duration": 7,
    "start_time": "2022-06-04T13:28:11.417Z"
   },
   {
    "duration": 5,
    "start_time": "2022-06-04T13:28:11.426Z"
   },
   {
    "duration": 8,
    "start_time": "2022-06-04T13:28:11.433Z"
   },
   {
    "duration": 7,
    "start_time": "2022-06-04T13:28:11.442Z"
   },
   {
    "duration": 8,
    "start_time": "2022-06-04T13:28:11.450Z"
   },
   {
    "duration": 7,
    "start_time": "2022-06-04T13:28:11.460Z"
   },
   {
    "duration": 252,
    "start_time": "2022-06-04T13:28:11.468Z"
   },
   {
    "duration": 89,
    "start_time": "2022-06-04T13:28:11.722Z"
   },
   {
    "duration": 572,
    "start_time": "2022-06-04T13:28:11.813Z"
   },
   {
    "duration": 7,
    "start_time": "2022-06-04T13:28:12.386Z"
   },
   {
    "duration": 311,
    "start_time": "2022-06-04T13:28:12.394Z"
   },
   {
    "duration": 111,
    "start_time": "2022-06-04T13:28:12.707Z"
   },
   {
    "duration": 26,
    "start_time": "2022-06-04T13:28:12.819Z"
   },
   {
    "duration": 131,
    "start_time": "2022-06-04T13:28:12.846Z"
   },
   {
    "duration": 11,
    "start_time": "2022-06-04T13:28:12.978Z"
   },
   {
    "duration": 141,
    "start_time": "2022-06-04T13:28:12.991Z"
   },
   {
    "duration": 15,
    "start_time": "2022-06-04T13:28:13.133Z"
   },
   {
    "duration": 153,
    "start_time": "2022-06-04T13:28:13.150Z"
   },
   {
    "duration": 152,
    "start_time": "2022-06-04T13:28:13.305Z"
   },
   {
    "duration": 15,
    "start_time": "2022-06-04T13:28:13.459Z"
   },
   {
    "duration": 15,
    "start_time": "2022-06-04T13:28:13.475Z"
   },
   {
    "duration": 13,
    "start_time": "2022-06-04T13:28:13.491Z"
   },
   {
    "duration": 43,
    "start_time": "2022-06-04T13:28:13.505Z"
   },
   {
    "duration": 14,
    "start_time": "2022-06-04T13:28:13.549Z"
   },
   {
    "duration": 13,
    "start_time": "2022-06-04T13:28:13.565Z"
   },
   {
    "duration": 12,
    "start_time": "2022-06-04T13:28:13.580Z"
   },
   {
    "duration": 14,
    "start_time": "2022-06-04T13:28:13.593Z"
   },
   {
    "duration": 44,
    "start_time": "2022-06-04T13:28:13.608Z"
   },
   {
    "duration": 15,
    "start_time": "2022-06-04T13:28:13.655Z"
   },
   {
    "duration": 7,
    "start_time": "2022-06-04T13:28:13.671Z"
   },
   {
    "duration": 9,
    "start_time": "2022-06-04T13:28:13.680Z"
   },
   {
    "duration": 11,
    "start_time": "2022-06-04T13:28:13.691Z"
   },
   {
    "duration": 41,
    "start_time": "2022-06-04T13:28:13.703Z"
   },
   {
    "duration": 9,
    "start_time": "2022-06-04T13:28:13.746Z"
   },
   {
    "duration": 13,
    "start_time": "2022-06-04T13:28:13.756Z"
   },
   {
    "duration": 1022,
    "start_time": "2022-06-04T13:34:46.892Z"
   },
   {
    "duration": 5,
    "start_time": "2022-06-04T13:35:11.031Z"
   },
   {
    "duration": 1128,
    "start_time": "2022-06-04T13:55:24.249Z"
   },
   {
    "duration": 71,
    "start_time": "2022-06-04T13:55:25.379Z"
   },
   {
    "duration": 5,
    "start_time": "2022-06-04T13:55:25.451Z"
   },
   {
    "duration": 17,
    "start_time": "2022-06-04T13:55:25.458Z"
   },
   {
    "duration": 10,
    "start_time": "2022-06-04T13:55:25.476Z"
   },
   {
    "duration": 22,
    "start_time": "2022-06-04T13:55:25.488Z"
   },
   {
    "duration": 29,
    "start_time": "2022-06-04T13:55:25.512Z"
   },
   {
    "duration": 7,
    "start_time": "2022-06-04T13:55:25.543Z"
   },
   {
    "duration": 10,
    "start_time": "2022-06-04T13:55:25.551Z"
   },
   {
    "duration": 5,
    "start_time": "2022-06-04T13:55:25.563Z"
   },
   {
    "duration": 4,
    "start_time": "2022-06-04T13:55:25.570Z"
   },
   {
    "duration": 9,
    "start_time": "2022-06-04T13:55:25.575Z"
   },
   {
    "duration": 6,
    "start_time": "2022-06-04T13:55:25.585Z"
   },
   {
    "duration": 5,
    "start_time": "2022-06-04T13:55:25.592Z"
   },
   {
    "duration": 6,
    "start_time": "2022-06-04T13:55:25.598Z"
   },
   {
    "duration": 42,
    "start_time": "2022-06-04T13:55:25.606Z"
   },
   {
    "duration": 6,
    "start_time": "2022-06-04T13:55:25.650Z"
   },
   {
    "duration": 11,
    "start_time": "2022-06-04T13:55:25.657Z"
   },
   {
    "duration": 221,
    "start_time": "2022-06-04T13:55:25.669Z"
   },
   {
    "duration": 88,
    "start_time": "2022-06-04T13:55:25.892Z"
   },
   {
    "duration": 559,
    "start_time": "2022-06-04T13:55:25.982Z"
   },
   {
    "duration": 6,
    "start_time": "2022-06-04T13:55:26.543Z"
   },
   {
    "duration": 318,
    "start_time": "2022-06-04T13:55:26.551Z"
   },
   {
    "duration": 111,
    "start_time": "2022-06-04T13:55:26.870Z"
   },
   {
    "duration": 16,
    "start_time": "2022-06-04T13:55:26.982Z"
   },
   {
    "duration": 142,
    "start_time": "2022-06-04T13:55:27.000Z"
   },
   {
    "duration": 10,
    "start_time": "2022-06-04T13:55:27.144Z"
   },
   {
    "duration": 133,
    "start_time": "2022-06-04T13:55:27.157Z"
   },
   {
    "duration": 11,
    "start_time": "2022-06-04T13:55:27.291Z"
   },
   {
    "duration": 163,
    "start_time": "2022-06-04T13:55:27.303Z"
   },
   {
    "duration": 153,
    "start_time": "2022-06-04T13:55:27.468Z"
   },
   {
    "duration": 24,
    "start_time": "2022-06-04T13:55:27.622Z"
   },
   {
    "duration": 15,
    "start_time": "2022-06-04T13:55:27.648Z"
   },
   {
    "duration": 16,
    "start_time": "2022-06-04T13:55:27.665Z"
   },
   {
    "duration": 15,
    "start_time": "2022-06-04T13:55:27.682Z"
   },
   {
    "duration": 43,
    "start_time": "2022-06-04T13:55:27.699Z"
   },
   {
    "duration": 14,
    "start_time": "2022-06-04T13:55:27.744Z"
   },
   {
    "duration": 13,
    "start_time": "2022-06-04T13:55:27.760Z"
   },
   {
    "duration": 14,
    "start_time": "2022-06-04T13:55:27.775Z"
   },
   {
    "duration": 14,
    "start_time": "2022-06-04T13:55:27.790Z"
   },
   {
    "duration": 48,
    "start_time": "2022-06-04T13:55:27.806Z"
   },
   {
    "duration": 16,
    "start_time": "2022-06-04T13:55:27.857Z"
   },
   {
    "duration": 16,
    "start_time": "2022-06-04T13:55:27.875Z"
   },
   {
    "duration": 19,
    "start_time": "2022-06-04T13:55:27.893Z"
   },
   {
    "duration": 28,
    "start_time": "2022-06-04T13:55:27.914Z"
   },
   {
    "duration": 10,
    "start_time": "2022-06-04T13:55:27.944Z"
   },
   {
    "duration": 14,
    "start_time": "2022-06-04T13:55:27.956Z"
   },
   {
    "duration": 1339,
    "start_time": "2022-06-05T15:39:16.734Z"
   },
   {
    "duration": 192,
    "start_time": "2022-06-05T15:39:18.075Z"
   },
   {
    "duration": 4,
    "start_time": "2022-06-05T15:39:18.269Z"
   },
   {
    "duration": 16,
    "start_time": "2022-06-05T15:39:18.276Z"
   },
   {
    "duration": 8,
    "start_time": "2022-06-05T15:39:18.293Z"
   },
   {
    "duration": 40,
    "start_time": "2022-06-05T15:39:18.303Z"
   },
   {
    "duration": 4,
    "start_time": "2022-06-05T15:39:18.345Z"
   },
   {
    "duration": 14,
    "start_time": "2022-06-05T15:39:18.350Z"
   },
   {
    "duration": 10,
    "start_time": "2022-06-05T15:39:18.366Z"
   },
   {
    "duration": 6,
    "start_time": "2022-06-05T15:39:18.378Z"
   },
   {
    "duration": 6,
    "start_time": "2022-06-05T15:39:18.385Z"
   },
   {
    "duration": 7,
    "start_time": "2022-06-05T15:39:18.392Z"
   },
   {
    "duration": 7,
    "start_time": "2022-06-05T15:39:18.400Z"
   },
   {
    "duration": 5,
    "start_time": "2022-06-05T15:39:18.409Z"
   },
   {
    "duration": 3,
    "start_time": "2022-06-05T15:39:18.442Z"
   },
   {
    "duration": 10,
    "start_time": "2022-06-05T15:39:18.447Z"
   },
   {
    "duration": 6,
    "start_time": "2022-06-05T15:39:18.459Z"
   },
   {
    "duration": 6,
    "start_time": "2022-06-05T15:39:18.467Z"
   },
   {
    "duration": 255,
    "start_time": "2022-06-05T15:39:18.475Z"
   },
   {
    "duration": 92,
    "start_time": "2022-06-05T15:39:18.731Z"
   },
   {
    "duration": 621,
    "start_time": "2022-06-05T15:39:18.825Z"
   },
   {
    "duration": 7,
    "start_time": "2022-06-05T15:39:22.306Z"
   },
   {
    "duration": 290,
    "start_time": "2022-06-05T15:39:32.249Z"
   },
   {
    "duration": 154,
    "start_time": "2022-06-05T15:40:05.709Z"
   },
   {
    "duration": 16,
    "start_time": "2022-06-05T15:40:18.522Z"
   },
   {
    "duration": 56,
    "start_time": "2022-06-06T13:26:52.364Z"
   },
   {
    "duration": 1422,
    "start_time": "2022-06-06T13:26:55.472Z"
   },
   {
    "duration": 145,
    "start_time": "2022-06-06T13:26:56.895Z"
   },
   {
    "duration": 8,
    "start_time": "2022-06-06T13:26:57.042Z"
   },
   {
    "duration": 31,
    "start_time": "2022-06-06T13:26:57.052Z"
   },
   {
    "duration": 13,
    "start_time": "2022-06-06T13:26:57.084Z"
   },
   {
    "duration": 52,
    "start_time": "2022-06-06T13:26:57.099Z"
   },
   {
    "duration": 3,
    "start_time": "2022-06-06T13:26:57.153Z"
   },
   {
    "duration": 15,
    "start_time": "2022-06-06T13:26:57.159Z"
   },
   {
    "duration": 13,
    "start_time": "2022-06-06T13:26:57.176Z"
   },
   {
    "duration": 9,
    "start_time": "2022-06-06T13:26:57.192Z"
   },
   {
    "duration": 7,
    "start_time": "2022-06-06T13:26:57.202Z"
   },
   {
    "duration": 6,
    "start_time": "2022-06-06T13:26:57.211Z"
   },
   {
    "duration": 9,
    "start_time": "2022-06-06T13:26:57.219Z"
   },
   {
    "duration": 31,
    "start_time": "2022-06-06T13:26:57.236Z"
   },
   {
    "duration": 8,
    "start_time": "2022-06-06T13:26:57.269Z"
   },
   {
    "duration": 7,
    "start_time": "2022-06-06T13:26:57.278Z"
   },
   {
    "duration": 8,
    "start_time": "2022-06-06T13:26:57.287Z"
   },
   {
    "duration": 8,
    "start_time": "2022-06-06T13:26:57.297Z"
   },
   {
    "duration": 253,
    "start_time": "2022-06-06T13:26:57.307Z"
   },
   {
    "duration": 86,
    "start_time": "2022-06-06T13:26:57.561Z"
   },
   {
    "duration": 606,
    "start_time": "2022-06-06T13:26:57.648Z"
   },
   {
    "duration": 9,
    "start_time": "2022-06-06T13:26:58.255Z"
   },
   {
    "duration": 339,
    "start_time": "2022-06-06T13:26:58.273Z"
   },
   {
    "duration": 136,
    "start_time": "2022-06-06T13:26:58.614Z"
   },
   {
    "duration": 16,
    "start_time": "2022-06-06T13:26:58.759Z"
   },
   {
    "duration": 140,
    "start_time": "2022-06-06T13:26:58.776Z"
   },
   {
    "duration": 43,
    "start_time": "2022-06-06T13:26:58.918Z"
   },
   {
    "duration": 188,
    "start_time": "2022-06-06T13:26:58.968Z"
   },
   {
    "duration": 13,
    "start_time": "2022-06-06T13:26:59.160Z"
   },
   {
    "duration": 204,
    "start_time": "2022-06-06T13:26:59.175Z"
   },
   {
    "duration": 189,
    "start_time": "2022-06-06T13:26:59.380Z"
   },
   {
    "duration": 20,
    "start_time": "2022-06-06T13:26:59.572Z"
   },
   {
    "duration": 44,
    "start_time": "2022-06-06T13:26:59.594Z"
   },
   {
    "duration": 21,
    "start_time": "2022-06-06T13:26:59.640Z"
   },
   {
    "duration": 28,
    "start_time": "2022-06-06T13:26:59.663Z"
   },
   {
    "duration": 43,
    "start_time": "2022-06-06T13:26:59.694Z"
   },
   {
    "duration": 39,
    "start_time": "2022-06-06T13:26:59.739Z"
   },
   {
    "duration": 16,
    "start_time": "2022-06-06T13:26:59.780Z"
   },
   {
    "duration": 17,
    "start_time": "2022-06-06T13:26:59.798Z"
   },
   {
    "duration": 54,
    "start_time": "2022-06-06T13:26:59.816Z"
   },
   {
    "duration": 21,
    "start_time": "2022-06-06T13:26:59.872Z"
   },
   {
    "duration": 10,
    "start_time": "2022-06-06T13:26:59.895Z"
   },
   {
    "duration": 13,
    "start_time": "2022-06-06T13:26:59.907Z"
   },
   {
    "duration": 35,
    "start_time": "2022-06-06T13:26:59.927Z"
   },
   {
    "duration": 15,
    "start_time": "2022-06-06T13:26:59.971Z"
   },
   {
    "duration": 11,
    "start_time": "2022-06-06T13:26:59.987Z"
   },
   {
    "duration": 16,
    "start_time": "2022-06-06T13:27:00.000Z"
   },
   {
    "duration": 11,
    "start_time": "2022-06-06T13:27:08.962Z"
   },
   {
    "duration": 6,
    "start_time": "2022-06-06T13:27:11.104Z"
   },
   {
    "duration": 148,
    "start_time": "2022-06-06T13:27:44.544Z"
   },
   {
    "duration": 19,
    "start_time": "2022-06-06T13:27:49.896Z"
   },
   {
    "duration": 143,
    "start_time": "2022-06-06T13:28:21.102Z"
   },
   {
    "duration": 11,
    "start_time": "2022-06-06T13:28:28.407Z"
   },
   {
    "duration": 187,
    "start_time": "2022-06-06T13:28:40.574Z"
   },
   {
    "duration": 163,
    "start_time": "2022-06-06T13:28:44.858Z"
   },
   {
    "duration": 22,
    "start_time": "2022-06-06T13:29:10.617Z"
   },
   {
    "duration": 15,
    "start_time": "2022-06-06T13:30:40.966Z"
   },
   {
    "duration": 15,
    "start_time": "2022-06-06T13:32:43.651Z"
   },
   {
    "duration": 43,
    "start_time": "2022-06-06T13:33:39.018Z"
   },
   {
    "duration": 14,
    "start_time": "2022-06-06T13:36:37.086Z"
   },
   {
    "duration": 16,
    "start_time": "2022-06-06T13:36:40.051Z"
   },
   {
    "duration": 16,
    "start_time": "2022-06-06T13:36:43.248Z"
   },
   {
    "duration": 15,
    "start_time": "2022-06-06T13:37:18.272Z"
   },
   {
    "duration": 18,
    "start_time": "2022-06-06T13:37:20.717Z"
   },
   {
    "duration": 15,
    "start_time": "2022-06-06T13:37:23.167Z"
   },
   {
    "duration": 14,
    "start_time": "2022-06-06T13:37:30.216Z"
   },
   {
    "duration": 11,
    "start_time": "2022-06-06T13:37:32.570Z"
   },
   {
    "duration": 11,
    "start_time": "2022-06-06T13:37:38.780Z"
   },
   {
    "duration": 10,
    "start_time": "2022-06-06T13:37:45.544Z"
   },
   {
    "duration": 12,
    "start_time": "2022-06-06T13:37:49.369Z"
   },
   {
    "duration": 19,
    "start_time": "2022-06-06T14:23:09.617Z"
   },
   {
    "duration": 7,
    "start_time": "2022-06-06T14:23:24.776Z"
   },
   {
    "duration": 14,
    "start_time": "2022-06-06T14:26:05.298Z"
   },
   {
    "duration": 12,
    "start_time": "2022-06-06T14:26:38.497Z"
   },
   {
    "duration": 26,
    "start_time": "2022-06-06T14:29:01.114Z"
   },
   {
    "duration": 22,
    "start_time": "2022-06-06T14:33:01.443Z"
   },
   {
    "duration": 11,
    "start_time": "2022-06-06T14:33:03.256Z"
   },
   {
    "duration": 17,
    "start_time": "2022-06-06T14:33:05.392Z"
   },
   {
    "duration": 1073,
    "start_time": "2022-06-06T15:50:58.128Z"
   },
   {
    "duration": 68,
    "start_time": "2022-06-06T15:50:59.203Z"
   },
   {
    "duration": 4,
    "start_time": "2022-06-06T15:50:59.272Z"
   },
   {
    "duration": 15,
    "start_time": "2022-06-06T15:50:59.278Z"
   },
   {
    "duration": 7,
    "start_time": "2022-06-06T15:50:59.295Z"
   },
   {
    "duration": 26,
    "start_time": "2022-06-06T15:50:59.304Z"
   },
   {
    "duration": 3,
    "start_time": "2022-06-06T15:50:59.331Z"
   },
   {
    "duration": 10,
    "start_time": "2022-06-06T15:50:59.335Z"
   },
   {
    "duration": 8,
    "start_time": "2022-06-06T15:50:59.346Z"
   },
   {
    "duration": 17,
    "start_time": "2022-06-06T15:50:59.355Z"
   },
   {
    "duration": 7,
    "start_time": "2022-06-06T15:50:59.373Z"
   },
   {
    "duration": 13,
    "start_time": "2022-06-06T15:50:59.381Z"
   },
   {
    "duration": 10,
    "start_time": "2022-06-06T15:50:59.395Z"
   },
   {
    "duration": 13,
    "start_time": "2022-06-06T15:50:59.407Z"
   },
   {
    "duration": 6,
    "start_time": "2022-06-06T15:50:59.422Z"
   },
   {
    "duration": 6,
    "start_time": "2022-06-06T15:50:59.429Z"
   },
   {
    "duration": 12,
    "start_time": "2022-06-06T15:50:59.436Z"
   },
   {
    "duration": 11,
    "start_time": "2022-06-06T15:50:59.449Z"
   },
   {
    "duration": 217,
    "start_time": "2022-06-06T15:50:59.461Z"
   },
   {
    "duration": 90,
    "start_time": "2022-06-06T15:50:59.680Z"
   },
   {
    "duration": 546,
    "start_time": "2022-06-06T15:50:59.772Z"
   },
   {
    "duration": 8,
    "start_time": "2022-06-06T15:51:00.320Z"
   },
   {
    "duration": 300,
    "start_time": "2022-06-06T15:51:00.329Z"
   },
   {
    "duration": 108,
    "start_time": "2022-06-06T15:51:00.630Z"
   },
   {
    "duration": 13,
    "start_time": "2022-06-06T15:51:00.740Z"
   },
   {
    "duration": 170,
    "start_time": "2022-06-06T15:51:00.755Z"
   },
   {
    "duration": 10,
    "start_time": "2022-06-06T15:51:00.927Z"
   },
   {
    "duration": 128,
    "start_time": "2022-06-06T15:51:00.939Z"
   },
   {
    "duration": 10,
    "start_time": "2022-06-06T15:51:01.069Z"
   },
   {
    "duration": 138,
    "start_time": "2022-06-06T15:51:01.080Z"
   },
   {
    "duration": 141,
    "start_time": "2022-06-06T15:51:01.220Z"
   },
   {
    "duration": 12,
    "start_time": "2022-06-06T15:51:01.363Z"
   },
   {
    "duration": 30,
    "start_time": "2022-06-06T15:51:01.376Z"
   },
   {
    "duration": 29,
    "start_time": "2022-06-06T15:51:01.408Z"
   },
   {
    "duration": 27,
    "start_time": "2022-06-06T15:51:01.438Z"
   },
   {
    "duration": 19,
    "start_time": "2022-06-06T15:51:01.466Z"
   },
   {
    "duration": 26,
    "start_time": "2022-06-06T15:51:01.487Z"
   },
   {
    "duration": 25,
    "start_time": "2022-06-06T15:51:01.515Z"
   },
   {
    "duration": 17,
    "start_time": "2022-06-06T15:51:01.542Z"
   },
   {
    "duration": 19,
    "start_time": "2022-06-06T15:51:01.560Z"
   },
   {
    "duration": 20,
    "start_time": "2022-06-06T15:51:01.582Z"
   },
   {
    "duration": 26,
    "start_time": "2022-06-06T15:51:01.604Z"
   },
   {
    "duration": 16,
    "start_time": "2022-06-06T15:51:01.631Z"
   },
   {
    "duration": 29,
    "start_time": "2022-06-06T15:51:01.649Z"
   },
   {
    "duration": 34,
    "start_time": "2022-06-06T15:51:01.680Z"
   },
   {
    "duration": 18,
    "start_time": "2022-06-06T15:51:01.716Z"
   },
   {
    "duration": 30,
    "start_time": "2022-06-06T15:51:01.735Z"
   },
   {
    "duration": 9,
    "start_time": "2022-06-06T15:54:37.356Z"
   },
   {
    "duration": 1107,
    "start_time": "2022-06-06T16:02:04.083Z"
   },
   {
    "duration": 69,
    "start_time": "2022-06-06T16:02:05.192Z"
   },
   {
    "duration": 5,
    "start_time": "2022-06-06T16:02:05.262Z"
   },
   {
    "duration": 27,
    "start_time": "2022-06-06T16:02:05.269Z"
   },
   {
    "duration": 8,
    "start_time": "2022-06-06T16:02:05.298Z"
   },
   {
    "duration": 45,
    "start_time": "2022-06-06T16:02:05.308Z"
   },
   {
    "duration": 4,
    "start_time": "2022-06-06T16:02:05.354Z"
   },
   {
    "duration": 17,
    "start_time": "2022-06-06T16:02:05.359Z"
   },
   {
    "duration": 11,
    "start_time": "2022-06-06T16:02:05.378Z"
   },
   {
    "duration": 14,
    "start_time": "2022-06-06T16:02:05.391Z"
   },
   {
    "duration": 9,
    "start_time": "2022-06-06T16:02:05.406Z"
   },
   {
    "duration": 15,
    "start_time": "2022-06-06T16:02:05.416Z"
   },
   {
    "duration": 7,
    "start_time": "2022-06-06T16:02:05.432Z"
   },
   {
    "duration": 5,
    "start_time": "2022-06-06T16:02:05.442Z"
   },
   {
    "duration": 18,
    "start_time": "2022-06-06T16:02:05.448Z"
   },
   {
    "duration": 5,
    "start_time": "2022-06-06T16:02:05.467Z"
   },
   {
    "duration": 6,
    "start_time": "2022-06-06T16:02:05.474Z"
   },
   {
    "duration": 6,
    "start_time": "2022-06-06T16:02:05.481Z"
   },
   {
    "duration": 196,
    "start_time": "2022-06-06T16:02:05.489Z"
   },
   {
    "duration": 73,
    "start_time": "2022-06-06T16:02:05.687Z"
   },
   {
    "duration": 500,
    "start_time": "2022-06-06T16:02:05.761Z"
   },
   {
    "duration": 6,
    "start_time": "2022-06-06T16:02:06.262Z"
   },
   {
    "duration": 255,
    "start_time": "2022-06-06T16:02:06.270Z"
   },
   {
    "duration": 108,
    "start_time": "2022-06-06T16:02:06.526Z"
   },
   {
    "duration": 12,
    "start_time": "2022-06-06T16:02:06.635Z"
   },
   {
    "duration": 121,
    "start_time": "2022-06-06T16:02:06.649Z"
   },
   {
    "duration": 9,
    "start_time": "2022-06-06T16:02:06.772Z"
   },
   {
    "duration": 117,
    "start_time": "2022-06-06T16:02:06.782Z"
   },
   {
    "duration": 14,
    "start_time": "2022-06-06T16:02:06.901Z"
   },
   {
    "duration": 130,
    "start_time": "2022-06-06T16:02:06.916Z"
   },
   {
    "duration": 126,
    "start_time": "2022-06-06T16:02:07.048Z"
   },
   {
    "duration": 13,
    "start_time": "2022-06-06T16:02:07.176Z"
   },
   {
    "duration": 26,
    "start_time": "2022-06-06T16:02:07.190Z"
   },
   {
    "duration": 16,
    "start_time": "2022-06-06T16:02:07.217Z"
   },
   {
    "duration": 13,
    "start_time": "2022-06-06T16:02:07.234Z"
   },
   {
    "duration": 12,
    "start_time": "2022-06-06T16:02:07.248Z"
   },
   {
    "duration": 11,
    "start_time": "2022-06-06T16:02:07.262Z"
   },
   {
    "duration": 18,
    "start_time": "2022-06-06T16:02:07.274Z"
   },
   {
    "duration": 26,
    "start_time": "2022-06-06T16:02:07.293Z"
   },
   {
    "duration": 14,
    "start_time": "2022-06-06T16:02:07.320Z"
   },
   {
    "duration": 12,
    "start_time": "2022-06-06T16:02:07.337Z"
   },
   {
    "duration": 8,
    "start_time": "2022-06-06T16:02:07.351Z"
   },
   {
    "duration": 9,
    "start_time": "2022-06-06T16:02:07.360Z"
   },
   {
    "duration": 11,
    "start_time": "2022-06-06T16:02:07.370Z"
   },
   {
    "duration": 31,
    "start_time": "2022-06-06T16:02:07.382Z"
   },
   {
    "duration": 19,
    "start_time": "2022-06-06T16:02:07.415Z"
   },
   {
    "duration": 14,
    "start_time": "2022-06-06T16:02:07.435Z"
   }
  ],
  "kernelspec": {
   "display_name": "Python 3 (ipykernel)",
   "language": "python",
   "name": "python3"
  },
  "language_info": {
   "codemirror_mode": {
    "name": "ipython",
    "version": 3
   },
   "file_extension": ".py",
   "mimetype": "text/x-python",
   "name": "python",
   "nbconvert_exporter": "python",
   "pygments_lexer": "ipython3",
   "version": "3.9.7"
  },
  "toc": {
   "base_numbering": 1,
   "nav_menu": {},
   "number_sections": true,
   "sideBar": true,
   "skip_h1_title": true,
   "title_cell": "Table of Contents",
   "title_sidebar": "Contents",
   "toc_cell": false,
   "toc_position": {
    "height": "calc(100% - 180px)",
    "left": "10px",
    "top": "150px",
    "width": "392px"
   },
   "toc_section_display": true,
   "toc_window_display": false
  }
 },
 "nbformat": 4,
 "nbformat_minor": 2
}
