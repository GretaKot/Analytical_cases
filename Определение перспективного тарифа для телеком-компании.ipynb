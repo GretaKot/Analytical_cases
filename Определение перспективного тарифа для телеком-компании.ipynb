{
 "cells": [
  {
   "cell_type": "markdown",
   "metadata": {},
   "source": [
    "<h1><b>Определение перспективного тарифа для телеком-компании</b><h1>"
   ]
  },
  {
   "cell_type": "markdown",
   "metadata": {},
   "source": [
    "<div style=\"border:solid green 2px; padding: 20px\">\n",
    " \n",
    "<b>Что у нас есть</b><br>\n",
    "    В нашем распоряжении данные 500 пользователей «Мегалайна»: кто они, откуда, каким тарифом пользуются, сколько звонков и сообщений каждый отправил за 2018 год.<br><br>\n",
    "<b>Что требуется сделать?</b><br>\n",
    "    Необходмо проанализировать поведение клиентов и сделать вывод — какой тариф лучше.\n",
    "    \n",
    "</div>"
   ]
  },
  {
   "cell_type": "markdown",
   "metadata": {},
   "source": [
    "<h1>Описание тарифов:</h1><br>\n",
    "<br>\n",
    "<b>Тариф «Смарт»</b>\n",
    "<ul>\n",
    "    <li>Ежемесячная плата: 550 рублей</li>\n",
    "    <li>Включено 500 минут разговора, 50 сообщений и 15 Гб интернет-трафика</li>\n",
    "    <li>Стоимость услуг сверх тарифного пакета:</li>\n",
    "    <ul>\n",
    "        <li>минута разговора: 3 рубля</li>\n",
    "        <li>сообщение: 3 рубля</li>\n",
    "        <li>1 Гб интернет-трафика: 200 рублей</li>\n",
    "        </ul>\n",
    "</ul> \n",
    "<br>\n",
    "<b>Тариф «Ультра»</b>\n",
    "<ul>\n",
    "    <li>Ежемесячная плата: 1950 рублей</li>\n",
    "    <li>Включено 3000 минут разговора, 1000 сообщений и 30 Гб интернет-трафика</li>\n",
    "    <li>Стоимость услуг сверх тарифного пакета:</li>\n",
    "    <ul>\n",
    "        <li>минута разговора: 1 рубль</li>\n",
    "        <li>сообщение: 1 рубль</li>\n",
    "        <li>1 Гб интернет-трафика: 150 рублей</li>\n",
    "        </ul>\n",
    "</ul>  \n",
    "    \n"
   ]
  },
  {
   "cell_type": "markdown",
   "metadata": {},
   "source": [
    "<h1>Описание данных:</h1>\n",
    "<br>\n",
    "<b>users (информация о пользователях):</b>\n",
    "<ul>\n",
    "<li><i>user_id</i> — уникальный идентификатор пользователя</li>\n",
    "<li><i>first_name</i> — имя пользователя</li>\n",
    "<li><i>last_name</i> — фамилия пользователя</li>\n",
    "<li><i>age</i> — возраст пользователя (годы)</li>\n",
    "<li><i>reg_date</i> — дата подключения тарифа (день, месяц, год)</li>\n",
    "<li><i>churn_date</i> — дата прекращения пользования тарифом (если значение пропущено, то тариф ещё действовал на момент выгрузки данных)</li>\n",
    "<li><i>city</i> — город проживания пользователя</li>\n",
    "<li><i>tariff</i> — название тарифного плана</li>\n",
    "</ul>\n",
    "<br>\n",
    "<b>calls (информация о звонках):</b>\n",
    "<ul>\n",
    "<li><i>id</i> — уникальный номер звонка</li>\n",
    "<li><i>call_date</i> — дата звонка</li>\n",
    "<li><i>duration</i> — длительность звонка в минутах</li>\n",
    "<li><i>user_id</i> — идентификатор пользователя, сделавшего звонок</li>\n",
    "</ul>\n",
    "<br>\n",
    "<b>messages (информация о сообщениях):</b>\n",
    "<ul>\n",
    "<li><i>id</i> — уникальный номер сообщения</li>\n",
    "<li><i>message_date</i> - дата сообщения</li>\n",
    "<li><i>user_id</i> — идентификатор пользователя, отправившего сообщение</li>\n",
    "</ul>\n",
    "<br>\n",
    "<b>internet (информация об интернет-сессиях):</b>\n",
    "<ul>\n",
    "<li><i>id</i> — уникальный номер сесси</li>\n",
    "<li><i>mb_used</i>объём потраченного за сессию интернет-трафика (в мегабайтах)</li>\n",
    "<li><i>session_date</i> — дата интернет-сессии</li>\n",
    "<li><i>user_id</i> — идентификатор пользователя</li>\n",
    "</ul>\n",
    "<br>\n",
    "<b>tariffs (информация о тарифах):</b>\n",
    "<ul>\n",
    "<li><i>tariff_name</i> — название тарифа</li>\n",
    "<li><i>rub_monthly_fee</i>ежемесячная абонентская плата в рублях</li>\n",
    "<li><i>minutes_included</i> — количество минут разговора в месяц, включённых в абонентскую плату</li>\n",
    "<li><i>messages_included</i> — количество сообщений в месяц, включённых в абонентскую плату</li>\n",
    "<li><i>mb_per_month_included</i> -  объём интернет-трафика, включённого в абонентскую плату (в мегабайтах)</li>\n",
    "<li><i>rub_per_minute</i> - стоимость минуты разговора сверх тарифного пакета (например, если в тарифе 100 минут разговора в месяц, то со 101 минуты будет взиматься плата)</li>\n",
    "<li><i>rub_per_message</i> - стоимость отправки сообщения сверх тарифного пакета</li>\n",
    "    <li>rub_per_gb<i></i> - стоимость дополнительного гигабайта интернет-трафика сверх тарифного пакета (1 гигабайт = 1024 мегабайта)</li>\n",
    "</ul>\n",
    "\n"
   ]
  },
  {
   "cell_type": "markdown",
   "metadata": {},
   "source": [
    "## Подготовка и изучение данных"
   ]
  },
  {
   "cell_type": "code",
   "execution_count": 1,
   "metadata": {},
   "outputs": [],
   "source": [
    "import pandas as pd\n",
    "import matplotlib.pyplot as plt\n",
    "import numpy as np\n",
    "import math\n",
    "from scipy import stats as st"
   ]
  },
  {
   "cell_type": "markdown",
   "metadata": {},
   "source": [
    "<div class=\"alert alert-info\">\n",
    "<b>Таблица users</b>    \n",
    "</div>"
   ]
  },
  {
   "cell_type": "code",
   "execution_count": 2,
   "metadata": {},
   "outputs": [
    {
     "data": {
      "text/html": [
       "<div>\n",
       "<style scoped>\n",
       "    .dataframe tbody tr th:only-of-type {\n",
       "        vertical-align: middle;\n",
       "    }\n",
       "\n",
       "    .dataframe tbody tr th {\n",
       "        vertical-align: top;\n",
       "    }\n",
       "\n",
       "    .dataframe thead th {\n",
       "        text-align: right;\n",
       "    }\n",
       "</style>\n",
       "<table border=\"1\" class=\"dataframe\">\n",
       "  <thead>\n",
       "    <tr style=\"text-align: right;\">\n",
       "      <th></th>\n",
       "      <th>user_id</th>\n",
       "      <th>age</th>\n",
       "      <th>churn_date</th>\n",
       "      <th>city</th>\n",
       "      <th>first_name</th>\n",
       "      <th>last_name</th>\n",
       "      <th>reg_date</th>\n",
       "      <th>tariff</th>\n",
       "    </tr>\n",
       "  </thead>\n",
       "  <tbody>\n",
       "    <tr>\n",
       "      <th>0</th>\n",
       "      <td>1000</td>\n",
       "      <td>52</td>\n",
       "      <td>NaN</td>\n",
       "      <td>Краснодар</td>\n",
       "      <td>Рафаил</td>\n",
       "      <td>Верещагин</td>\n",
       "      <td>2018-05-25</td>\n",
       "      <td>ultra</td>\n",
       "    </tr>\n",
       "    <tr>\n",
       "      <th>1</th>\n",
       "      <td>1001</td>\n",
       "      <td>41</td>\n",
       "      <td>NaN</td>\n",
       "      <td>Москва</td>\n",
       "      <td>Иван</td>\n",
       "      <td>Ежов</td>\n",
       "      <td>2018-11-01</td>\n",
       "      <td>smart</td>\n",
       "    </tr>\n",
       "    <tr>\n",
       "      <th>2</th>\n",
       "      <td>1002</td>\n",
       "      <td>59</td>\n",
       "      <td>NaN</td>\n",
       "      <td>Стерлитамак</td>\n",
       "      <td>Евгений</td>\n",
       "      <td>Абрамович</td>\n",
       "      <td>2018-06-17</td>\n",
       "      <td>smart</td>\n",
       "    </tr>\n",
       "    <tr>\n",
       "      <th>3</th>\n",
       "      <td>1003</td>\n",
       "      <td>23</td>\n",
       "      <td>NaN</td>\n",
       "      <td>Москва</td>\n",
       "      <td>Белла</td>\n",
       "      <td>Белякова</td>\n",
       "      <td>2018-08-17</td>\n",
       "      <td>ultra</td>\n",
       "    </tr>\n",
       "    <tr>\n",
       "      <th>4</th>\n",
       "      <td>1004</td>\n",
       "      <td>68</td>\n",
       "      <td>NaN</td>\n",
       "      <td>Новокузнецк</td>\n",
       "      <td>Татьяна</td>\n",
       "      <td>Авдеенко</td>\n",
       "      <td>2018-05-14</td>\n",
       "      <td>ultra</td>\n",
       "    </tr>\n",
       "    <tr>\n",
       "      <th>5</th>\n",
       "      <td>1005</td>\n",
       "      <td>67</td>\n",
       "      <td>NaN</td>\n",
       "      <td>Набережные Челны</td>\n",
       "      <td>Афанасий</td>\n",
       "      <td>Горлов</td>\n",
       "      <td>2018-01-25</td>\n",
       "      <td>smart</td>\n",
       "    </tr>\n",
       "    <tr>\n",
       "      <th>6</th>\n",
       "      <td>1006</td>\n",
       "      <td>21</td>\n",
       "      <td>NaN</td>\n",
       "      <td>Ульяновск</td>\n",
       "      <td>Леонид</td>\n",
       "      <td>Ермолаев</td>\n",
       "      <td>2018-02-26</td>\n",
       "      <td>smart</td>\n",
       "    </tr>\n",
       "    <tr>\n",
       "      <th>7</th>\n",
       "      <td>1007</td>\n",
       "      <td>65</td>\n",
       "      <td>NaN</td>\n",
       "      <td>Москва</td>\n",
       "      <td>Юна</td>\n",
       "      <td>Березина</td>\n",
       "      <td>2018-04-19</td>\n",
       "      <td>smart</td>\n",
       "    </tr>\n",
       "    <tr>\n",
       "      <th>8</th>\n",
       "      <td>1008</td>\n",
       "      <td>63</td>\n",
       "      <td>NaN</td>\n",
       "      <td>Челябинск</td>\n",
       "      <td>Рустэм</td>\n",
       "      <td>Пономарёв</td>\n",
       "      <td>2018-12-19</td>\n",
       "      <td>smart</td>\n",
       "    </tr>\n",
       "    <tr>\n",
       "      <th>9</th>\n",
       "      <td>1009</td>\n",
       "      <td>24</td>\n",
       "      <td>NaN</td>\n",
       "      <td>Пермь</td>\n",
       "      <td>Василиса</td>\n",
       "      <td>Блинова</td>\n",
       "      <td>2018-03-22</td>\n",
       "      <td>smart</td>\n",
       "    </tr>\n",
       "    <tr>\n",
       "      <th>10</th>\n",
       "      <td>1010</td>\n",
       "      <td>26</td>\n",
       "      <td>NaN</td>\n",
       "      <td>Тюмень</td>\n",
       "      <td>Эдуард</td>\n",
       "      <td>Кононов</td>\n",
       "      <td>2018-08-05</td>\n",
       "      <td>smart</td>\n",
       "    </tr>\n",
       "    <tr>\n",
       "      <th>11</th>\n",
       "      <td>1011</td>\n",
       "      <td>44</td>\n",
       "      <td>NaN</td>\n",
       "      <td>Самара</td>\n",
       "      <td>Веселина</td>\n",
       "      <td>Алёшко</td>\n",
       "      <td>2018-03-19</td>\n",
       "      <td>smart</td>\n",
       "    </tr>\n",
       "    <tr>\n",
       "      <th>12</th>\n",
       "      <td>1012</td>\n",
       "      <td>38</td>\n",
       "      <td>NaN</td>\n",
       "      <td>Санкт-Петербург</td>\n",
       "      <td>Варлам</td>\n",
       "      <td>Соловьев</td>\n",
       "      <td>2018-03-28</td>\n",
       "      <td>smart</td>\n",
       "    </tr>\n",
       "    <tr>\n",
       "      <th>13</th>\n",
       "      <td>1013</td>\n",
       "      <td>36</td>\n",
       "      <td>NaN</td>\n",
       "      <td>Иваново</td>\n",
       "      <td>Борис</td>\n",
       "      <td>Андреенко</td>\n",
       "      <td>2018-11-14</td>\n",
       "      <td>ultra</td>\n",
       "    </tr>\n",
       "    <tr>\n",
       "      <th>14</th>\n",
       "      <td>1014</td>\n",
       "      <td>64</td>\n",
       "      <td>NaN</td>\n",
       "      <td>Чебоксары</td>\n",
       "      <td>Яков</td>\n",
       "      <td>Акинфьев</td>\n",
       "      <td>2018-05-15</td>\n",
       "      <td>smart</td>\n",
       "    </tr>\n",
       "  </tbody>\n",
       "</table>\n",
       "</div>"
      ],
      "text/plain": [
       "    user_id  age churn_date              city first_name  last_name  \\\n",
       "0      1000   52        NaN         Краснодар     Рафаил  Верещагин   \n",
       "1      1001   41        NaN            Москва       Иван       Ежов   \n",
       "2      1002   59        NaN       Стерлитамак    Евгений  Абрамович   \n",
       "3      1003   23        NaN            Москва      Белла   Белякова   \n",
       "4      1004   68        NaN       Новокузнецк    Татьяна   Авдеенко   \n",
       "5      1005   67        NaN  Набережные Челны   Афанасий     Горлов   \n",
       "6      1006   21        NaN         Ульяновск     Леонид   Ермолаев   \n",
       "7      1007   65        NaN            Москва        Юна   Березина   \n",
       "8      1008   63        NaN         Челябинск     Рустэм  Пономарёв   \n",
       "9      1009   24        NaN             Пермь   Василиса    Блинова   \n",
       "10     1010   26        NaN            Тюмень     Эдуард    Кононов   \n",
       "11     1011   44        NaN            Самара   Веселина     Алёшко   \n",
       "12     1012   38        NaN   Санкт-Петербург     Варлам   Соловьев   \n",
       "13     1013   36        NaN           Иваново      Борис  Андреенко   \n",
       "14     1014   64        NaN         Чебоксары       Яков   Акинфьев   \n",
       "\n",
       "      reg_date tariff  \n",
       "0   2018-05-25  ultra  \n",
       "1   2018-11-01  smart  \n",
       "2   2018-06-17  smart  \n",
       "3   2018-08-17  ultra  \n",
       "4   2018-05-14  ultra  \n",
       "5   2018-01-25  smart  \n",
       "6   2018-02-26  smart  \n",
       "7   2018-04-19  smart  \n",
       "8   2018-12-19  smart  \n",
       "9   2018-03-22  smart  \n",
       "10  2018-08-05  smart  \n",
       "11  2018-03-19  smart  \n",
       "12  2018-03-28  smart  \n",
       "13  2018-11-14  ultra  \n",
       "14  2018-05-15  smart  "
      ]
     },
     "execution_count": 2,
     "metadata": {},
     "output_type": "execute_result"
    }
   ],
   "source": [
    "data_users = pd.read_csv('/datasets/users.csv')\n",
    "data_users.head(15)"
   ]
  },
  {
   "cell_type": "code",
   "execution_count": 3,
   "metadata": {},
   "outputs": [
    {
     "name": "stdout",
     "output_type": "stream",
     "text": [
      "<class 'pandas.core.frame.DataFrame'>\n",
      "RangeIndex: 500 entries, 0 to 499\n",
      "Data columns (total 8 columns):\n",
      " #   Column      Non-Null Count  Dtype \n",
      "---  ------      --------------  ----- \n",
      " 0   user_id     500 non-null    int64 \n",
      " 1   age         500 non-null    int64 \n",
      " 2   churn_date  38 non-null     object\n",
      " 3   city        500 non-null    object\n",
      " 4   first_name  500 non-null    object\n",
      " 5   last_name   500 non-null    object\n",
      " 6   reg_date    500 non-null    object\n",
      " 7   tariff      500 non-null    object\n",
      "dtypes: int64(2), object(6)\n",
      "memory usage: 31.4+ KB\n"
     ]
    }
   ],
   "source": [
    "data_users.info()"
   ]
  },
  {
   "cell_type": "code",
   "execution_count": 4,
   "metadata": {},
   "outputs": [
    {
     "data": {
      "text/plain": [
       "user_id         0\n",
       "age             0\n",
       "churn_date    462\n",
       "city            0\n",
       "first_name      0\n",
       "last_name       0\n",
       "reg_date        0\n",
       "tariff          0\n",
       "dtype: int64"
      ]
     },
     "execution_count": 4,
     "metadata": {},
     "output_type": "execute_result"
    }
   ],
   "source": [
    "data_users.isnull().sum()"
   ]
  },
  {
   "cell_type": "markdown",
   "metadata": {},
   "source": [
    "<div class=\"alert alert-info\">\n",
    "<b>В таблице users нет пропусков, требующих заполнения</b><br>\n",
    "<b>churn_date</b> содержит пропуски в 462 строках, так как эти клиенты еще использовали тарифный план на момент выгрузки    \n",
    "</div>"
   ]
  },
  {
   "cell_type": "markdown",
   "metadata": {},
   "source": [
    "<div class=\"alert alert-info\">\n",
    "<b>Таблица calls</b>    \n",
    "</div>"
   ]
  },
  {
   "cell_type": "code",
   "execution_count": 5,
   "metadata": {},
   "outputs": [
    {
     "data": {
      "text/html": [
       "<div>\n",
       "<style scoped>\n",
       "    .dataframe tbody tr th:only-of-type {\n",
       "        vertical-align: middle;\n",
       "    }\n",
       "\n",
       "    .dataframe tbody tr th {\n",
       "        vertical-align: top;\n",
       "    }\n",
       "\n",
       "    .dataframe thead th {\n",
       "        text-align: right;\n",
       "    }\n",
       "</style>\n",
       "<table border=\"1\" class=\"dataframe\">\n",
       "  <thead>\n",
       "    <tr style=\"text-align: right;\">\n",
       "      <th></th>\n",
       "      <th>id</th>\n",
       "      <th>call_date</th>\n",
       "      <th>duration</th>\n",
       "      <th>user_id</th>\n",
       "    </tr>\n",
       "  </thead>\n",
       "  <tbody>\n",
       "    <tr>\n",
       "      <th>0</th>\n",
       "      <td>1000_0</td>\n",
       "      <td>2018-07-25</td>\n",
       "      <td>0.00</td>\n",
       "      <td>1000</td>\n",
       "    </tr>\n",
       "    <tr>\n",
       "      <th>1</th>\n",
       "      <td>1000_1</td>\n",
       "      <td>2018-08-17</td>\n",
       "      <td>0.00</td>\n",
       "      <td>1000</td>\n",
       "    </tr>\n",
       "    <tr>\n",
       "      <th>2</th>\n",
       "      <td>1000_2</td>\n",
       "      <td>2018-06-11</td>\n",
       "      <td>2.85</td>\n",
       "      <td>1000</td>\n",
       "    </tr>\n",
       "    <tr>\n",
       "      <th>3</th>\n",
       "      <td>1000_3</td>\n",
       "      <td>2018-09-21</td>\n",
       "      <td>13.80</td>\n",
       "      <td>1000</td>\n",
       "    </tr>\n",
       "    <tr>\n",
       "      <th>4</th>\n",
       "      <td>1000_4</td>\n",
       "      <td>2018-12-15</td>\n",
       "      <td>5.18</td>\n",
       "      <td>1000</td>\n",
       "    </tr>\n",
       "    <tr>\n",
       "      <th>5</th>\n",
       "      <td>1000_5</td>\n",
       "      <td>2018-11-02</td>\n",
       "      <td>0.00</td>\n",
       "      <td>1000</td>\n",
       "    </tr>\n",
       "    <tr>\n",
       "      <th>6</th>\n",
       "      <td>1000_6</td>\n",
       "      <td>2018-10-18</td>\n",
       "      <td>0.00</td>\n",
       "      <td>1000</td>\n",
       "    </tr>\n",
       "    <tr>\n",
       "      <th>7</th>\n",
       "      <td>1000_7</td>\n",
       "      <td>2018-08-22</td>\n",
       "      <td>18.31</td>\n",
       "      <td>1000</td>\n",
       "    </tr>\n",
       "    <tr>\n",
       "      <th>8</th>\n",
       "      <td>1000_8</td>\n",
       "      <td>2018-09-15</td>\n",
       "      <td>18.44</td>\n",
       "      <td>1000</td>\n",
       "    </tr>\n",
       "    <tr>\n",
       "      <th>9</th>\n",
       "      <td>1000_9</td>\n",
       "      <td>2018-08-15</td>\n",
       "      <td>0.00</td>\n",
       "      <td>1000</td>\n",
       "    </tr>\n",
       "    <tr>\n",
       "      <th>10</th>\n",
       "      <td>1000_10</td>\n",
       "      <td>2018-08-22</td>\n",
       "      <td>5.03</td>\n",
       "      <td>1000</td>\n",
       "    </tr>\n",
       "    <tr>\n",
       "      <th>11</th>\n",
       "      <td>1000_11</td>\n",
       "      <td>2018-05-28</td>\n",
       "      <td>18.82</td>\n",
       "      <td>1000</td>\n",
       "    </tr>\n",
       "    <tr>\n",
       "      <th>12</th>\n",
       "      <td>1000_12</td>\n",
       "      <td>2018-07-05</td>\n",
       "      <td>2.02</td>\n",
       "      <td>1000</td>\n",
       "    </tr>\n",
       "    <tr>\n",
       "      <th>13</th>\n",
       "      <td>1000_13</td>\n",
       "      <td>2018-09-29</td>\n",
       "      <td>7.15</td>\n",
       "      <td>1000</td>\n",
       "    </tr>\n",
       "    <tr>\n",
       "      <th>14</th>\n",
       "      <td>1000_14</td>\n",
       "      <td>2018-12-11</td>\n",
       "      <td>9.13</td>\n",
       "      <td>1000</td>\n",
       "    </tr>\n",
       "  </tbody>\n",
       "</table>\n",
       "</div>"
      ],
      "text/plain": [
       "         id   call_date  duration  user_id\n",
       "0    1000_0  2018-07-25      0.00     1000\n",
       "1    1000_1  2018-08-17      0.00     1000\n",
       "2    1000_2  2018-06-11      2.85     1000\n",
       "3    1000_3  2018-09-21     13.80     1000\n",
       "4    1000_4  2018-12-15      5.18     1000\n",
       "5    1000_5  2018-11-02      0.00     1000\n",
       "6    1000_6  2018-10-18      0.00     1000\n",
       "7    1000_7  2018-08-22     18.31     1000\n",
       "8    1000_8  2018-09-15     18.44     1000\n",
       "9    1000_9  2018-08-15      0.00     1000\n",
       "10  1000_10  2018-08-22      5.03     1000\n",
       "11  1000_11  2018-05-28     18.82     1000\n",
       "12  1000_12  2018-07-05      2.02     1000\n",
       "13  1000_13  2018-09-29      7.15     1000\n",
       "14  1000_14  2018-12-11      9.13     1000"
      ]
     },
     "execution_count": 5,
     "metadata": {},
     "output_type": "execute_result"
    }
   ],
   "source": [
    "data_calls = pd.read_csv('/datasets/calls.csv')\n",
    "data_calls.head(15)"
   ]
  },
  {
   "cell_type": "markdown",
   "metadata": {},
   "source": [
    "<b>Добавили столбец tariff в таблицу data_calls</b>"
   ]
  },
  {
   "cell_type": "code",
   "execution_count": 6,
   "metadata": {},
   "outputs": [],
   "source": [
    "data_calls['tariff'] = data_users['tariff']"
   ]
  },
  {
   "cell_type": "code",
   "execution_count": 7,
   "metadata": {},
   "outputs": [
    {
     "name": "stdout",
     "output_type": "stream",
     "text": [
      "<class 'pandas.core.frame.DataFrame'>\n",
      "RangeIndex: 202607 entries, 0 to 202606\n",
      "Data columns (total 5 columns):\n",
      " #   Column     Non-Null Count   Dtype  \n",
      "---  ------     --------------   -----  \n",
      " 0   id         202607 non-null  object \n",
      " 1   call_date  202607 non-null  object \n",
      " 2   duration   202607 non-null  float64\n",
      " 3   user_id    202607 non-null  int64  \n",
      " 4   tariff     500 non-null     object \n",
      "dtypes: float64(1), int64(1), object(3)\n",
      "memory usage: 7.7+ MB\n"
     ]
    }
   ],
   "source": [
    "data_calls.info()"
   ]
  },
  {
   "cell_type": "markdown",
   "metadata": {},
   "source": [
    "Тип столбца <b>call_date</b> изменим на data"
   ]
  },
  {
   "cell_type": "code",
   "execution_count": 8,
   "metadata": {},
   "outputs": [],
   "source": [
    "data_calls[\"call_date\"]= pd.to_datetime(data_calls[\"call_date\"],format='%Y-%m-%d',errors='coerce')"
   ]
  },
  {
   "cell_type": "code",
   "execution_count": 9,
   "metadata": {},
   "outputs": [
    {
     "data": {
      "text/plain": [
       "id                0\n",
       "call_date         0\n",
       "duration          0\n",
       "user_id           0\n",
       "tariff       202107\n",
       "dtype: int64"
      ]
     },
     "execution_count": 9,
     "metadata": {},
     "output_type": "execute_result"
    }
   ],
   "source": [
    "data_calls.isnull().sum()"
   ]
  },
  {
   "cell_type": "markdown",
   "metadata": {},
   "source": [
    "<div class=\"alert alert-info\">\n",
    "<b>В таблице calls нет пропусков, требующих заполнения</b><br>   \n",
    "</div>"
   ]
  },
  {
   "cell_type": "markdown",
   "metadata": {},
   "source": [
    "<div class=\"alert alert-info\">\n",
    "<b>Таблица messages</b><br>   \n",
    "</div>"
   ]
  },
  {
   "cell_type": "code",
   "execution_count": 10,
   "metadata": {},
   "outputs": [
    {
     "data": {
      "text/html": [
       "<div>\n",
       "<style scoped>\n",
       "    .dataframe tbody tr th:only-of-type {\n",
       "        vertical-align: middle;\n",
       "    }\n",
       "\n",
       "    .dataframe tbody tr th {\n",
       "        vertical-align: top;\n",
       "    }\n",
       "\n",
       "    .dataframe thead th {\n",
       "        text-align: right;\n",
       "    }\n",
       "</style>\n",
       "<table border=\"1\" class=\"dataframe\">\n",
       "  <thead>\n",
       "    <tr style=\"text-align: right;\">\n",
       "      <th></th>\n",
       "      <th>id</th>\n",
       "      <th>message_date</th>\n",
       "      <th>user_id</th>\n",
       "    </tr>\n",
       "  </thead>\n",
       "  <tbody>\n",
       "    <tr>\n",
       "      <th>0</th>\n",
       "      <td>1000_0</td>\n",
       "      <td>2018-06-27</td>\n",
       "      <td>1000</td>\n",
       "    </tr>\n",
       "    <tr>\n",
       "      <th>1</th>\n",
       "      <td>1000_1</td>\n",
       "      <td>2018-10-08</td>\n",
       "      <td>1000</td>\n",
       "    </tr>\n",
       "    <tr>\n",
       "      <th>2</th>\n",
       "      <td>1000_2</td>\n",
       "      <td>2018-08-04</td>\n",
       "      <td>1000</td>\n",
       "    </tr>\n",
       "    <tr>\n",
       "      <th>3</th>\n",
       "      <td>1000_3</td>\n",
       "      <td>2018-06-16</td>\n",
       "      <td>1000</td>\n",
       "    </tr>\n",
       "    <tr>\n",
       "      <th>4</th>\n",
       "      <td>1000_4</td>\n",
       "      <td>2018-12-05</td>\n",
       "      <td>1000</td>\n",
       "    </tr>\n",
       "    <tr>\n",
       "      <th>5</th>\n",
       "      <td>1000_5</td>\n",
       "      <td>2018-06-20</td>\n",
       "      <td>1000</td>\n",
       "    </tr>\n",
       "    <tr>\n",
       "      <th>6</th>\n",
       "      <td>1000_6</td>\n",
       "      <td>2018-11-19</td>\n",
       "      <td>1000</td>\n",
       "    </tr>\n",
       "    <tr>\n",
       "      <th>7</th>\n",
       "      <td>1000_7</td>\n",
       "      <td>2018-10-29</td>\n",
       "      <td>1000</td>\n",
       "    </tr>\n",
       "    <tr>\n",
       "      <th>8</th>\n",
       "      <td>1000_8</td>\n",
       "      <td>2018-06-25</td>\n",
       "      <td>1000</td>\n",
       "    </tr>\n",
       "    <tr>\n",
       "      <th>9</th>\n",
       "      <td>1000_9</td>\n",
       "      <td>2018-12-18</td>\n",
       "      <td>1000</td>\n",
       "    </tr>\n",
       "    <tr>\n",
       "      <th>10</th>\n",
       "      <td>1000_10</td>\n",
       "      <td>2018-05-30</td>\n",
       "      <td>1000</td>\n",
       "    </tr>\n",
       "    <tr>\n",
       "      <th>11</th>\n",
       "      <td>1000_11</td>\n",
       "      <td>2018-07-06</td>\n",
       "      <td>1000</td>\n",
       "    </tr>\n",
       "    <tr>\n",
       "      <th>12</th>\n",
       "      <td>1000_12</td>\n",
       "      <td>2018-08-20</td>\n",
       "      <td>1000</td>\n",
       "    </tr>\n",
       "    <tr>\n",
       "      <th>13</th>\n",
       "      <td>1000_13</td>\n",
       "      <td>2018-10-30</td>\n",
       "      <td>1000</td>\n",
       "    </tr>\n",
       "    <tr>\n",
       "      <th>14</th>\n",
       "      <td>1000_14</td>\n",
       "      <td>2018-09-14</td>\n",
       "      <td>1000</td>\n",
       "    </tr>\n",
       "  </tbody>\n",
       "</table>\n",
       "</div>"
      ],
      "text/plain": [
       "         id message_date  user_id\n",
       "0    1000_0   2018-06-27     1000\n",
       "1    1000_1   2018-10-08     1000\n",
       "2    1000_2   2018-08-04     1000\n",
       "3    1000_3   2018-06-16     1000\n",
       "4    1000_4   2018-12-05     1000\n",
       "5    1000_5   2018-06-20     1000\n",
       "6    1000_6   2018-11-19     1000\n",
       "7    1000_7   2018-10-29     1000\n",
       "8    1000_8   2018-06-25     1000\n",
       "9    1000_9   2018-12-18     1000\n",
       "10  1000_10   2018-05-30     1000\n",
       "11  1000_11   2018-07-06     1000\n",
       "12  1000_12   2018-08-20     1000\n",
       "13  1000_13   2018-10-30     1000\n",
       "14  1000_14   2018-09-14     1000"
      ]
     },
     "execution_count": 10,
     "metadata": {},
     "output_type": "execute_result"
    }
   ],
   "source": [
    "data_messages = pd.read_csv('/datasets/messages.csv')\n",
    "data_messages.head(15)"
   ]
  },
  {
   "cell_type": "code",
   "execution_count": 11,
   "metadata": {},
   "outputs": [
    {
     "name": "stdout",
     "output_type": "stream",
     "text": [
      "<class 'pandas.core.frame.DataFrame'>\n",
      "RangeIndex: 123036 entries, 0 to 123035\n",
      "Data columns (total 3 columns):\n",
      " #   Column        Non-Null Count   Dtype \n",
      "---  ------        --------------   ----- \n",
      " 0   id            123036 non-null  object\n",
      " 1   message_date  123036 non-null  object\n",
      " 2   user_id       123036 non-null  int64 \n",
      "dtypes: int64(1), object(2)\n",
      "memory usage: 2.8+ MB\n"
     ]
    }
   ],
   "source": [
    "data_messages.info()"
   ]
  },
  {
   "cell_type": "markdown",
   "metadata": {},
   "source": [
    "Тип столбца <b>message_date</b> изменим на data"
   ]
  },
  {
   "cell_type": "code",
   "execution_count": 12,
   "metadata": {},
   "outputs": [],
   "source": [
    "data_messages[\"message_date\"]= pd.to_datetime(data_messages[\"message_date\"],format='%Y-%m-%d',errors='coerce')"
   ]
  },
  {
   "cell_type": "code",
   "execution_count": 13,
   "metadata": {},
   "outputs": [
    {
     "data": {
      "text/plain": [
       "id              0\n",
       "message_date    0\n",
       "user_id         0\n",
       "dtype: int64"
      ]
     },
     "execution_count": 13,
     "metadata": {},
     "output_type": "execute_result"
    }
   ],
   "source": [
    "data_messages.isnull().sum()"
   ]
  },
  {
   "cell_type": "markdown",
   "metadata": {},
   "source": [
    "<div class=\"alert alert-info\">\n",
    "<b>В таблице messages нет пропусков, требующих заполнения</b><br>   \n",
    "</div>"
   ]
  },
  {
   "cell_type": "markdown",
   "metadata": {},
   "source": [
    "<div class=\"alert alert-info\">\n",
    "<b>Таблица internet</b><br>   \n",
    "</div>"
   ]
  },
  {
   "cell_type": "code",
   "execution_count": 14,
   "metadata": {},
   "outputs": [
    {
     "data": {
      "text/html": [
       "<div>\n",
       "<style scoped>\n",
       "    .dataframe tbody tr th:only-of-type {\n",
       "        vertical-align: middle;\n",
       "    }\n",
       "\n",
       "    .dataframe tbody tr th {\n",
       "        vertical-align: top;\n",
       "    }\n",
       "\n",
       "    .dataframe thead th {\n",
       "        text-align: right;\n",
       "    }\n",
       "</style>\n",
       "<table border=\"1\" class=\"dataframe\">\n",
       "  <thead>\n",
       "    <tr style=\"text-align: right;\">\n",
       "      <th></th>\n",
       "      <th>Unnamed: 0</th>\n",
       "      <th>id</th>\n",
       "      <th>mb_used</th>\n",
       "      <th>session_date</th>\n",
       "      <th>user_id</th>\n",
       "    </tr>\n",
       "  </thead>\n",
       "  <tbody>\n",
       "    <tr>\n",
       "      <th>0</th>\n",
       "      <td>0</td>\n",
       "      <td>1000_0</td>\n",
       "      <td>112.95</td>\n",
       "      <td>2018-11-25</td>\n",
       "      <td>1000</td>\n",
       "    </tr>\n",
       "    <tr>\n",
       "      <th>1</th>\n",
       "      <td>1</td>\n",
       "      <td>1000_1</td>\n",
       "      <td>1052.81</td>\n",
       "      <td>2018-09-07</td>\n",
       "      <td>1000</td>\n",
       "    </tr>\n",
       "    <tr>\n",
       "      <th>2</th>\n",
       "      <td>2</td>\n",
       "      <td>1000_2</td>\n",
       "      <td>1197.26</td>\n",
       "      <td>2018-06-25</td>\n",
       "      <td>1000</td>\n",
       "    </tr>\n",
       "    <tr>\n",
       "      <th>3</th>\n",
       "      <td>3</td>\n",
       "      <td>1000_3</td>\n",
       "      <td>550.27</td>\n",
       "      <td>2018-08-22</td>\n",
       "      <td>1000</td>\n",
       "    </tr>\n",
       "    <tr>\n",
       "      <th>4</th>\n",
       "      <td>4</td>\n",
       "      <td>1000_4</td>\n",
       "      <td>302.56</td>\n",
       "      <td>2018-09-24</td>\n",
       "      <td>1000</td>\n",
       "    </tr>\n",
       "    <tr>\n",
       "      <th>5</th>\n",
       "      <td>5</td>\n",
       "      <td>1000_5</td>\n",
       "      <td>399.97</td>\n",
       "      <td>2018-10-02</td>\n",
       "      <td>1000</td>\n",
       "    </tr>\n",
       "    <tr>\n",
       "      <th>6</th>\n",
       "      <td>6</td>\n",
       "      <td>1000_6</td>\n",
       "      <td>540.08</td>\n",
       "      <td>2018-09-07</td>\n",
       "      <td>1000</td>\n",
       "    </tr>\n",
       "    <tr>\n",
       "      <th>7</th>\n",
       "      <td>7</td>\n",
       "      <td>1000_7</td>\n",
       "      <td>415.70</td>\n",
       "      <td>2018-07-11</td>\n",
       "      <td>1000</td>\n",
       "    </tr>\n",
       "    <tr>\n",
       "      <th>8</th>\n",
       "      <td>8</td>\n",
       "      <td>1000_8</td>\n",
       "      <td>505.40</td>\n",
       "      <td>2018-10-08</td>\n",
       "      <td>1000</td>\n",
       "    </tr>\n",
       "    <tr>\n",
       "      <th>9</th>\n",
       "      <td>9</td>\n",
       "      <td>1000_9</td>\n",
       "      <td>345.54</td>\n",
       "      <td>2018-09-03</td>\n",
       "      <td>1000</td>\n",
       "    </tr>\n",
       "    <tr>\n",
       "      <th>10</th>\n",
       "      <td>10</td>\n",
       "      <td>1000_10</td>\n",
       "      <td>385.14</td>\n",
       "      <td>2018-09-27</td>\n",
       "      <td>1000</td>\n",
       "    </tr>\n",
       "    <tr>\n",
       "      <th>11</th>\n",
       "      <td>11</td>\n",
       "      <td>1000_11</td>\n",
       "      <td>0.00</td>\n",
       "      <td>2018-08-28</td>\n",
       "      <td>1000</td>\n",
       "    </tr>\n",
       "    <tr>\n",
       "      <th>12</th>\n",
       "      <td>12</td>\n",
       "      <td>1000_12</td>\n",
       "      <td>375.87</td>\n",
       "      <td>2018-06-20</td>\n",
       "      <td>1000</td>\n",
       "    </tr>\n",
       "    <tr>\n",
       "      <th>13</th>\n",
       "      <td>13</td>\n",
       "      <td>1000_13</td>\n",
       "      <td>393.83</td>\n",
       "      <td>2018-08-09</td>\n",
       "      <td>1000</td>\n",
       "    </tr>\n",
       "    <tr>\n",
       "      <th>14</th>\n",
       "      <td>14</td>\n",
       "      <td>1000_14</td>\n",
       "      <td>180.64</td>\n",
       "      <td>2018-08-11</td>\n",
       "      <td>1000</td>\n",
       "    </tr>\n",
       "  </tbody>\n",
       "</table>\n",
       "</div>"
      ],
      "text/plain": [
       "    Unnamed: 0       id  mb_used session_date  user_id\n",
       "0            0   1000_0   112.95   2018-11-25     1000\n",
       "1            1   1000_1  1052.81   2018-09-07     1000\n",
       "2            2   1000_2  1197.26   2018-06-25     1000\n",
       "3            3   1000_3   550.27   2018-08-22     1000\n",
       "4            4   1000_4   302.56   2018-09-24     1000\n",
       "5            5   1000_5   399.97   2018-10-02     1000\n",
       "6            6   1000_6   540.08   2018-09-07     1000\n",
       "7            7   1000_7   415.70   2018-07-11     1000\n",
       "8            8   1000_8   505.40   2018-10-08     1000\n",
       "9            9   1000_9   345.54   2018-09-03     1000\n",
       "10          10  1000_10   385.14   2018-09-27     1000\n",
       "11          11  1000_11     0.00   2018-08-28     1000\n",
       "12          12  1000_12   375.87   2018-06-20     1000\n",
       "13          13  1000_13   393.83   2018-08-09     1000\n",
       "14          14  1000_14   180.64   2018-08-11     1000"
      ]
     },
     "execution_count": 14,
     "metadata": {},
     "output_type": "execute_result"
    }
   ],
   "source": [
    "data_internet = pd.read_csv('/datasets/internet.csv')\n",
    "data_internet.head(15)"
   ]
  },
  {
   "cell_type": "code",
   "execution_count": 15,
   "metadata": {},
   "outputs": [
    {
     "name": "stdout",
     "output_type": "stream",
     "text": [
      "<class 'pandas.core.frame.DataFrame'>\n",
      "RangeIndex: 149396 entries, 0 to 149395\n",
      "Data columns (total 5 columns):\n",
      " #   Column        Non-Null Count   Dtype  \n",
      "---  ------        --------------   -----  \n",
      " 0   Unnamed: 0    149396 non-null  int64  \n",
      " 1   id            149396 non-null  object \n",
      " 2   mb_used       149396 non-null  float64\n",
      " 3   session_date  149396 non-null  object \n",
      " 4   user_id       149396 non-null  int64  \n",
      "dtypes: float64(1), int64(2), object(2)\n",
      "memory usage: 5.7+ MB\n"
     ]
    }
   ],
   "source": [
    "data_internet.info()"
   ]
  },
  {
   "cell_type": "markdown",
   "metadata": {},
   "source": [
    "Удалим столбец <b>Unnamed: 0</b> он никакой информации для нас не несёт. Он не описан в описании данных этой таблицы, можно предположить что добавлен в таблицу ошибочно"
   ]
  },
  {
   "cell_type": "code",
   "execution_count": 16,
   "metadata": {},
   "outputs": [],
   "source": [
    "data_internet.drop(columns = ['Unnamed: 0'],axis = 1,  inplace=True)"
   ]
  },
  {
   "cell_type": "markdown",
   "metadata": {},
   "source": [
    "Тип столбца <b>session_date</b> изменим на data"
   ]
  },
  {
   "cell_type": "code",
   "execution_count": 17,
   "metadata": {},
   "outputs": [],
   "source": [
    "data_internet[\"session_date\"]= pd.to_datetime(data_internet[\"session_date\"],format='%Y-%m-%d',errors='coerce')"
   ]
  },
  {
   "cell_type": "code",
   "execution_count": 18,
   "metadata": {},
   "outputs": [
    {
     "data": {
      "text/plain": [
       "id              0\n",
       "message_date    0\n",
       "user_id         0\n",
       "dtype: int64"
      ]
     },
     "execution_count": 18,
     "metadata": {},
     "output_type": "execute_result"
    }
   ],
   "source": [
    "data_messages.isnull().sum()"
   ]
  },
  {
   "cell_type": "markdown",
   "metadata": {},
   "source": [
    "<div class=\"alert alert-info\">\n",
    "<b>В таблице internet нет пропусков, требующих заполнения</b><br>   \n",
    "</div>"
   ]
  },
  {
   "cell_type": "markdown",
   "metadata": {},
   "source": [
    "<div class=\"alert alert-info\">\n",
    "<b>Таблица tariffs</b><br>   \n",
    "</div>"
   ]
  },
  {
   "cell_type": "code",
   "execution_count": 19,
   "metadata": {},
   "outputs": [
    {
     "data": {
      "text/html": [
       "<div>\n",
       "<style scoped>\n",
       "    .dataframe tbody tr th:only-of-type {\n",
       "        vertical-align: middle;\n",
       "    }\n",
       "\n",
       "    .dataframe tbody tr th {\n",
       "        vertical-align: top;\n",
       "    }\n",
       "\n",
       "    .dataframe thead th {\n",
       "        text-align: right;\n",
       "    }\n",
       "</style>\n",
       "<table border=\"1\" class=\"dataframe\">\n",
       "  <thead>\n",
       "    <tr style=\"text-align: right;\">\n",
       "      <th></th>\n",
       "      <th>messages_included</th>\n",
       "      <th>mb_per_month_included</th>\n",
       "      <th>minutes_included</th>\n",
       "      <th>rub_monthly_fee</th>\n",
       "      <th>rub_per_gb</th>\n",
       "      <th>rub_per_message</th>\n",
       "      <th>rub_per_minute</th>\n",
       "      <th>tariff_name</th>\n",
       "    </tr>\n",
       "  </thead>\n",
       "  <tbody>\n",
       "    <tr>\n",
       "      <th>0</th>\n",
       "      <td>50</td>\n",
       "      <td>15360</td>\n",
       "      <td>500</td>\n",
       "      <td>550</td>\n",
       "      <td>200</td>\n",
       "      <td>3</td>\n",
       "      <td>3</td>\n",
       "      <td>smart</td>\n",
       "    </tr>\n",
       "    <tr>\n",
       "      <th>1</th>\n",
       "      <td>1000</td>\n",
       "      <td>30720</td>\n",
       "      <td>3000</td>\n",
       "      <td>1950</td>\n",
       "      <td>150</td>\n",
       "      <td>1</td>\n",
       "      <td>1</td>\n",
       "      <td>ultra</td>\n",
       "    </tr>\n",
       "  </tbody>\n",
       "</table>\n",
       "</div>"
      ],
      "text/plain": [
       "   messages_included  mb_per_month_included  minutes_included  \\\n",
       "0                 50                  15360               500   \n",
       "1               1000                  30720              3000   \n",
       "\n",
       "   rub_monthly_fee  rub_per_gb  rub_per_message  rub_per_minute tariff_name  \n",
       "0              550         200                3               3       smart  \n",
       "1             1950         150                1               1       ultra  "
      ]
     },
     "execution_count": 19,
     "metadata": {},
     "output_type": "execute_result"
    }
   ],
   "source": [
    "data_tariffs = pd.read_csv('/datasets/tariffs.csv')\n",
    "data_tariffs.head(15)"
   ]
  },
  {
   "cell_type": "code",
   "execution_count": 20,
   "metadata": {},
   "outputs": [
    {
     "name": "stdout",
     "output_type": "stream",
     "text": [
      "<class 'pandas.core.frame.DataFrame'>\n",
      "RangeIndex: 2 entries, 0 to 1\n",
      "Data columns (total 8 columns):\n",
      " #   Column                 Non-Null Count  Dtype \n",
      "---  ------                 --------------  ----- \n",
      " 0   messages_included      2 non-null      int64 \n",
      " 1   mb_per_month_included  2 non-null      int64 \n",
      " 2   minutes_included       2 non-null      int64 \n",
      " 3   rub_monthly_fee        2 non-null      int64 \n",
      " 4   rub_per_gb             2 non-null      int64 \n",
      " 5   rub_per_message        2 non-null      int64 \n",
      " 6   rub_per_minute         2 non-null      int64 \n",
      " 7   tariff_name            2 non-null      object\n",
      "dtypes: int64(7), object(1)\n",
      "memory usage: 256.0+ bytes\n"
     ]
    }
   ],
   "source": [
    "data_tariffs.info()"
   ]
  },
  {
   "cell_type": "code",
   "execution_count": 21,
   "metadata": {},
   "outputs": [
    {
     "data": {
      "text/plain": [
       "messages_included        0\n",
       "mb_per_month_included    0\n",
       "minutes_included         0\n",
       "rub_monthly_fee          0\n",
       "rub_per_gb               0\n",
       "rub_per_message          0\n",
       "rub_per_minute           0\n",
       "tariff_name              0\n",
       "dtype: int64"
      ]
     },
     "execution_count": 21,
     "metadata": {},
     "output_type": "execute_result"
    }
   ],
   "source": [
    "data_tariffs.isnull().sum()"
   ]
  },
  {
   "cell_type": "code",
   "execution_count": 22,
   "metadata": {},
   "outputs": [],
   "source": [
    "data_tariffs.rename(columns = {'tariff_name' : 'tariff'}, inplace = True) "
   ]
  },
  {
   "cell_type": "markdown",
   "metadata": {},
   "source": [
    "<div class=\"alert alert-info\">\n",
    "<b>В таблице tariffs нет пропусков, требующих заполнения</b><br>   \n",
    "</div>"
   ]
  },
  {
   "cell_type": "markdown",
   "metadata": {},
   "source": [
    "<b>округлим длительность звонка</b>"
   ]
  },
  {
   "cell_type": "code",
   "execution_count": 23,
   "metadata": {},
   "outputs": [],
   "source": [
    "data_calls['duration'] = data_calls['duration'].apply(np.ceil)"
   ]
  },
  {
   "cell_type": "markdown",
   "metadata": {},
   "source": [
    "<b>сделам столбец с длитетельностью звонка целочисленным</b>"
   ]
  },
  {
   "cell_type": "code",
   "execution_count": 24,
   "metadata": {},
   "outputs": [],
   "source": [
    "data_calls['duration'] = data_calls['duration'].astype('int')"
   ]
  },
  {
   "cell_type": "markdown",
   "metadata": {},
   "source": [
    "<b>Посчитаем для каждого пользователя:</b><br>\n",
    "<ul>\n",
    "    <li>количество сделанных звонков и израсходованных минут разговора по месяцам</li>\n",
    "    <li>количество отправленных сообщений по месяцам</li>\n",
    "    <li>объем израсходованного интернет-трафика по месяцам</li>\n",
    "    <li>помесячную выручку с каждого пользователя (вычтите бесплатный лимит из суммарного количества звонков, сообщений и интернет-трафика; остаток умножьте на значение из тарифного плана; прибавьте абонентскую плату, соответствующую тарифному плану)</li>\n",
    "</ul>"
   ]
  },
  {
   "cell_type": "markdown",
   "metadata": {},
   "source": [
    "<b>количество сделанных звонков и количество израсходованных минут разговора по месяцам</b>"
   ]
  },
  {
   "cell_type": "code",
   "execution_count": 26,
   "metadata": {},
   "outputs": [],
   "source": [
    "data_calls['month'] = pd.DatetimeIndex(data_calls['call_date']).month"
   ]
  },
  {
   "cell_type": "code",
   "execution_count": 27,
   "metadata": {},
   "outputs": [],
   "source": [
    "user_calls = data_calls.groupby(\n",
    "    ['user_id', 'month']).agg({'id': ['count'], 'duration' : ['sum']})"
   ]
  },
  {
   "cell_type": "code",
   "execution_count": 28,
   "metadata": {},
   "outputs": [],
   "source": [
    "user_calls.columns = ['call_total', 'minutes_total']"
   ]
  },
  {
   "cell_type": "code",
   "execution_count": 29,
   "metadata": {},
   "outputs": [
    {
     "data": {
      "text/html": [
       "<div>\n",
       "<style scoped>\n",
       "    .dataframe tbody tr th:only-of-type {\n",
       "        vertical-align: middle;\n",
       "    }\n",
       "\n",
       "    .dataframe tbody tr th {\n",
       "        vertical-align: top;\n",
       "    }\n",
       "\n",
       "    .dataframe thead th {\n",
       "        text-align: right;\n",
       "    }\n",
       "</style>\n",
       "<table border=\"1\" class=\"dataframe\">\n",
       "  <thead>\n",
       "    <tr style=\"text-align: right;\">\n",
       "      <th></th>\n",
       "      <th></th>\n",
       "      <th>call_total</th>\n",
       "      <th>minutes_total</th>\n",
       "    </tr>\n",
       "    <tr>\n",
       "      <th>user_id</th>\n",
       "      <th>month</th>\n",
       "      <th></th>\n",
       "      <th></th>\n",
       "    </tr>\n",
       "  </thead>\n",
       "  <tbody>\n",
       "    <tr>\n",
       "      <th rowspan=\"8\" valign=\"top\">1000</th>\n",
       "      <th>5</th>\n",
       "      <td>22</td>\n",
       "      <td>159</td>\n",
       "    </tr>\n",
       "    <tr>\n",
       "      <th>6</th>\n",
       "      <td>43</td>\n",
       "      <td>172</td>\n",
       "    </tr>\n",
       "    <tr>\n",
       "      <th>7</th>\n",
       "      <td>47</td>\n",
       "      <td>340</td>\n",
       "    </tr>\n",
       "    <tr>\n",
       "      <th>8</th>\n",
       "      <td>52</td>\n",
       "      <td>408</td>\n",
       "    </tr>\n",
       "    <tr>\n",
       "      <th>9</th>\n",
       "      <td>58</td>\n",
       "      <td>466</td>\n",
       "    </tr>\n",
       "    <tr>\n",
       "      <th>10</th>\n",
       "      <td>57</td>\n",
       "      <td>350</td>\n",
       "    </tr>\n",
       "    <tr>\n",
       "      <th>11</th>\n",
       "      <td>43</td>\n",
       "      <td>338</td>\n",
       "    </tr>\n",
       "    <tr>\n",
       "      <th>12</th>\n",
       "      <td>46</td>\n",
       "      <td>333</td>\n",
       "    </tr>\n",
       "    <tr>\n",
       "      <th rowspan=\"2\" valign=\"top\">1001</th>\n",
       "      <th>11</th>\n",
       "      <td>59</td>\n",
       "      <td>430</td>\n",
       "    </tr>\n",
       "    <tr>\n",
       "      <th>12</th>\n",
       "      <td>63</td>\n",
       "      <td>414</td>\n",
       "    </tr>\n",
       "    <tr>\n",
       "      <th rowspan=\"7\" valign=\"top\">1002</th>\n",
       "      <th>6</th>\n",
       "      <td>15</td>\n",
       "      <td>117</td>\n",
       "    </tr>\n",
       "    <tr>\n",
       "      <th>7</th>\n",
       "      <td>26</td>\n",
       "      <td>214</td>\n",
       "    </tr>\n",
       "    <tr>\n",
       "      <th>8</th>\n",
       "      <td>42</td>\n",
       "      <td>289</td>\n",
       "    </tr>\n",
       "    <tr>\n",
       "      <th>9</th>\n",
       "      <td>36</td>\n",
       "      <td>206</td>\n",
       "    </tr>\n",
       "    <tr>\n",
       "      <th>10</th>\n",
       "      <td>33</td>\n",
       "      <td>212</td>\n",
       "    </tr>\n",
       "    <tr>\n",
       "      <th>11</th>\n",
       "      <td>32</td>\n",
       "      <td>243</td>\n",
       "    </tr>\n",
       "    <tr>\n",
       "      <th>12</th>\n",
       "      <td>33</td>\n",
       "      <td>236</td>\n",
       "    </tr>\n",
       "    <tr>\n",
       "      <th rowspan=\"3\" valign=\"top\">1003</th>\n",
       "      <th>8</th>\n",
       "      <td>55</td>\n",
       "      <td>380</td>\n",
       "    </tr>\n",
       "    <tr>\n",
       "      <th>9</th>\n",
       "      <td>134</td>\n",
       "      <td>961</td>\n",
       "    </tr>\n",
       "    <tr>\n",
       "      <th>10</th>\n",
       "      <td>108</td>\n",
       "      <td>855</td>\n",
       "    </tr>\n",
       "  </tbody>\n",
       "</table>\n",
       "</div>"
      ],
      "text/plain": [
       "               call_total  minutes_total\n",
       "user_id month                           \n",
       "1000    5              22            159\n",
       "        6              43            172\n",
       "        7              47            340\n",
       "        8              52            408\n",
       "        9              58            466\n",
       "        10             57            350\n",
       "        11             43            338\n",
       "        12             46            333\n",
       "1001    11             59            430\n",
       "        12             63            414\n",
       "1002    6              15            117\n",
       "        7              26            214\n",
       "        8              42            289\n",
       "        9              36            206\n",
       "        10             33            212\n",
       "        11             32            243\n",
       "        12             33            236\n",
       "1003    8              55            380\n",
       "        9             134            961\n",
       "        10            108            855"
      ]
     },
     "execution_count": 29,
     "metadata": {},
     "output_type": "execute_result"
    }
   ],
   "source": [
    "user_calls.head(20)"
   ]
  },
  {
   "cell_type": "markdown",
   "metadata": {},
   "source": [
    "<b>количество отправленных сообщений по месяцам</b>"
   ]
  },
  {
   "cell_type": "code",
   "execution_count": 31,
   "metadata": {},
   "outputs": [],
   "source": [
    "data_messages['month'] = pd.DatetimeIndex(data_messages ['message_date']).month"
   ]
  },
  {
   "cell_type": "code",
   "execution_count": 32,
   "metadata": {},
   "outputs": [],
   "source": [
    "user_messages = data_messages.groupby (['user_id', 'month']).count()"
   ]
  },
  {
   "cell_type": "code",
   "execution_count": 33,
   "metadata": {},
   "outputs": [],
   "source": [
    "user_messages = user_messages.drop('message_date', axis=1) "
   ]
  },
  {
   "cell_type": "code",
   "execution_count": 34,
   "metadata": {},
   "outputs": [],
   "source": [
    "user_messages.columns = ['messages_total']"
   ]
  },
  {
   "cell_type": "code",
   "execution_count": 35,
   "metadata": {},
   "outputs": [
    {
     "data": {
      "text/html": [
       "<div>\n",
       "<style scoped>\n",
       "    .dataframe tbody tr th:only-of-type {\n",
       "        vertical-align: middle;\n",
       "    }\n",
       "\n",
       "    .dataframe tbody tr th {\n",
       "        vertical-align: top;\n",
       "    }\n",
       "\n",
       "    .dataframe thead th {\n",
       "        text-align: right;\n",
       "    }\n",
       "</style>\n",
       "<table border=\"1\" class=\"dataframe\">\n",
       "  <thead>\n",
       "    <tr style=\"text-align: right;\">\n",
       "      <th></th>\n",
       "      <th></th>\n",
       "      <th>messages_total</th>\n",
       "    </tr>\n",
       "    <tr>\n",
       "      <th>user_id</th>\n",
       "      <th>month</th>\n",
       "      <th></th>\n",
       "    </tr>\n",
       "  </thead>\n",
       "  <tbody>\n",
       "    <tr>\n",
       "      <th rowspan=\"8\" valign=\"top\">1000</th>\n",
       "      <th>5</th>\n",
       "      <td>22</td>\n",
       "    </tr>\n",
       "    <tr>\n",
       "      <th>6</th>\n",
       "      <td>60</td>\n",
       "    </tr>\n",
       "    <tr>\n",
       "      <th>7</th>\n",
       "      <td>75</td>\n",
       "    </tr>\n",
       "    <tr>\n",
       "      <th>8</th>\n",
       "      <td>81</td>\n",
       "    </tr>\n",
       "    <tr>\n",
       "      <th>9</th>\n",
       "      <td>57</td>\n",
       "    </tr>\n",
       "    <tr>\n",
       "      <th>10</th>\n",
       "      <td>73</td>\n",
       "    </tr>\n",
       "    <tr>\n",
       "      <th>11</th>\n",
       "      <td>58</td>\n",
       "    </tr>\n",
       "    <tr>\n",
       "      <th>12</th>\n",
       "      <td>70</td>\n",
       "    </tr>\n",
       "    <tr>\n",
       "      <th rowspan=\"7\" valign=\"top\">1002</th>\n",
       "      <th>6</th>\n",
       "      <td>4</td>\n",
       "    </tr>\n",
       "    <tr>\n",
       "      <th>7</th>\n",
       "      <td>11</td>\n",
       "    </tr>\n",
       "    <tr>\n",
       "      <th>8</th>\n",
       "      <td>13</td>\n",
       "    </tr>\n",
       "    <tr>\n",
       "      <th>9</th>\n",
       "      <td>4</td>\n",
       "    </tr>\n",
       "    <tr>\n",
       "      <th>10</th>\n",
       "      <td>10</td>\n",
       "    </tr>\n",
       "    <tr>\n",
       "      <th>11</th>\n",
       "      <td>16</td>\n",
       "    </tr>\n",
       "    <tr>\n",
       "      <th>12</th>\n",
       "      <td>12</td>\n",
       "    </tr>\n",
       "  </tbody>\n",
       "</table>\n",
       "</div>"
      ],
      "text/plain": [
       "               messages_total\n",
       "user_id month                \n",
       "1000    5                  22\n",
       "        6                  60\n",
       "        7                  75\n",
       "        8                  81\n",
       "        9                  57\n",
       "        10                 73\n",
       "        11                 58\n",
       "        12                 70\n",
       "1002    6                   4\n",
       "        7                  11\n",
       "        8                  13\n",
       "        9                   4\n",
       "        10                 10\n",
       "        11                 16\n",
       "        12                 12"
      ]
     },
     "execution_count": 35,
     "metadata": {},
     "output_type": "execute_result"
    }
   ],
   "source": [
    "user_messages.head(15)"
   ]
  },
  {
   "cell_type": "markdown",
   "metadata": {},
   "source": [
    "<b>объем израсходованного интернет-трафика по месяцам</b>"
   ]
  },
  {
   "cell_type": "code",
   "execution_count": 36,
   "metadata": {},
   "outputs": [],
   "source": [
    "user_internet = data_internet.pivot_table(index=['user_id',pd.DatetimeIndex(data_internet['session_date']).month] , values='mb_used', aggfunc='sum')"
   ]
  },
  {
   "cell_type": "code",
   "execution_count": 38,
   "metadata": {},
   "outputs": [],
   "source": [
    "data_internet['month'] = pd.DatetimeIndex(data_internet['session_date']).month"
   ]
  },
  {
   "cell_type": "code",
   "execution_count": 39,
   "metadata": {},
   "outputs": [],
   "source": [
    "user_internet = data_internet.groupby(['user_id', 'month']).agg(['count', 'sum'])"
   ]
  },
  {
   "cell_type": "code",
   "execution_count": 40,
   "metadata": {},
   "outputs": [],
   "source": [
    "user_internet = user_internet.drop(('id', 'count'), axis=1)"
   ]
  },
  {
   "cell_type": "code",
   "execution_count": 41,
   "metadata": {},
   "outputs": [],
   "source": [
    "user_internet = user_internet.drop(('id', 'sum'), axis=1)"
   ]
  },
  {
   "cell_type": "code",
   "execution_count": 42,
   "metadata": {},
   "outputs": [],
   "source": [
    "user_internet = user_internet.drop(('mb_used', 'count'), axis=1)"
   ]
  },
  {
   "cell_type": "code",
   "execution_count": 43,
   "metadata": {},
   "outputs": [],
   "source": [
    "user_internet.columns = ['megabytes_used']"
   ]
  },
  {
   "cell_type": "code",
   "execution_count": 44,
   "metadata": {},
   "outputs": [
    {
     "data": {
      "text/html": [
       "<div>\n",
       "<style scoped>\n",
       "    .dataframe tbody tr th:only-of-type {\n",
       "        vertical-align: middle;\n",
       "    }\n",
       "\n",
       "    .dataframe tbody tr th {\n",
       "        vertical-align: top;\n",
       "    }\n",
       "\n",
       "    .dataframe thead th {\n",
       "        text-align: right;\n",
       "    }\n",
       "</style>\n",
       "<table border=\"1\" class=\"dataframe\">\n",
       "  <thead>\n",
       "    <tr style=\"text-align: right;\">\n",
       "      <th></th>\n",
       "      <th></th>\n",
       "      <th>megabytes_used</th>\n",
       "    </tr>\n",
       "    <tr>\n",
       "      <th>user_id</th>\n",
       "      <th>month</th>\n",
       "      <th></th>\n",
       "    </tr>\n",
       "  </thead>\n",
       "  <tbody>\n",
       "    <tr>\n",
       "      <th rowspan=\"5\" valign=\"top\">1000</th>\n",
       "      <th>5</th>\n",
       "      <td>2253.49</td>\n",
       "    </tr>\n",
       "    <tr>\n",
       "      <th>6</th>\n",
       "      <td>23233.77</td>\n",
       "    </tr>\n",
       "    <tr>\n",
       "      <th>7</th>\n",
       "      <td>14003.64</td>\n",
       "    </tr>\n",
       "    <tr>\n",
       "      <th>8</th>\n",
       "      <td>14055.93</td>\n",
       "    </tr>\n",
       "    <tr>\n",
       "      <th>9</th>\n",
       "      <td>14568.91</td>\n",
       "    </tr>\n",
       "    <tr>\n",
       "      <th>...</th>\n",
       "      <th>...</th>\n",
       "      <td>...</td>\n",
       "    </tr>\n",
       "    <tr>\n",
       "      <th>1498</th>\n",
       "      <th>10</th>\n",
       "      <td>20579.36</td>\n",
       "    </tr>\n",
       "    <tr>\n",
       "      <th rowspan=\"4\" valign=\"top\">1499</th>\n",
       "      <th>9</th>\n",
       "      <td>1845.75</td>\n",
       "    </tr>\n",
       "    <tr>\n",
       "      <th>10</th>\n",
       "      <td>17788.51</td>\n",
       "    </tr>\n",
       "    <tr>\n",
       "      <th>11</th>\n",
       "      <td>17963.31</td>\n",
       "    </tr>\n",
       "    <tr>\n",
       "      <th>12</th>\n",
       "      <td>13055.58</td>\n",
       "    </tr>\n",
       "  </tbody>\n",
       "</table>\n",
       "<p>3203 rows × 1 columns</p>\n",
       "</div>"
      ],
      "text/plain": [
       "               megabytes_used\n",
       "user_id month                \n",
       "1000    5             2253.49\n",
       "        6            23233.77\n",
       "        7            14003.64\n",
       "        8            14055.93\n",
       "        9            14568.91\n",
       "...                       ...\n",
       "1498    10           20579.36\n",
       "1499    9             1845.75\n",
       "        10           17788.51\n",
       "        11           17963.31\n",
       "        12           13055.58\n",
       "\n",
       "[3203 rows x 1 columns]"
      ]
     },
     "execution_count": 44,
     "metadata": {},
     "output_type": "execute_result"
    }
   ],
   "source": [
    "user_internet"
   ]
  },
  {
   "cell_type": "code",
   "execution_count": 45,
   "metadata": {},
   "outputs": [],
   "source": [
    "data_users['first_month'] = pd.DatetimeIndex(data_users['reg_date']).month \n",
    "data_users['last_month'] = pd.DatetimeIndex(data_users['churn_date']).month "
   ]
  },
  {
   "cell_type": "markdown",
   "metadata": {},
   "source": [
    "Добавление столбца, в котором <b>пересчитаем мегабайты в гигaбайты</b>"
   ]
  },
  {
   "cell_type": "code",
   "execution_count": 46,
   "metadata": {},
   "outputs": [],
   "source": [
    "user_internet['gb_used'] = user_internet['megabytes_used']/1024"
   ]
  },
  {
   "cell_type": "code",
   "execution_count": 47,
   "metadata": {},
   "outputs": [],
   "source": [
    "user_internet['gb_used'] = np.ceil(user_internet['gb_used'])"
   ]
  },
  {
   "cell_type": "code",
   "execution_count": 48,
   "metadata": {},
   "outputs": [],
   "source": [
    "user_internet['gb_used'] = pd.to_datetime(user_internet['gb_used']).astype(int)"
   ]
  },
  {
   "cell_type": "markdown",
   "metadata": {},
   "source": [
    "<b>Cоединение таблиц</b>"
   ]
  },
  {
   "cell_type": "code",
   "execution_count": 49,
   "metadata": {},
   "outputs": [],
   "source": [
    "data_full = user_calls.merge(user_messages, on= ['user_id', 'month'],  how ='outer')\n",
    "data_full = data_full.merge(user_internet, on= ['user_id', 'month'],  how ='outer')\n",
    "data_full = data_full.merge (data_users, on = 'user_id', how = 'left')\n",
    "data_full=data_full.reset_index()"
   ]
  },
  {
   "cell_type": "markdown",
   "metadata": {},
   "source": [
    "В столбцах minutes_total, messages_total, gb_used есть пропуски<br>\n",
    "Это может быть связано с тем, что в некоторых месяцах, некоторые пользователи не пользовались одной из этих услуг<br><b>заменим пропуски в столбцах нулями</b>"
   ]
  },
  {
   "cell_type": "code",
   "execution_count": 50,
   "metadata": {},
   "outputs": [],
   "source": [
    "data_full['gb_used'] = data_full['gb_used'].fillna(0)\n",
    "data_full['messages_total'] = data_full['messages_total'].fillna(0)\n",
    "data_full['minutes_total'] = data_full['minutes_total'].fillna(0)"
   ]
  },
  {
   "cell_type": "markdown",
   "metadata": {},
   "source": [
    "<b>Функция для расчета выручки</b>"
   ]
  },
  {
   "cell_type": "code",
   "execution_count": 51,
   "metadata": {},
   "outputs": [],
   "source": [
    "def accumulate (raw):\n",
    "    tariff = raw['tariff']\n",
    "    calls = raw['minutes_total']\n",
    "    message =raw['messages_total'] \n",
    "    gbyte = raw['gb_used']\n",
    "    if tariff =='ultra':\n",
    "        if calls >= 3000: \n",
    "            calls = (calls - 3000)*1\n",
    "        else:\n",
    "            calls = 0\n",
    "        if message >= 1000:\n",
    "            message = (message-1000)*1\n",
    "        else:\n",
    "            message =0       \n",
    "        if gbyte >=30:\n",
    "                gbyte =(gbyte -30)*150\n",
    "        else:\n",
    "            gbyte =0\n",
    "        return 1950 + calls + message + gbyte\n",
    "    if tariff == 'smart':\n",
    "        if calls >=500: \n",
    "            calls = (calls - 500)*3\n",
    "        else:\n",
    "            calls = 0\n",
    "        if message >= 50:\n",
    "            message = (message-50)*3\n",
    "        else:\n",
    "            message = 0       \n",
    "        if gbyte >= 15:\n",
    "                gbyte = (gbyte -15)*200\n",
    "        else:\n",
    "            gbyte = 0\n",
    "        return 550 + calls + message + gbyte\n"
   ]
  },
  {
   "cell_type": "code",
   "execution_count": 52,
   "metadata": {},
   "outputs": [],
   "source": [
    "data_full['revenue'] = data_full.apply(accumulate, axis =1)"
   ]
  },
  {
   "cell_type": "code",
   "execution_count": 53,
   "metadata": {},
   "outputs": [
    {
     "data": {
      "text/html": [
       "<div>\n",
       "<style scoped>\n",
       "    .dataframe tbody tr th:only-of-type {\n",
       "        vertical-align: middle;\n",
       "    }\n",
       "\n",
       "    .dataframe tbody tr th {\n",
       "        vertical-align: top;\n",
       "    }\n",
       "\n",
       "    .dataframe thead th {\n",
       "        text-align: right;\n",
       "    }\n",
       "</style>\n",
       "<table border=\"1\" class=\"dataframe\">\n",
       "  <thead>\n",
       "    <tr style=\"text-align: right;\">\n",
       "      <th></th>\n",
       "      <th>index</th>\n",
       "      <th>user_id</th>\n",
       "      <th>call_total</th>\n",
       "      <th>minutes_total</th>\n",
       "      <th>messages_total</th>\n",
       "      <th>megabytes_used</th>\n",
       "      <th>gb_used</th>\n",
       "      <th>age</th>\n",
       "      <th>churn_date</th>\n",
       "      <th>city</th>\n",
       "      <th>first_name</th>\n",
       "      <th>last_name</th>\n",
       "      <th>reg_date</th>\n",
       "      <th>tariff</th>\n",
       "      <th>first_month</th>\n",
       "      <th>last_month</th>\n",
       "      <th>revenue</th>\n",
       "      <th>messages_included</th>\n",
       "      <th>mb_per_month_included</th>\n",
       "      <th>minutes_included</th>\n",
       "      <th>rub_monthly_fee</th>\n",
       "      <th>rub_per_gb</th>\n",
       "      <th>rub_per_message</th>\n",
       "      <th>rub_per_minute</th>\n",
       "    </tr>\n",
       "  </thead>\n",
       "  <tbody>\n",
       "    <tr>\n",
       "      <th>0</th>\n",
       "      <td>0</td>\n",
       "      <td>1000</td>\n",
       "      <td>22.0</td>\n",
       "      <td>159.0</td>\n",
       "      <td>22.0</td>\n",
       "      <td>2253.49</td>\n",
       "      <td>3.0</td>\n",
       "      <td>52</td>\n",
       "      <td>NaN</td>\n",
       "      <td>Краснодар</td>\n",
       "      <td>Рафаил</td>\n",
       "      <td>Верещагин</td>\n",
       "      <td>2018-05-25</td>\n",
       "      <td>ultra</td>\n",
       "      <td>5</td>\n",
       "      <td>NaN</td>\n",
       "      <td>1950.0</td>\n",
       "      <td>1000</td>\n",
       "      <td>30720</td>\n",
       "      <td>3000</td>\n",
       "      <td>1950</td>\n",
       "      <td>150</td>\n",
       "      <td>1</td>\n",
       "      <td>1</td>\n",
       "    </tr>\n",
       "    <tr>\n",
       "      <th>1</th>\n",
       "      <td>1</td>\n",
       "      <td>1000</td>\n",
       "      <td>43.0</td>\n",
       "      <td>172.0</td>\n",
       "      <td>60.0</td>\n",
       "      <td>23233.77</td>\n",
       "      <td>23.0</td>\n",
       "      <td>52</td>\n",
       "      <td>NaN</td>\n",
       "      <td>Краснодар</td>\n",
       "      <td>Рафаил</td>\n",
       "      <td>Верещагин</td>\n",
       "      <td>2018-05-25</td>\n",
       "      <td>ultra</td>\n",
       "      <td>5</td>\n",
       "      <td>NaN</td>\n",
       "      <td>1950.0</td>\n",
       "      <td>1000</td>\n",
       "      <td>30720</td>\n",
       "      <td>3000</td>\n",
       "      <td>1950</td>\n",
       "      <td>150</td>\n",
       "      <td>1</td>\n",
       "      <td>1</td>\n",
       "    </tr>\n",
       "  </tbody>\n",
       "</table>\n",
       "</div>"
      ],
      "text/plain": [
       "   index  user_id  call_total  minutes_total  messages_total  megabytes_used  \\\n",
       "0      0     1000        22.0          159.0            22.0         2253.49   \n",
       "1      1     1000        43.0          172.0            60.0        23233.77   \n",
       "\n",
       "   gb_used  age churn_date       city first_name  last_name    reg_date  \\\n",
       "0      3.0   52        NaN  Краснодар     Рафаил  Верещагин  2018-05-25   \n",
       "1     23.0   52        NaN  Краснодар     Рафаил  Верещагин  2018-05-25   \n",
       "\n",
       "  tariff  first_month  last_month  revenue  messages_included  \\\n",
       "0  ultra            5         NaN   1950.0               1000   \n",
       "1  ultra            5         NaN   1950.0               1000   \n",
       "\n",
       "   mb_per_month_included  minutes_included  rub_monthly_fee  rub_per_gb  \\\n",
       "0                  30720              3000             1950         150   \n",
       "1                  30720              3000             1950         150   \n",
       "\n",
       "   rub_per_message  rub_per_minute  \n",
       "0                1               1  \n",
       "1                1               1  "
      ]
     },
     "execution_count": 53,
     "metadata": {},
     "output_type": "execute_result"
    }
   ],
   "source": [
    "pd.options.display.max_columns = None\n",
    "data_full = data_full.merge (data_tariffs, on = 'tariff', how = 'left')\n",
    "data_full.head(2)"
   ]
  },
  {
   "cell_type": "markdown",
   "metadata": {},
   "source": [
    "## Анализ данных"
   ]
  },
  {
   "cell_type": "markdown",
   "metadata": {},
   "source": [
    "Для сравнения потребления услуг пользователями различных тарифов строим гистограммы распределения на одном графике по обоим тарифам."
   ]
  },
  {
   "cell_type": "markdown",
   "metadata": {},
   "source": [
    "<b>Продолжительность звонков</b>"
   ]
  },
  {
   "cell_type": "code",
   "execution_count": 55,
   "metadata": {},
   "outputs": [
    {
     "data": {
      "image/png": "[encoded data removed]",
      "text/plain": [
       "<Figure size 432x288 with 1 Axes>"
      ]
     },
     "metadata": {
      "needs_background": "light"
     },
     "output_type": "display_data"
    },
    {
     "name": "stdout",
     "output_type": "stream",
     "text": [
      "Среднее Smart: 418.0\n",
      "Среднее Ultra: 527.0\n",
      "Дисперсия Smart: 36203.06665209469\n",
      "Дисперсия Ultra: 100771.2236172022\n",
      "Стандартное отклонение Smart 190.27103471651876\n",
      "Стандартное отклонение Ultra 317.44483554974113\n"
     ]
    }
   ],
   "source": [
    "data_full.query('tariff == \"smart\"')['minutes_total'].hist(bins = 30, alpha = .5)\n",
    "data_full.query('tariff == \"ultra\"')['minutes_total'].hist(bins = 30, alpha = .5)\n",
    "\n",
    "plt.title('Длительность звонков')\n",
    "plt.legend(['Smart', 'Ultra'])\n",
    "plt.xlabel('Длительность звонков, мин')\n",
    "plt.show()\n",
    "\n",
    "print('Среднее Smart:', np.round(data_full.query('tariff == \"smart\"')['minutes_total'].mean()))\n",
    "print('Среднее Ultra:', np.round(data_full.query('tariff == \"ultra\"')['minutes_total'].mean()))\n",
    "print('Дисперсия Smart:', np.var(data_full.query('tariff == \"smart\"')['minutes_total']))\n",
    "print('Дисперсия Ultra:', np.var(data_full.query('tariff == \"ultra\"')['minutes_total']))\n",
    "print('Стандартное отклонение Smart', np.std(data_full.query('tariff == \"smart\"')['minutes_total']))\n",
    "print('Стандартное отклонение Ultra', np.std(data_full.query('tariff == \"ultra\"')['minutes_total']))"
   ]
  },
  {
   "cell_type": "code",
   "execution_count": 56,
   "metadata": {},
   "outputs": [
    {
     "name": "stdout",
     "output_type": "stream",
     "text": [
      "boxplot\n"
     ]
    },
    {
     "data": {
      "image/png": "[encoded data removed]",
      "text/plain": [
       "<Figure size 432x288 with 1 Axes>"
      ]
     },
     "metadata": {
      "needs_background": "light"
     },
     "output_type": "display_data"
    }
   ],
   "source": [
    "data_full.query('tariff == \"ultra\"').boxplot(['minutes_total'])\n",
    "print('boxplot')"
   ]
  },
  {
   "cell_type": "markdown",
   "metadata": {},
   "source": [
    "<b>Анализ диаграммы размаха для тарифа ultra:</b><br>\n",
    "Медиана приблизительно равна 550<br>\n",
    "Нижний «ус» упирается в 0 - это минимальное значение<br>\n",
    "Верхний заканчивается около <b>1400</b> минут — это 1,5 межквартильного размаха, добавленного к 3-му квартилю.<br>\n",
    "Это ориентировочная граница нормального размаха.<br>\n",
    "Всё, что лежит за ней, считается выбросом.<br>"
   ]
  },
  {
   "cell_type": "code",
   "execution_count": 57,
   "metadata": {},
   "outputs": [
    {
     "data": {
      "image/png": "[encoded data removed]",
      "text/plain": [
       "<Figure size 432x288 with 1 Axes>"
      ]
     },
     "metadata": {
      "needs_background": "light"
     },
     "output_type": "display_data"
    }
   ],
   "source": [
    "data_full.query('tariff == \"smart\"').boxplot(['minutes_total']);"
   ]
  },
  {
   "cell_type": "markdown",
   "metadata": {},
   "source": [
    "<b>Анализ диаграммы размаха для тарифа smart:</b><br>\n",
    "Медиана приблизительно равна 420<br>\n",
    "Нижний «ус» упирается в 0 - это минимальное значение<br>\n",
    "Верхний заканчивается около <b>900</b> минут — это 1,5 межквартильного размаха, добавленного к 3-му квартилю.<br>\n",
    "Это ориентировочная граница нормального размаха.<br>\n",
    "Всё, что лежит за ней, считается выбросом.<br>"
   ]
  },
  {
   "cell_type": "markdown",
   "metadata": {},
   "source": [
    "<b>Вывод по продолжительности звонков:</b><br>\n",
    "<ul>\n",
    "    <li>Среднее значение выше на тарифе Ultra. Однако и стандартное отклонение выше на этом тарифе, что говорит о сильном разбросе данных</li>\n",
    "    <li>Пользователи тарифа Smart используют от чаще всего 280-580 минут</li>\n",
    "    <li>Пользователи тарифа Ultra используют от чаще всего 260-750 минут</li>\n",
    "</ul>"
   ]
  },
  {
   "cell_type": "markdown",
   "metadata": {},
   "source": [
    "<b>Количество сообщений</b>"
   ]
  },
  {
   "cell_type": "code",
   "execution_count": 58,
   "metadata": {},
   "outputs": [
    {
     "data": {
      "image/png": "[encoded data removed]",
      "text/plain": [
       "<Figure size 432x288 with 1 Axes>"
      ]
     },
     "metadata": {
      "needs_background": "light"
     },
     "output_type": "display_data"
    },
    {
     "name": "stdout",
     "output_type": "stream",
     "text": [
      "Среднее Smart: 33.0\n",
      "Среднее Ultra: 49.0\n",
      "Дисперсия Smart: 796.455482917076\n",
      "Дисперсия Ultra: 2282.946075394882\n",
      "Стандартное отклонение Smart 28.221542886898938\n",
      "Стандартное отклонение Ultra 47.78018496610161\n"
     ]
    }
   ],
   "source": [
    "data_full.query('tariff == \"smart\"')['messages_total'].hist(bins = 30, alpha = .5)\n",
    "data_full.query('tariff == \"ultra\"')['messages_total'].hist(bins = 30, alpha = .5)\n",
    "\n",
    "plt.title('Количество сообщений')\n",
    "plt.legend(['Smart', 'Ultra'])\n",
    "plt.xlabel('Количество сообщений, шт')\n",
    "plt.show()\n",
    "\n",
    "print('Среднее Smart:', np.round(data_full.query('tariff == \"smart\"')['messages_total'].mean()))\n",
    "print('Среднее Ultra:', np.round(data_full.query('tariff == \"ultra\"')['messages_total'].mean()))\n",
    "print('Дисперсия Smart:', np.var(data_full.query('tariff == \"smart\"')['messages_total']))\n",
    "print('Дисперсия Ultra:', np.var(data_full.query('tariff == \"ultra\"')['messages_total']))\n",
    "print('Стандартное отклонение Smart', np.std(data_full.query('tariff == \"smart\"')['messages_total']))\n",
    "print('Стандартное отклонение Ultra', np.std(data_full.query('tariff == \"ultra\"')['messages_total']))"
   ]
  },
  {
   "cell_type": "code",
   "execution_count": 59,
   "metadata": {},
   "outputs": [
    {
     "data": {
      "image/png": "[encoded data removed]",
      "text/plain": [
       "<Figure size 432x288 with 1 Axes>"
      ]
     },
     "metadata": {
      "needs_background": "light"
     },
     "output_type": "display_data"
    }
   ],
   "source": [
    "data_full.query('tariff == \"ultra\"').boxplot('messages_total');"
   ]
  },
  {
   "cell_type": "markdown",
   "metadata": {},
   "source": [
    "<b>Анализ диаграммы размаха для тарифа ultra:</b><br>\n",
    "Медиана приблизительно равна 35<br>\n",
    "Нижний «ус» упирается в 0 - это минимальное значение.<br>\n",
    "Верхний заканчивается около <b>170</b> штук — это 1,5 межквартильного размаха, добавленного к 3-му квартилю.<br>\n",
    "Это ориентировочная граница нормального размаха.<br>\n",
    "Всё, что лежит за ней, считается выбросом.<br>\n",
    "Более высокие значения изображены отдельными точками, они не сливаются в единую жирную линию: таких выбросов не очень много."
   ]
  },
  {
   "cell_type": "code",
   "execution_count": 60,
   "metadata": {},
   "outputs": [
    {
     "data": {
      "image/png": "[encoded data removed]",
      "text/plain": [
       "<Figure size 432x288 with 1 Axes>"
      ]
     },
     "metadata": {
      "needs_background": "light"
     },
     "output_type": "display_data"
    }
   ],
   "source": [
    "data_full.query('tariff == \"smart\"').boxplot('messages_total');"
   ]
  },
  {
   "cell_type": "markdown",
   "metadata": {},
   "source": [
    "<b>Анализ диаграммы размаха для тарифа smart:</b><br>\n",
    "Медиана приблизительно равна 30<br>\n",
    "Нижний «ус» упирается в 0 - это минимальное значение.<br>\n",
    "Верхний заканчивается около <b>115</b> штук — это 1,5 межквартильного размаха, добавленного к 3-му квартилю.<br>\n",
    "Это ориентировочная граница нормального размаха.<br>\n",
    "Всё, что лежит за ней, считается выбросом.<br>\n",
    "Более высокие значения изображены отдельными точками, они не сливаются в единую жирную линию: таких выбросов не очень много."
   ]
  },
  {
   "cell_type": "markdown",
   "metadata": {},
   "source": [
    "<b>Вывод по количеству сообщений:</b><br>\n",
    "<ul>\n",
    "    <li>Как и на предыдущей диаграмме видим, что среднее значение выше на тарифе Ultra. Однако и стандартное отклонение выше на этом тарифе, что говорит о сильном разбросе данных</li>\n",
    "    <li>Пользователи тарифа Ultra чаще отправляют 5-75 сообщений</li>\n",
    "    <li>Пользователи тарифа Smart чаще отправляют 15-50 сообщений</li>\n",
    "</ul>"
   ]
  },
  {
   "cell_type": "markdown",
   "metadata": {},
   "source": [
    "<b>Интернет - трафик</b>"
   ]
  },
  {
   "cell_type": "code",
   "execution_count": 61,
   "metadata": {},
   "outputs": [
    {
     "data": {
      "image/png": "[encoded data removed]",
      "text/plain": [
       "<Figure size 432x288 with 1 Axes>"
      ]
     },
     "metadata": {
      "needs_background": "light"
     },
     "output_type": "display_data"
    },
    {
     "name": "stdout",
     "output_type": "stream",
     "text": [
      "Среднее Smart: 16.0\n",
      "Среднее Ultra: 19.0\n",
      "Дисперсия Smart: 33.013887454837445\n",
      "Дисперсия Ultra: 96.99311602978692\n",
      "Стандартное отклонение Smart 5.745771267187499\n",
      "Стандартное отклонение Ultra 9.848508314957495\n"
     ]
    }
   ],
   "source": [
    "data_full.query('tariff == \"smart\"')['gb_used'].hist(bins = 30, alpha = .5)\n",
    "data_full.query('tariff == \"ultra\"')['gb_used'].hist(bins = 30, alpha = .5)\n",
    "\n",
    "plt.title('Объём гигабайт трафика')\n",
    "plt.legend(['Smart', 'Ultra'])\n",
    "plt.xlabel('Объём трафика, гб')\n",
    "plt.show()\n",
    "\n",
    "print('Среднее Smart:', np.round(data_full.query('tariff == \"smart\"')['gb_used'].mean()))\n",
    "print('Среднее Ultra:', np.round(data_full.query('tariff == \"ultra\"')['gb_used'].mean()))\n",
    "print('Дисперсия Smart:', np.var(data_full.query('tariff == \"smart\"')['gb_used']))\n",
    "print('Дисперсия Ultra:', np.var(data_full.query('tariff == \"ultra\"')['gb_used']))\n",
    "print('Стандартное отклонение Smart', np.std(data_full.query('tariff == \"smart\"')['gb_used']))\n",
    "print('Стандартное отклонение Ultra', np.std(data_full.query('tariff == \"ultra\"')['gb_used']))"
   ]
  },
  {
   "cell_type": "code",
   "execution_count": 62,
   "metadata": {},
   "outputs": [
    {
     "data": {
      "image/png": "[encoded data removed]",
      "text/plain": [
       "<Figure size 432x288 with 1 Axes>"
      ]
     },
     "metadata": {
      "needs_background": "light"
     },
     "output_type": "display_data"
    }
   ],
   "source": [
    "data_full.query('tariff == \"ultra\"').boxplot('gb_used');"
   ]
  },
  {
   "cell_type": "markdown",
   "metadata": {},
   "source": [
    "<b>Анализ диаграммы размаха для тарифа ultra:</b><br>\n",
    "Медиана приблизительно равна 29<br>\n",
    "Нижний «ус» упирается в 0 - это минимальное значение.<br>\n",
    "Верхний заканчивается около <b>49</b> Гб — это 1,5 межквартильного размаха, добавленного к 3-му квартилю.<br>\n",
    "Это ориентировочная граница нормального размаха.<br>\n",
    "Выбрасов на этом графике не наблюдается"
   ]
  },
  {
   "cell_type": "code",
   "execution_count": 63,
   "metadata": {},
   "outputs": [
    {
     "data": {
      "image/png": "[encoded data removed]",
      "text/plain": [
       "<Figure size 432x288 with 1 Axes>"
      ]
     },
     "metadata": {
      "needs_background": "light"
     },
     "output_type": "display_data"
    }
   ],
   "source": [
    "data_full.query('tariff == \"smart\"').boxplot('gb_used');"
   ]
  },
  {
   "cell_type": "markdown",
   "metadata": {},
   "source": [
    "<b>Анализ диаграммы размаха для тарифа smart:</b><br>\n",
    "Медиана приблизительно равна 17,5<br>\n",
    "Нижний «ус» упирается в 4,5 - это минимальное значение<br>\n",
    "Верхний заканчивается около <b>30</b>Гб — это 1,5 межквартильного размаха, добавленного к 3-му квартилю.<br>\n",
    "Это ориентировочная граница нормального размаха.<br>\n",
    "Всё, что лежит за ней, считается выбросом.<br>\n"
   ]
  },
  {
   "cell_type": "markdown",
   "metadata": {},
   "source": [
    "<b>Вывод по объёмам трафика:</b><br>\n",
    "<ul>\n",
    "    <li>Пользователи тарифа Ultra чаще используют 11-28 Гб трафика</li>\n",
    "    <li>Пользователи тарифа Smart чаще используют 13-20 Гб трафика</li>\n",
    "</ul>"
   ]
  },
  {
   "cell_type": "markdown",
   "metadata": {},
   "source": [
    "<b>Общий вывод:</b>\n",
    "<ul>\n",
    "    <li>Пользователи тарифа Smart используют от чаще всего 280-580 минут</li>\n",
    "    <li>Пользователи тарифа Smart чаще используют 13-20 Гб трафика</li>\n",
    "    <li>Пользователи тарифа Smart чаще отправляют 15-50 сообщений</li>\n",
    "    <li>Пользователи тарифа Ultra используют от чаще всего 260-750 минут</li>\n",
    "    <li>Пользователи тарифа Ultra чаще используют 11-28 Гб трафика</li>\n",
    "    <li>Пользователи тарифа Ultra чаще отправляют 5-75 сообщений</li>\n",
    "</ul>\n"
   ]
  },
  {
   "cell_type": "markdown",
   "metadata": {},
   "source": [
    "## Проверка гипотез"
   ]
  },
  {
   "cell_type": "markdown",
   "metadata": {},
   "source": [
    "<b>Проверка 1</b><br>\n",
    "<b>Нулевая гипотеза:</b> средняя выручка пользователей тарифов «Ультра» и «Смарт» не различается<br>\n",
    "<b>Альтернативная гипотеза:</b> средняя выручка между пользователями двух тарифов различается"
   ]
  },
  {
   "cell_type": "markdown",
   "metadata": {},
   "source": [
    "Так как мы имеем 2 выборки разного размера (пользователей одного из тарифов - больше), вызовем метод scipy.stats.ttest_ind()\n",
    "\n",
    "Критерием для сравнения служит выручка с каждого пользователя за весь 2018-й год, так как, в обоих тарифах имеются пользователи, которые пользовались тарифом меньше 12 месяцев. В обоих случаях, найдутся пользователи, которые в дальнейшем, останутся с данным тарифным планом или сменят его. "
   ]
  },
  {
   "cell_type": "code",
   "execution_count": 64,
   "metadata": {},
   "outputs": [],
   "source": [
    "user_month_mean = data_full.pivot_table(index='user_id', values=['first_month', 'last_month']).reset_index()"
   ]
  },
  {
   "cell_type": "code",
   "execution_count": 65,
   "metadata": {},
   "outputs": [],
   "source": [
    "user_month_mean['last_month'] = user_month_mean['last_month'].fillna(12)\n",
    "user_month_mean['last_month'] = user_month_mean['last_month'].astype(int)"
   ]
  },
  {
   "cell_type": "code",
   "execution_count": 66,
   "metadata": {},
   "outputs": [],
   "source": [
    "user_month_mean['quantity_month'] = user_month_mean['last_month'] - user_month_mean['first_month']"
   ]
  },
  {
   "cell_type": "code",
   "execution_count": 67,
   "metadata": {},
   "outputs": [],
   "source": [
    "user_month_mean = user_month_mean.merge(data_full[['user_id','tariff', 'revenue']], on='user_id')"
   ]
  },
  {
   "cell_type": "code",
   "execution_count": 68,
   "metadata": {},
   "outputs": [],
   "source": [
    "user_month_mean['full_revenue'] = user_month_mean['quantity_month'] * user_month_mean['revenue']"
   ]
  },
  {
   "cell_type": "code",
   "execution_count": 69,
   "metadata": {},
   "outputs": [
    {
     "name": "stdout",
     "output_type": "stream",
     "text": [
      "p-значение: 1.4229814360764067e-160\n",
      "Отвергаем нулевую гипотезу, о том что выручка между двумя тарифами не различается. Альтернативная гипотеза верна: средняя выручка между пользователями двух тарифов различается\n"
     ]
    }
   ],
   "source": [
    "alpha =  .05\n",
    "\n",
    "results = st.ttest_ind(\n",
    "    data_full.query('tariff == \"smart\"')['revenue'], \n",
    "    data_full.query('tariff == \"ultra\"')['revenue']) \n",
    "\n",
    "print('p-значение:', results.pvalue)\n",
    "\n",
    "if results.pvalue < alpha:\n",
    "    print(\"Отвергаем нулевую гипотезу, о том что выручка между двумя тарифами не различается. Альтернативная гипотеза верна: средняя выручка между пользователями двух тарифов различается\")\n",
    "\n",
    "else:\n",
    "    print(\"Не получилось отвергнуть нулевую гипотезу\")"
   ]
  },
  {
   "cell_type": "markdown",
   "metadata": {},
   "source": [
    "<b>Проверка 2</b><br>\n",
    "<b>Нулевая гипотеза:</b> средняя выручка пользователей из Москвы не отличается от выручки пользователей из других регионов<br>\n",
    "<b>Альтернативная гипотеза:</b> средняя выручка пользователей из Москвы отличается от выручки пользователей из других регионов"
   ]
  },
  {
   "cell_type": "markdown",
   "metadata": {},
   "source": [
    "Так как мы имеем 2 выборки разного размера (пользователей одного из тарифов - больше), вызовем метод scipy.stats.ttest_ind()\n",
    "\n",
    "Критерием для сравнения служит выручка с каждого пользователя за весь 2018-й год, так как, в обоих тарифах имеются пользователи, которые пользовались тарифом меньше 12 месяцев. В обоих случаях, найдутся пользователи, которые в дальнейшем, останутся с данным тарифным планом или сменят его."
   ]
  },
  {
   "cell_type": "code",
   "execution_count": 70,
   "metadata": {},
   "outputs": [],
   "source": [
    "def city_category (row):\n",
    "    city = row ['city']\n",
    "    if 'Москва' in city:\n",
    "        return 'Пользователь из Москвы'\n",
    "    else:\n",
    "        return 'Пользователь из другого региона'\n",
    "        \n",
    "data_full['city_category'] = data_full.apply(city_category, axis=1)"
   ]
  },
  {
   "cell_type": "code",
   "execution_count": 71,
   "metadata": {},
   "outputs": [
    {
     "data": {
      "text/html": [
       "<div>\n",
       "<style scoped>\n",
       "    .dataframe tbody tr th:only-of-type {\n",
       "        vertical-align: middle;\n",
       "    }\n",
       "\n",
       "    .dataframe tbody tr th {\n",
       "        vertical-align: top;\n",
       "    }\n",
       "\n",
       "    .dataframe thead tr th {\n",
       "        text-align: left;\n",
       "    }\n",
       "\n",
       "    .dataframe thead tr:last-of-type th {\n",
       "        text-align: right;\n",
       "    }\n",
       "</style>\n",
       "<table border=\"1\" class=\"dataframe\">\n",
       "  <thead>\n",
       "    <tr>\n",
       "      <th></th>\n",
       "      <th>revenue</th>\n",
       "    </tr>\n",
       "    <tr>\n",
       "      <th></th>\n",
       "      <th>mean</th>\n",
       "    </tr>\n",
       "    <tr>\n",
       "      <th>city_category</th>\n",
       "      <th></th>\n",
       "    </tr>\n",
       "  </thead>\n",
       "  <tbody>\n",
       "    <tr>\n",
       "      <th>Пользователь из Москвы</th>\n",
       "      <td>1546.713584</td>\n",
       "    </tr>\n",
       "    <tr>\n",
       "      <th>Пользователь из другого региона</th>\n",
       "      <td>1524.936227</td>\n",
       "    </tr>\n",
       "  </tbody>\n",
       "</table>\n",
       "</div>"
      ],
      "text/plain": [
       "                                     revenue\n",
       "                                        mean\n",
       "city_category                               \n",
       "Пользователь из Москвы           1546.713584\n",
       "Пользователь из другого региона  1524.936227"
      ]
     },
     "execution_count": 71,
     "metadata": {},
     "output_type": "execute_result"
    }
   ],
   "source": [
    "data_full.groupby('city_category').agg({'revenue': ['mean']})"
   ]
  },
  {
   "cell_type": "code",
   "execution_count": 72,
   "metadata": {},
   "outputs": [],
   "source": [
    "ultra_users = user_month_mean.query('tariff == \"ultra\"')\n",
    "smart_users = user_month_mean.query('tariff == \"smart\"')"
   ]
  },
  {
   "cell_type": "code",
   "execution_count": 73,
   "metadata": {},
   "outputs": [],
   "source": [
    "user_month_mean['city_category'] = data_full.apply(city_category, axis=1)"
   ]
  },
  {
   "cell_type": "code",
   "execution_count": 74,
   "metadata": {},
   "outputs": [],
   "source": [
    "name_data_ultra = data_full.query('tariff == \"ultra\"')['revenue']\n",
    "name_data_smart = data_full.query('tariff == \"smart\"')['revenue']"
   ]
  },
  {
   "cell_type": "code",
   "execution_count": 75,
   "metadata": {},
   "outputs": [],
   "source": [
    "other_users = user_month_mean.query('city_category == \"Пользователь из другого региона\"')\n",
    "msk_users = user_month_mean.query('city_category == \"Пользователь из Москвы\"')"
   ]
  },
  {
   "cell_type": "code",
   "execution_count": 76,
   "metadata": {},
   "outputs": [
    {
     "name": "stdout",
     "output_type": "stream",
     "text": [
      "p-значение: 0.3426148242194397\n",
      "Не получилось отвергнуть нулевую гипотезу. Средняя выручка пользователей из Москвы отличается от выручки пользователей из других регионов.\n"
     ]
    }
   ],
   "source": [
    "alpha = .05 \n",
    "\n",
    "results = st.ttest_ind(\n",
    "    msk_users['full_revenue'], \n",
    "    other_users['full_revenue']) \n",
    "\n",
    "print('p-значение:', results.pvalue)\n",
    "\n",
    "if results.pvalue < alpha:\n",
    "    print(\"Отвергаем нулевую гипотезу, о том что средняя выручка пользователей из Москвы отличается от выручки пользователей из других регионов. Альтернативная гипотеза верна: средняя выручка между пользователями средняя выручка пользователей из Москвы равна выручке пользователей из других регионов\")\n",
    "else:\n",
    "    print(\"Не получилось отвергнуть нулевую гипотезу. Средняя выручка пользователей из Москвы отличается от выручки пользователей из других регионов.\")"
   ]
  },
  {
   "cell_type": "code",
   "execution_count": 77,
   "metadata": {},
   "outputs": [
    {
     "name": "stdout",
     "output_type": "stream",
     "text": [
      "p-значение: 1.1198593729445706e-116\n",
      "Отвергаем нулевую гипотезу, о том что выручка между двумя тарифами не различается. Альтернативная гипотеза верна: средняя выручка между пользователями двух тарифов различается\n"
     ]
    }
   ],
   "source": [
    "alpha =  .05\n",
    "\n",
    "results = st.ttest_ind(\n",
    "    ultra_users['full_revenue'], \n",
    "    smart_users['full_revenue']) \n",
    "\n",
    "print('p-значение:', results.pvalue)\n",
    "\n",
    "if results.pvalue < alpha:\n",
    "    print(\"Отвергаем нулевую гипотезу, о том что выручка между двумя тарифами не различается. Альтернативная гипотеза верна: средняя выручка между пользователями двух тарифов различается\")\n",
    "\n",
    "else:\n",
    "    print(\"Не получилось отвергнуть нулевую гипотезу\")"
   ]
  },
  {
   "cell_type": "markdown",
   "metadata": {},
   "source": [
    "<b>Однако:</b>\n",
    "С таким p-value можно сказать, что гипотезу о равенстве средних выручек пользователей из Москвы и пользователей из других регионов отвергнуть не удалось"
   ]
  },
  {
   "cell_type": "markdown",
   "metadata": {},
   "source": [
    "## Общий вывод"
   ]
  },
  {
   "cell_type": "markdown",
   "metadata": {},
   "source": [
    "Изучив данные выборки из 500 пользователей тарифов, получены следующие выводы:\n",
    "\n",
    "Среднемесячная выручка с 1 пользователя тарифа Ultra почти в 2 раза превышает среднемесячну выручку с 1 пользователя тарифа Smart.\n",
    "Общая выручка со всех пользователей тарифа Smart, за весь исследуемый период, превысила выручку со всех пользователей тарифа Ultra, почти на 4 миллиона рублей. Это объясняется тем, что в данной выборке, пользователей тарифа Smart более чем в 2 раза больше пользователей тарифа Ultra.\n",
    "\n",
    "Пользователи тарифа Ultra используют незначительно больше минут, сообщений и интернет-трафика, чем пользователи тарифа Smart. Разница в потреблении минут - 14%, сообщений - 33%, интернет-трафика - 10%. А разница в абонентской плате более чем в 3 раза: 1950 рублей за тариф Ultra и 550 рублей за тариф Smart.\n",
    "\n",
    "Исходя из этого, можно утверждать: тариф Ultra приносит больше денег сотовому оператору, чем тариф Smart. А раз у нас коммерческая компания, то для нее лучше тот, который приноcит больше прибыли, следовательно лучше Ultra\n"
   ]
  }
 ],
 "metadata": {
  "ExecuteTimeLog": [
   {
    "duration": 113,
    "start_time": "2022-05-16T21:01:36.110Z"
   },
   {
    "duration": 878,
    "start_time": "2022-05-16T21:07:45.009Z"
   },
   {
    "duration": 105,
    "start_time": "2022-05-16T21:23:40.034Z"
   },
   {
    "duration": 855,
    "start_time": "2022-05-16T21:23:52.959Z"
   },
   {
    "duration": 38,
    "start_time": "2022-05-16T21:23:53.817Z"
   },
   {
    "duration": 17,
    "start_time": "2022-05-16T21:23:53.857Z"
   },
   {
    "duration": 15,
    "start_time": "2022-05-16T21:23:53.877Z"
   },
   {
    "duration": 239,
    "start_time": "2022-05-16T21:23:53.894Z"
   },
   {
    "duration": 10,
    "start_time": "2022-05-16T21:23:54.136Z"
   },
   {
    "duration": 41,
    "start_time": "2022-05-16T21:23:54.149Z"
   },
   {
    "duration": 69,
    "start_time": "2022-05-16T21:23:54.193Z"
   },
   {
    "duration": 28,
    "start_time": "2022-05-16T21:23:54.265Z"
   },
   {
    "duration": 155,
    "start_time": "2022-05-16T21:23:54.297Z"
   },
   {
    "duration": 28,
    "start_time": "2022-05-16T21:23:54.454Z"
   },
   {
    "duration": 53,
    "start_time": "2022-05-16T21:23:54.485Z"
   },
   {
    "duration": 15,
    "start_time": "2022-05-16T21:23:54.540Z"
   },
   {
    "duration": 208,
    "start_time": "2022-05-16T21:23:54.557Z"
   },
   {
    "duration": 29,
    "start_time": "2022-05-16T21:23:54.767Z"
   },
   {
    "duration": 30,
    "start_time": "2022-05-16T21:23:54.799Z"
   },
   {
    "duration": 40,
    "start_time": "2022-05-16T21:23:54.831Z"
   },
   {
    "duration": 14,
    "start_time": "2022-05-16T21:23:54.874Z"
   },
   {
    "duration": 45,
    "start_time": "2022-05-16T21:23:54.891Z"
   },
   {
    "duration": 16,
    "start_time": "2022-05-16T21:23:54.938Z"
   },
   {
    "duration": 16,
    "start_time": "2022-05-16T21:23:54.956Z"
   },
   {
    "duration": 12,
    "start_time": "2022-05-16T21:23:54.974Z"
   },
   {
    "duration": 52,
    "start_time": "2022-05-16T21:23:54.989Z"
   },
   {
    "duration": 133,
    "start_time": "2022-05-16T21:23:55.043Z"
   },
   {
    "duration": 32,
    "start_time": "2022-05-16T21:23:55.178Z"
   },
   {
    "duration": 85,
    "start_time": "2022-05-16T21:23:55.212Z"
   },
   {
    "duration": 28,
    "start_time": "2022-05-16T21:23:55.299Z"
   },
   {
    "duration": 58,
    "start_time": "2022-05-16T21:23:55.334Z"
   },
   {
    "duration": 82,
    "start_time": "2022-05-16T21:23:55.394Z"
   },
   {
    "duration": 14,
    "start_time": "2022-05-16T21:23:55.478Z"
   },
   {
    "duration": 33,
    "start_time": "2022-05-16T21:23:55.494Z"
   },
   {
    "duration": 12,
    "start_time": "2022-05-16T21:23:55.529Z"
   },
   {
    "duration": 127,
    "start_time": "2022-05-16T21:23:55.544Z"
   },
   {
    "duration": 145,
    "start_time": "2022-05-16T21:23:55.673Z"
   },
   {
    "duration": 187,
    "start_time": "2022-05-16T21:23:55.821Z"
   },
   {
    "duration": 126,
    "start_time": "2022-05-16T21:23:56.010Z"
   },
   {
    "duration": 139,
    "start_time": "2022-05-16T21:23:56.138Z"
   },
   {
    "duration": 0,
    "start_time": "2022-05-16T21:23:56.279Z"
   },
   {
    "duration": 0,
    "start_time": "2022-05-16T21:23:56.281Z"
   },
   {
    "duration": 0,
    "start_time": "2022-05-16T21:23:56.282Z"
   },
   {
    "duration": 0,
    "start_time": "2022-05-16T21:23:56.284Z"
   },
   {
    "duration": 0,
    "start_time": "2022-05-16T21:23:56.285Z"
   },
   {
    "duration": 0,
    "start_time": "2022-05-16T21:23:56.286Z"
   },
   {
    "duration": 0,
    "start_time": "2022-05-16T21:23:56.288Z"
   },
   {
    "duration": 0,
    "start_time": "2022-05-16T21:23:56.289Z"
   },
   {
    "duration": 0,
    "start_time": "2022-05-16T21:23:56.290Z"
   },
   {
    "duration": 0,
    "start_time": "2022-05-16T21:23:56.292Z"
   },
   {
    "duration": 0,
    "start_time": "2022-05-16T21:23:56.293Z"
   },
   {
    "duration": 0,
    "start_time": "2022-05-16T21:23:56.295Z"
   },
   {
    "duration": 0,
    "start_time": "2022-05-16T21:23:56.296Z"
   },
   {
    "duration": 0,
    "start_time": "2022-05-16T21:23:56.325Z"
   },
   {
    "duration": 0,
    "start_time": "2022-05-16T21:23:56.326Z"
   },
   {
    "duration": 0,
    "start_time": "2022-05-16T21:23:56.328Z"
   },
   {
    "duration": 0,
    "start_time": "2022-05-16T21:23:56.329Z"
   },
   {
    "duration": 0,
    "start_time": "2022-05-16T21:23:56.331Z"
   },
   {
    "duration": 0,
    "start_time": "2022-05-16T21:23:56.332Z"
   },
   {
    "duration": 0,
    "start_time": "2022-05-16T21:23:56.334Z"
   },
   {
    "duration": 0,
    "start_time": "2022-05-16T21:23:56.335Z"
   },
   {
    "duration": 0,
    "start_time": "2022-05-16T21:23:56.337Z"
   },
   {
    "duration": 0,
    "start_time": "2022-05-16T21:23:56.338Z"
   },
   {
    "duration": 0,
    "start_time": "2022-05-16T21:23:56.339Z"
   },
   {
    "duration": 0,
    "start_time": "2022-05-16T21:23:56.341Z"
   },
   {
    "duration": 10,
    "start_time": "2022-05-16T21:25:52.178Z"
   },
   {
    "duration": 13,
    "start_time": "2022-05-19T13:22:37.858Z"
   },
   {
    "duration": 8,
    "start_time": "2022-05-19T13:28:20.537Z"
   },
   {
    "duration": 3,
    "start_time": "2022-05-19T13:28:33.465Z"
   },
   {
    "duration": 10,
    "start_time": "2022-05-19T13:28:40.101Z"
   },
   {
    "duration": 457,
    "start_time": "2022-05-19T13:29:19.699Z"
   },
   {
    "duration": 9,
    "start_time": "2022-05-19T13:29:37.620Z"
   },
   {
    "duration": 9,
    "start_time": "2022-05-19T13:29:50.276Z"
   },
   {
    "duration": 11,
    "start_time": "2022-05-19T13:32:57.211Z"
   },
   {
    "duration": 10,
    "start_time": "2022-05-19T13:33:15.381Z"
   },
   {
    "duration": 7,
    "start_time": "2022-05-19T13:40:19.513Z"
   },
   {
    "duration": 6,
    "start_time": "2022-05-19T13:41:20.297Z"
   },
   {
    "duration": 15,
    "start_time": "2022-05-19T13:41:56.337Z"
   },
   {
    "duration": 6,
    "start_time": "2022-05-19T13:42:12.795Z"
   },
   {
    "duration": 15,
    "start_time": "2022-05-19T13:42:14.699Z"
   },
   {
    "duration": 6,
    "start_time": "2022-05-19T13:43:40.240Z"
   },
   {
    "duration": 10,
    "start_time": "2022-05-19T13:43:41.596Z"
   },
   {
    "duration": 9,
    "start_time": "2022-05-19T13:46:11.921Z"
   },
   {
    "duration": 39,
    "start_time": "2022-05-19T13:48:22.476Z"
   },
   {
    "duration": 62,
    "start_time": "2022-05-19T13:57:13.713Z"
   },
   {
    "duration": 81,
    "start_time": "2022-05-19T14:03:53.544Z"
   },
   {
    "duration": 19,
    "start_time": "2022-05-19T14:04:04.792Z"
   },
   {
    "duration": 46,
    "start_time": "2022-05-19T14:14:26.649Z"
   },
   {
    "duration": 11,
    "start_time": "2022-05-19T14:17:32.076Z"
   },
   {
    "duration": 8,
    "start_time": "2022-05-19T14:17:43.659Z"
   },
   {
    "duration": 45,
    "start_time": "2022-05-19T14:17:50.462Z"
   },
   {
    "duration": 38,
    "start_time": "2022-05-19T14:17:54.366Z"
   },
   {
    "duration": 12,
    "start_time": "2022-05-19T14:17:57.884Z"
   },
   {
    "duration": 10,
    "start_time": "2022-05-19T14:18:23.642Z"
   },
   {
    "duration": 22,
    "start_time": "2022-05-19T15:37:39.221Z"
   },
   {
    "duration": 10,
    "start_time": "2022-05-19T15:38:00.043Z"
   },
   {
    "duration": 40,
    "start_time": "2022-05-19T15:39:09.190Z"
   },
   {
    "duration": 13,
    "start_time": "2022-05-19T15:41:15.251Z"
   },
   {
    "duration": 3,
    "start_time": "2022-05-19T15:41:27.230Z"
   },
   {
    "duration": 8,
    "start_time": "2022-05-19T15:41:29.223Z"
   },
   {
    "duration": 45,
    "start_time": "2022-05-19T15:44:31.519Z"
   },
   {
    "duration": 470,
    "start_time": "2022-05-19T15:50:57.037Z"
   },
   {
    "duration": 5,
    "start_time": "2022-05-19T15:51:22.868Z"
   },
   {
    "duration": 6,
    "start_time": "2022-05-19T15:51:53.573Z"
   },
   {
    "duration": 8,
    "start_time": "2022-05-19T15:51:55.625Z"
   },
   {
    "duration": 11,
    "start_time": "2022-05-19T15:52:08.445Z"
   },
   {
    "duration": 56,
    "start_time": "2022-05-19T15:55:18.133Z"
   },
   {
    "duration": 8,
    "start_time": "2022-05-19T15:58:47.538Z"
   },
   {
    "duration": 30,
    "start_time": "2022-05-19T15:58:49.889Z"
   },
   {
    "duration": 29,
    "start_time": "2022-05-19T15:58:52.158Z"
   },
   {
    "duration": 16,
    "start_time": "2022-05-19T15:58:53.348Z"
   },
   {
    "duration": 15,
    "start_time": "2022-05-19T16:01:19.735Z"
   },
   {
    "duration": 22,
    "start_time": "2022-05-19T16:01:51.112Z"
   },
   {
    "duration": 4,
    "start_time": "2022-05-19T16:02:03.832Z"
   },
   {
    "duration": 3,
    "start_time": "2022-05-19T16:02:17.403Z"
   },
   {
    "duration": 8,
    "start_time": "2022-05-19T16:02:35.392Z"
   },
   {
    "duration": 17,
    "start_time": "2022-05-19T16:04:33.210Z"
   },
   {
    "duration": 323,
    "start_time": "2022-05-19T16:04:57.499Z"
   },
   {
    "duration": 17,
    "start_time": "2022-05-19T16:05:22.969Z"
   },
   {
    "duration": 6,
    "start_time": "2022-05-19T16:05:51.058Z"
   },
   {
    "duration": 711,
    "start_time": "2022-05-19T16:06:11.113Z"
   },
   {
    "duration": 1086,
    "start_time": "2022-05-19T16:06:25.529Z"
   },
   {
    "duration": 16,
    "start_time": "2022-05-19T16:06:47.326Z"
   },
   {
    "duration": 341,
    "start_time": "2022-05-19T16:06:49.544Z"
   },
   {
    "duration": 311,
    "start_time": "2022-05-19T16:06:53.353Z"
   },
   {
    "duration": 318,
    "start_time": "2022-05-19T16:07:01.065Z"
   },
   {
    "duration": 18,
    "start_time": "2022-05-19T16:07:09.678Z"
   },
   {
    "duration": 19,
    "start_time": "2022-05-19T16:08:27.662Z"
   },
   {
    "duration": 12,
    "start_time": "2022-05-19T16:08:39.860Z"
   },
   {
    "duration": 9,
    "start_time": "2022-05-19T16:09:28.192Z"
   },
   {
    "duration": 6,
    "start_time": "2022-05-19T16:09:47.632Z"
   },
   {
    "duration": 14,
    "start_time": "2022-05-19T16:09:52.752Z"
   },
   {
    "duration": 5,
    "start_time": "2022-05-19T16:10:22.421Z"
   },
   {
    "duration": 13,
    "start_time": "2022-05-19T16:10:42.388Z"
   },
   {
    "duration": 5,
    "start_time": "2022-05-19T16:11:07.336Z"
   },
   {
    "duration": 14,
    "start_time": "2022-05-19T16:11:09.360Z"
   },
   {
    "duration": 141,
    "start_time": "2022-05-19T16:11:33.521Z"
   },
   {
    "duration": 21,
    "start_time": "2022-05-19T16:13:05.014Z"
   },
   {
    "duration": 764,
    "start_time": "2022-05-19T16:13:22.944Z"
   },
   {
    "duration": 819,
    "start_time": "2022-05-19T16:13:29.883Z"
   },
   {
    "duration": 3,
    "start_time": "2022-05-19T16:13:41.843Z"
   },
   {
    "duration": 37,
    "start_time": "2022-05-19T16:13:41.849Z"
   },
   {
    "duration": 14,
    "start_time": "2022-05-19T16:13:41.888Z"
   },
   {
    "duration": 6,
    "start_time": "2022-05-19T16:13:41.903Z"
   },
   {
    "duration": 171,
    "start_time": "2022-05-19T16:13:41.911Z"
   },
   {
    "duration": 7,
    "start_time": "2022-05-19T16:13:42.084Z"
   },
   {
    "duration": 57,
    "start_time": "2022-05-19T16:13:42.092Z"
   },
   {
    "duration": 28,
    "start_time": "2022-05-19T16:13:42.151Z"
   },
   {
    "duration": 17,
    "start_time": "2022-05-19T16:13:42.181Z"
   },
   {
    "duration": 98,
    "start_time": "2022-05-19T16:13:42.200Z"
   },
   {
    "duration": 31,
    "start_time": "2022-05-19T16:13:42.300Z"
   },
   {
    "duration": 16,
    "start_time": "2022-05-19T16:13:42.333Z"
   },
   {
    "duration": 10,
    "start_time": "2022-05-19T16:13:42.351Z"
   },
   {
    "duration": 141,
    "start_time": "2022-05-19T16:13:42.362Z"
   },
   {
    "duration": 29,
    "start_time": "2022-05-19T16:13:42.506Z"
   },
   {
    "duration": 6,
    "start_time": "2022-05-19T16:13:42.536Z"
   },
   {
    "duration": 25,
    "start_time": "2022-05-19T16:13:42.543Z"
   },
   {
    "duration": 10,
    "start_time": "2022-05-19T16:13:42.570Z"
   },
   {
    "duration": 16,
    "start_time": "2022-05-19T16:13:42.582Z"
   },
   {
    "duration": 10,
    "start_time": "2022-05-19T16:13:42.599Z"
   },
   {
    "duration": 7,
    "start_time": "2022-05-19T16:13:42.627Z"
   },
   {
    "duration": 5,
    "start_time": "2022-05-19T16:13:42.636Z"
   },
   {
    "duration": 6,
    "start_time": "2022-05-19T16:13:42.643Z"
   },
   {
    "duration": 7,
    "start_time": "2022-05-19T16:13:42.651Z"
   },
   {
    "duration": 30,
    "start_time": "2022-05-19T16:13:42.659Z"
   },
   {
    "duration": 3,
    "start_time": "2022-05-19T16:13:42.691Z"
   },
   {
    "duration": 47,
    "start_time": "2022-05-19T16:13:42.696Z"
   },
   {
    "duration": 27,
    "start_time": "2022-05-19T16:13:42.745Z"
   },
   {
    "duration": 3,
    "start_time": "2022-05-19T16:13:42.774Z"
   },
   {
    "duration": 15,
    "start_time": "2022-05-19T16:13:42.778Z"
   },
   {
    "duration": 5,
    "start_time": "2022-05-19T16:13:42.794Z"
   },
   {
    "duration": 31,
    "start_time": "2022-05-19T16:13:42.800Z"
   },
   {
    "duration": 17,
    "start_time": "2022-05-19T16:13:42.832Z"
   },
   {
    "duration": 4,
    "start_time": "2022-05-19T16:13:42.851Z"
   },
   {
    "duration": 7,
    "start_time": "2022-05-19T16:13:42.857Z"
   },
   {
    "duration": 16,
    "start_time": "2022-05-19T16:13:42.866Z"
   },
   {
    "duration": 47,
    "start_time": "2022-05-19T16:13:42.884Z"
   },
   {
    "duration": 9,
    "start_time": "2022-05-19T16:13:42.932Z"
   },
   {
    "duration": 0,
    "start_time": "2022-05-19T16:13:42.943Z"
   },
   {
    "duration": 0,
    "start_time": "2022-05-19T16:13:42.945Z"
   },
   {
    "duration": 0,
    "start_time": "2022-05-19T16:13:42.946Z"
   },
   {
    "duration": 0,
    "start_time": "2022-05-19T16:13:42.947Z"
   },
   {
    "duration": 0,
    "start_time": "2022-05-19T16:13:42.948Z"
   },
   {
    "duration": 0,
    "start_time": "2022-05-19T16:13:42.949Z"
   },
   {
    "duration": 0,
    "start_time": "2022-05-19T16:13:42.950Z"
   },
   {
    "duration": 0,
    "start_time": "2022-05-19T16:13:42.951Z"
   },
   {
    "duration": 0,
    "start_time": "2022-05-19T16:13:42.952Z"
   },
   {
    "duration": 0,
    "start_time": "2022-05-19T16:13:42.953Z"
   },
   {
    "duration": 0,
    "start_time": "2022-05-19T16:13:42.954Z"
   },
   {
    "duration": 0,
    "start_time": "2022-05-19T16:13:42.955Z"
   },
   {
    "duration": 0,
    "start_time": "2022-05-19T16:13:42.956Z"
   },
   {
    "duration": 0,
    "start_time": "2022-05-19T16:13:42.957Z"
   },
   {
    "duration": 0,
    "start_time": "2022-05-19T16:13:42.958Z"
   },
   {
    "duration": 0,
    "start_time": "2022-05-19T16:13:42.959Z"
   },
   {
    "duration": 0,
    "start_time": "2022-05-19T16:13:42.960Z"
   },
   {
    "duration": 0,
    "start_time": "2022-05-19T16:13:42.961Z"
   },
   {
    "duration": 0,
    "start_time": "2022-05-19T16:13:42.962Z"
   },
   {
    "duration": 0,
    "start_time": "2022-05-19T16:13:42.963Z"
   },
   {
    "duration": 0,
    "start_time": "2022-05-19T16:13:42.964Z"
   },
   {
    "duration": 0,
    "start_time": "2022-05-19T16:13:42.965Z"
   },
   {
    "duration": 0,
    "start_time": "2022-05-19T16:13:42.967Z"
   },
   {
    "duration": 0,
    "start_time": "2022-05-19T16:13:42.968Z"
   },
   {
    "duration": 0,
    "start_time": "2022-05-19T16:13:42.969Z"
   },
   {
    "duration": 0,
    "start_time": "2022-05-19T16:13:42.970Z"
   },
   {
    "duration": 0,
    "start_time": "2022-05-19T16:13:42.971Z"
   },
   {
    "duration": 0,
    "start_time": "2022-05-19T16:13:42.972Z"
   },
   {
    "duration": 0,
    "start_time": "2022-05-19T16:13:43.027Z"
   },
   {
    "duration": 0,
    "start_time": "2022-05-19T16:13:43.029Z"
   },
   {
    "duration": 0,
    "start_time": "2022-05-19T16:13:43.029Z"
   },
   {
    "duration": 0,
    "start_time": "2022-05-19T16:13:43.031Z"
   },
   {
    "duration": 0,
    "start_time": "2022-05-19T16:13:43.032Z"
   },
   {
    "duration": 0,
    "start_time": "2022-05-19T16:13:43.033Z"
   },
   {
    "duration": 0,
    "start_time": "2022-05-19T16:13:43.034Z"
   },
   {
    "duration": 0,
    "start_time": "2022-05-19T16:13:43.035Z"
   },
   {
    "duration": 0,
    "start_time": "2022-05-19T16:13:43.036Z"
   },
   {
    "duration": 0,
    "start_time": "2022-05-19T16:13:43.036Z"
   },
   {
    "duration": 0,
    "start_time": "2022-05-19T16:13:43.037Z"
   },
   {
    "duration": 0,
    "start_time": "2022-05-19T16:13:43.039Z"
   },
   {
    "duration": 0,
    "start_time": "2022-05-19T16:13:43.039Z"
   },
   {
    "duration": 0,
    "start_time": "2022-05-19T16:13:43.041Z"
   },
   {
    "duration": 0,
    "start_time": "2022-05-19T16:13:43.042Z"
   },
   {
    "duration": 3,
    "start_time": "2022-05-19T16:14:05.091Z"
   },
   {
    "duration": 32,
    "start_time": "2022-05-19T16:14:05.098Z"
   },
   {
    "duration": 10,
    "start_time": "2022-05-19T16:14:05.133Z"
   },
   {
    "duration": 17,
    "start_time": "2022-05-19T16:14:05.145Z"
   },
   {
    "duration": 199,
    "start_time": "2022-05-19T16:14:05.163Z"
   },
   {
    "duration": 7,
    "start_time": "2022-05-19T16:14:05.365Z"
   },
   {
    "duration": 28,
    "start_time": "2022-05-19T16:14:05.374Z"
   },
   {
    "duration": 45,
    "start_time": "2022-05-19T16:14:05.404Z"
   },
   {
    "duration": 19,
    "start_time": "2022-05-19T16:14:05.451Z"
   },
   {
    "duration": 94,
    "start_time": "2022-05-19T16:14:05.472Z"
   },
   {
    "duration": 18,
    "start_time": "2022-05-19T16:14:05.568Z"
   },
   {
    "duration": 17,
    "start_time": "2022-05-19T16:14:05.587Z"
   },
   {
    "duration": 31,
    "start_time": "2022-05-19T16:14:05.606Z"
   },
   {
    "duration": 136,
    "start_time": "2022-05-19T16:14:05.638Z"
   },
   {
    "duration": 21,
    "start_time": "2022-05-19T16:14:05.778Z"
   },
   {
    "duration": 7,
    "start_time": "2022-05-19T16:14:05.800Z"
   },
   {
    "duration": 40,
    "start_time": "2022-05-19T16:14:05.809Z"
   },
   {
    "duration": 11,
    "start_time": "2022-05-19T16:14:05.850Z"
   },
   {
    "duration": 18,
    "start_time": "2022-05-19T16:14:05.862Z"
   },
   {
    "duration": 10,
    "start_time": "2022-05-19T16:14:05.882Z"
   },
   {
    "duration": 10,
    "start_time": "2022-05-19T16:14:05.893Z"
   },
   {
    "duration": 25,
    "start_time": "2022-05-19T16:14:05.904Z"
   },
   {
    "duration": 8,
    "start_time": "2022-05-19T16:14:05.931Z"
   },
   {
    "duration": 6,
    "start_time": "2022-05-19T16:14:05.941Z"
   },
   {
    "duration": 26,
    "start_time": "2022-05-19T16:14:05.948Z"
   },
   {
    "duration": 3,
    "start_time": "2022-05-19T16:14:05.976Z"
   },
   {
    "duration": 26,
    "start_time": "2022-05-19T16:14:05.980Z"
   },
   {
    "duration": 42,
    "start_time": "2022-05-19T16:14:06.008Z"
   },
   {
    "duration": 3,
    "start_time": "2022-05-19T16:14:06.052Z"
   },
   {
    "duration": 12,
    "start_time": "2022-05-19T16:14:06.057Z"
   },
   {
    "duration": 6,
    "start_time": "2022-05-19T16:14:06.071Z"
   },
   {
    "duration": 21,
    "start_time": "2022-05-19T16:14:06.079Z"
   },
   {
    "duration": 38,
    "start_time": "2022-05-19T16:14:06.103Z"
   },
   {
    "duration": 4,
    "start_time": "2022-05-19T16:14:06.143Z"
   },
   {
    "duration": 16,
    "start_time": "2022-05-19T16:14:06.149Z"
   },
   {
    "duration": 24,
    "start_time": "2022-05-19T16:14:06.167Z"
   },
   {
    "duration": 41,
    "start_time": "2022-05-19T16:14:06.193Z"
   },
   {
    "duration": 3,
    "start_time": "2022-05-19T16:14:06.236Z"
   },
   {
    "duration": 31,
    "start_time": "2022-05-19T16:14:06.241Z"
   },
   {
    "duration": 388,
    "start_time": "2022-05-19T16:14:06.275Z"
   },
   {
    "duration": 6,
    "start_time": "2022-05-19T16:14:06.664Z"
   },
   {
    "duration": 6,
    "start_time": "2022-05-19T16:14:06.675Z"
   },
   {
    "duration": 13,
    "start_time": "2022-05-19T16:14:06.683Z"
   },
   {
    "duration": 27,
    "start_time": "2022-05-19T16:14:06.698Z"
   },
   {
    "duration": 7,
    "start_time": "2022-05-19T16:14:06.727Z"
   },
   {
    "duration": 6,
    "start_time": "2022-05-19T16:14:06.736Z"
   },
   {
    "duration": 13,
    "start_time": "2022-05-19T16:14:06.744Z"
   },
   {
    "duration": 23,
    "start_time": "2022-05-19T16:14:06.759Z"
   },
   {
    "duration": 0,
    "start_time": "2022-05-19T16:14:06.784Z"
   },
   {
    "duration": 0,
    "start_time": "2022-05-19T16:14:06.786Z"
   },
   {
    "duration": 0,
    "start_time": "2022-05-19T16:14:06.787Z"
   },
   {
    "duration": 0,
    "start_time": "2022-05-19T16:14:06.789Z"
   },
   {
    "duration": 0,
    "start_time": "2022-05-19T16:14:06.790Z"
   },
   {
    "duration": 0,
    "start_time": "2022-05-19T16:14:06.792Z"
   },
   {
    "duration": 0,
    "start_time": "2022-05-19T16:14:06.793Z"
   },
   {
    "duration": 0,
    "start_time": "2022-05-19T16:14:06.794Z"
   },
   {
    "duration": 0,
    "start_time": "2022-05-19T16:14:06.796Z"
   },
   {
    "duration": 0,
    "start_time": "2022-05-19T16:14:06.796Z"
   },
   {
    "duration": 0,
    "start_time": "2022-05-19T16:14:06.797Z"
   },
   {
    "duration": 0,
    "start_time": "2022-05-19T16:14:06.827Z"
   },
   {
    "duration": 0,
    "start_time": "2022-05-19T16:14:06.828Z"
   },
   {
    "duration": 0,
    "start_time": "2022-05-19T16:14:06.830Z"
   },
   {
    "duration": 0,
    "start_time": "2022-05-19T16:14:06.832Z"
   },
   {
    "duration": 0,
    "start_time": "2022-05-19T16:14:06.833Z"
   },
   {
    "duration": 0,
    "start_time": "2022-05-19T16:14:06.834Z"
   },
   {
    "duration": 0,
    "start_time": "2022-05-19T16:14:06.835Z"
   },
   {
    "duration": 0,
    "start_time": "2022-05-19T16:14:06.836Z"
   },
   {
    "duration": 0,
    "start_time": "2022-05-19T16:14:06.838Z"
   },
   {
    "duration": 0,
    "start_time": "2022-05-19T16:14:06.839Z"
   },
   {
    "duration": 0,
    "start_time": "2022-05-19T16:14:06.841Z"
   },
   {
    "duration": 0,
    "start_time": "2022-05-19T16:14:06.845Z"
   },
   {
    "duration": 0,
    "start_time": "2022-05-19T16:14:06.846Z"
   },
   {
    "duration": 0,
    "start_time": "2022-05-19T16:14:06.848Z"
   },
   {
    "duration": 0,
    "start_time": "2022-05-19T16:14:06.849Z"
   },
   {
    "duration": 0,
    "start_time": "2022-05-19T16:14:06.850Z"
   },
   {
    "duration": 0,
    "start_time": "2022-05-19T16:14:06.852Z"
   },
   {
    "duration": 0,
    "start_time": "2022-05-19T16:14:06.853Z"
   },
   {
    "duration": 0,
    "start_time": "2022-05-19T16:14:06.855Z"
   },
   {
    "duration": 0,
    "start_time": "2022-05-19T16:14:06.856Z"
   },
   {
    "duration": 0,
    "start_time": "2022-05-19T16:14:06.858Z"
   },
   {
    "duration": 0,
    "start_time": "2022-05-19T16:14:06.860Z"
   },
   {
    "duration": 3,
    "start_time": "2022-05-19T16:14:39.648Z"
   },
   {
    "duration": 14,
    "start_time": "2022-05-19T16:14:46.438Z"
   },
   {
    "duration": 6,
    "start_time": "2022-05-19T16:17:17.351Z"
   },
   {
    "duration": 21,
    "start_time": "2022-05-19T16:17:23.365Z"
   },
   {
    "duration": 15,
    "start_time": "2022-05-19T16:18:07.562Z"
   },
   {
    "duration": 20,
    "start_time": "2022-05-19T16:19:44.432Z"
   },
   {
    "duration": 22,
    "start_time": "2022-05-19T16:19:53.003Z"
   },
   {
    "duration": 13,
    "start_time": "2022-05-19T16:24:28.741Z"
   },
   {
    "duration": 12,
    "start_time": "2022-05-19T16:28:16.973Z"
   },
   {
    "duration": 11,
    "start_time": "2022-05-19T16:28:34.464Z"
   },
   {
    "duration": 4,
    "start_time": "2022-05-19T16:30:10.738Z"
   },
   {
    "duration": 3,
    "start_time": "2022-05-19T16:30:12.570Z"
   },
   {
    "duration": 5,
    "start_time": "2022-05-19T16:30:14.232Z"
   },
   {
    "duration": 28,
    "start_time": "2022-05-19T16:30:19.180Z"
   },
   {
    "duration": 11,
    "start_time": "2022-05-19T16:30:22.656Z"
   },
   {
    "duration": 13,
    "start_time": "2022-05-19T16:30:30.795Z"
   },
   {
    "duration": 5,
    "start_time": "2022-05-19T16:31:21.604Z"
   },
   {
    "duration": 4,
    "start_time": "2022-05-19T16:31:23.118Z"
   },
   {
    "duration": 5,
    "start_time": "2022-05-19T16:31:23.651Z"
   },
   {
    "duration": 16,
    "start_time": "2022-05-19T16:31:34.469Z"
   },
   {
    "duration": 6,
    "start_time": "2022-05-19T16:33:24.241Z"
   },
   {
    "duration": 9,
    "start_time": "2022-05-19T16:39:06.941Z"
   },
   {
    "duration": 82,
    "start_time": "2022-05-19T16:39:18.293Z"
   },
   {
    "duration": 41,
    "start_time": "2022-05-19T16:39:24.246Z"
   },
   {
    "duration": 7,
    "start_time": "2022-05-19T16:41:42.059Z"
   },
   {
    "duration": 10,
    "start_time": "2022-05-19T16:41:47.126Z"
   },
   {
    "duration": 609,
    "start_time": "2022-05-19T16:43:43.886Z"
   },
   {
    "duration": 260,
    "start_time": "2022-05-19T16:44:21.083Z"
   },
   {
    "duration": 62,
    "start_time": "2022-05-19T16:47:08.924Z"
   },
   {
    "duration": 77,
    "start_time": "2022-05-19T16:47:15.928Z"
   },
   {
    "duration": 115,
    "start_time": "2022-05-19T16:47:20.064Z"
   },
   {
    "duration": 67,
    "start_time": "2022-05-19T16:47:22.685Z"
   },
   {
    "duration": 28,
    "start_time": "2022-05-19T16:47:27.006Z"
   },
   {
    "duration": 8,
    "start_time": "2022-05-19T16:47:50.508Z"
   },
   {
    "duration": 144,
    "start_time": "2022-05-19T16:48:00.930Z"
   },
   {
    "duration": 5,
    "start_time": "2022-05-19T16:48:03.597Z"
   },
   {
    "duration": 9,
    "start_time": "2022-05-19T16:48:06.916Z"
   },
   {
    "duration": 355,
    "start_time": "2022-05-19T16:51:27.179Z"
   },
   {
    "duration": 87,
    "start_time": "2022-05-19T16:55:09.115Z"
   },
   {
    "duration": 266,
    "start_time": "2022-05-19T16:57:27.925Z"
   },
   {
    "duration": 25,
    "start_time": "2022-05-19T16:57:48.774Z"
   },
   {
    "duration": 12,
    "start_time": "2022-05-19T16:58:29.930Z"
   },
   {
    "duration": 4,
    "start_time": "2022-05-19T16:59:55.711Z"
   },
   {
    "duration": 5,
    "start_time": "2022-05-19T17:02:53.870Z"
   },
   {
    "duration": 5,
    "start_time": "2022-05-19T17:02:55.607Z"
   },
   {
    "duration": 21,
    "start_time": "2022-05-19T17:02:57.480Z"
   },
   {
    "duration": 14,
    "start_time": "2022-05-19T17:03:24.882Z"
   },
   {
    "duration": 4,
    "start_time": "2022-05-19T17:03:27.496Z"
   },
   {
    "duration": 6,
    "start_time": "2022-05-19T17:03:29.744Z"
   },
   {
    "duration": 18,
    "start_time": "2022-05-19T17:03:32.560Z"
   },
   {
    "duration": 3,
    "start_time": "2022-05-19T17:03:50.070Z"
   },
   {
    "duration": 48,
    "start_time": "2022-05-19T17:03:50.076Z"
   },
   {
    "duration": 13,
    "start_time": "2022-05-19T17:03:50.127Z"
   },
   {
    "duration": 13,
    "start_time": "2022-05-19T17:03:50.143Z"
   },
   {
    "duration": 208,
    "start_time": "2022-05-19T17:03:50.159Z"
   },
   {
    "duration": 8,
    "start_time": "2022-05-19T17:03:50.369Z"
   },
   {
    "duration": 54,
    "start_time": "2022-05-19T17:03:50.379Z"
   },
   {
    "duration": 28,
    "start_time": "2022-05-19T17:03:50.435Z"
   },
   {
    "duration": 32,
    "start_time": "2022-05-19T17:03:50.465Z"
   },
   {
    "duration": 104,
    "start_time": "2022-05-19T17:03:50.499Z"
   },
   {
    "duration": 43,
    "start_time": "2022-05-19T17:03:50.607Z"
   },
   {
    "duration": 18,
    "start_time": "2022-05-19T17:03:50.652Z"
   },
   {
    "duration": 40,
    "start_time": "2022-05-19T17:03:50.672Z"
   },
   {
    "duration": 149,
    "start_time": "2022-05-19T17:03:50.714Z"
   },
   {
    "duration": 33,
    "start_time": "2022-05-19T17:03:50.865Z"
   },
   {
    "duration": 9,
    "start_time": "2022-05-19T17:03:50.899Z"
   },
   {
    "duration": 47,
    "start_time": "2022-05-19T17:03:50.910Z"
   },
   {
    "duration": 17,
    "start_time": "2022-05-19T17:03:50.959Z"
   },
   {
    "duration": 24,
    "start_time": "2022-05-19T17:03:50.978Z"
   },
   {
    "duration": 29,
    "start_time": "2022-05-19T17:03:51.004Z"
   },
   {
    "duration": 32,
    "start_time": "2022-05-19T17:03:51.035Z"
   },
   {
    "duration": 10,
    "start_time": "2022-05-19T17:03:51.069Z"
   },
   {
    "duration": 30,
    "start_time": "2022-05-19T17:03:51.081Z"
   },
   {
    "duration": 18,
    "start_time": "2022-05-19T17:03:51.113Z"
   },
   {
    "duration": 42,
    "start_time": "2022-05-19T17:03:51.134Z"
   },
   {
    "duration": 17,
    "start_time": "2022-05-19T17:03:51.178Z"
   },
   {
    "duration": 41,
    "start_time": "2022-05-19T17:03:51.197Z"
   },
   {
    "duration": 30,
    "start_time": "2022-05-19T17:03:51.240Z"
   },
   {
    "duration": 5,
    "start_time": "2022-05-19T17:03:51.278Z"
   },
   {
    "duration": 33,
    "start_time": "2022-05-19T17:03:51.285Z"
   },
   {
    "duration": 15,
    "start_time": "2022-05-19T17:03:51.321Z"
   },
   {
    "duration": 45,
    "start_time": "2022-05-19T17:03:51.338Z"
   },
   {
    "duration": 26,
    "start_time": "2022-05-19T17:03:51.386Z"
   },
   {
    "duration": 5,
    "start_time": "2022-05-19T17:03:51.415Z"
   },
   {
    "duration": 29,
    "start_time": "2022-05-19T17:03:51.421Z"
   },
   {
    "duration": 22,
    "start_time": "2022-05-19T17:03:51.453Z"
   },
   {
    "duration": 59,
    "start_time": "2022-05-19T17:03:51.477Z"
   },
   {
    "duration": 3,
    "start_time": "2022-05-19T17:03:51.538Z"
   },
   {
    "duration": 32,
    "start_time": "2022-05-19T17:03:51.543Z"
   },
   {
    "duration": 376,
    "start_time": "2022-05-19T17:03:51.577Z"
   },
   {
    "duration": 5,
    "start_time": "2022-05-19T17:03:51.955Z"
   },
   {
    "duration": 12,
    "start_time": "2022-05-19T17:03:51.962Z"
   },
   {
    "duration": 15,
    "start_time": "2022-05-19T17:03:51.975Z"
   },
   {
    "duration": 16,
    "start_time": "2022-05-19T17:03:51.992Z"
   },
   {
    "duration": 21,
    "start_time": "2022-05-19T17:03:52.010Z"
   },
   {
    "duration": 9,
    "start_time": "2022-05-19T17:03:52.032Z"
   },
   {
    "duration": 8,
    "start_time": "2022-05-19T17:03:52.043Z"
   },
   {
    "duration": 9,
    "start_time": "2022-05-19T17:03:52.052Z"
   },
   {
    "duration": 11,
    "start_time": "2022-05-19T17:03:52.063Z"
   },
   {
    "duration": 22,
    "start_time": "2022-05-19T17:03:52.076Z"
   },
   {
    "duration": 31,
    "start_time": "2022-05-19T17:03:52.100Z"
   },
   {
    "duration": 8,
    "start_time": "2022-05-19T17:03:52.133Z"
   },
   {
    "duration": 54,
    "start_time": "2022-05-19T17:03:52.143Z"
   },
   {
    "duration": 335,
    "start_time": "2022-05-19T17:03:52.199Z"
   },
   {
    "duration": 328,
    "start_time": "2022-05-19T17:03:52.537Z"
   },
   {
    "duration": 313,
    "start_time": "2022-05-19T17:03:52.867Z"
   },
   {
    "duration": 48,
    "start_time": "2022-05-19T17:03:53.182Z"
   },
   {
    "duration": 10,
    "start_time": "2022-05-19T17:03:53.233Z"
   },
   {
    "duration": 17,
    "start_time": "2022-05-19T17:03:53.252Z"
   },
   {
    "duration": 75,
    "start_time": "2022-05-19T17:03:53.271Z"
   },
   {
    "duration": 97,
    "start_time": "2022-05-19T17:03:53.348Z"
   },
   {
    "duration": 139,
    "start_time": "2022-05-19T17:03:53.448Z"
   },
   {
    "duration": 192,
    "start_time": "2022-05-19T17:03:53.590Z"
   },
   {
    "duration": 32,
    "start_time": "2022-05-19T17:03:53.784Z"
   },
   {
    "duration": 0,
    "start_time": "2022-05-19T17:03:53.829Z"
   },
   {
    "duration": 0,
    "start_time": "2022-05-19T17:03:53.830Z"
   },
   {
    "duration": 0,
    "start_time": "2022-05-19T17:03:53.832Z"
   },
   {
    "duration": 0,
    "start_time": "2022-05-19T17:03:53.834Z"
   },
   {
    "duration": 0,
    "start_time": "2022-05-19T17:03:53.835Z"
   },
   {
    "duration": 0,
    "start_time": "2022-05-19T17:03:53.837Z"
   },
   {
    "duration": 0,
    "start_time": "2022-05-19T17:03:53.839Z"
   },
   {
    "duration": 0,
    "start_time": "2022-05-19T17:03:53.840Z"
   },
   {
    "duration": 0,
    "start_time": "2022-05-19T17:03:53.841Z"
   },
   {
    "duration": 0,
    "start_time": "2022-05-19T17:03:53.843Z"
   },
   {
    "duration": 0,
    "start_time": "2022-05-19T17:03:53.845Z"
   },
   {
    "duration": 0,
    "start_time": "2022-05-19T17:03:53.846Z"
   },
   {
    "duration": 0,
    "start_time": "2022-05-19T17:03:53.847Z"
   },
   {
    "duration": 0,
    "start_time": "2022-05-19T17:03:53.849Z"
   },
   {
    "duration": 0,
    "start_time": "2022-05-19T17:03:53.850Z"
   },
   {
    "duration": 0,
    "start_time": "2022-05-19T17:03:53.851Z"
   },
   {
    "duration": 0,
    "start_time": "2022-05-19T17:03:53.853Z"
   },
   {
    "duration": 0,
    "start_time": "2022-05-19T17:03:53.854Z"
   },
   {
    "duration": 0,
    "start_time": "2022-05-19T17:03:53.855Z"
   },
   {
    "duration": 0,
    "start_time": "2022-05-19T17:03:53.856Z"
   },
   {
    "duration": 0,
    "start_time": "2022-05-19T17:03:53.858Z"
   },
   {
    "duration": 0,
    "start_time": "2022-05-19T17:03:53.860Z"
   },
   {
    "duration": 0,
    "start_time": "2022-05-19T17:03:53.861Z"
   },
   {
    "duration": 0,
    "start_time": "2022-05-19T17:03:53.862Z"
   },
   {
    "duration": 0,
    "start_time": "2022-05-19T17:03:53.863Z"
   },
   {
    "duration": 30,
    "start_time": "2022-05-19T17:06:07.483Z"
   },
   {
    "duration": 821,
    "start_time": "2022-05-19T17:19:56.411Z"
   },
   {
    "duration": 4,
    "start_time": "2022-05-19T17:20:47.028Z"
   },
   {
    "duration": 33,
    "start_time": "2022-05-19T17:20:55.043Z"
   },
   {
    "duration": 11,
    "start_time": "2022-05-19T17:24:30.555Z"
   },
   {
    "duration": 3,
    "start_time": "2022-05-19T17:24:42.805Z"
   },
   {
    "duration": 42,
    "start_time": "2022-05-19T17:24:42.810Z"
   },
   {
    "duration": 10,
    "start_time": "2022-05-19T17:24:42.854Z"
   },
   {
    "duration": 21,
    "start_time": "2022-05-19T17:24:42.866Z"
   },
   {
    "duration": 152,
    "start_time": "2022-05-19T17:24:42.890Z"
   },
   {
    "duration": 7,
    "start_time": "2022-05-19T17:24:43.044Z"
   },
   {
    "duration": 35,
    "start_time": "2022-05-19T17:24:43.052Z"
   },
   {
    "duration": 47,
    "start_time": "2022-05-19T17:24:43.091Z"
   },
   {
    "duration": 22,
    "start_time": "2022-05-19T17:24:43.139Z"
   },
   {
    "duration": 99,
    "start_time": "2022-05-19T17:24:43.162Z"
   },
   {
    "duration": 22,
    "start_time": "2022-05-19T17:24:43.264Z"
   },
   {
    "duration": 39,
    "start_time": "2022-05-19T17:24:43.288Z"
   },
   {
    "duration": 10,
    "start_time": "2022-05-19T17:24:43.329Z"
   },
   {
    "duration": 140,
    "start_time": "2022-05-19T17:24:43.341Z"
   },
   {
    "duration": 20,
    "start_time": "2022-05-19T17:24:43.483Z"
   },
   {
    "duration": 23,
    "start_time": "2022-05-19T17:24:43.504Z"
   },
   {
    "duration": 23,
    "start_time": "2022-05-19T17:24:43.529Z"
   },
   {
    "duration": 14,
    "start_time": "2022-05-19T17:24:43.556Z"
   },
   {
    "duration": 22,
    "start_time": "2022-05-19T17:24:43.574Z"
   },
   {
    "duration": 10,
    "start_time": "2022-05-19T17:24:43.598Z"
   },
   {
    "duration": 20,
    "start_time": "2022-05-19T17:24:43.609Z"
   },
   {
    "duration": 16,
    "start_time": "2022-05-19T17:24:43.631Z"
   },
   {
    "duration": 12,
    "start_time": "2022-05-19T17:24:43.649Z"
   },
   {
    "duration": 14,
    "start_time": "2022-05-19T17:24:43.662Z"
   },
   {
    "duration": 25,
    "start_time": "2022-05-19T17:24:43.678Z"
   },
   {
    "duration": 2,
    "start_time": "2022-05-19T17:24:43.705Z"
   },
   {
    "duration": 36,
    "start_time": "2022-05-19T17:24:43.708Z"
   },
   {
    "duration": 24,
    "start_time": "2022-05-19T17:24:43.745Z"
   },
   {
    "duration": 3,
    "start_time": "2022-05-19T17:24:43.774Z"
   },
   {
    "duration": 16,
    "start_time": "2022-05-19T17:24:43.779Z"
   },
   {
    "duration": 16,
    "start_time": "2022-05-19T17:24:43.796Z"
   },
   {
    "duration": 20,
    "start_time": "2022-05-19T17:24:43.814Z"
   },
   {
    "duration": 25,
    "start_time": "2022-05-19T17:24:43.837Z"
   },
   {
    "duration": 4,
    "start_time": "2022-05-19T17:24:43.865Z"
   },
   {
    "duration": 16,
    "start_time": "2022-05-19T17:24:43.871Z"
   },
   {
    "duration": 17,
    "start_time": "2022-05-19T17:24:43.888Z"
   },
   {
    "duration": 43,
    "start_time": "2022-05-19T17:24:43.906Z"
   },
   {
    "duration": 2,
    "start_time": "2022-05-19T17:24:43.951Z"
   },
   {
    "duration": 31,
    "start_time": "2022-05-19T17:24:43.954Z"
   },
   {
    "duration": 295,
    "start_time": "2022-05-19T17:24:43.987Z"
   },
   {
    "duration": 5,
    "start_time": "2022-05-19T17:24:44.284Z"
   },
   {
    "duration": 11,
    "start_time": "2022-05-19T17:24:44.290Z"
   },
   {
    "duration": 13,
    "start_time": "2022-05-19T17:24:44.302Z"
   },
   {
    "duration": 9,
    "start_time": "2022-05-19T17:24:44.317Z"
   },
   {
    "duration": 17,
    "start_time": "2022-05-19T17:24:44.327Z"
   },
   {
    "duration": 11,
    "start_time": "2022-05-19T17:24:44.346Z"
   },
   {
    "duration": 10,
    "start_time": "2022-05-19T17:24:44.359Z"
   },
   {
    "duration": 6,
    "start_time": "2022-05-19T17:24:44.371Z"
   },
   {
    "duration": 13,
    "start_time": "2022-05-19T17:24:44.379Z"
   },
   {
    "duration": 25,
    "start_time": "2022-05-19T17:24:44.394Z"
   },
   {
    "duration": 7,
    "start_time": "2022-05-19T17:24:44.421Z"
   },
   {
    "duration": 15,
    "start_time": "2022-05-19T17:24:44.430Z"
   },
   {
    "duration": 53,
    "start_time": "2022-05-19T17:24:44.446Z"
   },
   {
    "duration": 249,
    "start_time": "2022-05-19T17:24:44.501Z"
   },
   {
    "duration": 285,
    "start_time": "2022-05-19T17:24:44.751Z"
   },
   {
    "duration": 401,
    "start_time": "2022-05-19T17:24:45.039Z"
   },
   {
    "duration": 13,
    "start_time": "2022-05-19T17:24:45.442Z"
   },
   {
    "duration": 0,
    "start_time": "2022-05-19T17:24:45.457Z"
   },
   {
    "duration": 0,
    "start_time": "2022-05-19T17:24:45.458Z"
   },
   {
    "duration": 11,
    "start_time": "2022-05-19T17:25:05.611Z"
   },
   {
    "duration": 13,
    "start_time": "2022-05-19T17:27:53.902Z"
   },
   {
    "duration": 5,
    "start_time": "2022-05-19T17:28:00.813Z"
   },
   {
    "duration": 10,
    "start_time": "2022-05-19T17:28:12.422Z"
   },
   {
    "duration": 502,
    "start_time": "2022-05-19T17:28:29.223Z"
   },
   {
    "duration": 10,
    "start_time": "2022-05-19T17:28:41.581Z"
   },
   {
    "duration": 4,
    "start_time": "2022-05-19T17:29:09.851Z"
   },
   {
    "duration": 31,
    "start_time": "2022-05-19T17:29:11.559Z"
   },
   {
    "duration": 6,
    "start_time": "2022-05-19T17:29:12.227Z"
   },
   {
    "duration": 53,
    "start_time": "2022-05-19T17:30:00.282Z"
   },
   {
    "duration": 11,
    "start_time": "2022-05-19T17:30:20.927Z"
   },
   {
    "duration": 6,
    "start_time": "2022-05-19T17:30:30.411Z"
   },
   {
    "duration": 3,
    "start_time": "2022-05-19T17:31:16.339Z"
   },
   {
    "duration": 40,
    "start_time": "2022-05-19T17:31:16.345Z"
   },
   {
    "duration": 16,
    "start_time": "2022-05-19T17:31:16.388Z"
   },
   {
    "duration": 25,
    "start_time": "2022-05-19T17:31:16.406Z"
   },
   {
    "duration": 187,
    "start_time": "2022-05-19T17:31:16.433Z"
   },
   {
    "duration": 11,
    "start_time": "2022-05-19T17:31:16.622Z"
   },
   {
    "duration": 38,
    "start_time": "2022-05-19T17:31:16.634Z"
   },
   {
    "duration": 28,
    "start_time": "2022-05-19T17:31:16.674Z"
   },
   {
    "duration": 41,
    "start_time": "2022-05-19T17:31:16.704Z"
   },
   {
    "duration": 108,
    "start_time": "2022-05-19T17:31:16.747Z"
   },
   {
    "duration": 17,
    "start_time": "2022-05-19T17:31:16.859Z"
   },
   {
    "duration": 25,
    "start_time": "2022-05-19T17:31:16.878Z"
   },
   {
    "duration": 23,
    "start_time": "2022-05-19T17:31:16.905Z"
   },
   {
    "duration": 131,
    "start_time": "2022-05-19T17:31:16.930Z"
   },
   {
    "duration": 23,
    "start_time": "2022-05-19T17:31:17.063Z"
   },
   {
    "duration": 7,
    "start_time": "2022-05-19T17:31:17.088Z"
   },
   {
    "duration": 43,
    "start_time": "2022-05-19T17:31:17.097Z"
   },
   {
    "duration": 11,
    "start_time": "2022-05-19T17:31:17.142Z"
   },
   {
    "duration": 15,
    "start_time": "2022-05-19T17:31:17.155Z"
   },
   {
    "duration": 10,
    "start_time": "2022-05-19T17:31:17.171Z"
   },
   {
    "duration": 10,
    "start_time": "2022-05-19T17:31:17.182Z"
   },
   {
    "duration": 5,
    "start_time": "2022-05-19T17:31:17.193Z"
   },
   {
    "duration": 29,
    "start_time": "2022-05-19T17:31:17.199Z"
   },
   {
    "duration": 4,
    "start_time": "2022-05-19T17:31:17.230Z"
   },
   {
    "duration": 29,
    "start_time": "2022-05-19T17:31:17.235Z"
   },
   {
    "duration": 2,
    "start_time": "2022-05-19T17:31:17.266Z"
   },
   {
    "duration": 30,
    "start_time": "2022-05-19T17:31:17.270Z"
   },
   {
    "duration": 38,
    "start_time": "2022-05-19T17:31:17.302Z"
   },
   {
    "duration": 2,
    "start_time": "2022-05-19T17:31:17.344Z"
   },
   {
    "duration": 15,
    "start_time": "2022-05-19T17:31:17.348Z"
   },
   {
    "duration": 7,
    "start_time": "2022-05-19T17:31:17.365Z"
   },
   {
    "duration": 20,
    "start_time": "2022-05-19T17:31:17.373Z"
   },
   {
    "duration": 17,
    "start_time": "2022-05-19T17:31:17.395Z"
   },
   {
    "duration": 14,
    "start_time": "2022-05-19T17:31:17.414Z"
   },
   {
    "duration": 10,
    "start_time": "2022-05-19T17:31:17.430Z"
   },
   {
    "duration": 12,
    "start_time": "2022-05-19T17:31:17.442Z"
   },
   {
    "duration": 34,
    "start_time": "2022-05-19T17:31:17.455Z"
   },
   {
    "duration": 3,
    "start_time": "2022-05-19T17:31:17.491Z"
   },
   {
    "duration": 33,
    "start_time": "2022-05-19T17:31:17.496Z"
   },
   {
    "duration": 335,
    "start_time": "2022-05-19T17:31:17.531Z"
   },
   {
    "duration": 16,
    "start_time": "2022-05-19T17:31:17.868Z"
   },
   {
    "duration": 11,
    "start_time": "2022-05-19T17:31:17.886Z"
   },
   {
    "duration": 6,
    "start_time": "2022-05-19T17:31:17.899Z"
   },
   {
    "duration": 5,
    "start_time": "2022-05-19T17:31:17.907Z"
   },
   {
    "duration": 18,
    "start_time": "2022-05-19T17:31:17.913Z"
   },
   {
    "duration": 8,
    "start_time": "2022-05-19T17:31:17.932Z"
   },
   {
    "duration": 7,
    "start_time": "2022-05-19T17:31:17.942Z"
   },
   {
    "duration": 8,
    "start_time": "2022-05-19T17:31:17.950Z"
   },
   {
    "duration": 6,
    "start_time": "2022-05-19T17:31:17.959Z"
   },
   {
    "duration": 19,
    "start_time": "2022-05-19T17:31:17.967Z"
   },
   {
    "duration": 4,
    "start_time": "2022-05-19T17:31:17.989Z"
   },
   {
    "duration": 10,
    "start_time": "2022-05-19T17:31:17.995Z"
   },
   {
    "duration": 62,
    "start_time": "2022-05-19T17:31:18.006Z"
   },
   {
    "duration": 263,
    "start_time": "2022-05-19T17:31:18.070Z"
   },
   {
    "duration": 267,
    "start_time": "2022-05-19T17:31:18.335Z"
   },
   {
    "duration": 302,
    "start_time": "2022-05-19T17:31:18.604Z"
   },
   {
    "duration": 23,
    "start_time": "2022-05-19T17:31:18.908Z"
   },
   {
    "duration": 6,
    "start_time": "2022-05-19T17:31:18.932Z"
   },
   {
    "duration": 8,
    "start_time": "2022-05-19T17:31:18.939Z"
   },
   {
    "duration": 11,
    "start_time": "2022-05-19T17:31:18.948Z"
   },
   {
    "duration": 4,
    "start_time": "2022-05-19T17:31:18.960Z"
   },
   {
    "duration": 15,
    "start_time": "2022-05-19T17:31:18.966Z"
   },
   {
    "duration": 9,
    "start_time": "2022-05-19T17:31:18.983Z"
   },
   {
    "duration": 10,
    "start_time": "2022-05-19T17:32:03.206Z"
   },
   {
    "duration": 10,
    "start_time": "2022-05-19T17:34:11.638Z"
   },
   {
    "duration": 26,
    "start_time": "2022-05-19T17:42:15.500Z"
   },
   {
    "duration": 9,
    "start_time": "2022-05-19T17:44:29.445Z"
   },
   {
    "duration": 27,
    "start_time": "2022-05-19T17:45:46.049Z"
   },
   {
    "duration": 8,
    "start_time": "2022-05-19T17:45:56.337Z"
   },
   {
    "duration": 8,
    "start_time": "2022-05-19T17:46:17.483Z"
   },
   {
    "duration": 27,
    "start_time": "2022-05-19T17:47:05.129Z"
   },
   {
    "duration": 13,
    "start_time": "2022-05-19T17:47:19.363Z"
   },
   {
    "duration": 12,
    "start_time": "2022-05-19T17:47:30.546Z"
   },
   {
    "duration": 478,
    "start_time": "2022-05-19T17:49:19.859Z"
   },
   {
    "duration": 24,
    "start_time": "2022-05-19T17:49:31.372Z"
   },
   {
    "duration": 12,
    "start_time": "2022-05-19T17:49:32.907Z"
   },
   {
    "duration": 519,
    "start_time": "2022-05-19T17:49:36.068Z"
   },
   {
    "duration": 25,
    "start_time": "2022-05-19T17:50:02.145Z"
   },
   {
    "duration": 9,
    "start_time": "2022-05-19T17:50:49.304Z"
   },
   {
    "duration": 19,
    "start_time": "2022-05-19T17:52:01.894Z"
   },
   {
    "duration": 26,
    "start_time": "2022-05-19T17:52:43.498Z"
   },
   {
    "duration": 8,
    "start_time": "2022-05-19T17:52:49.185Z"
   },
   {
    "duration": 16,
    "start_time": "2022-05-19T17:52:51.882Z"
   },
   {
    "duration": 7,
    "start_time": "2022-05-19T17:53:13.879Z"
   },
   {
    "duration": 6,
    "start_time": "2022-05-19T17:56:57.971Z"
   },
   {
    "duration": 38,
    "start_time": "2022-05-19T17:58:46.147Z"
   },
   {
    "duration": 47,
    "start_time": "2022-05-19T18:04:56.654Z"
   },
   {
    "duration": 36,
    "start_time": "2022-05-19T20:35:15.480Z"
   },
   {
    "duration": 108,
    "start_time": "2022-05-19T20:36:31.788Z"
   },
   {
    "duration": 120,
    "start_time": "2022-05-19T20:37:06.966Z"
   },
   {
    "duration": 107,
    "start_time": "2022-05-19T20:38:42.358Z"
   },
   {
    "duration": 185,
    "start_time": "2022-05-19T20:39:06.955Z"
   },
   {
    "duration": 105,
    "start_time": "2022-05-19T20:39:12.305Z"
   },
   {
    "duration": 102,
    "start_time": "2022-05-19T20:44:21.758Z"
   },
   {
    "duration": 154,
    "start_time": "2022-05-19T20:44:24.727Z"
   },
   {
    "duration": 65,
    "start_time": "2022-05-19T20:46:40.715Z"
   },
   {
    "duration": 174,
    "start_time": "2022-05-19T20:47:45.618Z"
   },
   {
    "duration": 96,
    "start_time": "2022-05-19T21:04:28.462Z"
   },
   {
    "duration": 134,
    "start_time": "2022-05-19T21:05:06.096Z"
   },
   {
    "duration": 59,
    "start_time": "2022-05-19T21:05:27.236Z"
   },
   {
    "duration": 33,
    "start_time": "2022-05-19T21:10:41.665Z"
   },
   {
    "duration": 11,
    "start_time": "2022-05-19T21:15:39.438Z"
   },
   {
    "duration": 61,
    "start_time": "2022-05-20T18:56:46.310Z"
   },
   {
    "duration": 1336,
    "start_time": "2022-05-20T18:56:52.480Z"
   },
   {
    "duration": 119,
    "start_time": "2022-05-20T18:56:53.818Z"
   },
   {
    "duration": 12,
    "start_time": "2022-05-20T18:56:53.938Z"
   },
   {
    "duration": 15,
    "start_time": "2022-05-20T18:56:53.952Z"
   },
   {
    "duration": 504,
    "start_time": "2022-05-20T18:56:53.968Z"
   },
   {
    "duration": 8,
    "start_time": "2022-05-20T18:56:54.474Z"
   },
   {
    "duration": 32,
    "start_time": "2022-05-20T18:56:54.483Z"
   },
   {
    "duration": 29,
    "start_time": "2022-05-20T18:56:54.518Z"
   },
   {
    "duration": 20,
    "start_time": "2022-05-20T18:56:54.549Z"
   },
   {
    "duration": 311,
    "start_time": "2022-05-20T18:56:54.571Z"
   },
   {
    "duration": 20,
    "start_time": "2022-05-20T18:56:54.883Z"
   },
   {
    "duration": 20,
    "start_time": "2022-05-20T18:56:54.904Z"
   },
   {
    "duration": 11,
    "start_time": "2022-05-20T18:56:54.925Z"
   },
   {
    "duration": 450,
    "start_time": "2022-05-20T18:56:54.937Z"
   },
   {
    "duration": 30,
    "start_time": "2022-05-20T18:56:55.389Z"
   },
   {
    "duration": 7,
    "start_time": "2022-05-20T18:56:55.420Z"
   },
   {
    "duration": 31,
    "start_time": "2022-05-20T18:56:55.428Z"
   },
   {
    "duration": 12,
    "start_time": "2022-05-20T18:56:55.461Z"
   },
   {
    "duration": 76,
    "start_time": "2022-05-20T18:56:55.474Z"
   },
   {
    "duration": 9,
    "start_time": "2022-05-20T18:56:55.552Z"
   },
   {
    "duration": 7,
    "start_time": "2022-05-20T18:56:55.563Z"
   },
   {
    "duration": 5,
    "start_time": "2022-05-20T18:56:55.572Z"
   },
   {
    "duration": 8,
    "start_time": "2022-05-20T18:56:55.578Z"
   },
   {
    "duration": 4,
    "start_time": "2022-05-20T18:56:55.588Z"
   },
   {
    "duration": 5,
    "start_time": "2022-05-20T18:56:55.594Z"
   },
   {
    "duration": 27,
    "start_time": "2022-05-20T18:56:55.600Z"
   },
   {
    "duration": 30,
    "start_time": "2022-05-20T18:56:55.629Z"
   },
   {
    "duration": 3,
    "start_time": "2022-05-20T18:56:55.662Z"
   },
   {
    "duration": 12,
    "start_time": "2022-05-20T18:56:55.667Z"
   },
   {
    "duration": 7,
    "start_time": "2022-05-20T18:56:55.680Z"
   },
   {
    "duration": 15,
    "start_time": "2022-05-20T18:56:55.702Z"
   },
   {
    "duration": 21,
    "start_time": "2022-05-20T18:56:55.719Z"
   },
   {
    "duration": 4,
    "start_time": "2022-05-20T18:56:55.743Z"
   },
   {
    "duration": 5,
    "start_time": "2022-05-20T18:56:55.748Z"
   },
   {
    "duration": 10,
    "start_time": "2022-05-20T18:56:55.754Z"
   },
   {
    "duration": 75,
    "start_time": "2022-05-20T18:56:55.765Z"
   },
   {
    "duration": 3,
    "start_time": "2022-05-20T18:56:55.841Z"
   },
   {
    "duration": 24,
    "start_time": "2022-05-20T18:56:55.846Z"
   },
   {
    "duration": 356,
    "start_time": "2022-05-20T18:56:55.872Z"
   },
   {
    "duration": 5,
    "start_time": "2022-05-20T18:56:56.229Z"
   },
   {
    "duration": 13,
    "start_time": "2022-05-20T18:56:56.236Z"
   },
   {
    "duration": 12,
    "start_time": "2022-05-20T18:56:56.250Z"
   },
   {
    "duration": 9,
    "start_time": "2022-05-20T18:56:56.264Z"
   },
   {
    "duration": 18,
    "start_time": "2022-05-20T18:56:56.274Z"
   },
   {
    "duration": 9,
    "start_time": "2022-05-20T18:56:56.294Z"
   },
   {
    "duration": 8,
    "start_time": "2022-05-20T18:56:56.305Z"
   },
   {
    "duration": 5,
    "start_time": "2022-05-20T18:56:56.314Z"
   },
   {
    "duration": 6,
    "start_time": "2022-05-20T18:56:56.321Z"
   },
   {
    "duration": 21,
    "start_time": "2022-05-20T18:56:56.328Z"
   },
   {
    "duration": 24,
    "start_time": "2022-05-20T18:56:56.351Z"
   },
   {
    "duration": 27,
    "start_time": "2022-05-20T18:56:56.377Z"
   },
   {
    "duration": 7,
    "start_time": "2022-05-20T18:56:56.406Z"
   },
   {
    "duration": 59,
    "start_time": "2022-05-20T18:56:56.415Z"
   },
   {
    "duration": 316,
    "start_time": "2022-05-20T18:56:56.477Z"
   },
   {
    "duration": 203,
    "start_time": "2022-05-20T18:56:56.802Z"
   },
   {
    "duration": 127,
    "start_time": "2022-05-20T18:56:57.007Z"
   },
   {
    "duration": 287,
    "start_time": "2022-05-20T18:56:57.136Z"
   },
   {
    "duration": 115,
    "start_time": "2022-05-20T18:56:57.424Z"
   },
   {
    "duration": 121,
    "start_time": "2022-05-20T18:56:57.540Z"
   },
   {
    "duration": 284,
    "start_time": "2022-05-20T18:56:57.662Z"
   },
   {
    "duration": 107,
    "start_time": "2022-05-20T18:56:57.947Z"
   },
   {
    "duration": 122,
    "start_time": "2022-05-20T18:56:58.056Z"
   },
   {
    "duration": 23,
    "start_time": "2022-05-20T18:56:58.179Z"
   },
   {
    "duration": 4,
    "start_time": "2022-05-20T18:56:58.204Z"
   },
   {
    "duration": 8,
    "start_time": "2022-05-20T18:56:58.210Z"
   },
   {
    "duration": 10,
    "start_time": "2022-05-20T18:56:58.219Z"
   },
   {
    "duration": 4,
    "start_time": "2022-05-20T18:56:58.231Z"
   },
   {
    "duration": 10,
    "start_time": "2022-05-20T18:56:58.236Z"
   },
   {
    "duration": 8,
    "start_time": "2022-05-20T18:56:58.247Z"
   },
   {
    "duration": 46,
    "start_time": "2022-05-20T18:56:58.256Z"
   },
   {
    "duration": 12,
    "start_time": "2022-05-20T18:56:58.304Z"
   },
   {
    "duration": 26,
    "start_time": "2022-05-20T18:56:58.317Z"
   },
   {
    "duration": 8,
    "start_time": "2022-05-20T18:56:58.345Z"
   },
   {
    "duration": 16,
    "start_time": "2022-05-20T18:56:58.355Z"
   },
   {
    "duration": 6,
    "start_time": "2022-05-20T19:00:46.780Z"
   },
   {
    "duration": 8,
    "start_time": "2022-05-20T19:02:54.961Z"
   },
   {
    "duration": 16,
    "start_time": "2022-05-20T19:11:23.620Z"
   },
   {
    "duration": 36,
    "start_time": "2022-05-20T19:12:41.302Z"
   },
   {
    "duration": 1415,
    "start_time": "2022-05-20T19:44:37.807Z"
   },
   {
    "duration": 97,
    "start_time": "2022-05-20T19:44:39.225Z"
   },
   {
    "duration": 12,
    "start_time": "2022-05-20T19:44:39.323Z"
   },
   {
    "duration": 10,
    "start_time": "2022-05-20T19:44:39.337Z"
   },
   {
    "duration": 515,
    "start_time": "2022-05-20T19:44:39.348Z"
   },
   {
    "duration": 7,
    "start_time": "2022-05-20T19:44:39.865Z"
   },
   {
    "duration": 35,
    "start_time": "2022-05-20T19:44:39.874Z"
   },
   {
    "duration": 32,
    "start_time": "2022-05-20T19:44:39.911Z"
   },
   {
    "duration": 17,
    "start_time": "2022-05-20T19:44:39.945Z"
   },
   {
    "duration": 268,
    "start_time": "2022-05-20T19:44:39.965Z"
   },
   {
    "duration": 16,
    "start_time": "2022-05-20T19:44:40.234Z"
   },
   {
    "duration": 23,
    "start_time": "2022-05-20T19:44:40.251Z"
   },
   {
    "duration": 9,
    "start_time": "2022-05-20T19:44:40.276Z"
   },
   {
    "duration": 428,
    "start_time": "2022-05-20T19:44:40.286Z"
   },
   {
    "duration": 20,
    "start_time": "2022-05-20T19:44:40.716Z"
   },
   {
    "duration": 6,
    "start_time": "2022-05-20T19:44:40.737Z"
   },
   {
    "duration": 28,
    "start_time": "2022-05-20T19:44:40.744Z"
   },
   {
    "duration": 11,
    "start_time": "2022-05-20T19:44:40.773Z"
   },
   {
    "duration": 83,
    "start_time": "2022-05-20T19:44:40.786Z"
   },
   {
    "duration": 10,
    "start_time": "2022-05-20T19:44:40.870Z"
   },
   {
    "duration": 8,
    "start_time": "2022-05-20T19:44:40.882Z"
   },
   {
    "duration": 7,
    "start_time": "2022-05-20T19:44:40.892Z"
   },
   {
    "duration": 9,
    "start_time": "2022-05-20T19:44:40.900Z"
   },
   {
    "duration": 4,
    "start_time": "2022-05-20T19:44:40.911Z"
   },
   {
    "duration": 5,
    "start_time": "2022-05-20T19:44:40.917Z"
   },
   {
    "duration": 29,
    "start_time": "2022-05-20T19:44:40.923Z"
   },
   {
    "duration": 32,
    "start_time": "2022-05-20T19:44:40.954Z"
   },
   {
    "duration": 3,
    "start_time": "2022-05-20T19:44:41.001Z"
   },
   {
    "duration": 13,
    "start_time": "2022-05-20T19:44:41.006Z"
   },
   {
    "duration": 5,
    "start_time": "2022-05-20T19:44:41.020Z"
   },
   {
    "duration": 18,
    "start_time": "2022-05-20T19:44:41.027Z"
   },
   {
    "duration": 23,
    "start_time": "2022-05-20T19:44:41.047Z"
   },
   {
    "duration": 4,
    "start_time": "2022-05-20T19:44:41.072Z"
   },
   {
    "duration": 3,
    "start_time": "2022-05-20T19:44:41.103Z"
   },
   {
    "duration": 13,
    "start_time": "2022-05-20T19:44:41.108Z"
   },
   {
    "duration": 50,
    "start_time": "2022-05-20T19:44:41.126Z"
   },
   {
    "duration": 25,
    "start_time": "2022-05-20T19:44:41.178Z"
   },
   {
    "duration": 28,
    "start_time": "2022-05-20T19:44:41.205Z"
   },
   {
    "duration": 389,
    "start_time": "2022-05-20T19:44:41.236Z"
   },
   {
    "duration": 5,
    "start_time": "2022-05-20T19:44:41.626Z"
   },
   {
    "duration": 9,
    "start_time": "2022-05-20T19:44:41.632Z"
   },
   {
    "duration": 7,
    "start_time": "2022-05-20T19:44:41.643Z"
   },
   {
    "duration": 4,
    "start_time": "2022-05-20T19:44:41.652Z"
   },
   {
    "duration": 14,
    "start_time": "2022-05-20T19:44:41.658Z"
   },
   {
    "duration": 5,
    "start_time": "2022-05-20T19:44:41.674Z"
   },
   {
    "duration": 23,
    "start_time": "2022-05-20T19:44:41.681Z"
   },
   {
    "duration": 6,
    "start_time": "2022-05-20T19:44:41.706Z"
   },
   {
    "duration": 7,
    "start_time": "2022-05-20T19:44:41.713Z"
   },
   {
    "duration": 22,
    "start_time": "2022-05-20T19:44:41.721Z"
   },
   {
    "duration": 4,
    "start_time": "2022-05-20T19:44:41.744Z"
   },
   {
    "duration": 5,
    "start_time": "2022-05-20T19:44:41.750Z"
   },
   {
    "duration": 83,
    "start_time": "2022-05-20T19:44:41.757Z"
   },
   {
    "duration": 279,
    "start_time": "2022-05-20T19:44:41.842Z"
   },
   {
    "duration": 186,
    "start_time": "2022-05-20T19:44:42.123Z"
   },
   {
    "duration": 119,
    "start_time": "2022-05-20T19:44:42.311Z"
   },
   {
    "duration": 274,
    "start_time": "2022-05-20T19:44:42.432Z"
   },
   {
    "duration": 104,
    "start_time": "2022-05-20T19:44:42.707Z"
   },
   {
    "duration": 123,
    "start_time": "2022-05-20T19:44:42.813Z"
   },
   {
    "duration": 253,
    "start_time": "2022-05-20T19:44:42.938Z"
   },
   {
    "duration": 113,
    "start_time": "2022-05-20T19:44:43.193Z"
   },
   {
    "duration": 112,
    "start_time": "2022-05-20T19:44:43.308Z"
   },
   {
    "duration": 11,
    "start_time": "2022-05-20T19:44:43.422Z"
   },
   {
    "duration": 4,
    "start_time": "2022-05-20T19:44:43.434Z"
   },
   {
    "duration": 8,
    "start_time": "2022-05-20T19:44:43.440Z"
   },
   {
    "duration": 10,
    "start_time": "2022-05-20T19:44:43.449Z"
   },
   {
    "duration": 4,
    "start_time": "2022-05-20T19:44:43.461Z"
   },
   {
    "duration": 13,
    "start_time": "2022-05-20T19:44:43.467Z"
   },
   {
    "duration": 24,
    "start_time": "2022-05-20T19:44:43.481Z"
   },
   {
    "duration": 31,
    "start_time": "2022-05-20T19:44:43.507Z"
   },
   {
    "duration": 13,
    "start_time": "2022-05-20T19:44:43.539Z"
   },
   {
    "duration": 32,
    "start_time": "2022-05-20T19:44:43.553Z"
   },
   {
    "duration": 8,
    "start_time": "2022-05-20T19:44:43.586Z"
   },
   {
    "duration": 22,
    "start_time": "2022-05-20T19:44:43.595Z"
   },
   {
    "duration": 101,
    "start_time": "2022-05-20T19:44:46.373Z"
   },
   {
    "duration": 183,
    "start_time": "2022-05-20T19:44:56.038Z"
   },
   {
    "duration": 117,
    "start_time": "2022-05-20T19:50:47.913Z"
   },
   {
    "duration": 96,
    "start_time": "2022-05-20T19:51:26.583Z"
   },
   {
    "duration": 103,
    "start_time": "2022-05-20T19:51:50.520Z"
   },
   {
    "duration": 107,
    "start_time": "2022-05-20T19:53:17.516Z"
   },
   {
    "duration": 111,
    "start_time": "2022-05-20T19:54:31.934Z"
   },
   {
    "duration": 92,
    "start_time": "2022-05-20T19:55:16.590Z"
   },
   {
    "duration": 91,
    "start_time": "2022-05-20T19:55:19.188Z"
   },
   {
    "duration": 1327,
    "start_time": "2022-05-24T17:13:21.482Z"
   },
   {
    "duration": 104,
    "start_time": "2022-05-24T17:13:22.813Z"
   },
   {
    "duration": 14,
    "start_time": "2022-05-24T17:13:22.919Z"
   },
   {
    "duration": 10,
    "start_time": "2022-05-24T17:13:22.935Z"
   },
   {
    "duration": 501,
    "start_time": "2022-05-24T17:13:22.947Z"
   },
   {
    "duration": 7,
    "start_time": "2022-05-24T17:13:23.450Z"
   },
   {
    "duration": 28,
    "start_time": "2022-05-24T17:13:23.459Z"
   },
   {
    "duration": 29,
    "start_time": "2022-05-24T17:13:23.488Z"
   },
   {
    "duration": 18,
    "start_time": "2022-05-24T17:13:23.518Z"
   },
   {
    "duration": 156,
    "start_time": "2022-05-24T17:13:23.538Z"
   },
   {
    "duration": 33,
    "start_time": "2022-05-24T17:13:23.696Z"
   },
   {
    "duration": 22,
    "start_time": "2022-05-24T17:13:23.731Z"
   },
   {
    "duration": 10,
    "start_time": "2022-05-24T17:13:23.756Z"
   },
   {
    "duration": 401,
    "start_time": "2022-05-24T17:13:23.769Z"
   },
   {
    "duration": 32,
    "start_time": "2022-05-24T17:13:24.172Z"
   },
   {
    "duration": 8,
    "start_time": "2022-05-24T17:13:24.206Z"
   },
   {
    "duration": 34,
    "start_time": "2022-05-24T17:13:24.216Z"
   },
   {
    "duration": 29,
    "start_time": "2022-05-24T17:13:24.252Z"
   },
   {
    "duration": 78,
    "start_time": "2022-05-24T17:13:24.283Z"
   },
   {
    "duration": 10,
    "start_time": "2022-05-24T17:13:24.362Z"
   },
   {
    "duration": 16,
    "start_time": "2022-05-24T17:13:24.374Z"
   },
   {
    "duration": 13,
    "start_time": "2022-05-24T17:13:24.392Z"
   },
   {
    "duration": 10,
    "start_time": "2022-05-24T17:13:24.406Z"
   },
   {
    "duration": 8,
    "start_time": "2022-05-24T17:13:24.418Z"
   },
   {
    "duration": 5,
    "start_time": "2022-05-24T17:13:24.427Z"
   },
   {
    "duration": 28,
    "start_time": "2022-05-24T17:13:24.433Z"
   },
   {
    "duration": 32,
    "start_time": "2022-05-24T17:13:24.462Z"
   },
   {
    "duration": 2,
    "start_time": "2022-05-24T17:13:24.495Z"
   },
   {
    "duration": 11,
    "start_time": "2022-05-24T17:13:24.499Z"
   },
   {
    "duration": 4,
    "start_time": "2022-05-24T17:13:24.512Z"
   },
   {
    "duration": 16,
    "start_time": "2022-05-24T17:13:24.517Z"
   },
   {
    "duration": 41,
    "start_time": "2022-05-24T17:13:24.534Z"
   },
   {
    "duration": 4,
    "start_time": "2022-05-24T17:13:24.576Z"
   },
   {
    "duration": 5,
    "start_time": "2022-05-24T17:13:24.581Z"
   },
   {
    "duration": 9,
    "start_time": "2022-05-24T17:13:24.587Z"
   },
   {
    "duration": 39,
    "start_time": "2022-05-24T17:13:24.598Z"
   },
   {
    "duration": 2,
    "start_time": "2022-05-24T17:13:24.639Z"
   },
   {
    "duration": 42,
    "start_time": "2022-05-24T17:13:24.642Z"
   },
   {
    "duration": 300,
    "start_time": "2022-05-24T17:13:24.685Z"
   },
   {
    "duration": 4,
    "start_time": "2022-05-24T17:13:24.986Z"
   },
   {
    "duration": 5,
    "start_time": "2022-05-24T17:13:24.993Z"
   },
   {
    "duration": 9,
    "start_time": "2022-05-24T17:13:24.999Z"
   },
   {
    "duration": 6,
    "start_time": "2022-05-24T17:13:25.009Z"
   },
   {
    "duration": 13,
    "start_time": "2022-05-24T17:13:25.016Z"
   },
   {
    "duration": 6,
    "start_time": "2022-05-24T17:13:25.030Z"
   },
   {
    "duration": 7,
    "start_time": "2022-05-24T17:13:25.037Z"
   },
   {
    "duration": 30,
    "start_time": "2022-05-24T17:13:25.045Z"
   },
   {
    "duration": 8,
    "start_time": "2022-05-24T17:13:25.076Z"
   },
   {
    "duration": 21,
    "start_time": "2022-05-24T17:13:25.085Z"
   },
   {
    "duration": 3,
    "start_time": "2022-05-24T17:13:25.108Z"
   },
   {
    "duration": 7,
    "start_time": "2022-05-24T17:13:25.112Z"
   },
   {
    "duration": 5,
    "start_time": "2022-05-24T17:13:25.121Z"
   },
   {
    "duration": 61,
    "start_time": "2022-05-24T17:13:25.127Z"
   },
   {
    "duration": 254,
    "start_time": "2022-05-24T17:13:25.190Z"
   },
   {
    "duration": 169,
    "start_time": "2022-05-24T17:13:25.446Z"
   },
   {
    "duration": 105,
    "start_time": "2022-05-24T17:13:25.617Z"
   },
   {
    "duration": 259,
    "start_time": "2022-05-24T17:13:25.723Z"
   },
   {
    "duration": 94,
    "start_time": "2022-05-24T17:13:25.983Z"
   },
   {
    "duration": 99,
    "start_time": "2022-05-24T17:13:26.078Z"
   },
   {
    "duration": 266,
    "start_time": "2022-05-24T17:13:26.179Z"
   },
   {
    "duration": 94,
    "start_time": "2022-05-24T17:13:26.446Z"
   },
   {
    "duration": 102,
    "start_time": "2022-05-24T17:13:26.541Z"
   },
   {
    "duration": 10,
    "start_time": "2022-05-24T17:13:26.644Z"
   },
   {
    "duration": 4,
    "start_time": "2022-05-24T17:13:26.656Z"
   },
   {
    "duration": 4,
    "start_time": "2022-05-24T17:13:26.674Z"
   },
   {
    "duration": 18,
    "start_time": "2022-05-24T17:13:26.680Z"
   },
   {
    "duration": 5,
    "start_time": "2022-05-24T17:13:26.700Z"
   },
   {
    "duration": 9,
    "start_time": "2022-05-24T17:13:26.707Z"
   },
   {
    "duration": 6,
    "start_time": "2022-05-24T17:13:26.717Z"
   },
   {
    "duration": 29,
    "start_time": "2022-05-24T17:13:26.724Z"
   },
   {
    "duration": 27,
    "start_time": "2022-05-24T17:13:26.755Z"
   },
   {
    "duration": 26,
    "start_time": "2022-05-24T17:13:26.783Z"
   },
   {
    "duration": 10,
    "start_time": "2022-05-24T17:13:26.810Z"
   },
   {
    "duration": 10,
    "start_time": "2022-05-24T17:13:26.821Z"
   },
   {
    "duration": 18,
    "start_time": "2022-05-24T17:18:14.621Z"
   },
   {
    "duration": 4,
    "start_time": "2022-05-24T17:18:16.772Z"
   },
   {
    "duration": 20,
    "start_time": "2022-05-24T17:21:02.642Z"
   },
   {
    "duration": 4,
    "start_time": "2022-05-24T17:21:02.813Z"
   },
   {
    "duration": 24,
    "start_time": "2022-05-24T17:21:49.240Z"
   },
   {
    "duration": 4,
    "start_time": "2022-05-24T17:21:49.915Z"
   },
   {
    "duration": 64,
    "start_time": "2022-05-24T17:23:30.021Z"
   },
   {
    "duration": 5,
    "start_time": "2022-05-24T17:27:25.057Z"
   },
   {
    "duration": 96,
    "start_time": "2022-05-24T17:27:49.206Z"
   },
   {
    "duration": 7,
    "start_time": "2022-05-24T17:27:55.247Z"
   },
   {
    "duration": 612,
    "start_time": "2022-05-24T17:28:54.250Z"
   },
   {
    "duration": 18,
    "start_time": "2022-05-24T17:29:54.317Z"
   },
   {
    "duration": 3,
    "start_time": "2022-05-24T17:39:35.603Z"
   },
   {
    "duration": 57,
    "start_time": "2022-05-24T17:39:35.679Z"
   },
   {
    "duration": 10,
    "start_time": "2022-05-24T17:39:35.738Z"
   },
   {
    "duration": 10,
    "start_time": "2022-05-24T17:39:35.749Z"
   },
   {
    "duration": 195,
    "start_time": "2022-05-24T17:39:35.761Z"
   },
   {
    "duration": 7,
    "start_time": "2022-05-24T17:39:35.957Z"
   },
   {
    "duration": 52,
    "start_time": "2022-05-24T17:39:35.966Z"
   },
   {
    "duration": 40,
    "start_time": "2022-05-24T17:39:36.020Z"
   },
   {
    "duration": 38,
    "start_time": "2022-05-24T17:39:36.075Z"
   },
   {
    "duration": 108,
    "start_time": "2022-05-24T17:39:36.116Z"
   },
   {
    "duration": 19,
    "start_time": "2022-05-24T17:39:36.494Z"
   },
   {
    "duration": 18,
    "start_time": "2022-05-24T17:39:36.515Z"
   },
   {
    "duration": 24,
    "start_time": "2022-05-24T17:39:36.534Z"
   },
   {
    "duration": 162,
    "start_time": "2022-05-24T17:39:36.560Z"
   },
   {
    "duration": 20,
    "start_time": "2022-05-24T17:39:36.725Z"
   },
   {
    "duration": 7,
    "start_time": "2022-05-24T17:39:36.747Z"
   },
   {
    "duration": 45,
    "start_time": "2022-05-24T17:39:36.755Z"
   },
   {
    "duration": 11,
    "start_time": "2022-05-24T17:39:36.803Z"
   },
   {
    "duration": 34,
    "start_time": "2022-05-24T17:39:36.815Z"
   },
   {
    "duration": 10,
    "start_time": "2022-05-24T17:39:36.850Z"
   },
   {
    "duration": 15,
    "start_time": "2022-05-24T17:39:36.862Z"
   },
   {
    "duration": 16,
    "start_time": "2022-05-24T17:39:36.880Z"
   },
   {
    "duration": 8,
    "start_time": "2022-05-24T17:39:36.900Z"
   },
   {
    "duration": 10,
    "start_time": "2022-05-24T17:39:36.910Z"
   },
   {
    "duration": 2,
    "start_time": "2022-05-24T17:39:36.963Z"
   },
   {
    "duration": 26,
    "start_time": "2022-05-24T17:39:37.015Z"
   },
   {
    "duration": 43,
    "start_time": "2022-05-24T17:39:37.044Z"
   },
   {
    "duration": 5,
    "start_time": "2022-05-24T17:39:37.089Z"
   },
   {
    "duration": 7,
    "start_time": "2022-05-24T17:39:37.143Z"
   },
   {
    "duration": 5,
    "start_time": "2022-05-24T17:39:37.152Z"
   },
   {
    "duration": 22,
    "start_time": "2022-05-24T17:39:37.159Z"
   },
   {
    "duration": 22,
    "start_time": "2022-05-24T17:39:37.223Z"
   },
   {
    "duration": 3,
    "start_time": "2022-05-24T17:39:37.247Z"
   },
   {
    "duration": 7,
    "start_time": "2022-05-24T17:39:37.252Z"
   },
   {
    "duration": 10,
    "start_time": "2022-05-24T17:39:37.261Z"
   },
   {
    "duration": 34,
    "start_time": "2022-05-24T17:39:37.313Z"
   },
   {
    "duration": 2,
    "start_time": "2022-05-24T17:39:37.404Z"
   },
   {
    "duration": 20,
    "start_time": "2022-05-24T17:39:37.408Z"
   },
   {
    "duration": 426,
    "start_time": "2022-05-24T17:39:37.429Z"
   },
   {
    "duration": 6,
    "start_time": "2022-05-24T17:39:37.857Z"
   },
   {
    "duration": 17,
    "start_time": "2022-05-24T17:39:37.865Z"
   },
   {
    "duration": 31,
    "start_time": "2022-05-24T17:39:37.889Z"
   },
   {
    "duration": 6,
    "start_time": "2022-05-24T17:39:37.921Z"
   },
   {
    "duration": 17,
    "start_time": "2022-05-24T17:39:37.929Z"
   },
   {
    "duration": 5,
    "start_time": "2022-05-24T17:39:37.948Z"
   },
   {
    "duration": 5,
    "start_time": "2022-05-24T17:39:37.955Z"
   },
   {
    "duration": 5,
    "start_time": "2022-05-24T17:39:37.962Z"
   },
   {
    "duration": 17,
    "start_time": "2022-05-24T17:39:37.969Z"
   },
   {
    "duration": 47,
    "start_time": "2022-05-24T17:39:37.990Z"
   },
   {
    "duration": 6,
    "start_time": "2022-05-24T17:39:38.039Z"
   },
   {
    "duration": 7,
    "start_time": "2022-05-24T17:39:38.047Z"
   },
   {
    "duration": 55,
    "start_time": "2022-05-24T17:39:38.055Z"
   },
   {
    "duration": 382,
    "start_time": "2022-05-24T17:39:38.112Z"
   },
   {
    "duration": 129,
    "start_time": "2022-05-24T17:39:38.496Z"
   },
   {
    "duration": 118,
    "start_time": "2022-05-24T17:39:38.626Z"
   },
   {
    "duration": 289,
    "start_time": "2022-05-24T17:39:38.746Z"
   },
   {
    "duration": 104,
    "start_time": "2022-05-24T17:39:39.037Z"
   },
   {
    "duration": 126,
    "start_time": "2022-05-24T17:39:39.142Z"
   },
   {
    "duration": 278,
    "start_time": "2022-05-24T17:39:39.270Z"
   },
   {
    "duration": 106,
    "start_time": "2022-05-24T17:39:39.550Z"
   },
   {
    "duration": 137,
    "start_time": "2022-05-24T17:39:39.658Z"
   },
   {
    "duration": 19,
    "start_time": "2022-05-24T17:39:39.797Z"
   },
   {
    "duration": 4,
    "start_time": "2022-05-24T17:39:39.818Z"
   },
   {
    "duration": 7,
    "start_time": "2022-05-24T17:39:39.824Z"
   },
   {
    "duration": 13,
    "start_time": "2022-05-24T17:39:39.833Z"
   },
   {
    "duration": 15,
    "start_time": "2022-05-24T17:39:39.848Z"
   },
   {
    "duration": 16,
    "start_time": "2022-05-24T17:39:39.865Z"
   },
   {
    "duration": 37,
    "start_time": "2022-05-24T17:39:39.883Z"
   },
   {
    "duration": 24,
    "start_time": "2022-05-24T17:39:39.922Z"
   },
   {
    "duration": 517,
    "start_time": "2022-05-24T17:39:39.947Z"
   },
   {
    "duration": 0,
    "start_time": "2022-05-24T17:39:40.466Z"
   },
   {
    "duration": 0,
    "start_time": "2022-05-24T17:39:40.467Z"
   },
   {
    "duration": 0,
    "start_time": "2022-05-24T17:39:40.468Z"
   },
   {
    "duration": 0,
    "start_time": "2022-05-24T17:39:40.469Z"
   },
   {
    "duration": 0,
    "start_time": "2022-05-24T17:39:40.562Z"
   },
   {
    "duration": 0,
    "start_time": "2022-05-24T17:39:40.564Z"
   },
   {
    "duration": 11,
    "start_time": "2022-05-24T17:40:12.636Z"
   },
   {
    "duration": 2340,
    "start_time": "2022-05-24T17:40:27.932Z"
   },
   {
    "duration": 5,
    "start_time": "2022-05-24T17:41:22.090Z"
   },
   {
    "duration": 39,
    "start_time": "2022-05-24T17:46:59.360Z"
   },
   {
    "duration": 12,
    "start_time": "2022-05-24T17:47:28.173Z"
   },
   {
    "duration": 10,
    "start_time": "2022-05-24T17:48:07.043Z"
   },
   {
    "duration": 4,
    "start_time": "2022-05-24T17:53:13.544Z"
   },
   {
    "duration": 4,
    "start_time": "2022-05-24T17:53:18.408Z"
   },
   {
    "duration": 14,
    "start_time": "2022-05-24T17:53:19.348Z"
   },
   {
    "duration": 9,
    "start_time": "2022-05-24T17:53:32.394Z"
   },
   {
    "duration": 64,
    "start_time": "2022-05-24T17:53:32.649Z"
   },
   {
    "duration": 16,
    "start_time": "2022-05-24T17:53:32.741Z"
   },
   {
    "duration": 10,
    "start_time": "2022-05-24T17:53:32.810Z"
   },
   {
    "duration": 169,
    "start_time": "2022-05-24T17:53:33.150Z"
   },
   {
    "duration": 7,
    "start_time": "2022-05-24T17:53:33.322Z"
   },
   {
    "duration": 31,
    "start_time": "2022-05-24T17:53:33.330Z"
   },
   {
    "duration": 46,
    "start_time": "2022-05-24T17:53:33.362Z"
   },
   {
    "duration": 32,
    "start_time": "2022-05-24T17:53:38.169Z"
   },
   {
    "duration": 110,
    "start_time": "2022-05-24T17:53:38.429Z"
   },
   {
    "duration": 24,
    "start_time": "2022-05-24T17:53:38.883Z"
   },
   {
    "duration": 29,
    "start_time": "2022-05-24T17:53:38.909Z"
   },
   {
    "duration": 16,
    "start_time": "2022-05-24T17:53:38.941Z"
   },
   {
    "duration": 171,
    "start_time": "2022-05-24T17:53:38.960Z"
   },
   {
    "duration": 25,
    "start_time": "2022-05-24T17:53:39.133Z"
   },
   {
    "duration": 10,
    "start_time": "2022-05-24T17:53:39.174Z"
   },
   {
    "duration": 49,
    "start_time": "2022-05-24T17:53:39.186Z"
   },
   {
    "duration": 10,
    "start_time": "2022-05-24T17:53:39.237Z"
   },
   {
    "duration": 32,
    "start_time": "2022-05-24T17:53:39.249Z"
   },
   {
    "duration": 10,
    "start_time": "2022-05-24T17:53:39.284Z"
   },
   {
    "duration": 22,
    "start_time": "2022-05-24T17:53:39.295Z"
   },
   {
    "duration": 4,
    "start_time": "2022-05-24T17:53:39.319Z"
   },
   {
    "duration": 6,
    "start_time": "2022-05-24T17:53:39.325Z"
   },
   {
    "duration": 5,
    "start_time": "2022-05-24T17:53:39.335Z"
   },
   {
    "duration": 6,
    "start_time": "2022-05-24T17:53:39.342Z"
   },
   {
    "duration": 47,
    "start_time": "2022-05-24T17:53:39.350Z"
   },
   {
    "duration": 43,
    "start_time": "2022-05-24T17:53:39.399Z"
   },
   {
    "duration": 4,
    "start_time": "2022-05-24T17:53:39.444Z"
   },
   {
    "duration": 33,
    "start_time": "2022-05-24T17:53:39.453Z"
   },
   {
    "duration": 10,
    "start_time": "2022-05-24T17:53:39.488Z"
   },
   {
    "duration": 20,
    "start_time": "2022-05-24T17:53:39.500Z"
   },
   {
    "duration": 22,
    "start_time": "2022-05-24T17:53:39.522Z"
   },
   {
    "duration": 4,
    "start_time": "2022-05-24T17:53:39.547Z"
   },
   {
    "duration": 9,
    "start_time": "2022-05-24T17:53:39.554Z"
   },
   {
    "duration": 20,
    "start_time": "2022-05-24T17:53:39.565Z"
   },
   {
    "duration": 51,
    "start_time": "2022-05-24T17:53:39.586Z"
   },
   {
    "duration": 3,
    "start_time": "2022-05-24T17:53:39.638Z"
   },
   {
    "duration": 38,
    "start_time": "2022-05-24T17:53:39.643Z"
   },
   {
    "duration": 376,
    "start_time": "2022-05-24T17:53:39.683Z"
   },
   {
    "duration": 5,
    "start_time": "2022-05-24T17:53:40.060Z"
   },
   {
    "duration": 14,
    "start_time": "2022-05-24T17:53:40.066Z"
   },
   {
    "duration": 16,
    "start_time": "2022-05-24T17:53:40.088Z"
   },
   {
    "duration": 25,
    "start_time": "2022-05-24T17:53:40.106Z"
   },
   {
    "duration": 17,
    "start_time": "2022-05-24T17:53:40.132Z"
   },
   {
    "duration": 6,
    "start_time": "2022-05-24T17:53:40.150Z"
   },
   {
    "duration": 8,
    "start_time": "2022-05-24T17:53:40.157Z"
   },
   {
    "duration": 5,
    "start_time": "2022-05-24T17:53:40.167Z"
   },
   {
    "duration": 43,
    "start_time": "2022-05-24T17:53:40.174Z"
   },
   {
    "duration": 21,
    "start_time": "2022-05-24T17:53:40.219Z"
   },
   {
    "duration": 5,
    "start_time": "2022-05-24T17:53:40.242Z"
   },
   {
    "duration": 8,
    "start_time": "2022-05-24T17:53:40.253Z"
   },
   {
    "duration": 71,
    "start_time": "2022-05-24T17:53:40.263Z"
   },
   {
    "duration": 318,
    "start_time": "2022-05-24T17:53:40.335Z"
   },
   {
    "duration": 143,
    "start_time": "2022-05-24T17:53:40.655Z"
   },
   {
    "duration": 292,
    "start_time": "2022-05-24T17:53:40.800Z"
   },
   {
    "duration": 601,
    "start_time": "2022-05-24T17:53:41.094Z"
   },
   {
    "duration": 221,
    "start_time": "2022-05-24T17:53:41.698Z"
   },
   {
    "duration": 178,
    "start_time": "2022-05-24T17:53:41.921Z"
   },
   {
    "duration": 316,
    "start_time": "2022-05-24T17:53:42.113Z"
   },
   {
    "duration": 172,
    "start_time": "2022-05-24T17:53:42.431Z"
   },
   {
    "duration": 227,
    "start_time": "2022-05-24T17:53:42.605Z"
   },
   {
    "duration": 16,
    "start_time": "2022-05-24T17:53:42.835Z"
   },
   {
    "duration": 42,
    "start_time": "2022-05-24T17:53:42.921Z"
   },
   {
    "duration": 24,
    "start_time": "2022-05-24T17:53:42.965Z"
   },
   {
    "duration": 72,
    "start_time": "2022-05-24T17:53:42.991Z"
   },
   {
    "duration": 30,
    "start_time": "2022-05-24T17:53:43.066Z"
   },
   {
    "duration": 564,
    "start_time": "2022-05-24T17:53:43.099Z"
   },
   {
    "duration": 0,
    "start_time": "2022-05-24T17:53:43.665Z"
   },
   {
    "duration": 10,
    "start_time": "2022-05-24T17:55:59.843Z"
   },
   {
    "duration": 10,
    "start_time": "2022-05-24T17:56:11.722Z"
   },
   {
    "duration": 4,
    "start_time": "2022-05-24T17:56:50.959Z"
   },
   {
    "duration": 61,
    "start_time": "2022-05-24T17:56:50.967Z"
   },
   {
    "duration": 26,
    "start_time": "2022-05-24T17:56:51.030Z"
   },
   {
    "duration": 12,
    "start_time": "2022-05-24T17:56:51.058Z"
   },
   {
    "duration": 193,
    "start_time": "2022-05-24T17:56:51.071Z"
   },
   {
    "duration": 13,
    "start_time": "2022-05-24T17:56:51.266Z"
   },
   {
    "duration": 46,
    "start_time": "2022-05-24T17:56:51.282Z"
   },
   {
    "duration": 54,
    "start_time": "2022-05-24T17:56:51.330Z"
   },
   {
    "duration": 23,
    "start_time": "2022-05-24T17:56:51.388Z"
   },
   {
    "duration": 123,
    "start_time": "2022-05-24T17:56:51.414Z"
   },
   {
    "duration": 18,
    "start_time": "2022-05-24T17:56:51.538Z"
   },
   {
    "duration": 40,
    "start_time": "2022-05-24T17:56:51.557Z"
   },
   {
    "duration": 11,
    "start_time": "2022-05-24T17:56:51.598Z"
   },
   {
    "duration": 141,
    "start_time": "2022-05-24T17:56:51.611Z"
   },
   {
    "duration": 42,
    "start_time": "2022-05-24T17:56:51.754Z"
   },
   {
    "duration": 13,
    "start_time": "2022-05-24T17:56:51.799Z"
   },
   {
    "duration": 36,
    "start_time": "2022-05-24T17:56:51.815Z"
   },
   {
    "duration": 30,
    "start_time": "2022-05-24T17:56:51.853Z"
   },
   {
    "duration": 39,
    "start_time": "2022-05-24T17:56:51.885Z"
   },
   {
    "duration": 12,
    "start_time": "2022-05-24T17:56:51.925Z"
   },
   {
    "duration": 8,
    "start_time": "2022-05-24T17:56:51.939Z"
   },
   {
    "duration": 4,
    "start_time": "2022-05-24T17:56:51.951Z"
   },
   {
    "duration": 8,
    "start_time": "2022-05-24T17:56:51.957Z"
   },
   {
    "duration": 16,
    "start_time": "2022-05-24T17:56:51.966Z"
   },
   {
    "duration": 28,
    "start_time": "2022-05-24T17:56:51.984Z"
   },
   {
    "duration": 23,
    "start_time": "2022-05-24T17:56:52.013Z"
   },
   {
    "duration": 25,
    "start_time": "2022-05-24T17:56:52.038Z"
   },
   {
    "duration": 3,
    "start_time": "2022-05-24T17:56:52.065Z"
   },
   {
    "duration": 20,
    "start_time": "2022-05-24T17:56:52.074Z"
   },
   {
    "duration": 4,
    "start_time": "2022-05-24T17:56:52.096Z"
   },
   {
    "duration": 21,
    "start_time": "2022-05-24T17:56:52.101Z"
   },
   {
    "duration": 25,
    "start_time": "2022-05-24T17:56:52.125Z"
   },
   {
    "duration": 39,
    "start_time": "2022-05-24T17:56:52.153Z"
   },
   {
    "duration": 4,
    "start_time": "2022-05-24T17:56:52.194Z"
   },
   {
    "duration": 13,
    "start_time": "2022-05-24T17:56:52.214Z"
   },
   {
    "duration": 66,
    "start_time": "2022-05-24T17:56:52.228Z"
   },
   {
    "duration": 4,
    "start_time": "2022-05-24T17:56:52.297Z"
   },
   {
    "duration": 23,
    "start_time": "2022-05-24T17:56:52.302Z"
   },
   {
    "duration": 369,
    "start_time": "2022-05-24T17:56:52.327Z"
   },
   {
    "duration": 8,
    "start_time": "2022-05-24T17:56:52.699Z"
   },
   {
    "duration": 5,
    "start_time": "2022-05-24T17:56:52.709Z"
   },
   {
    "duration": 7,
    "start_time": "2022-05-24T17:56:52.716Z"
   },
   {
    "duration": 5,
    "start_time": "2022-05-24T17:56:52.725Z"
   },
   {
    "duration": 17,
    "start_time": "2022-05-24T17:56:52.732Z"
   },
   {
    "duration": 48,
    "start_time": "2022-05-24T17:56:52.750Z"
   },
   {
    "duration": 22,
    "start_time": "2022-05-24T17:56:52.800Z"
   },
   {
    "duration": 12,
    "start_time": "2022-05-24T17:56:52.825Z"
   },
   {
    "duration": 15,
    "start_time": "2022-05-24T17:56:52.839Z"
   },
   {
    "duration": 52,
    "start_time": "2022-05-24T17:56:52.856Z"
   },
   {
    "duration": 8,
    "start_time": "2022-05-24T17:56:52.910Z"
   },
   {
    "duration": 37,
    "start_time": "2022-05-24T17:56:52.923Z"
   },
   {
    "duration": 152,
    "start_time": "2022-05-24T17:56:52.962Z"
   },
   {
    "duration": 400,
    "start_time": "2022-05-24T17:56:53.116Z"
   },
   {
    "duration": 122,
    "start_time": "2022-05-24T17:56:53.518Z"
   },
   {
    "duration": 142,
    "start_time": "2022-05-24T17:56:53.642Z"
   },
   {
    "duration": 340,
    "start_time": "2022-05-24T17:56:53.789Z"
   },
   {
    "duration": 133,
    "start_time": "2022-05-24T17:56:54.132Z"
   },
   {
    "duration": 151,
    "start_time": "2022-05-24T17:56:54.267Z"
   },
   {
    "duration": 356,
    "start_time": "2022-05-24T17:56:54.420Z"
   },
   {
    "duration": 127,
    "start_time": "2022-05-24T17:56:54.778Z"
   },
   {
    "duration": 112,
    "start_time": "2022-05-24T17:56:54.908Z"
   },
   {
    "duration": 13,
    "start_time": "2022-05-24T17:56:55.022Z"
   },
   {
    "duration": 5,
    "start_time": "2022-05-24T17:56:55.037Z"
   },
   {
    "duration": 7,
    "start_time": "2022-05-24T17:56:55.044Z"
   },
   {
    "duration": 31,
    "start_time": "2022-05-24T17:56:55.052Z"
   },
   {
    "duration": 17,
    "start_time": "2022-05-24T17:56:55.085Z"
   },
   {
    "duration": 19,
    "start_time": "2022-05-24T17:56:55.105Z"
   },
   {
    "duration": 38,
    "start_time": "2022-05-24T17:56:55.126Z"
   },
   {
    "duration": 18,
    "start_time": "2022-05-24T17:56:55.166Z"
   },
   {
    "duration": 24,
    "start_time": "2022-05-24T17:56:55.186Z"
   },
   {
    "duration": 28,
    "start_time": "2022-05-24T17:56:55.212Z"
   },
   {
    "duration": 9,
    "start_time": "2022-05-24T17:56:55.242Z"
   },
   {
    "duration": 10,
    "start_time": "2022-05-24T17:56:55.253Z"
   },
   {
    "duration": 24,
    "start_time": "2022-05-24T17:56:55.265Z"
   },
   {
    "duration": 39,
    "start_time": "2022-05-24T17:56:55.291Z"
   },
   {
    "duration": 12,
    "start_time": "2022-05-24T18:00:48.498Z"
   },
   {
    "duration": 43,
    "start_time": "2022-05-24T18:02:39.905Z"
   },
   {
    "duration": 58,
    "start_time": "2022-05-25T14:21:35.225Z"
   },
   {
    "duration": 1222,
    "start_time": "2022-05-25T14:21:41.248Z"
   },
   {
    "duration": 84,
    "start_time": "2022-05-25T14:21:42.475Z"
   },
   {
    "duration": 10,
    "start_time": "2022-05-25T14:21:42.560Z"
   },
   {
    "duration": 8,
    "start_time": "2022-05-25T14:21:42.572Z"
   },
   {
    "duration": 485,
    "start_time": "2022-05-25T14:21:42.582Z"
   },
   {
    "duration": 8,
    "start_time": "2022-05-25T14:21:43.068Z"
   },
   {
    "duration": 32,
    "start_time": "2022-05-25T14:21:43.077Z"
   },
   {
    "duration": 29,
    "start_time": "2022-05-25T14:21:43.111Z"
   },
   {
    "duration": 34,
    "start_time": "2022-05-25T14:21:43.141Z"
   },
   {
    "duration": 151,
    "start_time": "2022-05-25T14:21:43.177Z"
   },
   {
    "duration": 18,
    "start_time": "2022-05-25T14:21:43.329Z"
   },
   {
    "duration": 18,
    "start_time": "2022-05-25T14:21:43.349Z"
   },
   {
    "duration": 9,
    "start_time": "2022-05-25T14:21:43.374Z"
   },
   {
    "duration": 369,
    "start_time": "2022-05-25T14:21:43.386Z"
   },
   {
    "duration": 22,
    "start_time": "2022-05-25T14:21:43.756Z"
   },
   {
    "duration": 7,
    "start_time": "2022-05-25T14:21:43.779Z"
   },
   {
    "duration": 27,
    "start_time": "2022-05-25T14:21:43.788Z"
   },
   {
    "duration": 10,
    "start_time": "2022-05-25T14:21:43.816Z"
   },
   {
    "duration": 60,
    "start_time": "2022-05-25T14:21:43.828Z"
   },
   {
    "duration": 10,
    "start_time": "2022-05-25T14:21:43.889Z"
   },
   {
    "duration": 10,
    "start_time": "2022-05-25T14:21:43.901Z"
   },
   {
    "duration": 6,
    "start_time": "2022-05-25T14:21:43.912Z"
   },
   {
    "duration": 7,
    "start_time": "2022-05-25T14:21:43.920Z"
   },
   {
    "duration": 9,
    "start_time": "2022-05-25T14:21:43.929Z"
   },
   {
    "duration": 9,
    "start_time": "2022-05-25T14:21:43.940Z"
   },
   {
    "duration": 29,
    "start_time": "2022-05-25T14:21:43.950Z"
   },
   {
    "duration": 31,
    "start_time": "2022-05-25T14:21:43.981Z"
   },
   {
    "duration": 3,
    "start_time": "2022-05-25T14:21:44.013Z"
   },
   {
    "duration": 11,
    "start_time": "2022-05-25T14:21:44.017Z"
   },
   {
    "duration": 4,
    "start_time": "2022-05-25T14:21:44.029Z"
   },
   {
    "duration": 39,
    "start_time": "2022-05-25T14:21:44.035Z"
   },
   {
    "duration": 21,
    "start_time": "2022-05-25T14:21:44.076Z"
   },
   {
    "duration": 4,
    "start_time": "2022-05-25T14:21:44.099Z"
   },
   {
    "duration": 9,
    "start_time": "2022-05-25T14:21:44.105Z"
   },
   {
    "duration": 11,
    "start_time": "2022-05-25T14:21:44.116Z"
   },
   {
    "duration": 58,
    "start_time": "2022-05-25T14:21:44.129Z"
   },
   {
    "duration": 3,
    "start_time": "2022-05-25T14:21:44.189Z"
   },
   {
    "duration": 23,
    "start_time": "2022-05-25T14:21:44.194Z"
   },
   {
    "duration": 368,
    "start_time": "2022-05-25T14:21:44.219Z"
   },
   {
    "duration": 6,
    "start_time": "2022-05-25T14:21:44.589Z"
   },
   {
    "duration": 6,
    "start_time": "2022-05-25T14:21:44.601Z"
   },
   {
    "duration": 9,
    "start_time": "2022-05-25T14:21:44.609Z"
   },
   {
    "duration": 5,
    "start_time": "2022-05-25T14:21:44.620Z"
   },
   {
    "duration": 13,
    "start_time": "2022-05-25T14:21:44.627Z"
   },
   {
    "duration": 5,
    "start_time": "2022-05-25T14:21:44.642Z"
   },
   {
    "duration": 28,
    "start_time": "2022-05-25T14:21:44.649Z"
   },
   {
    "duration": 7,
    "start_time": "2022-05-25T14:21:44.678Z"
   },
   {
    "duration": 8,
    "start_time": "2022-05-25T14:21:44.687Z"
   },
   {
    "duration": 21,
    "start_time": "2022-05-25T14:21:44.696Z"
   },
   {
    "duration": 4,
    "start_time": "2022-05-25T14:21:44.718Z"
   },
   {
    "duration": 7,
    "start_time": "2022-05-25T14:21:44.724Z"
   },
   {
    "duration": 12602,
    "start_time": "2022-05-25T14:21:44.733Z"
   },
   {
    "duration": 4,
    "start_time": "2022-05-25T14:21:57.337Z"
   },
   {
    "duration": 338,
    "start_time": "2022-05-25T14:21:57.343Z"
   },
   {
    "duration": 113,
    "start_time": "2022-05-25T14:21:57.683Z"
   },
   {
    "duration": 121,
    "start_time": "2022-05-25T14:21:57.798Z"
   },
   {
    "duration": 294,
    "start_time": "2022-05-25T14:21:57.921Z"
   },
   {
    "duration": 113,
    "start_time": "2022-05-25T14:21:58.217Z"
   },
   {
    "duration": 138,
    "start_time": "2022-05-25T14:21:58.332Z"
   },
   {
    "duration": 264,
    "start_time": "2022-05-25T14:21:58.471Z"
   },
   {
    "duration": 101,
    "start_time": "2022-05-25T14:21:58.737Z"
   },
   {
    "duration": 100,
    "start_time": "2022-05-25T14:21:58.840Z"
   },
   {
    "duration": 10,
    "start_time": "2022-05-25T14:21:58.941Z"
   },
   {
    "duration": 3,
    "start_time": "2022-05-25T14:21:58.953Z"
   },
   {
    "duration": 19,
    "start_time": "2022-05-25T14:21:58.958Z"
   },
   {
    "duration": 9,
    "start_time": "2022-05-25T14:21:58.978Z"
   },
   {
    "duration": 3,
    "start_time": "2022-05-25T14:21:58.988Z"
   },
   {
    "duration": 12,
    "start_time": "2022-05-25T14:21:58.993Z"
   },
   {
    "duration": 23,
    "start_time": "2022-05-25T14:21:59.007Z"
   },
   {
    "duration": 11,
    "start_time": "2022-05-25T14:21:59.031Z"
   },
   {
    "duration": 113,
    "start_time": "2022-05-25T14:21:59.044Z"
   },
   {
    "duration": 36,
    "start_time": "2022-05-25T14:21:59.159Z"
   },
   {
    "duration": 9,
    "start_time": "2022-05-25T14:21:59.196Z"
   },
   {
    "duration": 14,
    "start_time": "2022-05-25T14:21:59.207Z"
   },
   {
    "duration": 5,
    "start_time": "2022-05-25T14:21:59.223Z"
   },
   {
    "duration": 5,
    "start_time": "2022-05-25T14:21:59.230Z"
   },
   {
    "duration": 7,
    "start_time": "2022-05-25T14:29:30.583Z"
   },
   {
    "duration": 8,
    "start_time": "2022-05-25T14:29:53.841Z"
   },
   {
    "duration": 27,
    "start_time": "2022-05-25T14:29:58.646Z"
   },
   {
    "duration": 1067,
    "start_time": "2022-05-25T14:30:09.008Z"
   },
   {
    "duration": 46,
    "start_time": "2022-05-25T14:30:10.077Z"
   },
   {
    "duration": 10,
    "start_time": "2022-05-25T14:30:10.125Z"
   },
   {
    "duration": 15,
    "start_time": "2022-05-25T14:30:10.138Z"
   },
   {
    "duration": 148,
    "start_time": "2022-05-25T14:30:10.154Z"
   },
   {
    "duration": 8,
    "start_time": "2022-05-25T14:30:10.303Z"
   },
   {
    "duration": 30,
    "start_time": "2022-05-25T14:30:10.313Z"
   },
   {
    "duration": 46,
    "start_time": "2022-05-25T14:30:10.345Z"
   },
   {
    "duration": 19,
    "start_time": "2022-05-25T14:30:10.392Z"
   },
   {
    "duration": 109,
    "start_time": "2022-05-25T14:30:10.414Z"
   },
   {
    "duration": 17,
    "start_time": "2022-05-25T14:30:10.525Z"
   },
   {
    "duration": 32,
    "start_time": "2022-05-25T14:30:10.543Z"
   },
   {
    "duration": 12,
    "start_time": "2022-05-25T14:30:10.576Z"
   },
   {
    "duration": 130,
    "start_time": "2022-05-25T14:30:10.590Z"
   },
   {
    "duration": 18,
    "start_time": "2022-05-25T14:30:10.722Z"
   },
   {
    "duration": 5,
    "start_time": "2022-05-25T14:30:10.742Z"
   },
   {
    "duration": 44,
    "start_time": "2022-05-25T14:30:10.749Z"
   },
   {
    "duration": 10,
    "start_time": "2022-05-25T14:30:10.795Z"
   },
   {
    "duration": 18,
    "start_time": "2022-05-25T14:30:10.807Z"
   },
   {
    "duration": 9,
    "start_time": "2022-05-25T14:30:10.827Z"
   },
   {
    "duration": 9,
    "start_time": "2022-05-25T14:30:10.837Z"
   },
   {
    "duration": 4,
    "start_time": "2022-05-25T14:30:10.848Z"
   },
   {
    "duration": 21,
    "start_time": "2022-05-25T14:30:10.853Z"
   },
   {
    "duration": 4,
    "start_time": "2022-05-25T14:30:10.876Z"
   },
   {
    "duration": 4,
    "start_time": "2022-05-25T14:30:10.881Z"
   },
   {
    "duration": 25,
    "start_time": "2022-05-25T14:30:10.887Z"
   },
   {
    "duration": 28,
    "start_time": "2022-05-25T14:30:10.914Z"
   },
   {
    "duration": 3,
    "start_time": "2022-05-25T14:30:10.946Z"
   },
   {
    "duration": 28,
    "start_time": "2022-05-25T14:30:10.950Z"
   },
   {
    "duration": 2,
    "start_time": "2022-05-25T14:30:10.980Z"
   },
   {
    "duration": 15,
    "start_time": "2022-05-25T14:30:10.984Z"
   },
   {
    "duration": 19,
    "start_time": "2022-05-25T14:30:11.001Z"
   },
   {
    "duration": 4,
    "start_time": "2022-05-25T14:30:11.021Z"
   },
   {
    "duration": 4,
    "start_time": "2022-05-25T14:30:11.026Z"
   },
   {
    "duration": 9,
    "start_time": "2022-05-25T14:30:11.032Z"
   },
   {
    "duration": 63,
    "start_time": "2022-05-25T14:30:11.042Z"
   },
   {
    "duration": 3,
    "start_time": "2022-05-25T14:30:11.107Z"
   },
   {
    "duration": 20,
    "start_time": "2022-05-25T14:30:11.112Z"
   },
   {
    "duration": 317,
    "start_time": "2022-05-25T14:30:11.134Z"
   },
   {
    "duration": 6,
    "start_time": "2022-05-25T14:30:11.452Z"
   },
   {
    "duration": 17,
    "start_time": "2022-05-25T14:30:11.459Z"
   },
   {
    "duration": 5,
    "start_time": "2022-05-25T14:30:11.478Z"
   },
   {
    "duration": 6,
    "start_time": "2022-05-25T14:30:11.485Z"
   },
   {
    "duration": 12,
    "start_time": "2022-05-25T14:30:11.493Z"
   },
   {
    "duration": 5,
    "start_time": "2022-05-25T14:30:11.506Z"
   },
   {
    "duration": 4,
    "start_time": "2022-05-25T14:30:11.512Z"
   },
   {
    "duration": 6,
    "start_time": "2022-05-25T14:30:11.517Z"
   },
   {
    "duration": 8,
    "start_time": "2022-05-25T14:30:11.524Z"
   },
   {
    "duration": 19,
    "start_time": "2022-05-25T14:30:11.534Z"
   },
   {
    "duration": 21,
    "start_time": "2022-05-25T14:30:11.554Z"
   },
   {
    "duration": 5,
    "start_time": "2022-05-25T14:30:11.577Z"
   },
   {
    "duration": 12454,
    "start_time": "2022-05-25T14:30:11.583Z"
   },
   {
    "duration": 7,
    "start_time": "2022-05-25T14:30:24.038Z"
   },
   {
    "duration": 37,
    "start_time": "2022-05-25T14:30:24.046Z"
   },
   {
    "duration": 315,
    "start_time": "2022-05-25T14:30:24.085Z"
   },
   {
    "duration": 104,
    "start_time": "2022-05-25T14:30:24.401Z"
   },
   {
    "duration": 98,
    "start_time": "2022-05-25T14:30:24.506Z"
   },
   {
    "duration": 254,
    "start_time": "2022-05-25T14:30:24.606Z"
   },
   {
    "duration": 95,
    "start_time": "2022-05-25T14:30:24.861Z"
   },
   {
    "duration": 118,
    "start_time": "2022-05-25T14:30:24.958Z"
   },
   {
    "duration": 272,
    "start_time": "2022-05-25T14:30:25.078Z"
   },
   {
    "duration": 94,
    "start_time": "2022-05-25T14:30:25.352Z"
   },
   {
    "duration": 101,
    "start_time": "2022-05-25T14:30:25.448Z"
   },
   {
    "duration": 24,
    "start_time": "2022-05-25T14:30:25.551Z"
   },
   {
    "duration": 4,
    "start_time": "2022-05-25T14:30:25.576Z"
   },
   {
    "duration": 8,
    "start_time": "2022-05-25T14:30:25.582Z"
   },
   {
    "duration": 9,
    "start_time": "2022-05-25T14:30:25.592Z"
   },
   {
    "duration": 5,
    "start_time": "2022-05-25T14:30:25.602Z"
   },
   {
    "duration": 13,
    "start_time": "2022-05-25T14:30:25.608Z"
   },
   {
    "duration": 24,
    "start_time": "2022-05-25T14:30:25.622Z"
   },
   {
    "duration": 29,
    "start_time": "2022-05-25T14:30:25.647Z"
   },
   {
    "duration": 85,
    "start_time": "2022-05-25T14:30:25.678Z"
   },
   {
    "duration": 43,
    "start_time": "2022-05-25T14:30:25.774Z"
   },
   {
    "duration": 9,
    "start_time": "2022-05-25T14:30:25.819Z"
   },
   {
    "duration": 9,
    "start_time": "2022-05-25T14:30:25.829Z"
   },
   {
    "duration": 5,
    "start_time": "2022-05-25T14:30:25.840Z"
   },
   {
    "duration": 7,
    "start_time": "2022-05-25T14:30:25.846Z"
   },
   {
    "duration": 29,
    "start_time": "2022-05-25T14:30:55.409Z"
   },
   {
    "duration": 21,
    "start_time": "2022-05-25T15:13:38.488Z"
   },
   {
    "duration": 63,
    "start_time": "2022-05-25T18:39:42.193Z"
   },
   {
    "duration": 23,
    "start_time": "2022-05-25T18:47:37.246Z"
   },
   {
    "duration": 19,
    "start_time": "2022-05-25T18:47:56.467Z"
   },
   {
    "duration": 17,
    "start_time": "2022-05-25T18:51:42.383Z"
   },
   {
    "duration": 11,
    "start_time": "2022-05-25T18:53:05.279Z"
   },
   {
    "duration": 35,
    "start_time": "2022-05-25T18:53:16.560Z"
   },
   {
    "duration": 64,
    "start_time": "2022-05-26T14:29:18.886Z"
   },
   {
    "duration": 1335,
    "start_time": "2022-05-26T14:29:58.092Z"
   },
   {
    "duration": 107,
    "start_time": "2022-05-26T14:29:59.429Z"
   },
   {
    "duration": 11,
    "start_time": "2022-05-26T14:29:59.538Z"
   },
   {
    "duration": 23,
    "start_time": "2022-05-26T14:29:59.551Z"
   },
   {
    "duration": 262,
    "start_time": "2022-05-26T14:29:59.576Z"
   },
   {
    "duration": 7,
    "start_time": "2022-05-26T14:29:59.840Z"
   },
   {
    "duration": 44,
    "start_time": "2022-05-26T14:29:59.849Z"
   },
   {
    "duration": 37,
    "start_time": "2022-05-26T14:29:59.895Z"
   },
   {
    "duration": 36,
    "start_time": "2022-05-26T14:29:59.934Z"
   },
   {
    "duration": 340,
    "start_time": "2022-05-26T14:29:59.972Z"
   },
   {
    "duration": 19,
    "start_time": "2022-05-26T14:30:00.313Z"
   },
   {
    "duration": 25,
    "start_time": "2022-05-26T14:30:00.334Z"
   },
   {
    "duration": 13,
    "start_time": "2022-05-26T14:30:00.361Z"
   },
   {
    "duration": 493,
    "start_time": "2022-05-26T14:30:00.376Z"
   },
   {
    "duration": 19,
    "start_time": "2022-05-26T14:30:00.871Z"
   },
   {
    "duration": 8,
    "start_time": "2022-05-26T14:30:00.891Z"
   },
   {
    "duration": 37,
    "start_time": "2022-05-26T14:30:00.900Z"
   },
   {
    "duration": 23,
    "start_time": "2022-05-26T14:30:00.939Z"
   },
   {
    "duration": 86,
    "start_time": "2022-05-26T14:30:00.963Z"
   },
   {
    "duration": 19,
    "start_time": "2022-05-26T14:30:01.051Z"
   },
   {
    "duration": 14,
    "start_time": "2022-05-26T14:30:01.072Z"
   },
   {
    "duration": 15,
    "start_time": "2022-05-26T14:30:01.088Z"
   },
   {
    "duration": 22,
    "start_time": "2022-05-26T14:30:01.105Z"
   },
   {
    "duration": 18,
    "start_time": "2022-05-26T14:30:01.129Z"
   },
   {
    "duration": 25,
    "start_time": "2022-05-26T14:30:01.149Z"
   },
   {
    "duration": 45,
    "start_time": "2022-05-26T14:30:01.176Z"
   },
   {
    "duration": 28,
    "start_time": "2022-05-26T14:30:01.223Z"
   },
   {
    "duration": 10,
    "start_time": "2022-05-26T14:30:01.256Z"
   },
   {
    "duration": 23,
    "start_time": "2022-05-26T14:30:01.270Z"
   },
   {
    "duration": 16,
    "start_time": "2022-05-26T14:30:01.295Z"
   },
   {
    "duration": 38,
    "start_time": "2022-05-26T14:30:01.312Z"
   },
   {
    "duration": 28,
    "start_time": "2022-05-26T14:30:01.352Z"
   },
   {
    "duration": 32,
    "start_time": "2022-05-26T14:30:01.382Z"
   },
   {
    "duration": 25,
    "start_time": "2022-05-26T14:30:01.415Z"
   },
   {
    "duration": 36,
    "start_time": "2022-05-26T14:30:01.441Z"
   },
   {
    "duration": 66,
    "start_time": "2022-05-26T14:30:01.478Z"
   },
   {
    "duration": 3,
    "start_time": "2022-05-26T14:30:01.545Z"
   },
   {
    "duration": 94,
    "start_time": "2022-05-26T14:30:01.550Z"
   },
   {
    "duration": 443,
    "start_time": "2022-05-26T14:30:01.646Z"
   },
   {
    "duration": 6,
    "start_time": "2022-05-26T14:30:02.091Z"
   },
   {
    "duration": 36,
    "start_time": "2022-05-26T14:30:02.098Z"
   },
   {
    "duration": 65,
    "start_time": "2022-05-26T14:30:02.136Z"
   },
   {
    "duration": 71,
    "start_time": "2022-05-26T14:30:02.203Z"
   },
   {
    "duration": 84,
    "start_time": "2022-05-26T14:30:02.276Z"
   },
   {
    "duration": 20,
    "start_time": "2022-05-26T14:30:02.362Z"
   },
   {
    "duration": 28,
    "start_time": "2022-05-26T14:30:02.384Z"
   },
   {
    "duration": 24,
    "start_time": "2022-05-26T14:30:02.415Z"
   },
   {
    "duration": 29,
    "start_time": "2022-05-26T14:30:02.441Z"
   },
   {
    "duration": 37,
    "start_time": "2022-05-26T14:30:02.472Z"
   },
   {
    "duration": 39,
    "start_time": "2022-05-26T14:30:02.511Z"
   },
   {
    "duration": 50,
    "start_time": "2022-05-26T14:30:02.552Z"
   },
   {
    "duration": 90,
    "start_time": "2022-05-26T14:30:02.604Z"
   },
   {
    "duration": 20,
    "start_time": "2022-05-26T14:30:02.696Z"
   },
   {
    "duration": 43,
    "start_time": "2022-05-26T14:30:02.719Z"
   },
   {
    "duration": 365,
    "start_time": "2022-05-26T14:30:02.767Z"
   },
   {
    "duration": 138,
    "start_time": "2022-05-26T14:30:03.134Z"
   },
   {
    "duration": 115,
    "start_time": "2022-05-26T14:30:03.274Z"
   },
   {
    "duration": 299,
    "start_time": "2022-05-26T14:30:03.390Z"
   },
   {
    "duration": 111,
    "start_time": "2022-05-26T14:30:03.691Z"
   },
   {
    "duration": 132,
    "start_time": "2022-05-26T14:30:03.804Z"
   },
   {
    "duration": 309,
    "start_time": "2022-05-26T14:30:03.939Z"
   },
   {
    "duration": 107,
    "start_time": "2022-05-26T14:30:04.255Z"
   },
   {
    "duration": 200,
    "start_time": "2022-05-26T14:30:04.367Z"
   },
   {
    "duration": 11,
    "start_time": "2022-05-26T14:30:04.571Z"
   },
   {
    "duration": 25,
    "start_time": "2022-05-26T14:30:04.583Z"
   },
   {
    "duration": 13,
    "start_time": "2022-05-26T14:30:04.610Z"
   },
   {
    "duration": 18,
    "start_time": "2022-05-26T14:30:04.625Z"
   },
   {
    "duration": 13,
    "start_time": "2022-05-26T14:30:04.645Z"
   },
   {
    "duration": 40,
    "start_time": "2022-05-26T14:30:04.663Z"
   },
   {
    "duration": 30,
    "start_time": "2022-05-26T14:30:04.705Z"
   },
   {
    "duration": 11,
    "start_time": "2022-05-26T14:30:04.737Z"
   },
   {
    "duration": 24,
    "start_time": "2022-05-26T14:30:04.750Z"
   },
   {
    "duration": 46,
    "start_time": "2022-05-26T14:30:04.776Z"
   },
   {
    "duration": 14,
    "start_time": "2022-05-26T14:30:04.824Z"
   },
   {
    "duration": 30,
    "start_time": "2022-05-26T14:30:04.840Z"
   },
   {
    "duration": 15,
    "start_time": "2022-05-26T14:30:04.871Z"
   },
   {
    "duration": 31,
    "start_time": "2022-05-26T14:30:04.888Z"
   },
   {
    "duration": 1156,
    "start_time": "2022-05-26T14:30:37.171Z"
   },
   {
    "duration": 59,
    "start_time": "2022-05-26T14:30:38.329Z"
   },
   {
    "duration": 16,
    "start_time": "2022-05-26T14:30:38.390Z"
   },
   {
    "duration": 19,
    "start_time": "2022-05-26T14:30:38.409Z"
   },
   {
    "duration": 185,
    "start_time": "2022-05-26T14:30:38.430Z"
   },
   {
    "duration": 11,
    "start_time": "2022-05-26T14:30:38.617Z"
   },
   {
    "duration": 53,
    "start_time": "2022-05-26T14:30:38.631Z"
   },
   {
    "duration": 34,
    "start_time": "2022-05-26T14:30:38.688Z"
   },
   {
    "duration": 47,
    "start_time": "2022-05-26T14:30:38.724Z"
   },
   {
    "duration": 145,
    "start_time": "2022-05-26T14:30:38.775Z"
   },
   {
    "duration": 24,
    "start_time": "2022-05-26T14:30:38.922Z"
   },
   {
    "duration": 26,
    "start_time": "2022-05-26T14:30:38.954Z"
   },
   {
    "duration": 14,
    "start_time": "2022-05-26T14:30:38.982Z"
   },
   {
    "duration": 152,
    "start_time": "2022-05-26T14:30:38.998Z"
   },
   {
    "duration": 28,
    "start_time": "2022-05-26T14:30:39.152Z"
   },
   {
    "duration": 6,
    "start_time": "2022-05-26T14:30:39.182Z"
   },
   {
    "duration": 30,
    "start_time": "2022-05-26T14:30:39.190Z"
   },
   {
    "duration": 43,
    "start_time": "2022-05-26T14:30:39.222Z"
   },
   {
    "duration": 21,
    "start_time": "2022-05-26T14:30:39.274Z"
   },
   {
    "duration": 12,
    "start_time": "2022-05-26T14:30:39.297Z"
   },
   {
    "duration": 8,
    "start_time": "2022-05-26T14:30:39.311Z"
   },
   {
    "duration": 7,
    "start_time": "2022-05-26T14:30:39.320Z"
   },
   {
    "duration": 9,
    "start_time": "2022-05-26T14:30:39.328Z"
   },
   {
    "duration": 7,
    "start_time": "2022-05-26T14:30:39.338Z"
   },
   {
    "duration": 16,
    "start_time": "2022-05-26T14:30:39.352Z"
   },
   {
    "duration": 30,
    "start_time": "2022-05-26T14:30:39.370Z"
   },
   {
    "duration": 31,
    "start_time": "2022-05-26T14:30:39.401Z"
   },
   {
    "duration": 4,
    "start_time": "2022-05-26T14:30:39.438Z"
   },
   {
    "duration": 25,
    "start_time": "2022-05-26T14:30:39.443Z"
   },
   {
    "duration": 4,
    "start_time": "2022-05-26T14:30:39.470Z"
   },
   {
    "duration": 22,
    "start_time": "2022-05-26T14:30:39.475Z"
   },
   {
    "duration": 21,
    "start_time": "2022-05-26T14:30:39.499Z"
   },
   {
    "duration": 5,
    "start_time": "2022-05-26T14:30:39.522Z"
   },
   {
    "duration": 29,
    "start_time": "2022-05-26T14:30:39.529Z"
   },
   {
    "duration": 18,
    "start_time": "2022-05-26T14:30:39.560Z"
   },
   {
    "duration": 48,
    "start_time": "2022-05-26T14:30:39.579Z"
   },
   {
    "duration": 2,
    "start_time": "2022-05-26T14:30:39.629Z"
   },
   {
    "duration": 23,
    "start_time": "2022-05-26T14:30:39.633Z"
   },
   {
    "duration": 376,
    "start_time": "2022-05-26T14:30:39.657Z"
   },
   {
    "duration": 6,
    "start_time": "2022-05-26T14:30:40.035Z"
   },
   {
    "duration": 11,
    "start_time": "2022-05-26T14:30:40.043Z"
   },
   {
    "duration": 23,
    "start_time": "2022-05-26T14:30:40.058Z"
   },
   {
    "duration": 10,
    "start_time": "2022-05-26T14:30:40.083Z"
   },
   {
    "duration": 17,
    "start_time": "2022-05-26T14:30:40.095Z"
   },
   {
    "duration": 7,
    "start_time": "2022-05-26T14:30:40.113Z"
   },
   {
    "duration": 13,
    "start_time": "2022-05-26T14:30:40.122Z"
   },
   {
    "duration": 8,
    "start_time": "2022-05-26T14:30:40.137Z"
   },
   {
    "duration": 22,
    "start_time": "2022-05-26T14:30:40.147Z"
   },
   {
    "duration": 24,
    "start_time": "2022-05-26T14:30:40.170Z"
   },
   {
    "duration": 5,
    "start_time": "2022-05-26T14:30:40.196Z"
   },
   {
    "duration": 8,
    "start_time": "2022-05-26T14:30:40.202Z"
   },
   {
    "duration": 62,
    "start_time": "2022-05-26T14:30:40.212Z"
   },
   {
    "duration": 25,
    "start_time": "2022-05-26T14:30:40.276Z"
   },
   {
    "duration": 27,
    "start_time": "2022-05-26T14:30:40.303Z"
   },
   {
    "duration": 330,
    "start_time": "2022-05-26T14:30:40.331Z"
   },
   {
    "duration": 178,
    "start_time": "2022-05-26T14:30:40.664Z"
   },
   {
    "duration": 125,
    "start_time": "2022-05-26T14:30:40.844Z"
   },
   {
    "duration": 294,
    "start_time": "2022-05-26T14:30:40.971Z"
   },
   {
    "duration": 120,
    "start_time": "2022-05-26T14:30:41.267Z"
   },
   {
    "duration": 123,
    "start_time": "2022-05-26T14:30:41.389Z"
   },
   {
    "duration": 284,
    "start_time": "2022-05-26T14:30:41.514Z"
   },
   {
    "duration": 112,
    "start_time": "2022-05-26T14:30:41.800Z"
   },
   {
    "duration": 120,
    "start_time": "2022-05-26T14:30:41.913Z"
   },
   {
    "duration": 23,
    "start_time": "2022-05-26T14:30:42.035Z"
   },
   {
    "duration": 7,
    "start_time": "2022-05-26T14:30:42.060Z"
   },
   {
    "duration": 6,
    "start_time": "2022-05-26T14:30:42.069Z"
   },
   {
    "duration": 11,
    "start_time": "2022-05-26T14:30:42.076Z"
   },
   {
    "duration": 15,
    "start_time": "2022-05-26T14:30:42.089Z"
   },
   {
    "duration": 12,
    "start_time": "2022-05-26T14:30:42.106Z"
   },
   {
    "duration": 50,
    "start_time": "2022-05-26T14:30:42.121Z"
   },
   {
    "duration": 12,
    "start_time": "2022-05-26T14:30:42.173Z"
   },
   {
    "duration": 9,
    "start_time": "2022-05-26T14:30:42.187Z"
   },
   {
    "duration": 28,
    "start_time": "2022-05-26T14:30:42.197Z"
   },
   {
    "duration": 36,
    "start_time": "2022-05-26T14:30:42.226Z"
   },
   {
    "duration": 16,
    "start_time": "2022-05-26T14:30:42.264Z"
   },
   {
    "duration": 6,
    "start_time": "2022-05-26T14:30:42.282Z"
   },
   {
    "duration": 8,
    "start_time": "2022-05-26T14:30:42.290Z"
   }
  ],
  "kernelspec": {
   "display_name": "Python 3 (ipykernel)",
   "language": "python",
   "name": "python3"
  },
  "language_info": {
   "codemirror_mode": {
    "name": "ipython",
    "version": 3
   },
   "file_extension": ".py",
   "mimetype": "text/x-python",
   "name": "python",
   "nbconvert_exporter": "python",
   "pygments_lexer": "ipython3",
   "version": "3.9.7"
  },
  "toc": {
   "base_numbering": 1,
   "nav_menu": {},
   "number_sections": true,
   "sideBar": true,
   "skip_h1_title": true,
   "title_cell": "Table of Contents",
   "title_sidebar": "Contents",
   "toc_cell": false,
   "toc_position": {
    "height": "calc(100% - 180px)",
    "left": "10px",
    "top": "150px",
    "width": "263px"
   },
   "toc_section_display": true,
   "toc_window_display": true
  }
 },
 "nbformat": 4,
 "nbformat_minor": 2
}
